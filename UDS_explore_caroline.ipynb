{
 "cells": [
  {
   "cell_type": "markdown",
   "id": "6d0472bf-dcc1-4a8f-907b-2462b90a4d71",
   "metadata": {},
   "source": [
    "# Making some sense out of... UDS! \n",
    "\n",
    "Installing on CRC is done via two commands: \n",
    "- `module load python/ondemand-jupyter-python3.8`\n",
    "- `pip install --user git+https://github.com/decompositional-semantics-initiative/decomp.git`"
   ]
  },
  {
   "cell_type": "code",
   "execution_count": 1,
   "id": "3da42e84-936e-4b6e-977a-1f407ca1c46f",
   "metadata": {},
   "outputs": [
    {
     "name": "stdout",
     "output_type": "stream",
     "text": [
      "Pretty printing has been turned OFF\n"
     ]
    }
   ],
   "source": [
    "%pprint   # turn off pretty print\n",
    "# ... and import pretty print explicitly:\n",
    "from pprint import pprint"
   ]
  },
  {
   "cell_type": "code",
   "execution_count": 2,
   "id": "effa4221-52af-4515-8124-365ae013b136",
   "metadata": {},
   "outputs": [],
   "source": [
    "from decomp import UDSCorpus"
   ]
  },
  {
   "cell_type": "code",
   "execution_count": 3,
   "id": "3fb1461d-bb2b-44cb-8314-5f1fb1f0615e",
   "metadata": {},
   "outputs": [],
   "source": [
    "uds = UDSCorpus()"
   ]
  },
  {
   "cell_type": "markdown",
   "id": "a2db63c0-f89b-4b8e-98f8-194c9c3e10cf",
   "metadata": {},
   "source": [
    "So! The corpus loading module download this file:\n",
    "https://github.com/UniversalDependencies/UD_English-EWT/archive/r1.2.zip\n",
    "\n",
    "Which is from this English UD project:\n",
    "https://github.com/UniversalDependencies/UD_English-EWT\n",
    "\n",
    "The train portion is this file: \n",
    "https://raw.githubusercontent.com/UniversalDependencies/UD_English-EWT/master/en_ewt-ud-train.conllu"
   ]
  },
  {
   "cell_type": "markdown",
   "id": "411c56c4-a75f-43e0-9cb2-c7f741d65bd7",
   "metadata": {},
   "source": [
    "The \"12th\" train sentence: \n",
    "\n",
    "```\n",
    "# sent_id = weblog-juancole.com_juancole_20051126063000_ENG_20051126_063000-0012\n",
    "# text = The police commander of Ninevah Province announced that bombings had declined 80 percent in Mosul, whereas there had been a big jump in the number of kidnappings.\n",
    "1\tThe\tthe\tDET\tDT\tDefinite=Def|PronType=Art\t3\tdet\t3:det\t_\n",
    "2\tpolice\tpolice\tNOUN\tNN\tNumber=Sing\t3\tcompound\t3:compound\t_\n",
    "3\tcommander\tcommander\tNOUN\tNN\tNumber=Sing\t7\tnsubj\t7:nsubj\t_\n",
    "4\tof\tof\tADP\tIN\t_\t6\tcase\t6:case\t_\n",
    "5\tNinevah\tNinevah\tPROPN\tNNP\tNumber=Sing\t6\tcompound\t6:compound\t_\n",
    "6\tProvince\tProvince\tPROPN\tNNP\tNumber=Sing\t3\tnmod\t3:nmod:of\t_\n",
    "7\tannounced\tannounce\tVERB\tVBD\tMood=Ind|Number=Sing|Person=3|Tense=Past|VerbForm=Fin\t0\troot\t0:root\t_\n",
    "8\tthat\tthat\tSCONJ\tIN\t_\t11\tmark\t11:mark\t_\n",
    "9\tbombings\tbombing\tNOUN\tNNS\tNumber=Plur\t11\tnsubj\t11:nsubj\t_\n",
    "10\thad\thave\tAUX\tVBD\tMood=Ind|Number=Plur|Person=3|Tense=Past|VerbForm=Fin\t11\taux\t11:aux\t_\n",
    "11\tdeclined\tdecline\tVERB\tVBN\tTense=Past|VerbForm=Part\t7\tccomp\t7:ccomp\t_\n",
    "12\t80\t80\tNUM\tCD\tNumType=Card\t13\tnummod\t13:nummod\t_\n",
    "13\tpercent\tpercent\tNOUN\tNN\tNumber=Sing\t11\tobj\t11:obj\t_\n",
    "14\tin\tin\tADP\tIN\t_\t15\tcase\t15:case\t_\n",
    "15\tMosul\tMosul\tPROPN\tNNP\tNumber=Sing\t11\tobl\t11:obl:in\tSpaceAfter=No\n",
    "16\t,\t,\tPUNCT\t,\t_\t11\tpunct\t11:punct\t_\n",
    "17\twhereas\twhereas\tSCONJ\tIN\t_\t20\tmark\t20:mark\t_\n",
    "18\tthere\tthere\tPRON\tEX\t_\t20\texpl\t20:expl\t_\n",
    "19\thad\thave\tAUX\tVBD\tMood=Ind|Number=Sing|Person=3|Tense=Past|VerbForm=Fin\t20\taux\t20:aux\t_\n",
    "20\tbeen\tbe\tVERB\tVBN\tTense=Past|VerbForm=Part\t11\tadvcl\t11:advcl:whereas\t_\n",
    "21\ta\ta\tDET\tDT\tDefinite=Ind|PronType=Art\t23\tdet\t23:det\t_\n",
    "22\tbig\tbig\tADJ\tJJ\tDegree=Pos\t23\tamod\t23:amod\t_\n",
    "23\tjump\tjump\tNOUN\tNN\tNumber=Sing\t20\tnsubj\t20:nsubj\t_\n",
    "24\tin\tin\tADP\tIN\t_\t26\tcase\t26:case\t_\n",
    "25\tthe\tthe\tDET\tDT\tDefinite=Def|PronType=Art\t26\tdet\t26:det\t_\n",
    "26\tnumber\tnumber\tNOUN\tNN\tNumber=Sing\t23\tnmod\t23:nmod:in\t_\n",
    "27\tof\tof\tADP\tIN\t_\t28\tcase\t28:case\t_\n",
    "28\tkidnappings\tkidnapping\tNOUN\tNNS\tNumber=Plur\t26\tnmod\t26:nmod:of\tSpaceAfter=No\n",
    "29\t.\t.\tPUNCT\t.\t_\t7\tpunct\t7:punct\t_\n",
    "```"
   ]
  },
  {
   "cell_type": "markdown",
   "id": "1889a371-9d02-47e9-9445-d3e55d7bd3df",
   "metadata": {},
   "source": [
    "## Starting with ONE sentence: 12th sentence in EWT Train"
   ]
  },
  {
   "cell_type": "code",
   "execution_count": 4,
   "id": "de4c23db-c3c3-4a34-a375-d09d360695c0",
   "metadata": {},
   "outputs": [
    {
     "data": {
      "text/plain": [
       "<decomp.semantics.uds.graph.UDSSentenceGraph object at 0x7f4ca03a83d0>"
      ]
     },
     "execution_count": 4,
     "metadata": {},
     "output_type": "execute_result"
    }
   ],
   "source": [
    "uds[\"ewt-train-12\"]"
   ]
  },
  {
   "cell_type": "code",
   "execution_count": 5,
   "id": "7bdbcca8-023e-4e4c-b29d-f6d5ab5377c0",
   "metadata": {},
   "outputs": [
    {
     "data": {
      "text/plain": [
       "['QUERIES', '__abstractmethods__', '__class__', '__delattr__', '__dict__', '__dir__', '__doc__', '__eq__', '__format__', '__ge__', '__getattribute__', '__gt__', '__hash__', '__init__', '__init_subclass__', '__le__', '__lt__', '__module__', '__ne__', '__new__', '__reduce__', '__reduce_ex__', '__repr__', '__setattr__', '__sizeof__', '__slots__', '__str__', '__subclasshook__', '__weakref__', '_abc_impl', '_add_edge_annotation', '_add_node_annotation', '_add_performative_nodes', '_edge_query', '_node_query', 'add_annotation', 'argument_edges', 'argument_head_edges', 'argument_nodes', 'document_id', 'edges', 'from_dict', 'graph', 'head', 'instance_edges', 'maxima', 'minima', 'name', 'nodes', 'predicate_nodes', 'query', 'rdf', 'rootid', 'semantics_edges', 'semantics_nodes', 'semantics_subgraph', 'sentence', 'sentence_id', 'span', 'syntax_edges', 'syntax_nodes', 'syntax_subgraph', 'to_dict']"
      ]
     },
     "execution_count": 5,
     "metadata": {},
     "output_type": "execute_result"
    }
   ],
   "source": [
    "dir(uds[\"ewt-train-12\"])"
   ]
  },
  {
   "cell_type": "code",
   "execution_count": 6,
   "id": "f07a0173-a42d-4696-ade5-bfc09a7409c7",
   "metadata": {},
   "outputs": [
    {
     "data": {
      "text/plain": [
       "'ewt-train-12'"
      ]
     },
     "execution_count": 6,
     "metadata": {},
     "output_type": "execute_result"
    }
   ],
   "source": [
    "# essentially id for this object\n",
    "uds[\"ewt-train-12\"].name"
   ]
  },
  {
   "cell_type": "code",
   "execution_count": 7,
   "id": "6f719cf6-1a0d-4d96-820e-25656e2587ca",
   "metadata": {},
   "outputs": [
    {
     "data": {
      "text/plain": [
       "'The police commander of Ninevah Province announced that bombings had declined 80 percent in Mosul , whereas there had been a big jump in the number of kidnappings .'"
      ]
     },
     "execution_count": 7,
     "metadata": {},
     "output_type": "execute_result"
    }
   ],
   "source": [
    "# Sentence text! \n",
    "uds[\"ewt-train-12\"].sentence"
   ]
  },
  {
   "cell_type": "code",
   "execution_count": 8,
   "id": "f1db3f2e-616d-4428-915b-fc727c900bf3",
   "metadata": {},
   "outputs": [
    {
     "data": {
      "text/plain": [
       "'weblog-juancole.com_juancole_20051126063000_ENG_20051126_063000-0012'"
      ]
     },
     "execution_count": 8,
     "metadata": {},
     "output_type": "execute_result"
    }
   ],
   "source": [
    "uds[\"ewt-train-12\"].sentence_id"
   ]
  },
  {
   "cell_type": "code",
   "execution_count": 9,
   "id": "a28ce596-ac0c-45a5-ad2b-f2ec301d07de",
   "metadata": {},
   "outputs": [
    {
     "data": {
      "text/plain": [
       "'ewt-train-12-root-0'"
      ]
     },
     "execution_count": 9,
     "metadata": {},
     "output_type": "execute_result"
    }
   ],
   "source": [
    "# ID of the root node\n",
    "uds[\"ewt-train-12\"].rootid"
   ]
  },
  {
   "cell_type": "code",
   "execution_count": 10,
   "id": "c8089197-85ad-44d3-a333-b313e5b8b897",
   "metadata": {},
   "outputs": [
    {
     "data": {
      "text/plain": [
       "NodeView(('ewt-train-12-syntax-1', 'ewt-train-12-syntax-2', 'ewt-train-12-syntax-3', 'ewt-train-12-syntax-4', 'ewt-train-12-syntax-5', 'ewt-train-12-syntax-6', 'ewt-train-12-syntax-7', 'ewt-train-12-syntax-8', 'ewt-train-12-syntax-9', 'ewt-train-12-syntax-10', 'ewt-train-12-syntax-11', 'ewt-train-12-syntax-12', 'ewt-train-12-syntax-13', 'ewt-train-12-syntax-14', 'ewt-train-12-syntax-15', 'ewt-train-12-syntax-16', 'ewt-train-12-syntax-17', 'ewt-train-12-syntax-18', 'ewt-train-12-syntax-19', 'ewt-train-12-syntax-20', 'ewt-train-12-syntax-21', 'ewt-train-12-syntax-22', 'ewt-train-12-syntax-23', 'ewt-train-12-syntax-24', 'ewt-train-12-syntax-25', 'ewt-train-12-syntax-26', 'ewt-train-12-syntax-27', 'ewt-train-12-syntax-28', 'ewt-train-12-syntax-29', 'ewt-train-12-root-0', 'ewt-train-12-semantics-pred-7', 'ewt-train-12-semantics-pred-11', 'ewt-train-12-semantics-pred-20', 'ewt-train-12-semantics-arg-3', 'ewt-train-12-semantics-arg-11', 'ewt-train-12-semantics-arg-9', 'ewt-train-12-semantics-arg-13', 'ewt-train-12-semantics-arg-15', 'ewt-train-12-semantics-arg-23', 'ewt-train-12-semantics-pred-root', 'ewt-train-12-semantics-arg-0', 'ewt-train-12-semantics-arg-author', 'ewt-train-12-semantics-arg-addressee'))"
      ]
     },
     "execution_count": 10,
     "metadata": {},
     "output_type": "execute_result"
    }
   ],
   "source": [
    "# all nodes: 29 syntactic nodes, plus \"root\", \"semantics\")\n",
    "uds[\"ewt-train-12\"].nodes()"
   ]
  },
  {
   "cell_type": "code",
   "execution_count": 11,
   "id": "b1b78c50-0863-4e17-8cb0-a62bfcc54448",
   "metadata": {},
   "outputs": [
    {
     "data": {
      "text/plain": [
       "{11: ['declined'], 10: ['had'], 14: ['in']}"
      ]
     },
     "execution_count": 11,
     "metadata": {},
     "output_type": "execute_result"
    }
   ],
   "source": [
    "# Span works with semantics nodes only\n",
    "uds[\"ewt-train-12\"].span('ewt-train-12-semantics-pred-11')"
   ]
  },
  {
   "cell_type": "markdown",
   "id": "d8521ec7-c6c3-4559-96a5-9b509c3e4ec2",
   "metadata": {},
   "source": [
    "## Syntax Nodes, Syntax Edges: Universal Dependency as usual"
   ]
  },
  {
   "cell_type": "code",
   "execution_count": 12,
   "id": "db8fda47-7396-46c6-8a60-8cc0481614f0",
   "metadata": {},
   "outputs": [
    {
     "data": {
      "text/plain": [
       "dict_keys(['ewt-train-12-syntax-1', 'ewt-train-12-syntax-2', 'ewt-train-12-syntax-3', 'ewt-train-12-syntax-4', 'ewt-train-12-syntax-5', 'ewt-train-12-syntax-6', 'ewt-train-12-syntax-7', 'ewt-train-12-syntax-8', 'ewt-train-12-syntax-9', 'ewt-train-12-syntax-10', 'ewt-train-12-syntax-11', 'ewt-train-12-syntax-12', 'ewt-train-12-syntax-13', 'ewt-train-12-syntax-14', 'ewt-train-12-syntax-15', 'ewt-train-12-syntax-16', 'ewt-train-12-syntax-17', 'ewt-train-12-syntax-18', 'ewt-train-12-syntax-19', 'ewt-train-12-syntax-20', 'ewt-train-12-syntax-21', 'ewt-train-12-syntax-22', 'ewt-train-12-syntax-23', 'ewt-train-12-syntax-24', 'ewt-train-12-syntax-25', 'ewt-train-12-syntax-26', 'ewt-train-12-syntax-27', 'ewt-train-12-syntax-28', 'ewt-train-12-syntax-29'])"
      ]
     },
     "execution_count": 12,
     "metadata": {},
     "output_type": "execute_result"
    }
   ],
   "source": [
    "uds[\"ewt-train-12\"].syntax_nodes.keys()"
   ]
  },
  {
   "cell_type": "code",
   "execution_count": 13,
   "id": "d46b7f40-8699-4a49-8d5e-06e8a84f7371",
   "metadata": {},
   "outputs": [
    {
     "data": {
      "text/plain": [
       "{'domain': 'syntax', 'type': 'token', 'position': 10, 'form': 'had', 'lemma': 'have', 'upos': 'AUX', 'xpos': 'VBD', 'Mood': 'Ind', 'Tense': 'Past', 'VerbForm': 'Fin'}"
      ]
     },
     "execution_count": 13,
     "metadata": {},
     "output_type": "execute_result"
    }
   ],
   "source": [
    "# For \"had\": lemma, pos, mood, etc. \n",
    "uds[\"ewt-train-12\"].syntax_nodes['ewt-train-12-syntax-10']"
   ]
  },
  {
   "cell_type": "code",
   "execution_count": 14,
   "id": "3b246f18-fb67-4ab8-bbc6-56cd4d8fabff",
   "metadata": {},
   "outputs": [
    {
     "name": "stdout",
     "output_type": "stream",
     "text": [
      "ewt-train-12-syntax-1\tThe\tthe\tDT\tDET\n",
      "ewt-train-12-syntax-2\tpolice\tpolice\tNN\tNOUN\n",
      "ewt-train-12-syntax-3\tcommander\tcommander\tNN\tNOUN\n",
      "ewt-train-12-syntax-4\tof\tof\tIN\tADP\n",
      "ewt-train-12-syntax-5\tNinevah\tNinevah\tNNP\tPROPN\n",
      "ewt-train-12-syntax-6\tProvince\tProvince\tNNP\tPROPN\n",
      "ewt-train-12-syntax-7\tannounced\tannounce\tVBD\tVERB\n",
      "ewt-train-12-syntax-8\tthat\tthat\tIN\tSCONJ\n",
      "ewt-train-12-syntax-9\tbombings\tbombing\tNNS\tNOUN\n",
      "ewt-train-12-syntax-10\thad\thave\tVBD\tAUX\n",
      "ewt-train-12-syntax-11\tdeclined\tdecline\tVBN\tVERB\n",
      "ewt-train-12-syntax-12\t80\t80\tCD\tNUM\n",
      "ewt-train-12-syntax-13\tpercent\tpercent\tNN\tNOUN\n",
      "ewt-train-12-syntax-14\tin\tin\tIN\tADP\n",
      "ewt-train-12-syntax-15\tMosul\tMosul\tNNP\tPROPN\n",
      "ewt-train-12-syntax-16\t,\t,\t,\tPUNCT\n",
      "ewt-train-12-syntax-17\twhereas\twhereas\tIN\tSCONJ\n",
      "ewt-train-12-syntax-18\tthere\tthere\tEX\tPRON\n",
      "ewt-train-12-syntax-19\thad\thave\tVBD\tAUX\n",
      "ewt-train-12-syntax-20\tbeen\tbe\tVBN\tVERB\n",
      "ewt-train-12-syntax-21\ta\ta\tDT\tDET\n",
      "ewt-train-12-syntax-22\tbig\tbig\tJJ\tADJ\n",
      "ewt-train-12-syntax-23\tjump\tjump\tNN\tNOUN\n",
      "ewt-train-12-syntax-24\tin\tin\tIN\tADP\n",
      "ewt-train-12-syntax-25\tthe\tthe\tDT\tDET\n",
      "ewt-train-12-syntax-26\tnumber\tnumber\tNN\tNOUN\n",
      "ewt-train-12-syntax-27\tof\tof\tIN\tADP\n",
      "ewt-train-12-syntax-28\tkidnappings\tkidnapping\tNNS\tNOUN\n",
      "ewt-train-12-syntax-29\t.\t.\t.\tPUNCT\n"
     ]
    }
   ],
   "source": [
    "# token, lemma, and POS! \n",
    "for (n,v) in uds[\"ewt-train-12\"].syntax_nodes.items():\n",
    "    print(n, v['form'], v['lemma'], v['xpos'], v['upos'], sep=\"\\t\")"
   ]
  },
  {
   "cell_type": "code",
   "execution_count": 15,
   "id": "cd8134a3-0966-477c-a381-2028e44859b3",
   "metadata": {},
   "outputs": [
    {
     "data": {
      "text/plain": [
       "dict_keys([('ewt-train-12-syntax-3', 'ewt-train-12-syntax-1'), ('ewt-train-12-syntax-3', 'ewt-train-12-syntax-2'), ('ewt-train-12-syntax-3', 'ewt-train-12-syntax-6'), ('ewt-train-12-syntax-6', 'ewt-train-12-syntax-4'), ('ewt-train-12-syntax-6', 'ewt-train-12-syntax-5'), ('ewt-train-12-syntax-7', 'ewt-train-12-syntax-3'), ('ewt-train-12-syntax-7', 'ewt-train-12-syntax-11'), ('ewt-train-12-syntax-7', 'ewt-train-12-syntax-29'), ('ewt-train-12-syntax-11', 'ewt-train-12-syntax-8'), ('ewt-train-12-syntax-11', 'ewt-train-12-syntax-9'), ('ewt-train-12-syntax-11', 'ewt-train-12-syntax-10'), ('ewt-train-12-syntax-11', 'ewt-train-12-syntax-13'), ('ewt-train-12-syntax-11', 'ewt-train-12-syntax-15'), ('ewt-train-12-syntax-11', 'ewt-train-12-syntax-16'), ('ewt-train-12-syntax-11', 'ewt-train-12-syntax-20'), ('ewt-train-12-syntax-13', 'ewt-train-12-syntax-12'), ('ewt-train-12-syntax-15', 'ewt-train-12-syntax-14'), ('ewt-train-12-syntax-20', 'ewt-train-12-syntax-17'), ('ewt-train-12-syntax-20', 'ewt-train-12-syntax-18'), ('ewt-train-12-syntax-20', 'ewt-train-12-syntax-19'), ('ewt-train-12-syntax-20', 'ewt-train-12-syntax-23'), ('ewt-train-12-syntax-23', 'ewt-train-12-syntax-21'), ('ewt-train-12-syntax-23', 'ewt-train-12-syntax-22'), ('ewt-train-12-syntax-23', 'ewt-train-12-syntax-26'), ('ewt-train-12-syntax-26', 'ewt-train-12-syntax-24'), ('ewt-train-12-syntax-26', 'ewt-train-12-syntax-25'), ('ewt-train-12-syntax-26', 'ewt-train-12-syntax-28'), ('ewt-train-12-syntax-28', 'ewt-train-12-syntax-27'), ('ewt-train-12-root-0', 'ewt-train-12-syntax-7')])"
      ]
     },
     "execution_count": 15,
     "metadata": {},
     "output_type": "execute_result"
    }
   ],
   "source": [
    "uds[\"ewt-train-12\"].syntax_edges().keys()"
   ]
  },
  {
   "cell_type": "code",
   "execution_count": 16,
   "id": "d2b69913-7492-478e-9663-084d9c55f114",
   "metadata": {},
   "outputs": [
    {
     "data": {
      "text/plain": [
       "{'deprel': 'nsubj', 'domain': 'syntax', 'type': 'dependency', 'id': 'ewt-train-12-syntax-3'}"
      ]
     },
     "execution_count": 16,
     "metadata": {},
     "output_type": "execute_result"
    }
   ],
   "source": [
    "# \"commander\" is dependent on \"announce\" as the noun subject ('nsub') \n",
    "uds[\"ewt-train-12\"].syntax_edges()[('ewt-train-12-syntax-7', 'ewt-train-12-syntax-3')]"
   ]
  },
  {
   "cell_type": "code",
   "execution_count": 17,
   "id": "7dd19d7c-3cc9-4a11-a392-0eb2dc912964",
   "metadata": {},
   "outputs": [
    {
     "data": {
      "text/plain": [
       "['the', 'police', 'commander', 'of', 'Ninevah', 'Province', 'announce', 'that', 'bombing', 'have', 'decline', '80', 'percent', 'in', 'Mosul', ',', 'whereas', 'there', 'have', 'be', 'a', 'big', 'jump', 'in', 'the', 'number', 'of', 'kidnapping', '.']"
      ]
     },
     "execution_count": 17,
     "metadata": {},
     "output_type": "execute_result"
    }
   ],
   "source": [
    "# How to extract a lemma list from a sentence\n",
    "sent_lemma = [v['lemma'] for (n,v) in uds[\"ewt-train-12\"].syntax_nodes.items()]\n",
    "sent_lemma"
   ]
  },
  {
   "cell_type": "markdown",
   "id": "f2d17d1e-9346-4a0c-8a30-fd59d2704cc7",
   "metadata": {},
   "source": [
    "## Now, semantic annotation! \n",
    "## 3 types of nodes: Argument nodes, Predicate Nodes, Semantics Nodes"
   ]
  },
  {
   "cell_type": "code",
   "execution_count": 18,
   "id": "3823aea1-9be2-456b-adc7-5188413cb59f",
   "metadata": {},
   "outputs": [
    {
     "data": {
      "text/plain": [
       "dict_keys(['ewt-train-12-semantics-arg-3', 'ewt-train-12-semantics-arg-11', 'ewt-train-12-semantics-arg-9', 'ewt-train-12-semantics-arg-13', 'ewt-train-12-semantics-arg-15', 'ewt-train-12-semantics-arg-23', 'ewt-train-12-semantics-arg-0', 'ewt-train-12-semantics-arg-author', 'ewt-train-12-semantics-arg-addressee'])"
      ]
     },
     "execution_count": 18,
     "metadata": {},
     "output_type": "execute_result"
    }
   ],
   "source": [
    "# These are nodes that are predicate arguments\n",
    "# Although, arg-0, arg-author, arg-addressee seem external...? (\"performative\" nodes, more below)\n",
    "uds[\"ewt-train-12\"].argument_nodes.keys()"
   ]
  },
  {
   "cell_type": "code",
   "execution_count": 19,
   "id": "1a266596-fad2-4f3f-86e5-c5c2d7f7d56a",
   "metadata": {},
   "outputs": [
    {
     "data": {
      "text/plain": [
       "dict_keys(['ewt-train-12-semantics-pred-7', 'ewt-train-12-semantics-pred-11', 'ewt-train-12-semantics-pred-20', 'ewt-train-12-semantics-pred-root'])"
      ]
     },
     "execution_count": 19,
     "metadata": {},
     "output_type": "execute_result"
    }
   ],
   "source": [
    "# predicate nodes\n",
    "uds[\"ewt-train-12\"].predicate_nodes.keys()"
   ]
  },
  {
   "cell_type": "code",
   "execution_count": 20,
   "id": "b42c9222-a6c7-46b4-9872-6859fcfebb06",
   "metadata": {},
   "outputs": [
    {
     "data": {
      "text/plain": [
       "dict_keys(['ewt-train-12-semantics-pred-7', 'ewt-train-12-semantics-pred-11', 'ewt-train-12-semantics-pred-20', 'ewt-train-12-semantics-arg-3', 'ewt-train-12-semantics-arg-11', 'ewt-train-12-semantics-arg-9', 'ewt-train-12-semantics-arg-13', 'ewt-train-12-semantics-arg-15', 'ewt-train-12-semantics-arg-23', 'ewt-train-12-semantics-pred-root', 'ewt-train-12-semantics-arg-0', 'ewt-train-12-semantics-arg-author', 'ewt-train-12-semantics-arg-addressee'])"
      ]
     },
     "execution_count": 20,
     "metadata": {},
     "output_type": "execute_result"
    }
   ],
   "source": [
    "# semantics nodes... includes both argument nodes and predicate nodes\n",
    "uds[\"ewt-train-12\"].semantics_nodes.keys()"
   ]
  },
  {
   "cell_type": "code",
   "execution_count": 21,
   "id": "afe76272-eab1-4cd9-941d-06b02ddc7ee1",
   "metadata": {},
   "outputs": [
    {
     "data": {
      "text/plain": [
       "(9, 4, 13)"
      ]
     },
     "execution_count": 21,
     "metadata": {},
     "output_type": "execute_result"
    }
   ],
   "source": [
    "# Yep, 9 + 4 = 13\n",
    "len(uds[\"ewt-train-12\"].argument_nodes.keys()), len(uds[\"ewt-train-12\"].predicate_nodes.keys()), len(uds[\"ewt-train-12\"].semantics_nodes.keys())"
   ]
  },
  {
   "cell_type": "markdown",
   "id": "1fa3fc9a-4497-4036-9239-7f86baa16a63",
   "metadata": {},
   "source": [
    "## Their values are dictionaries"
   ]
  },
  {
   "cell_type": "code",
   "execution_count": 22,
   "id": "2e1a2bcf-15cc-4f89-9f1f-dd6aa0de47b2",
   "metadata": {},
   "outputs": [
    {
     "data": {
      "text/plain": [
       "{'ewt-train-12-semantics-arg-3': {'domain': 'semantics', 'frompredpatt': True, 'type': 'argument', 'genericity': {'arg-kind': {'confidence': 1.0, 'value': -1.147}, 'arg-abstract': {'confidence': 1.0, 'value': -1.147}, 'arg-particular': {'confidence': 1.0, 'value': 1.1619}}, 'wordsense': {'supersense-noun.object': {'confidence': 1.0, 'value': -3.0}, 'supersense-noun.Tops': {'confidence': 1.0, 'value': -3.0}, 'supersense-noun.quantity': {'confidence': 1.0, 'value': -3.0}, 'supersense-noun.feeling': {'confidence': 1.0, 'value': -3.0}, 'supersense-noun.food': {'confidence': 1.0, 'value': -3.0}, 'supersense-noun.shape': {'confidence': 1.0, 'value': -3.0}, 'supersense-noun.event': {'confidence': 1.0, 'value': -3.0}, 'supersense-noun.motive': {'confidence': 1.0, 'value': -3.0}, 'supersense-noun.substance': {'confidence': 1.0, 'value': -3.0}, 'supersense-noun.time': {'confidence': 1.0, 'value': -3.0}, 'supersense-noun.person': {'confidence': 1.0, 'value': 0.2456}, 'supersense-noun.process': {'confidence': 1.0, 'value': -3.0}, 'supersense-noun.attribute': {'confidence': 1.0, 'value': -3.0}, 'supersense-noun.artifact': {'confidence': 1.0, 'value': -3.0}, 'supersense-noun.group': {'confidence': 1.0, 'value': -3.0}, 'supersense-noun.animal': {'confidence': 1.0, 'value': -3.0}, 'supersense-noun.location': {'confidence': 1.0, 'value': -3.0}, 'supersense-noun.plant': {'confidence': 1.0, 'value': -3.0}, 'supersense-noun.possession': {'confidence': 1.0, 'value': -3.0}, 'supersense-noun.relation': {'confidence': 1.0, 'value': -3.0}, 'supersense-noun.phenomenon': {'confidence': 1.0, 'value': -3.0}, 'supersense-noun.cognition': {'confidence': 1.0, 'value': -3.0}, 'supersense-noun.act': {'confidence': 1.0, 'value': -3.0}, 'supersense-noun.state': {'confidence': 1.0, 'value': -3.0}, 'supersense-noun.communication': {'confidence': 1.0, 'value': -3.0}, 'supersense-noun.body': {'confidence': 1.0, 'value': -3.0}}}, 'ewt-train-12-semantics-arg-11': {'domain': 'semantics', 'frompredpatt': True, 'type': 'argument'}, 'ewt-train-12-semantics-arg-9': {'domain': 'semantics', 'frompredpatt': True, 'type': 'argument', 'genericity': {'arg-kind': {'confidence': 1.0, 'value': -1.147}, 'arg-abstract': {'confidence': 1.0, 'value': -1.147}, 'arg-particular': {'confidence': 1.0, 'value': 1.1619}}, 'wordsense': {'supersense-noun.object': {'confidence': 1.0, 'value': -3.0}, 'supersense-noun.Tops': {'confidence': 1.0, 'value': -3.0}, 'supersense-noun.quantity': {'confidence': 1.0, 'value': -3.0}, 'supersense-noun.feeling': {'confidence': 1.0, 'value': -3.0}, 'supersense-noun.food': {'confidence': 1.0, 'value': -3.0}, 'supersense-noun.shape': {'confidence': 1.0, 'value': -3.0}, 'supersense-noun.event': {'confidence': 1.0, 'value': -3.0}, 'supersense-noun.motive': {'confidence': 1.0, 'value': -3.0}, 'supersense-noun.substance': {'confidence': 1.0, 'value': -3.0}, 'supersense-noun.time': {'confidence': 1.0, 'value': -3.0}, 'supersense-noun.person': {'confidence': 1.0, 'value': -3.0}, 'supersense-noun.process': {'confidence': 1.0, 'value': -3.0}, 'supersense-noun.attribute': {'confidence': 1.0, 'value': -3.0}, 'supersense-noun.artifact': {'confidence': 1.0, 'value': -3.0}, 'supersense-noun.group': {'confidence': 1.0, 'value': -3.0}, 'supersense-noun.animal': {'confidence': 1.0, 'value': -3.0}, 'supersense-noun.location': {'confidence': 1.0, 'value': -3.0}, 'supersense-noun.plant': {'confidence': 1.0, 'value': -3.0}, 'supersense-noun.possession': {'confidence': 1.0, 'value': -3.0}, 'supersense-noun.relation': {'confidence': 1.0, 'value': -3.0}, 'supersense-noun.phenomenon': {'confidence': 1.0, 'value': -3.0}, 'supersense-noun.cognition': {'confidence': 1.0, 'value': -3.0}, 'supersense-noun.act': {'confidence': 1.0, 'value': 1.5461}, 'supersense-noun.state': {'confidence': 1.0, 'value': -3.0}, 'supersense-noun.communication': {'confidence': 1.0, 'value': -3.0}, 'supersense-noun.body': {'confidence': 1.0, 'value': -3.0}}}, 'ewt-train-12-semantics-arg-13': {'domain': 'semantics', 'frompredpatt': True, 'type': 'argument', 'genericity': {'arg-kind': {'confidence': 1.0, 'value': -1.147}, 'arg-abstract': {'confidence': 1.0, 'value': -1.147}, 'arg-particular': {'confidence': 1.0, 'value': 1.1619}}, 'wordsense': {'supersense-noun.object': {'confidence': 1.0, 'value': -3.0}, 'supersense-noun.Tops': {'confidence': 1.0, 'value': -3.0}, 'supersense-noun.quantity': {'confidence': 1.0, 'value': -3.0}, 'supersense-noun.feeling': {'confidence': 1.0, 'value': -3.0}, 'supersense-noun.food': {'confidence': 1.0, 'value': -3.0}, 'supersense-noun.shape': {'confidence': 1.0, 'value': -3.0}, 'supersense-noun.event': {'confidence': 1.0, 'value': -3.0}, 'supersense-noun.motive': {'confidence': 1.0, 'value': -3.0}, 'supersense-noun.substance': {'confidence': 1.0, 'value': -3.0}, 'supersense-noun.time': {'confidence': 1.0, 'value': -3.0}, 'supersense-noun.person': {'confidence': 1.0, 'value': -3.0}, 'supersense-noun.process': {'confidence': 1.0, 'value': -3.0}, 'supersense-noun.attribute': {'confidence': 1.0, 'value': -3.0}, 'supersense-noun.artifact': {'confidence': 1.0, 'value': -3.0}, 'supersense-noun.group': {'confidence': 1.0, 'value': -3.0}, 'supersense-noun.animal': {'confidence': 1.0, 'value': -3.0}, 'supersense-noun.location': {'confidence': 1.0, 'value': -3.0}, 'supersense-noun.plant': {'confidence': 1.0, 'value': -3.0}, 'supersense-noun.possession': {'confidence': 1.0, 'value': -3.0}, 'supersense-noun.relation': {'confidence': 1.0, 'value': 1.5334}, 'supersense-noun.phenomenon': {'confidence': 1.0, 'value': -3.0}, 'supersense-noun.cognition': {'confidence': 1.0, 'value': -3.0}, 'supersense-noun.act': {'confidence': 1.0, 'value': -3.0}, 'supersense-noun.state': {'confidence': 1.0, 'value': -3.0}, 'supersense-noun.communication': {'confidence': 1.0, 'value': -3.0}, 'supersense-noun.body': {'confidence': 1.0, 'value': -3.0}}}, 'ewt-train-12-semantics-arg-15': {'domain': 'semantics', 'frompredpatt': True, 'type': 'argument', 'genericity': {'arg-kind': {'confidence': 1.0, 'value': 1.1619}, 'arg-abstract': {'confidence': 1.0, 'value': -1.147}, 'arg-particular': {'confidence': 1.0, 'value': 1.1619}}}, 'ewt-train-12-semantics-arg-23': {'domain': 'semantics', 'frompredpatt': True, 'type': 'argument', 'genericity': {'arg-kind': {'confidence': 1.0, 'value': -1.147}, 'arg-abstract': {'confidence': 1.0, 'value': -1.147}, 'arg-particular': {'confidence': 1.0, 'value': 1.1619}}, 'wordsense': {'supersense-noun.object': {'confidence': 1.0, 'value': -3.0}, 'supersense-noun.Tops': {'confidence': 1.0, 'value': -3.0}, 'supersense-noun.quantity': {'confidence': 1.0, 'value': -3.0}, 'supersense-noun.feeling': {'confidence': 1.0, 'value': -3.0}, 'supersense-noun.food': {'confidence': 1.0, 'value': -3.0}, 'supersense-noun.shape': {'confidence': 1.0, 'value': -3.0}, 'supersense-noun.event': {'confidence': 1.0, 'value': 1.5179}, 'supersense-noun.motive': {'confidence': 1.0, 'value': -3.0}, 'supersense-noun.substance': {'confidence': 1.0, 'value': -3.0}, 'supersense-noun.time': {'confidence': 1.0, 'value': -3.0}, 'supersense-noun.person': {'confidence': 1.0, 'value': -3.0}, 'supersense-noun.process': {'confidence': 1.0, 'value': -3.0}, 'supersense-noun.attribute': {'confidence': 1.0, 'value': -3.0}, 'supersense-noun.artifact': {'confidence': 1.0, 'value': -3.0}, 'supersense-noun.group': {'confidence': 1.0, 'value': -3.0}, 'supersense-noun.animal': {'confidence': 1.0, 'value': -3.0}, 'supersense-noun.location': {'confidence': 1.0, 'value': -3.0}, 'supersense-noun.plant': {'confidence': 1.0, 'value': -3.0}, 'supersense-noun.possession': {'confidence': 1.0, 'value': -3.0}, 'supersense-noun.relation': {'confidence': 1.0, 'value': -3.0}, 'supersense-noun.phenomenon': {'confidence': 1.0, 'value': -3.0}, 'supersense-noun.cognition': {'confidence': 1.0, 'value': -3.0}, 'supersense-noun.act': {'confidence': 1.0, 'value': -1.4278}, 'supersense-noun.state': {'confidence': 1.0, 'value': -3.0}, 'supersense-noun.communication': {'confidence': 1.0, 'value': -1.4278}, 'supersense-noun.body': {'confidence': 1.0, 'value': -3.0}}}, 'ewt-train-12-semantics-arg-0': {'domain': 'semantics', 'type': 'argument', 'frompredpatt': False}, 'ewt-train-12-semantics-arg-author': {'domain': 'semantics', 'type': 'argument', 'frompredpatt': False}, 'ewt-train-12-semantics-arg-addressee': {'domain': 'semantics', 'type': 'argument', 'frompredpatt': False}}"
      ]
     },
     "execution_count": 22,
     "metadata": {},
     "output_type": "execute_result"
    }
   ],
   "source": [
    "# Returns a ginormous dictionary, looks pretty flat\n",
    "uds[\"ewt-train-12\"].argument_nodes"
   ]
  },
  {
   "cell_type": "code",
   "execution_count": 23,
   "id": "e23b88da-ba17-485f-a3fe-78b3c7202abb",
   "metadata": {},
   "outputs": [
    {
     "name": "stdout",
     "output_type": "stream",
     "text": [
      "{'domain': 'semantics',\n",
      " 'frompredpatt': True,\n",
      " 'genericity': {'arg-abstract': {'confidence': 1.0, 'value': -1.147},\n",
      "                'arg-kind': {'confidence': 1.0, 'value': -1.147},\n",
      "                'arg-particular': {'confidence': 1.0, 'value': 1.1619}},\n",
      " 'type': 'argument',\n",
      " 'wordsense': {'supersense-noun.Tops': {'confidence': 1.0, 'value': -3.0},\n",
      "               'supersense-noun.act': {'confidence': 1.0, 'value': -3.0},\n",
      "               'supersense-noun.animal': {'confidence': 1.0, 'value': -3.0},\n",
      "               'supersense-noun.artifact': {'confidence': 1.0, 'value': -3.0},\n",
      "               'supersense-noun.attribute': {'confidence': 1.0, 'value': -3.0},\n",
      "               'supersense-noun.body': {'confidence': 1.0, 'value': -3.0},\n",
      "               'supersense-noun.cognition': {'confidence': 1.0, 'value': -3.0},\n",
      "               'supersense-noun.communication': {'confidence': 1.0,\n",
      "                                                 'value': -3.0},\n",
      "               'supersense-noun.event': {'confidence': 1.0, 'value': -3.0},\n",
      "               'supersense-noun.feeling': {'confidence': 1.0, 'value': -3.0},\n",
      "               'supersense-noun.food': {'confidence': 1.0, 'value': -3.0},\n",
      "               'supersense-noun.group': {'confidence': 1.0, 'value': -3.0},\n",
      "               'supersense-noun.location': {'confidence': 1.0, 'value': -3.0},\n",
      "               'supersense-noun.motive': {'confidence': 1.0, 'value': -3.0},\n",
      "               'supersense-noun.object': {'confidence': 1.0, 'value': -3.0},\n",
      "               'supersense-noun.person': {'confidence': 1.0, 'value': 0.2456},\n",
      "               'supersense-noun.phenomenon': {'confidence': 1.0, 'value': -3.0},\n",
      "               'supersense-noun.plant': {'confidence': 1.0, 'value': -3.0},\n",
      "               'supersense-noun.possession': {'confidence': 1.0, 'value': -3.0},\n",
      "               'supersense-noun.process': {'confidence': 1.0, 'value': -3.0},\n",
      "               'supersense-noun.quantity': {'confidence': 1.0, 'value': -3.0},\n",
      "               'supersense-noun.relation': {'confidence': 1.0, 'value': -3.0},\n",
      "               'supersense-noun.shape': {'confidence': 1.0, 'value': -3.0},\n",
      "               'supersense-noun.state': {'confidence': 1.0, 'value': -3.0},\n",
      "               'supersense-noun.substance': {'confidence': 1.0, 'value': -3.0},\n",
      "               'supersense-noun.time': {'confidence': 1.0, 'value': -3.0}}}\n"
     ]
    }
   ],
   "source": [
    "# A single entry, for \"commander\". Let's pretty-print...\n",
    "pprint(uds[\"ewt-train-12\"].argument_nodes['ewt-train-12-semantics-arg-3'])"
   ]
  },
  {
   "cell_type": "code",
   "execution_count": 24,
   "id": "4c79dbdd-380c-4578-8e45-554a8e0c39e9",
   "metadata": {},
   "outputs": [
    {
     "data": {
      "text/plain": [
       "{'ewt-train-12-semantics-pred-7': {'domain': 'semantics', 'frompredpatt': True, 'type': 'predicate', 'event_structure': {'dynamic': {'value': -1.0745528936386108, 'confidence': 0.9999988079071045}, 'natural_parts': {'value': -1.0745666027069092, 'confidence': 0.9999988079071045}, 'telic': {'value': -1.074510931968689, 'confidence': 0.9999988079071045}, 'situation_duration_lbound-centuries': {'value': -0.4917, 'confidence': 1}, 'situation_duration_ubound-centuries': {'value': -0.4917, 'confidence': 1}, 'situation_duration_lbound-days': {'value': -1.1589, 'confidence': 1}, 'situation_duration_ubound-days': {'value': -1.1589, 'confidence': 1}, 'situation_duration_lbound-decades': {'value': -0.9165, 'confidence': 1}, 'situation_duration_ubound-decades': {'value': -0.9165, 'confidence': 1}, 'situation_duration_lbound-forever': {'value': -0.458, 'confidence': 1}, 'situation_duration_ubound-forever': {'value': -0.458, 'confidence': 1}, 'situation_duration_lbound-fractions_of_a_second': {'value': -0.5215, 'confidence': 1}, 'situation_duration_ubound-fractions_of_a_second': {'value': -0.5215, 'confidence': 1}, 'situation_duration_lbound-hours': {'value': -1.9761, 'confidence': 1}, 'situation_duration_ubound-hours': {'value': -1.9762, 'confidence': 1}, 'situation_duration_lbound-instant': {'value': 1.7272, 'confidence': 1}, 'situation_duration_ubound-instant': {'value': 1.7272, 'confidence': 1}, 'situation_duration_lbound-minutes': {'value': -2.0921, 'confidence': 1}, 'situation_duration_ubound-minutes': {'value': -2.0921, 'confidence': 1}, 'situation_duration_lbound-months': {'value': -0.6181, 'confidence': 1}, 'situation_duration_ubound-months': {'value': -0.6181, 'confidence': 1}, 'situation_duration_lbound-seconds': {'value': -2.5003, 'confidence': 1}, 'situation_duration_ubound-seconds': {'value': -2.5003, 'confidence': 1}, 'situation_duration_lbound-weeks': {'value': -0.9735, 'confidence': 1}, 'situation_duration_ubound-weeks': {'value': -0.9735, 'confidence': 1}, 'situation_duration_lbound-years': {'value': -1.4301, 'confidence': 1}, 'situation_duration_ubound-years': {'value': -1.4302, 'confidence': 1}}, 'genericity': {'pred-dynamic': {'confidence': 1.0, 'value': 0.7748}, 'pred-hypothetical': {'confidence': 1.0, 'value': -1.54}, 'pred-particular': {'confidence': 1.0, 'value': 0.7748}}, 'factuality': {'factual': {'confidence': 1.0, 'value': 1.0583}}, 'time': {'dur-weeks': {'confidence': 1.0, 'value': -1.5373}, 'dur-decades': {'confidence': 1.0, 'value': -1.2476}, 'dur-days': {'confidence': 1.0, 'value': -1.318}, 'dur-hours': {'confidence': 1.0, 'value': -1.2156}, 'dur-seconds': {'confidence': 1.0, 'value': -0.9071}, 'dur-forever': {'confidence': 1.0, 'value': -1.0363}, 'dur-centuries': {'confidence': 1.0, 'value': -1.1744}, 'dur-instant': {'confidence': 1.0, 'value': -0.8546}, 'dur-years': {'confidence': 1.0, 'value': -1.2149}, 'dur-minutes': {'confidence': 1.0, 'value': 1.2708}, 'dur-months': {'confidence': 1.0, 'value': -1.4494}}}, 'ewt-train-12-semantics-pred-11': {'domain': 'semantics', 'frompredpatt': True, 'type': 'predicate', 'event_structure': {'dynamic': {'value': 1.2957098484039307, 'confidence': 0.9999978542327881}, 'natural_parts': {'value': -1.074545979499817, 'confidence': 0.9999988079071045}, 'telic': {'value': -1.0745320320129395, 'confidence': 0.9999988079071045}, 'situation_duration_lbound-centuries': {'value': -0.3258, 'confidence': 1}, 'situation_duration_ubound-centuries': {'value': -0.3595, 'confidence': 1}, 'situation_duration_lbound-days': {'value': -0.6269, 'confidence': 1}, 'situation_duration_ubound-days': {'value': -0.7862, 'confidence': 1}, 'situation_duration_lbound-decades': {'value': -0.4475, 'confidence': 1}, 'situation_duration_ubound-decades': {'value': -0.5671, 'confidence': 1}, 'situation_duration_lbound-forever': {'value': -0.3241, 'confidence': 1}, 'situation_duration_ubound-forever': {'value': -0.3567, 'confidence': 1}, 'situation_duration_lbound-fractions_of_a_second': {'value': -0.3256, 'confidence': 1}, 'situation_duration_ubound-fractions_of_a_second': {'value': -0.3626, 'confidence': 1}, 'situation_duration_lbound-hours': {'value': -1.4336, 'confidence': 1}, 'situation_duration_ubound-hours': {'value': -1.5988, 'confidence': 1}, 'situation_duration_lbound-instant': {'value': -0.7091, 'confidence': 1}, 'situation_duration_ubound-instant': {'value': -0.8479, 'confidence': 1}, 'situation_duration_lbound-minutes': {'value': -1.5557, 'confidence': 1}, 'situation_duration_ubound-minutes': {'value': 1.1922, 'confidence': 1}, 'situation_duration_lbound-months': {'value': -0.3506, 'confidence': 1}, 'situation_duration_ubound-months': {'value': -0.4077, 'confidence': 1}, 'situation_duration_lbound-seconds': {'value': 0.8715, 'confidence': 1}, 'situation_duration_ubound-seconds': {'value': -2.1428, 'confidence': 1}, 'situation_duration_lbound-weeks': {'value': -0.4845, 'confidence': 1}, 'situation_duration_ubound-weeks': {'value': -0.6162, 'confidence': 1}, 'situation_duration_lbound-years': {'value': -0.8807, 'confidence': 1}, 'situation_duration_ubound-years': {'value': -1.0534, 'confidence': 1}}, 'genericity': {'pred-dynamic': {'confidence': 1.0, 'value': 0.7748}, 'pred-hypothetical': {'confidence': 1.0, 'value': -1.5399}, 'pred-particular': {'confidence': 1.0, 'value': 0.7748}}, 'factuality': {'factual': {'confidence': 1.0, 'value': 1.0583}}, 'time': {'dur-weeks': {'confidence': 0.6652, 'value': -1.3023}, 'dur-decades': {'confidence': 0.6652, 'value': -1.1476}, 'dur-days': {'confidence': 0.6652, 'value': 0.8685}, 'dur-hours': {'confidence': 0.6652, 'value': -1.0718}, 'dur-seconds': {'confidence': 0.6652, 'value': -0.898}, 'dur-forever': {'confidence': 0.6652, 'value': -0.7896}, 'dur-centuries': {'confidence': 0.6652, 'value': -1.1401}, 'dur-instant': {'confidence': 0.6652, 'value': -1.707}, 'dur-years': {'confidence': 0.6652, 'value': -1.0606}, 'dur-minutes': {'confidence': 0.6652, 'value': -0.833}, 'dur-months': {'confidence': 0.6652, 'value': 0.9171}}}, 'ewt-train-12-semantics-pred-20': {'domain': 'semantics', 'frompredpatt': True, 'type': 'predicate', 'event_structure': {'dynamic': {'value': 1.2714592218399048, 'confidence': 0.9999974966049194}, 'natural_parts': {'value': -1.0961610078811646, 'confidence': 0.999998927116394}, 'telic': {'value': -1.0961692333221436, 'confidence': 0.999998927116394}, 'situation_duration_lbound-centuries': {'value': -2.1451, 'confidence': 1}, 'situation_duration_ubound-centuries': {'value': -2.2904, 'confidence': 1}, 'situation_duration_lbound-days': {'value': -1.3315, 'confidence': 1}, 'situation_duration_ubound-days': {'value': -1.4555, 'confidence': 1}, 'situation_duration_lbound-decades': {'value': -1.4392, 'confidence': 1}, 'situation_duration_ubound-decades': {'value': -1.5657, 'confidence': 1}, 'situation_duration_lbound-forever': {'value': -0.4828, 'confidence': 1}, 'situation_duration_ubound-forever': {'value': -0.5968, 'confidence': 1}, 'situation_duration_lbound-fractions_of_a_second': {'value': -0.4825, 'confidence': 1}, 'situation_duration_ubound-fractions_of_a_second': {'value': -0.5885, 'confidence': 1}, 'situation_duration_lbound-hours': {'value': -1.3694, 'confidence': 1}, 'situation_duration_ubound-hours': {'value': 1.5487, 'confidence': 1}, 'situation_duration_lbound-instant': {'value': -0.406, 'confidence': 1}, 'situation_duration_ubound-instant': {'value': -0.4771, 'confidence': 1}, 'situation_duration_lbound-minutes': {'value': -1.5364, 'confidence': 1}, 'situation_duration_ubound-minutes': {'value': -1.6354, 'confidence': 1}, 'situation_duration_lbound-months': {'value': -1.7331, 'confidence': 1}, 'situation_duration_ubound-months': {'value': -1.8296, 'confidence': 1}, 'situation_duration_lbound-seconds': {'value': 1.3352, 'confidence': 1}, 'situation_duration_ubound-seconds': {'value': -1.5945, 'confidence': 1}, 'situation_duration_lbound-weeks': {'value': -1.5385, 'confidence': 1}, 'situation_duration_ubound-weeks': {'value': -1.6551, 'confidence': 1}, 'situation_duration_lbound-years': {'value': -1.6397, 'confidence': 1}, 'situation_duration_ubound-years': {'value': -1.7316, 'confidence': 1}}, 'genericity': {'pred-dynamic': {'confidence': 1.0, 'value': -1.5399}, 'pred-hypothetical': {'confidence': 1.0, 'value': 0.7748}, 'pred-particular': {'confidence': 1.0, 'value': -1.54}}, 'time': {'dur-weeks': {'confidence': 0.625, 'value': 0.846}, 'dur-decades': {'confidence': 0.625, 'value': -1.3154}, 'dur-days': {'confidence': 0.625, 'value': -1.0959}, 'dur-hours': {'confidence': 0.625, 'value': -0.9418}, 'dur-seconds': {'confidence': 0.625, 'value': -1.2451}, 'dur-forever': {'confidence': 0.625, 'value': -1.0041}, 'dur-centuries': {'confidence': 0.625, 'value': -1.2852}, 'dur-instant': {'confidence': 0.625, 'value': -0.7637}, 'dur-years': {'confidence': 0.625, 'value': -1.0986}, 'dur-minutes': {'confidence': 0.625, 'value': -0.8468}, 'dur-months': {'confidence': 0.625, 'value': 0.8075}}}, 'ewt-train-12-semantics-pred-root': {'domain': 'semantics', 'type': 'predicate', 'frompredpatt': False}}"
      ]
     },
     "execution_count": 24,
     "metadata": {},
     "output_type": "execute_result"
    }
   ],
   "source": [
    "# Predicate nodes this time. Returns a ginormous dictionary...\n",
    "uds[\"ewt-train-12\"].predicate_nodes"
   ]
  },
  {
   "cell_type": "code",
   "execution_count": 25,
   "id": "3cb23769-8ad1-43d7-8c30-902c5a8840bc",
   "metadata": {},
   "outputs": [
    {
     "name": "stdout",
     "output_type": "stream",
     "text": [
      "{'domain': 'semantics',\n",
      " 'event_structure': {'dynamic': {'confidence': 0.9999988079071045,\n",
      "                                 'value': -1.0745528936386108},\n",
      "                     'natural_parts': {'confidence': 0.9999988079071045,\n",
      "                                       'value': -1.0745666027069092},\n",
      "                     'situation_duration_lbound-centuries': {'confidence': 1,\n",
      "                                                             'value': -0.4917},\n",
      "                     'situation_duration_lbound-days': {'confidence': 1,\n",
      "                                                        'value': -1.1589},\n",
      "                     'situation_duration_lbound-decades': {'confidence': 1,\n",
      "                                                           'value': -0.9165},\n",
      "                     'situation_duration_lbound-forever': {'confidence': 1,\n",
      "                                                           'value': -0.458},\n",
      "                     'situation_duration_lbound-fractions_of_a_second': {'confidence': 1,\n",
      "                                                                         'value': -0.5215},\n",
      "                     'situation_duration_lbound-hours': {'confidence': 1,\n",
      "                                                         'value': -1.9761},\n",
      "                     'situation_duration_lbound-instant': {'confidence': 1,\n",
      "                                                           'value': 1.7272},\n",
      "                     'situation_duration_lbound-minutes': {'confidence': 1,\n",
      "                                                           'value': -2.0921},\n",
      "                     'situation_duration_lbound-months': {'confidence': 1,\n",
      "                                                          'value': -0.6181},\n",
      "                     'situation_duration_lbound-seconds': {'confidence': 1,\n",
      "                                                           'value': -2.5003},\n",
      "                     'situation_duration_lbound-weeks': {'confidence': 1,\n",
      "                                                         'value': -0.9735},\n",
      "                     'situation_duration_lbound-years': {'confidence': 1,\n",
      "                                                         'value': -1.4301},\n",
      "                     'situation_duration_ubound-centuries': {'confidence': 1,\n",
      "                                                             'value': -0.4917},\n",
      "                     'situation_duration_ubound-days': {'confidence': 1,\n",
      "                                                        'value': -1.1589},\n",
      "                     'situation_duration_ubound-decades': {'confidence': 1,\n",
      "                                                           'value': -0.9165},\n",
      "                     'situation_duration_ubound-forever': {'confidence': 1,\n",
      "                                                           'value': -0.458},\n",
      "                     'situation_duration_ubound-fractions_of_a_second': {'confidence': 1,\n",
      "                                                                         'value': -0.5215},\n",
      "                     'situation_duration_ubound-hours': {'confidence': 1,\n",
      "                                                         'value': -1.9762},\n",
      "                     'situation_duration_ubound-instant': {'confidence': 1,\n",
      "                                                           'value': 1.7272},\n",
      "                     'situation_duration_ubound-minutes': {'confidence': 1,\n",
      "                                                           'value': -2.0921},\n",
      "                     'situation_duration_ubound-months': {'confidence': 1,\n",
      "                                                          'value': -0.6181},\n",
      "                     'situation_duration_ubound-seconds': {'confidence': 1,\n",
      "                                                           'value': -2.5003},\n",
      "                     'situation_duration_ubound-weeks': {'confidence': 1,\n",
      "                                                         'value': -0.9735},\n",
      "                     'situation_duration_ubound-years': {'confidence': 1,\n",
      "                                                         'value': -1.4302},\n",
      "                     'telic': {'confidence': 0.9999988079071045,\n",
      "                               'value': -1.074510931968689}},\n",
      " 'factuality': {'factual': {'confidence': 1.0, 'value': 1.0583}},\n",
      " 'frompredpatt': True,\n",
      " 'genericity': {'pred-dynamic': {'confidence': 1.0, 'value': 0.7748},\n",
      "                'pred-hypothetical': {'confidence': 1.0, 'value': -1.54},\n",
      "                'pred-particular': {'confidence': 1.0, 'value': 0.7748}},\n",
      " 'time': {'dur-centuries': {'confidence': 1.0, 'value': -1.1744},\n",
      "          'dur-days': {'confidence': 1.0, 'value': -1.318},\n",
      "          'dur-decades': {'confidence': 1.0, 'value': -1.2476},\n",
      "          'dur-forever': {'confidence': 1.0, 'value': -1.0363},\n",
      "          'dur-hours': {'confidence': 1.0, 'value': -1.2156},\n",
      "          'dur-instant': {'confidence': 1.0, 'value': -0.8546},\n",
      "          'dur-minutes': {'confidence': 1.0, 'value': 1.2708},\n",
      "          'dur-months': {'confidence': 1.0, 'value': -1.4494},\n",
      "          'dur-seconds': {'confidence': 1.0, 'value': -0.9071},\n",
      "          'dur-weeks': {'confidence': 1.0, 'value': -1.5373},\n",
      "          'dur-years': {'confidence': 1.0, 'value': -1.2149}},\n",
      " 'type': 'predicate'}\n"
     ]
    }
   ],
   "source": [
    "# A single entry, for \"announce\"\n",
    "pprint(uds[\"ewt-train-12\"].predicate_nodes['ewt-train-12-semantics-pred-7'])"
   ]
  },
  {
   "cell_type": "code",
   "execution_count": 26,
   "id": "b141d663-d9bf-4dea-8ad6-219eb07b737e",
   "metadata": {},
   "outputs": [
    {
     "data": {
      "text/plain": [
       "{'ewt-train-12-semantics-pred-7': {'domain': 'semantics', 'frompredpatt': True, 'type': 'predicate', 'event_structure': {'dynamic': {'value': -1.0745528936386108, 'confidence': 0.9999988079071045}, 'natural_parts': {'value': -1.0745666027069092, 'confidence': 0.9999988079071045}, 'telic': {'value': -1.074510931968689, 'confidence': 0.9999988079071045}, 'situation_duration_lbound-centuries': {'value': -0.4917, 'confidence': 1}, 'situation_duration_ubound-centuries': {'value': -0.4917, 'confidence': 1}, 'situation_duration_lbound-days': {'value': -1.1589, 'confidence': 1}, 'situation_duration_ubound-days': {'value': -1.1589, 'confidence': 1}, 'situation_duration_lbound-decades': {'value': -0.9165, 'confidence': 1}, 'situation_duration_ubound-decades': {'value': -0.9165, 'confidence': 1}, 'situation_duration_lbound-forever': {'value': -0.458, 'confidence': 1}, 'situation_duration_ubound-forever': {'value': -0.458, 'confidence': 1}, 'situation_duration_lbound-fractions_of_a_second': {'value': -0.5215, 'confidence': 1}, 'situation_duration_ubound-fractions_of_a_second': {'value': -0.5215, 'confidence': 1}, 'situation_duration_lbound-hours': {'value': -1.9761, 'confidence': 1}, 'situation_duration_ubound-hours': {'value': -1.9762, 'confidence': 1}, 'situation_duration_lbound-instant': {'value': 1.7272, 'confidence': 1}, 'situation_duration_ubound-instant': {'value': 1.7272, 'confidence': 1}, 'situation_duration_lbound-minutes': {'value': -2.0921, 'confidence': 1}, 'situation_duration_ubound-minutes': {'value': -2.0921, 'confidence': 1}, 'situation_duration_lbound-months': {'value': -0.6181, 'confidence': 1}, 'situation_duration_ubound-months': {'value': -0.6181, 'confidence': 1}, 'situation_duration_lbound-seconds': {'value': -2.5003, 'confidence': 1}, 'situation_duration_ubound-seconds': {'value': -2.5003, 'confidence': 1}, 'situation_duration_lbound-weeks': {'value': -0.9735, 'confidence': 1}, 'situation_duration_ubound-weeks': {'value': -0.9735, 'confidence': 1}, 'situation_duration_lbound-years': {'value': -1.4301, 'confidence': 1}, 'situation_duration_ubound-years': {'value': -1.4302, 'confidence': 1}}, 'genericity': {'pred-dynamic': {'confidence': 1.0, 'value': 0.7748}, 'pred-hypothetical': {'confidence': 1.0, 'value': -1.54}, 'pred-particular': {'confidence': 1.0, 'value': 0.7748}}, 'factuality': {'factual': {'confidence': 1.0, 'value': 1.0583}}, 'time': {'dur-weeks': {'confidence': 1.0, 'value': -1.5373}, 'dur-decades': {'confidence': 1.0, 'value': -1.2476}, 'dur-days': {'confidence': 1.0, 'value': -1.318}, 'dur-hours': {'confidence': 1.0, 'value': -1.2156}, 'dur-seconds': {'confidence': 1.0, 'value': -0.9071}, 'dur-forever': {'confidence': 1.0, 'value': -1.0363}, 'dur-centuries': {'confidence': 1.0, 'value': -1.1744}, 'dur-instant': {'confidence': 1.0, 'value': -0.8546}, 'dur-years': {'confidence': 1.0, 'value': -1.2149}, 'dur-minutes': {'confidence': 1.0, 'value': 1.2708}, 'dur-months': {'confidence': 1.0, 'value': -1.4494}}}, 'ewt-train-12-semantics-pred-11': {'domain': 'semantics', 'frompredpatt': True, 'type': 'predicate', 'event_structure': {'dynamic': {'value': 1.2957098484039307, 'confidence': 0.9999978542327881}, 'natural_parts': {'value': -1.074545979499817, 'confidence': 0.9999988079071045}, 'telic': {'value': -1.0745320320129395, 'confidence': 0.9999988079071045}, 'situation_duration_lbound-centuries': {'value': -0.3258, 'confidence': 1}, 'situation_duration_ubound-centuries': {'value': -0.3595, 'confidence': 1}, 'situation_duration_lbound-days': {'value': -0.6269, 'confidence': 1}, 'situation_duration_ubound-days': {'value': -0.7862, 'confidence': 1}, 'situation_duration_lbound-decades': {'value': -0.4475, 'confidence': 1}, 'situation_duration_ubound-decades': {'value': -0.5671, 'confidence': 1}, 'situation_duration_lbound-forever': {'value': -0.3241, 'confidence': 1}, 'situation_duration_ubound-forever': {'value': -0.3567, 'confidence': 1}, 'situation_duration_lbound-fractions_of_a_second': {'value': -0.3256, 'confidence': 1}, 'situation_duration_ubound-fractions_of_a_second': {'value': -0.3626, 'confidence': 1}, 'situation_duration_lbound-hours': {'value': -1.4336, 'confidence': 1}, 'situation_duration_ubound-hours': {'value': -1.5988, 'confidence': 1}, 'situation_duration_lbound-instant': {'value': -0.7091, 'confidence': 1}, 'situation_duration_ubound-instant': {'value': -0.8479, 'confidence': 1}, 'situation_duration_lbound-minutes': {'value': -1.5557, 'confidence': 1}, 'situation_duration_ubound-minutes': {'value': 1.1922, 'confidence': 1}, 'situation_duration_lbound-months': {'value': -0.3506, 'confidence': 1}, 'situation_duration_ubound-months': {'value': -0.4077, 'confidence': 1}, 'situation_duration_lbound-seconds': {'value': 0.8715, 'confidence': 1}, 'situation_duration_ubound-seconds': {'value': -2.1428, 'confidence': 1}, 'situation_duration_lbound-weeks': {'value': -0.4845, 'confidence': 1}, 'situation_duration_ubound-weeks': {'value': -0.6162, 'confidence': 1}, 'situation_duration_lbound-years': {'value': -0.8807, 'confidence': 1}, 'situation_duration_ubound-years': {'value': -1.0534, 'confidence': 1}}, 'genericity': {'pred-dynamic': {'confidence': 1.0, 'value': 0.7748}, 'pred-hypothetical': {'confidence': 1.0, 'value': -1.5399}, 'pred-particular': {'confidence': 1.0, 'value': 0.7748}}, 'factuality': {'factual': {'confidence': 1.0, 'value': 1.0583}}, 'time': {'dur-weeks': {'confidence': 0.6652, 'value': -1.3023}, 'dur-decades': {'confidence': 0.6652, 'value': -1.1476}, 'dur-days': {'confidence': 0.6652, 'value': 0.8685}, 'dur-hours': {'confidence': 0.6652, 'value': -1.0718}, 'dur-seconds': {'confidence': 0.6652, 'value': -0.898}, 'dur-forever': {'confidence': 0.6652, 'value': -0.7896}, 'dur-centuries': {'confidence': 0.6652, 'value': -1.1401}, 'dur-instant': {'confidence': 0.6652, 'value': -1.707}, 'dur-years': {'confidence': 0.6652, 'value': -1.0606}, 'dur-minutes': {'confidence': 0.6652, 'value': -0.833}, 'dur-months': {'confidence': 0.6652, 'value': 0.9171}}}, 'ewt-train-12-semantics-pred-20': {'domain': 'semantics', 'frompredpatt': True, 'type': 'predicate', 'event_structure': {'dynamic': {'value': 1.2714592218399048, 'confidence': 0.9999974966049194}, 'natural_parts': {'value': -1.0961610078811646, 'confidence': 0.999998927116394}, 'telic': {'value': -1.0961692333221436, 'confidence': 0.999998927116394}, 'situation_duration_lbound-centuries': {'value': -2.1451, 'confidence': 1}, 'situation_duration_ubound-centuries': {'value': -2.2904, 'confidence': 1}, 'situation_duration_lbound-days': {'value': -1.3315, 'confidence': 1}, 'situation_duration_ubound-days': {'value': -1.4555, 'confidence': 1}, 'situation_duration_lbound-decades': {'value': -1.4392, 'confidence': 1}, 'situation_duration_ubound-decades': {'value': -1.5657, 'confidence': 1}, 'situation_duration_lbound-forever': {'value': -0.4828, 'confidence': 1}, 'situation_duration_ubound-forever': {'value': -0.5968, 'confidence': 1}, 'situation_duration_lbound-fractions_of_a_second': {'value': -0.4825, 'confidence': 1}, 'situation_duration_ubound-fractions_of_a_second': {'value': -0.5885, 'confidence': 1}, 'situation_duration_lbound-hours': {'value': -1.3694, 'confidence': 1}, 'situation_duration_ubound-hours': {'value': 1.5487, 'confidence': 1}, 'situation_duration_lbound-instant': {'value': -0.406, 'confidence': 1}, 'situation_duration_ubound-instant': {'value': -0.4771, 'confidence': 1}, 'situation_duration_lbound-minutes': {'value': -1.5364, 'confidence': 1}, 'situation_duration_ubound-minutes': {'value': -1.6354, 'confidence': 1}, 'situation_duration_lbound-months': {'value': -1.7331, 'confidence': 1}, 'situation_duration_ubound-months': {'value': -1.8296, 'confidence': 1}, 'situation_duration_lbound-seconds': {'value': 1.3352, 'confidence': 1}, 'situation_duration_ubound-seconds': {'value': -1.5945, 'confidence': 1}, 'situation_duration_lbound-weeks': {'value': -1.5385, 'confidence': 1}, 'situation_duration_ubound-weeks': {'value': -1.6551, 'confidence': 1}, 'situation_duration_lbound-years': {'value': -1.6397, 'confidence': 1}, 'situation_duration_ubound-years': {'value': -1.7316, 'confidence': 1}}, 'genericity': {'pred-dynamic': {'confidence': 1.0, 'value': -1.5399}, 'pred-hypothetical': {'confidence': 1.0, 'value': 0.7748}, 'pred-particular': {'confidence': 1.0, 'value': -1.54}}, 'time': {'dur-weeks': {'confidence': 0.625, 'value': 0.846}, 'dur-decades': {'confidence': 0.625, 'value': -1.3154}, 'dur-days': {'confidence': 0.625, 'value': -1.0959}, 'dur-hours': {'confidence': 0.625, 'value': -0.9418}, 'dur-seconds': {'confidence': 0.625, 'value': -1.2451}, 'dur-forever': {'confidence': 0.625, 'value': -1.0041}, 'dur-centuries': {'confidence': 0.625, 'value': -1.2852}, 'dur-instant': {'confidence': 0.625, 'value': -0.7637}, 'dur-years': {'confidence': 0.625, 'value': -1.0986}, 'dur-minutes': {'confidence': 0.625, 'value': -0.8468}, 'dur-months': {'confidence': 0.625, 'value': 0.8075}}}, 'ewt-train-12-semantics-arg-3': {'domain': 'semantics', 'frompredpatt': True, 'type': 'argument', 'genericity': {'arg-kind': {'confidence': 1.0, 'value': -1.147}, 'arg-abstract': {'confidence': 1.0, 'value': -1.147}, 'arg-particular': {'confidence': 1.0, 'value': 1.1619}}, 'wordsense': {'supersense-noun.object': {'confidence': 1.0, 'value': -3.0}, 'supersense-noun.Tops': {'confidence': 1.0, 'value': -3.0}, 'supersense-noun.quantity': {'confidence': 1.0, 'value': -3.0}, 'supersense-noun.feeling': {'confidence': 1.0, 'value': -3.0}, 'supersense-noun.food': {'confidence': 1.0, 'value': -3.0}, 'supersense-noun.shape': {'confidence': 1.0, 'value': -3.0}, 'supersense-noun.event': {'confidence': 1.0, 'value': -3.0}, 'supersense-noun.motive': {'confidence': 1.0, 'value': -3.0}, 'supersense-noun.substance': {'confidence': 1.0, 'value': -3.0}, 'supersense-noun.time': {'confidence': 1.0, 'value': -3.0}, 'supersense-noun.person': {'confidence': 1.0, 'value': 0.2456}, 'supersense-noun.process': {'confidence': 1.0, 'value': -3.0}, 'supersense-noun.attribute': {'confidence': 1.0, 'value': -3.0}, 'supersense-noun.artifact': {'confidence': 1.0, 'value': -3.0}, 'supersense-noun.group': {'confidence': 1.0, 'value': -3.0}, 'supersense-noun.animal': {'confidence': 1.0, 'value': -3.0}, 'supersense-noun.location': {'confidence': 1.0, 'value': -3.0}, 'supersense-noun.plant': {'confidence': 1.0, 'value': -3.0}, 'supersense-noun.possession': {'confidence': 1.0, 'value': -3.0}, 'supersense-noun.relation': {'confidence': 1.0, 'value': -3.0}, 'supersense-noun.phenomenon': {'confidence': 1.0, 'value': -3.0}, 'supersense-noun.cognition': {'confidence': 1.0, 'value': -3.0}, 'supersense-noun.act': {'confidence': 1.0, 'value': -3.0}, 'supersense-noun.state': {'confidence': 1.0, 'value': -3.0}, 'supersense-noun.communication': {'confidence': 1.0, 'value': -3.0}, 'supersense-noun.body': {'confidence': 1.0, 'value': -3.0}}}, 'ewt-train-12-semantics-arg-11': {'domain': 'semantics', 'frompredpatt': True, 'type': 'argument'}, 'ewt-train-12-semantics-arg-9': {'domain': 'semantics', 'frompredpatt': True, 'type': 'argument', 'genericity': {'arg-kind': {'confidence': 1.0, 'value': -1.147}, 'arg-abstract': {'confidence': 1.0, 'value': -1.147}, 'arg-particular': {'confidence': 1.0, 'value': 1.1619}}, 'wordsense': {'supersense-noun.object': {'confidence': 1.0, 'value': -3.0}, 'supersense-noun.Tops': {'confidence': 1.0, 'value': -3.0}, 'supersense-noun.quantity': {'confidence': 1.0, 'value': -3.0}, 'supersense-noun.feeling': {'confidence': 1.0, 'value': -3.0}, 'supersense-noun.food': {'confidence': 1.0, 'value': -3.0}, 'supersense-noun.shape': {'confidence': 1.0, 'value': -3.0}, 'supersense-noun.event': {'confidence': 1.0, 'value': -3.0}, 'supersense-noun.motive': {'confidence': 1.0, 'value': -3.0}, 'supersense-noun.substance': {'confidence': 1.0, 'value': -3.0}, 'supersense-noun.time': {'confidence': 1.0, 'value': -3.0}, 'supersense-noun.person': {'confidence': 1.0, 'value': -3.0}, 'supersense-noun.process': {'confidence': 1.0, 'value': -3.0}, 'supersense-noun.attribute': {'confidence': 1.0, 'value': -3.0}, 'supersense-noun.artifact': {'confidence': 1.0, 'value': -3.0}, 'supersense-noun.group': {'confidence': 1.0, 'value': -3.0}, 'supersense-noun.animal': {'confidence': 1.0, 'value': -3.0}, 'supersense-noun.location': {'confidence': 1.0, 'value': -3.0}, 'supersense-noun.plant': {'confidence': 1.0, 'value': -3.0}, 'supersense-noun.possession': {'confidence': 1.0, 'value': -3.0}, 'supersense-noun.relation': {'confidence': 1.0, 'value': -3.0}, 'supersense-noun.phenomenon': {'confidence': 1.0, 'value': -3.0}, 'supersense-noun.cognition': {'confidence': 1.0, 'value': -3.0}, 'supersense-noun.act': {'confidence': 1.0, 'value': 1.5461}, 'supersense-noun.state': {'confidence': 1.0, 'value': -3.0}, 'supersense-noun.communication': {'confidence': 1.0, 'value': -3.0}, 'supersense-noun.body': {'confidence': 1.0, 'value': -3.0}}}, 'ewt-train-12-semantics-arg-13': {'domain': 'semantics', 'frompredpatt': True, 'type': 'argument', 'genericity': {'arg-kind': {'confidence': 1.0, 'value': -1.147}, 'arg-abstract': {'confidence': 1.0, 'value': -1.147}, 'arg-particular': {'confidence': 1.0, 'value': 1.1619}}, 'wordsense': {'supersense-noun.object': {'confidence': 1.0, 'value': -3.0}, 'supersense-noun.Tops': {'confidence': 1.0, 'value': -3.0}, 'supersense-noun.quantity': {'confidence': 1.0, 'value': -3.0}, 'supersense-noun.feeling': {'confidence': 1.0, 'value': -3.0}, 'supersense-noun.food': {'confidence': 1.0, 'value': -3.0}, 'supersense-noun.shape': {'confidence': 1.0, 'value': -3.0}, 'supersense-noun.event': {'confidence': 1.0, 'value': -3.0}, 'supersense-noun.motive': {'confidence': 1.0, 'value': -3.0}, 'supersense-noun.substance': {'confidence': 1.0, 'value': -3.0}, 'supersense-noun.time': {'confidence': 1.0, 'value': -3.0}, 'supersense-noun.person': {'confidence': 1.0, 'value': -3.0}, 'supersense-noun.process': {'confidence': 1.0, 'value': -3.0}, 'supersense-noun.attribute': {'confidence': 1.0, 'value': -3.0}, 'supersense-noun.artifact': {'confidence': 1.0, 'value': -3.0}, 'supersense-noun.group': {'confidence': 1.0, 'value': -3.0}, 'supersense-noun.animal': {'confidence': 1.0, 'value': -3.0}, 'supersense-noun.location': {'confidence': 1.0, 'value': -3.0}, 'supersense-noun.plant': {'confidence': 1.0, 'value': -3.0}, 'supersense-noun.possession': {'confidence': 1.0, 'value': -3.0}, 'supersense-noun.relation': {'confidence': 1.0, 'value': 1.5334}, 'supersense-noun.phenomenon': {'confidence': 1.0, 'value': -3.0}, 'supersense-noun.cognition': {'confidence': 1.0, 'value': -3.0}, 'supersense-noun.act': {'confidence': 1.0, 'value': -3.0}, 'supersense-noun.state': {'confidence': 1.0, 'value': -3.0}, 'supersense-noun.communication': {'confidence': 1.0, 'value': -3.0}, 'supersense-noun.body': {'confidence': 1.0, 'value': -3.0}}}, 'ewt-train-12-semantics-arg-15': {'domain': 'semantics', 'frompredpatt': True, 'type': 'argument', 'genericity': {'arg-kind': {'confidence': 1.0, 'value': 1.1619}, 'arg-abstract': {'confidence': 1.0, 'value': -1.147}, 'arg-particular': {'confidence': 1.0, 'value': 1.1619}}}, 'ewt-train-12-semantics-arg-23': {'domain': 'semantics', 'frompredpatt': True, 'type': 'argument', 'genericity': {'arg-kind': {'confidence': 1.0, 'value': -1.147}, 'arg-abstract': {'confidence': 1.0, 'value': -1.147}, 'arg-particular': {'confidence': 1.0, 'value': 1.1619}}, 'wordsense': {'supersense-noun.object': {'confidence': 1.0, 'value': -3.0}, 'supersense-noun.Tops': {'confidence': 1.0, 'value': -3.0}, 'supersense-noun.quantity': {'confidence': 1.0, 'value': -3.0}, 'supersense-noun.feeling': {'confidence': 1.0, 'value': -3.0}, 'supersense-noun.food': {'confidence': 1.0, 'value': -3.0}, 'supersense-noun.shape': {'confidence': 1.0, 'value': -3.0}, 'supersense-noun.event': {'confidence': 1.0, 'value': 1.5179}, 'supersense-noun.motive': {'confidence': 1.0, 'value': -3.0}, 'supersense-noun.substance': {'confidence': 1.0, 'value': -3.0}, 'supersense-noun.time': {'confidence': 1.0, 'value': -3.0}, 'supersense-noun.person': {'confidence': 1.0, 'value': -3.0}, 'supersense-noun.process': {'confidence': 1.0, 'value': -3.0}, 'supersense-noun.attribute': {'confidence': 1.0, 'value': -3.0}, 'supersense-noun.artifact': {'confidence': 1.0, 'value': -3.0}, 'supersense-noun.group': {'confidence': 1.0, 'value': -3.0}, 'supersense-noun.animal': {'confidence': 1.0, 'value': -3.0}, 'supersense-noun.location': {'confidence': 1.0, 'value': -3.0}, 'supersense-noun.plant': {'confidence': 1.0, 'value': -3.0}, 'supersense-noun.possession': {'confidence': 1.0, 'value': -3.0}, 'supersense-noun.relation': {'confidence': 1.0, 'value': -3.0}, 'supersense-noun.phenomenon': {'confidence': 1.0, 'value': -3.0}, 'supersense-noun.cognition': {'confidence': 1.0, 'value': -3.0}, 'supersense-noun.act': {'confidence': 1.0, 'value': -1.4278}, 'supersense-noun.state': {'confidence': 1.0, 'value': -3.0}, 'supersense-noun.communication': {'confidence': 1.0, 'value': -1.4278}, 'supersense-noun.body': {'confidence': 1.0, 'value': -3.0}}}, 'ewt-train-12-semantics-pred-root': {'domain': 'semantics', 'type': 'predicate', 'frompredpatt': False}, 'ewt-train-12-semantics-arg-0': {'domain': 'semantics', 'type': 'argument', 'frompredpatt': False}, 'ewt-train-12-semantics-arg-author': {'domain': 'semantics', 'type': 'argument', 'frompredpatt': False}, 'ewt-train-12-semantics-arg-addressee': {'domain': 'semantics', 'type': 'argument', 'frompredpatt': False}}"
      ]
     },
     "execution_count": 26,
     "metadata": {},
     "output_type": "execute_result"
    }
   ],
   "source": [
    "# semantic nodes: returns a ginormous nested dictionary\n",
    "uds[\"ewt-train-12\"].semantics_nodes"
   ]
  },
  {
   "cell_type": "code",
   "execution_count": 27,
   "id": "1ebae465-54cb-4b83-9ae1-5e17593b25f3",
   "metadata": {},
   "outputs": [
    {
     "name": "stdout",
     "output_type": "stream",
     "text": [
      "{'domain': 'semantics',\n",
      " 'event_structure': {'dynamic': {'confidence': 0.9999988079071045,\n",
      "                                 'value': -1.0745528936386108},\n",
      "                     'natural_parts': {'confidence': 0.9999988079071045,\n",
      "                                       'value': -1.0745666027069092},\n",
      "                     'situation_duration_lbound-centuries': {'confidence': 1,\n",
      "                                                             'value': -0.4917},\n",
      "                     'situation_duration_lbound-days': {'confidence': 1,\n",
      "                                                        'value': -1.1589},\n",
      "                     'situation_duration_lbound-decades': {'confidence': 1,\n",
      "                                                           'value': -0.9165},\n",
      "                     'situation_duration_lbound-forever': {'confidence': 1,\n",
      "                                                           'value': -0.458},\n",
      "                     'situation_duration_lbound-fractions_of_a_second': {'confidence': 1,\n",
      "                                                                         'value': -0.5215},\n",
      "                     'situation_duration_lbound-hours': {'confidence': 1,\n",
      "                                                         'value': -1.9761},\n",
      "                     'situation_duration_lbound-instant': {'confidence': 1,\n",
      "                                                           'value': 1.7272},\n",
      "                     'situation_duration_lbound-minutes': {'confidence': 1,\n",
      "                                                           'value': -2.0921},\n",
      "                     'situation_duration_lbound-months': {'confidence': 1,\n",
      "                                                          'value': -0.6181},\n",
      "                     'situation_duration_lbound-seconds': {'confidence': 1,\n",
      "                                                           'value': -2.5003},\n",
      "                     'situation_duration_lbound-weeks': {'confidence': 1,\n",
      "                                                         'value': -0.9735},\n",
      "                     'situation_duration_lbound-years': {'confidence': 1,\n",
      "                                                         'value': -1.4301},\n",
      "                     'situation_duration_ubound-centuries': {'confidence': 1,\n",
      "                                                             'value': -0.4917},\n",
      "                     'situation_duration_ubound-days': {'confidence': 1,\n",
      "                                                        'value': -1.1589},\n",
      "                     'situation_duration_ubound-decades': {'confidence': 1,\n",
      "                                                           'value': -0.9165},\n",
      "                     'situation_duration_ubound-forever': {'confidence': 1,\n",
      "                                                           'value': -0.458},\n",
      "                     'situation_duration_ubound-fractions_of_a_second': {'confidence': 1,\n",
      "                                                                         'value': -0.5215},\n",
      "                     'situation_duration_ubound-hours': {'confidence': 1,\n",
      "                                                         'value': -1.9762},\n",
      "                     'situation_duration_ubound-instant': {'confidence': 1,\n",
      "                                                           'value': 1.7272},\n",
      "                     'situation_duration_ubound-minutes': {'confidence': 1,\n",
      "                                                           'value': -2.0921},\n",
      "                     'situation_duration_ubound-months': {'confidence': 1,\n",
      "                                                          'value': -0.6181},\n",
      "                     'situation_duration_ubound-seconds': {'confidence': 1,\n",
      "                                                           'value': -2.5003},\n",
      "                     'situation_duration_ubound-weeks': {'confidence': 1,\n",
      "                                                         'value': -0.9735},\n",
      "                     'situation_duration_ubound-years': {'confidence': 1,\n",
      "                                                         'value': -1.4302},\n",
      "                     'telic': {'confidence': 0.9999988079071045,\n",
      "                               'value': -1.074510931968689}},\n",
      " 'factuality': {'factual': {'confidence': 1.0, 'value': 1.0583}},\n",
      " 'frompredpatt': True,\n",
      " 'genericity': {'pred-dynamic': {'confidence': 1.0, 'value': 0.7748},\n",
      "                'pred-hypothetical': {'confidence': 1.0, 'value': -1.54},\n",
      "                'pred-particular': {'confidence': 1.0, 'value': 0.7748}},\n",
      " 'time': {'dur-centuries': {'confidence': 1.0, 'value': -1.1744},\n",
      "          'dur-days': {'confidence': 1.0, 'value': -1.318},\n",
      "          'dur-decades': {'confidence': 1.0, 'value': -1.2476},\n",
      "          'dur-forever': {'confidence': 1.0, 'value': -1.0363},\n",
      "          'dur-hours': {'confidence': 1.0, 'value': -1.2156},\n",
      "          'dur-instant': {'confidence': 1.0, 'value': -0.8546},\n",
      "          'dur-minutes': {'confidence': 1.0, 'value': 1.2708},\n",
      "          'dur-months': {'confidence': 1.0, 'value': -1.4494},\n",
      "          'dur-seconds': {'confidence': 1.0, 'value': -0.9071},\n",
      "          'dur-weeks': {'confidence': 1.0, 'value': -1.5373},\n",
      "          'dur-years': {'confidence': 1.0, 'value': -1.2149}},\n",
      " 'type': 'predicate'}\n"
     ]
    }
   ],
   "source": [
    "# A single entry, again for \"announce\"\n",
    "pprint(uds[\"ewt-train-12\"].semantics_nodes['ewt-train-12-semantics-pred-7'])"
   ]
  },
  {
   "cell_type": "markdown",
   "id": "739bc1f9-55ce-4803-8d9b-083236499035",
   "metadata": {},
   "source": [
    "## One more type! Semantics edges\n",
    "- This time around, the keys are gonna be pairs, because they encode a relation"
   ]
  },
  {
   "cell_type": "code",
   "execution_count": 28,
   "id": "2e99fccd-de1d-4c7b-a4a0-ce4c09e3df9a",
   "metadata": {},
   "outputs": [
    {
     "name": "stdout",
     "output_type": "stream",
     "text": [
      "{('ewt-train-12-semantics-arg-0', 'ewt-train-12-semantics-pred-20'): {'domain': 'semantics',\n",
      "                                                                      'frompredpatt': False,\n",
      "                                                                      'id': 'ewt-train-12-semantics-pred-20',\n",
      "                                                                      'type': 'head'},\n",
      " ('ewt-train-12-semantics-arg-0', 'ewt-train-12-semantics-pred-7'): {'domain': 'semantics',\n",
      "                                                                     'frompredpatt': False,\n",
      "                                                                     'id': 'ewt-train-12-semantics-pred-7',\n",
      "                                                                     'type': 'head'},\n",
      " ('ewt-train-12-semantics-arg-11', 'ewt-train-12-semantics-pred-11'): {'domain': 'semantics',\n",
      "                                                                       'frompredpatt': True,\n",
      "                                                                       'id': 'ewt-train-12-semantics-pred-11',\n",
      "                                                                       'type': 'head'},\n",
      " ('ewt-train-12-semantics-pred-11', 'ewt-train-12-semantics-arg-13'): {'domain': 'semantics',\n",
      "                                                                       'frompredpatt': True,\n",
      "                                                                       'id': 'ewt-train-12-semantics-arg-13',\n",
      "                                                                       'protoroles': {'awareness': {'confidence': 1.0,\n",
      "                                                                                                    'value': -0.0},\n",
      "                                                                                      'change_of_location': {'confidence': 1.0,\n",
      "                                                                                                             'value': -0.0},\n",
      "                                                                                      'change_of_possession': {'confidence': 1.0,\n",
      "                                                                                                               'value': -0.0},\n",
      "                                                                                      'change_of_state': {'confidence': 0.1675,\n",
      "                                                                                                          'value': 0.0032},\n",
      "                                                                                      'change_of_state_continuous': {'confidence': 0.1675,\n",
      "                                                                                                                     'value': 0.0032},\n",
      "                                                                                      'existed_after': {'confidence': 0.6796,\n",
      "                                                                                                        'value': 0.0111},\n",
      "                                                                                      'existed_before': {'confidence': 0.6796,\n",
      "                                                                                                         'value': 0.0111},\n",
      "                                                                                      'existed_during': {'confidence': 1.0,\n",
      "                                                                                                         'value': 1.3421},\n",
      "                                                                                      'instigation': {'confidence': 1.0,\n",
      "                                                                                                      'value': -0.0},\n",
      "                                                                                      'partitive': {'confidence': 0.564,\n",
      "                                                                                                    'value': -0.0941},\n",
      "                                                                                      'sentient': {'confidence': 1.0,\n",
      "                                                                                                   'value': -0.9348},\n",
      "                                                                                      'volition': {'confidence': 1.0,\n",
      "                                                                                                   'value': -0.0},\n",
      "                                                                                      'was_for_benefit': {'confidence': 1.0,\n",
      "                                                                                                          'value': -0.0},\n",
      "                                                                                      'was_used': {'confidence': 0.564,\n",
      "                                                                                                   'value': -0.0}},\n",
      "                                                                       'type': 'dependency'},\n",
      " ('ewt-train-12-semantics-pred-11', 'ewt-train-12-semantics-arg-15'): {'domain': 'semantics',\n",
      "                                                                       'frompredpatt': True,\n",
      "                                                                       'id': 'ewt-train-12-semantics-arg-15',\n",
      "                                                                       'type': 'dependency'},\n",
      " ('ewt-train-12-semantics-pred-11', 'ewt-train-12-semantics-arg-9'): {'domain': 'semantics',\n",
      "                                                                      'event_structure': {'distributive': {'confidence': 1.0,\n",
      "                                                                                                           'value': -0.9329}},\n",
      "                                                                      'frompredpatt': True,\n",
      "                                                                      'id': 'ewt-train-12-semantics-arg-9',\n",
      "                                                                      'protoroles': {'awareness': {'confidence': 0.1395,\n",
      "                                                                                                   'value': -0.0549},\n",
      "                                                                                     'change_of_location': {'confidence': 0.1395,\n",
      "                                                                                                            'value': -0.0549},\n",
      "                                                                                     'change_of_possession': {'confidence': 1.0,\n",
      "                                                                                                              'value': -0.3909},\n",
      "                                                                                     'change_of_state': {'confidence': 0.3333,\n",
      "                                                                                                         'value': -0.0085},\n",
      "                                                                                     'change_of_state_continuous': {'confidence': 0.0791,\n",
      "                                                                                                                    'value': -0.0351},\n",
      "                                                                                     'existed_after': {'confidence': 0.6567,\n",
      "                                                                                                       'value': 0.124},\n",
      "                                                                                     'existed_before': {'confidence': 1.0,\n",
      "                                                                                                        'value': 1.3954},\n",
      "                                                                                     'existed_during': {'confidence': 1.0,\n",
      "                                                                                                        'value': 1.3959},\n",
      "                                                                                     'instigation': {'confidence': 1.0,\n",
      "                                                                                                     'value': -1.5074},\n",
      "                                                                                     'partitive': {'confidence': 0.0791,\n",
      "                                                                                                   'value': -0.1354},\n",
      "                                                                                     'sentient': {'confidence': 1.0,\n",
      "                                                                                                  'value': -1.508},\n",
      "                                                                                     'volition': {'confidence': 1.0,\n",
      "                                                                                                  'value': -0.3909},\n",
      "                                                                                     'was_for_benefit': {'confidence': 0.3418,\n",
      "                                                                                                         'value': 0.0008},\n",
      "                                                                                     'was_used': {'confidence': 0.3333,\n",
      "                                                                                                  'value': -0.0085}},\n",
      "                                                                      'type': 'dependency'},\n",
      " ('ewt-train-12-semantics-pred-20', 'ewt-train-12-semantics-arg-23'): {'domain': 'semantics',\n",
      "                                                                       'frompredpatt': True,\n",
      "                                                                       'id': 'ewt-train-12-semantics-arg-23',\n",
      "                                                                       'type': 'dependency'},\n",
      " ('ewt-train-12-semantics-pred-7', 'ewt-train-12-semantics-arg-11'): {'domain': 'semantics',\n",
      "                                                                      'frompredpatt': True,\n",
      "                                                                      'id': 'ewt-train-12-semantics-arg-11',\n",
      "                                                                      'type': 'dependency'},\n",
      " ('ewt-train-12-semantics-pred-7', 'ewt-train-12-semantics-arg-3'): {'domain': 'semantics',\n",
      "                                                                     'frompredpatt': True,\n",
      "                                                                     'id': 'ewt-train-12-semantics-arg-3',\n",
      "                                                                     'protoroles': {'awareness': {'confidence': 1.0,\n",
      "                                                                                                  'value': 1.3526},\n",
      "                                                                                    'change_of_location': {'confidence': 0.272,\n",
      "                                                                                                           'value': -0.0922},\n",
      "                                                                                    'change_of_possession': {'confidence': 0.7724,\n",
      "                                                                                                             'value': -0.0},\n",
      "                                                                                    'change_of_state': {'confidence': 0.2067,\n",
      "                                                                                                        'value': -0.0548},\n",
      "                                                                                    'change_of_state_continuous': {'confidence': 1.0,\n",
      "                                                                                                                   'value': -0.0},\n",
      "                                                                                    'existed_after': {'confidence': 1.0,\n",
      "                                                                                                      'value': 1.3527},\n",
      "                                                                                    'existed_before': {'confidence': 1.0,\n",
      "                                                                                                       'value': 1.3527},\n",
      "                                                                                    'existed_during': {'confidence': 1.0,\n",
      "                                                                                                       'value': 1.3557},\n",
      "                                                                                    'instigation': {'confidence': 1.0,\n",
      "                                                                                                    'value': 1.3557},\n",
      "                                                                                    'partitive': {'confidence': 0.1148,\n",
      "                                                                                                  'value': -0.0018},\n",
      "                                                                                    'sentient': {'confidence': 1.0,\n",
      "                                                                                                 'value': 1.354},\n",
      "                                                                                    'volition': {'confidence': 1.0,\n",
      "                                                                                                 'value': 1.3545},\n",
      "                                                                                    'was_for_benefit': {'confidence': 0.1976,\n",
      "                                                                                                        'value': -0.0504},\n",
      "                                                                                    'was_used': {'confidence': 0.4373,\n",
      "                                                                                                 'value': -0.0207}},\n",
      "                                                                     'type': 'dependency'},\n",
      " ('ewt-train-12-semantics-pred-root', 'ewt-train-12-semantics-arg-0'): {'domain': 'semantics',\n",
      "                                                                        'frompredpatt': False,\n",
      "                                                                        'id': 'ewt-train-12-semantics-arg-0',\n",
      "                                                                        'type': 'dependency'},\n",
      " ('ewt-train-12-semantics-pred-root', 'ewt-train-12-semantics-arg-addressee'): {'domain': 'semantics',\n",
      "                                                                                'frompredpatt': False,\n",
      "                                                                                'id': 'ewt-train-12-semantics-arg-addressee',\n",
      "                                                                                'type': 'dependency'},\n",
      " ('ewt-train-12-semantics-pred-root', 'ewt-train-12-semantics-arg-author'): {'domain': 'semantics',\n",
      "                                                                             'frompredpatt': False,\n",
      "                                                                             'id': 'ewt-train-12-semantics-arg-author',\n",
      "                                                                             'type': 'dependency'}}\n"
     ]
    }
   ],
   "source": [
    "# Semantics edges\n",
    "pprint(uds[\"ewt-train-12\"].semantics_edges())"
   ]
  },
  {
   "cell_type": "code",
   "execution_count": 29,
   "id": "8d6c8942-1da5-4630-afe3-654e5f513a61",
   "metadata": {},
   "outputs": [
    {
     "name": "stdout",
     "output_type": "stream",
     "text": [
      "{'domain': 'semantics',\n",
      " 'frompredpatt': True,\n",
      " 'id': 'ewt-train-12-semantics-arg-3',\n",
      " 'protoroles': {'awareness': {'confidence': 1.0, 'value': 1.3526},\n",
      "                'change_of_location': {'confidence': 0.272, 'value': -0.0922},\n",
      "                'change_of_possession': {'confidence': 0.7724, 'value': -0.0},\n",
      "                'change_of_state': {'confidence': 0.2067, 'value': -0.0548},\n",
      "                'change_of_state_continuous': {'confidence': 1.0,\n",
      "                                               'value': -0.0},\n",
      "                'existed_after': {'confidence': 1.0, 'value': 1.3527},\n",
      "                'existed_before': {'confidence': 1.0, 'value': 1.3527},\n",
      "                'existed_during': {'confidence': 1.0, 'value': 1.3557},\n",
      "                'instigation': {'confidence': 1.0, 'value': 1.3557},\n",
      "                'partitive': {'confidence': 0.1148, 'value': -0.0018},\n",
      "                'sentient': {'confidence': 1.0, 'value': 1.354},\n",
      "                'volition': {'confidence': 1.0, 'value': 1.3545},\n",
      "                'was_for_benefit': {'confidence': 0.1976, 'value': -0.0504},\n",
      "                'was_used': {'confidence': 0.4373, 'value': -0.0207}},\n",
      " 'type': 'dependency'}\n"
     ]
    }
   ],
   "source": [
    "# relation between predicate \"announce\" and \"commander\":\n",
    "pprint(uds[\"ewt-train-12\"].semantics_edges()[('ewt-train-12-semantics-pred-7', 'ewt-train-12-semantics-arg-3')])\n",
    "# I like the \"sentient\" value! Commanders have to be sentient for sure... \n",
    "# and also \"volition\""
   ]
  },
  {
   "cell_type": "markdown",
   "id": "0d05e944-840b-41cf-a647-2d906a511ec3",
   "metadata": {},
   "source": [
    "## Extracting form, lemma information on nodes\n",
    "- Feels like there should be a better way, but oh well..."
   ]
  },
  {
   "cell_type": "code",
   "execution_count": 30,
   "id": "18643ff8-9591-4dba-9220-3aeca7bd83d3",
   "metadata": {},
   "outputs": [
    {
     "data": {
      "text/plain": [
       "(7, ['announced', 'announce'])"
      ]
     },
     "execution_count": 30,
     "metadata": {},
     "output_type": "execute_result"
    }
   ],
   "source": [
    "# 7th node is a predicate. \"announce\" it is\n",
    "uds[\"ewt-train-12\"].head('ewt-train-12-semantics-pred-7', ['form', 'lemma'])"
   ]
  },
  {
   "cell_type": "code",
   "execution_count": 31,
   "id": "1a3ce2c0-d44a-40a2-a0db-5a3558debbc4",
   "metadata": {},
   "outputs": [
    {
     "name": "stdout",
     "output_type": "stream",
     "text": [
      "(7, ['announced', 'announce'])\n",
      "(11, ['declined', 'decline'])\n",
      "(20, ['been', 'be'])\n",
      "(3, ['commander', 'commander'])\n",
      "(11, ['declined', 'decline'])\n",
      "(9, ['bombings', 'bombing'])\n",
      "(13, ['percent', 'percent'])\n",
      "(15, ['Mosul', 'Mosul'])\n",
      "(23, ['jump', 'jump'])\n"
     ]
    },
    {
     "ename": "ValueError",
     "evalue": "Performative nodes do not have heads",
     "output_type": "error",
     "traceback": [
      "\u001b[0;31m---------------------------------------------------------------------------\u001b[0m",
      "\u001b[0;31mValueError\u001b[0m                                Traceback (most recent call last)",
      "\u001b[0;32m<ipython-input-31-8d4c29438444>\u001b[0m in \u001b[0;36m<module>\u001b[0;34m\u001b[0m\n\u001b[1;32m      1\u001b[0m \u001b[0;31m# Trying to do that for all semantics nodes...\u001b[0m\u001b[0;34m\u001b[0m\u001b[0;34m\u001b[0m\u001b[0;34m\u001b[0m\u001b[0m\n\u001b[1;32m      2\u001b[0m \u001b[0;32mfor\u001b[0m \u001b[0mx\u001b[0m \u001b[0;32min\u001b[0m \u001b[0muds\u001b[0m\u001b[0;34m[\u001b[0m\u001b[0;34m\"ewt-train-12\"\u001b[0m\u001b[0;34m]\u001b[0m\u001b[0;34m.\u001b[0m\u001b[0msemantics_nodes\u001b[0m\u001b[0;34m.\u001b[0m\u001b[0mkeys\u001b[0m\u001b[0;34m(\u001b[0m\u001b[0;34m)\u001b[0m\u001b[0;34m:\u001b[0m\u001b[0;34m\u001b[0m\u001b[0;34m\u001b[0m\u001b[0m\n\u001b[0;32m----> 3\u001b[0;31m         \u001b[0mprint\u001b[0m\u001b[0;34m(\u001b[0m\u001b[0muds\u001b[0m\u001b[0;34m[\u001b[0m\u001b[0;34m\"ewt-train-12\"\u001b[0m\u001b[0;34m]\u001b[0m\u001b[0;34m.\u001b[0m\u001b[0mhead\u001b[0m\u001b[0;34m(\u001b[0m\u001b[0mx\u001b[0m\u001b[0;34m,\u001b[0m \u001b[0;34m[\u001b[0m\u001b[0;34m'form'\u001b[0m\u001b[0;34m,\u001b[0m \u001b[0;34m'lemma'\u001b[0m\u001b[0;34m]\u001b[0m\u001b[0;34m)\u001b[0m\u001b[0;34m)\u001b[0m\u001b[0;34m\u001b[0m\u001b[0;34m\u001b[0m\u001b[0m\n\u001b[0m\u001b[1;32m      4\u001b[0m \u001b[0;34m\u001b[0m\u001b[0m\n\u001b[1;32m      5\u001b[0m \u001b[0;31m# Uh-oh. \"Performative nodes...\" error\u001b[0m\u001b[0;34m\u001b[0m\u001b[0;34m\u001b[0m\u001b[0;34m\u001b[0m\u001b[0m\n",
      "\u001b[0;32m~/.local/lib/python3.8/site-packages/decomp/semantics/uds/graph.py\u001b[0m in \u001b[0;36mhead\u001b[0;34m(self, nodeid, attrs)\u001b[0m\n\u001b[1;32m    473\u001b[0m         \u001b[0;32mif\u001b[0m \u001b[0mis_performative\u001b[0m\u001b[0;34m:\u001b[0m\u001b[0;34m\u001b[0m\u001b[0;34m\u001b[0m\u001b[0m\n\u001b[1;32m    474\u001b[0m             \u001b[0merrmsg\u001b[0m \u001b[0;34m=\u001b[0m \u001b[0;34m'Performative nodes do not have heads'\u001b[0m\u001b[0;34m\u001b[0m\u001b[0;34m\u001b[0m\u001b[0m\n\u001b[0;32m--> 475\u001b[0;31m             \u001b[0;32mraise\u001b[0m \u001b[0mValueError\u001b[0m\u001b[0;34m(\u001b[0m\u001b[0merrmsg\u001b[0m\u001b[0;34m)\u001b[0m\u001b[0;34m\u001b[0m\u001b[0;34m\u001b[0m\u001b[0m\n\u001b[0m\u001b[1;32m    476\u001b[0m \u001b[0;34m\u001b[0m\u001b[0m\n\u001b[1;32m    477\u001b[0m         return [(self.graph.nodes[e[1]]['position'],\n",
      "\u001b[0;31mValueError\u001b[0m: Performative nodes do not have heads"
     ]
    }
   ],
   "source": [
    "# Trying to do that for all semantics nodes...\n",
    "for x in uds[\"ewt-train-12\"].semantics_nodes.keys(): \n",
    "        print(uds[\"ewt-train-12\"].head(x, ['form', 'lemma']))\n",
    "        \n",
    "# Uh-oh. \"Performative nodes...\" error"
   ]
  },
  {
   "cell_type": "code",
   "execution_count": 32,
   "id": "449f2d64-4038-4760-aaa0-694991740179",
   "metadata": {},
   "outputs": [
    {
     "name": "stdout",
     "output_type": "stream",
     "text": [
      "ewt-train-12-semantics-pred-7 True\n",
      "ewt-train-12-semantics-pred-11 True\n",
      "ewt-train-12-semantics-pred-20 True\n",
      "ewt-train-12-semantics-arg-3 True\n",
      "ewt-train-12-semantics-arg-11 True\n",
      "ewt-train-12-semantics-arg-9 True\n",
      "ewt-train-12-semantics-arg-13 True\n",
      "ewt-train-12-semantics-arg-15 True\n",
      "ewt-train-12-semantics-arg-23 True\n",
      "ewt-train-12-semantics-pred-root False\n",
      "ewt-train-12-semantics-arg-0 False\n",
      "ewt-train-12-semantics-arg-author False\n",
      "ewt-train-12-semantics-arg-addressee False\n"
     ]
    }
   ],
   "source": [
    "# Which semantics nodes are performative? can get the info from \"frompredpatt\" values\n",
    "for x in  uds[\"ewt-train-12\"].semantics_nodes.keys():\n",
    "    print(x, uds[\"ewt-train-12\"].semantics_nodes[x]['frompredpatt'])"
   ]
  },
  {
   "cell_type": "code",
   "execution_count": 33,
   "id": "69680b76-b80a-43eb-9112-8d902364b0c1",
   "metadata": {},
   "outputs": [
    {
     "name": "stdout",
     "output_type": "stream",
     "text": [
      "ewt-train-12-semantics-pred-7\n",
      "(7, ['announced', 'announce'])\n",
      "ewt-train-12-semantics-pred-11\n",
      "(11, ['declined', 'decline'])\n",
      "ewt-train-12-semantics-pred-20\n",
      "(20, ['been', 'be'])\n",
      "ewt-train-12-semantics-arg-3\n",
      "(3, ['commander', 'commander'])\n",
      "ewt-train-12-semantics-arg-11\n",
      "(11, ['declined', 'decline'])\n",
      "ewt-train-12-semantics-arg-9\n",
      "(9, ['bombings', 'bombing'])\n",
      "ewt-train-12-semantics-arg-13\n",
      "(13, ['percent', 'percent'])\n",
      "ewt-train-12-semantics-arg-15\n",
      "(15, ['Mosul', 'Mosul'])\n",
      "ewt-train-12-semantics-arg-23\n",
      "(23, ['jump', 'jump'])\n",
      "ewt-train-12-semantics-pred-root\n",
      "ewt-train-12-semantics-arg-0\n",
      "ewt-train-12-semantics-arg-author\n",
      "ewt-train-12-semantics-arg-addressee\n"
     ]
    }
   ],
   "source": [
    "# So, use that as test. Success! \n",
    "for x in uds[\"ewt-train-12\"].semantics_nodes.keys():\n",
    "    print(x)\n",
    "    if uds[\"ewt-train-12\"].semantics_nodes[x]['frompredpatt']: \n",
    "        print(uds[\"ewt-train-12\"].head(x, ['form', 'lemma']))"
   ]
  },
  {
   "cell_type": "code",
   "execution_count": 34,
   "id": "6705e936-b21b-4224-b453-72c4dc583891",
   "metadata": {},
   "outputs": [
    {
     "ename": "ValueError",
     "evalue": "Performative nodes do not have heads",
     "output_type": "error",
     "traceback": [
      "\u001b[0;31m---------------------------------------------------------------------------\u001b[0m",
      "\u001b[0;31mValueError\u001b[0m                                Traceback (most recent call last)",
      "\u001b[0;32m<ipython-input-34-5b12c5615240>\u001b[0m in \u001b[0;36m<module>\u001b[0;34m\u001b[0m\n\u001b[1;32m      1\u001b[0m \u001b[0;31m# Predicate nodes this time\u001b[0m\u001b[0;34m\u001b[0m\u001b[0;34m\u001b[0m\u001b[0;34m\u001b[0m\u001b[0m\n\u001b[1;32m      2\u001b[0m \u001b[0;32mfor\u001b[0m \u001b[0mpred\u001b[0m \u001b[0;32min\u001b[0m \u001b[0muds\u001b[0m\u001b[0;34m[\u001b[0m\u001b[0;34m\"ewt-train-12\"\u001b[0m\u001b[0;34m]\u001b[0m\u001b[0;34m.\u001b[0m\u001b[0mpredicate_nodes\u001b[0m\u001b[0;34m.\u001b[0m\u001b[0mkeys\u001b[0m\u001b[0;34m(\u001b[0m\u001b[0;34m)\u001b[0m\u001b[0;34m:\u001b[0m\u001b[0;34m\u001b[0m\u001b[0;34m\u001b[0m\u001b[0m\n\u001b[0;32m----> 3\u001b[0;31m     \u001b[0muds\u001b[0m\u001b[0;34m[\u001b[0m\u001b[0;34m\"ewt-train-12\"\u001b[0m\u001b[0;34m]\u001b[0m\u001b[0;34m.\u001b[0m\u001b[0mhead\u001b[0m\u001b[0;34m(\u001b[0m\u001b[0mpred\u001b[0m\u001b[0;34m,\u001b[0m \u001b[0;34m[\u001b[0m\u001b[0;34m'form'\u001b[0m\u001b[0;34m,\u001b[0m \u001b[0;34m'lemma'\u001b[0m\u001b[0;34m]\u001b[0m\u001b[0;34m)\u001b[0m\u001b[0;34m\u001b[0m\u001b[0;34m\u001b[0m\u001b[0m\n\u001b[0m\u001b[1;32m      4\u001b[0m \u001b[0;31m# again, \"performative nodes\" give an error, must exclude\u001b[0m\u001b[0;34m\u001b[0m\u001b[0;34m\u001b[0m\u001b[0;34m\u001b[0m\u001b[0m\n",
      "\u001b[0;32m~/.local/lib/python3.8/site-packages/decomp/semantics/uds/graph.py\u001b[0m in \u001b[0;36mhead\u001b[0;34m(self, nodeid, attrs)\u001b[0m\n\u001b[1;32m    473\u001b[0m         \u001b[0;32mif\u001b[0m \u001b[0mis_performative\u001b[0m\u001b[0;34m:\u001b[0m\u001b[0;34m\u001b[0m\u001b[0;34m\u001b[0m\u001b[0m\n\u001b[1;32m    474\u001b[0m             \u001b[0merrmsg\u001b[0m \u001b[0;34m=\u001b[0m \u001b[0;34m'Performative nodes do not have heads'\u001b[0m\u001b[0;34m\u001b[0m\u001b[0;34m\u001b[0m\u001b[0m\n\u001b[0;32m--> 475\u001b[0;31m             \u001b[0;32mraise\u001b[0m \u001b[0mValueError\u001b[0m\u001b[0;34m(\u001b[0m\u001b[0merrmsg\u001b[0m\u001b[0;34m)\u001b[0m\u001b[0;34m\u001b[0m\u001b[0;34m\u001b[0m\u001b[0m\n\u001b[0m\u001b[1;32m    476\u001b[0m \u001b[0;34m\u001b[0m\u001b[0m\n\u001b[1;32m    477\u001b[0m         return [(self.graph.nodes[e[1]]['position'],\n",
      "\u001b[0;31mValueError\u001b[0m: Performative nodes do not have heads"
     ]
    }
   ],
   "source": [
    "# Predicate nodes this time\n",
    "for pred in uds[\"ewt-train-12\"].predicate_nodes.keys():\n",
    "    uds[\"ewt-train-12\"].head(pred, ['form', 'lemma'])\n",
    "# again, \"performative nodes\" give an error, must exclude"
   ]
  },
  {
   "cell_type": "code",
   "execution_count": 35,
   "id": "1d4f0cd7-9153-43f7-bc1a-ff200119f03b",
   "metadata": {},
   "outputs": [
    {
     "name": "stdout",
     "output_type": "stream",
     "text": [
      "ewt-train-12-semantics-pred-7\n",
      "(7, ['announced', 'announce'])\n",
      "ewt-train-12-semantics-pred-11\n",
      "(11, ['declined', 'decline'])\n",
      "ewt-train-12-semantics-pred-20\n",
      "(20, ['been', 'be'])\n",
      "ewt-train-12-semantics-pred-root\n"
     ]
    }
   ],
   "source": [
    "for pred in uds[\"ewt-train-12\"].predicate_nodes.keys():\n",
    "    print(pred)\n",
    "    if uds[\"ewt-train-12\"].predicate_nodes[pred]['frompredpatt']: # this value is TRUE for non-performative nodes\n",
    "        print(uds[\"ewt-train-12\"].head(pred, ['form', 'lemma']))\n",
    "# so, the last one \"-pred-root\" node is a \"performative\" node"
   ]
  },
  {
   "cell_type": "markdown",
   "id": "06a2caea-129b-4d71-982b-3ee37b7a8ff4",
   "metadata": {},
   "source": [
    "## The whole of UDS!! How to find sentences we want?"
   ]
  },
  {
   "cell_type": "code",
   "execution_count": 36,
   "id": "c21bc610-d97f-456a-9f9d-50ccb5b0268d",
   "metadata": {},
   "outputs": [
    {
     "data": {
      "text/plain": [
       "['ANN_DIR', 'CACHE_DIR', 'UD_URL', '__abstractmethods__', '__class__', '__contains__', '__delattr__', '__dict__', '__dir__', '__doc__', '__eq__', '__format__', '__ge__', '__getattribute__', '__getitem__', '__gt__', '__hash__', '__init__', '__init_subclass__', '__iter__', '__le__', '__len__', '__lt__', '__module__', '__ne__', '__new__', '__reduce__', '__reduce_ex__', '__repr__', '__setattr__', '__sizeof__', '__str__', '__subclasshook__', '__weakref__', '_abc_impl', '_build_graphs', '_check_build_status', '_document_annotation_paths', '_documents', '_documents_annotation_dir', '_documents_paths', '_graphbuilder', '_graphs', '_initialize_documents', '_initialize_paths', '_load_split', '_load_ud_ids', '_metadata', '_process_conll', '_sentence_annotation_paths', '_sentences', '_sentences_annotation_dir', '_sentences_paths', '_validate_arguments', 'add_annotation', 'add_corpus_metadata', 'add_document_annotation', 'add_sentence_annotation', 'annotation_format', 'document_edge_subspaces', 'document_node_subspaces', 'document_properties', 'document_property_metadata', 'document_subspaces', 'documentids', 'documents', 'from_conll', 'from_json', 'graphids', 'graphs', 'items', 'metadata', 'ndocuments', 'ngraphs', 'query', 'sample', 'sample_documents', 'sentence_edge_subspaces', 'sentence_node_subspaces', 'sentence_properties', 'sentence_property_metadata', 'sentence_subspaces', 'to_json', 'version']"
      ]
     },
     "execution_count": 36,
     "metadata": {},
     "output_type": "execute_result"
    }
   ],
   "source": [
    "dir(uds)"
   ]
  },
  {
   "cell_type": "code",
   "execution_count": 37,
   "id": "b519cd05-6def-4319-860c-ccc6f6c7ac7a",
   "metadata": {},
   "outputs": [
    {
     "data": {
      "text/plain": [
       "['ewt-train-1', 'ewt-train-2', 'ewt-train-3', 'ewt-train-4', 'ewt-train-5', 'ewt-train-6', 'ewt-train-7', 'ewt-train-8', 'ewt-train-9', 'ewt-train-10']"
      ]
     },
     "execution_count": 37,
     "metadata": {},
     "output_type": "execute_result"
    }
   ],
   "source": [
    "list(uds._sentences.keys())[:10]"
   ]
  },
  {
   "cell_type": "code",
   "execution_count": 38,
   "id": "54ae9059-3169-4415-9ff8-45a1f58a0d16",
   "metadata": {},
   "outputs": [],
   "source": [
    "# for x in uds:\n",
    "    # print(x)\n",
    "# prints ewt-train-1, ewt-train-2, etc. "
   ]
  },
  {
   "cell_type": "code",
   "execution_count": 39,
   "id": "6c6b15bf-cba8-4a3a-aed1-37ea13fa2dd6",
   "metadata": {},
   "outputs": [
    {
     "name": "stdout",
     "output_type": "stream",
     "text": [
      "ewt-train-1563 The public information mostly relates to those suspected sleepers who have been detained or who are at large and are being sought .\n",
      "ewt-train-3305 Hope you 've been storing up sleep , cause it looks like you wo n't be getting much for a while .\n",
      "ewt-train-7316 Take the mouse to an emergency vet and have them use CO2 to put the mouse to sleep .\n",
      "ewt-train-7481 I 'm getting a dwarf Hamster tomorrow And i was just talking to my Mom and she said that we have to take out the wheel at night because it would disturb her sleep But i told her no because i said thei r energetic at night at my room is right next door to hers But i heard their are wheels that do nt make noise at all what would be the price of it ?\n",
      "ewt-train-7553 Get a back pack and sleeping bag or good warm blanket .\n",
      "ewt-train-7874 I have to say that the baby does not scream after her of anything ... he / she sleeps .\n",
      "ewt-train-7906 Why , how can i build up realtion ship with him he is also not useing the thing that he runs on and he wakes up walks around and goes to sleep again ???\n",
      "ewt-train-7969 I knew a cat that died in its sleep aged 21 .\n",
      "ewt-train-7977 Eating by his cage and keeping a \" sleep cage \" in your room is a good idea .\n",
      "ewt-train-7978 Birds eat and sleep with their flock , not predators .\n",
      "ewt-train-8786 Guinea pigs ( also called cavies ) are gentle creatures and are awake during the day and sleep at night .\n",
      "ewt-train-8815 Get plenty of sleep and make sure you take time out to do some things you enjoy .\n",
      "ewt-train-8949 the room you sleep in is best ( seeing you so relaxed that you are sleeping will send the message that everything is OK ) , but others will work just as well .\n",
      "ewt-train-8958 extend the time he is out each day , but for the first month , always put him in his room at night , so he feels safe to sleep .\n",
      "ewt-train-9283 she will be able to sleep without being afraid .\n",
      "ewt-train-9633 There are so many things to do that you will only use your room for sleeping and the extra cost of the balcony is wasted .\n",
      "ewt-train-11553 My grandfather passed away silently in his sleep , and my grandmother passed away after a short struggle with cancer .\n",
      "ewt-train-11878 Do not go there if you expect to sleep through the night .\n",
      "ewt-train-12051 I chose the later , but approached the front desk about the hotel policy to push over their responsibilities on local authorities , not to mention the good night s sleep i paid for but did nt get .\n",
      "ewt-dev-1415 Well last night while I was sleeping , my hamster escaped from his cage .\n",
      "ewt-dev-1455 Best place to sleep !!!!!!!\n",
      "ewt-test-345 i was just going to sleep anyway .\n",
      "ewt-test-1319 many PCs have sleep & charge now , that allow the PC to go into sleep mode , and still allow the USB ports to charge things like phones .\n"
     ]
    }
   ],
   "source": [
    "# all sentences with \"sleep\". Many are nouns though\n",
    "for x in uds:\n",
    "    sent_text = uds[x].sentence\n",
    "    if 'sleep' in sent_text:    # based on text substring\n",
    "        print(x, sent_text)"
   ]
  },
  {
   "cell_type": "code",
   "execution_count": 40,
   "id": "dff53ea4-0ede-4494-837d-a9c35340d93f",
   "metadata": {},
   "outputs": [
    {
     "name": "stdout",
     "output_type": "stream",
     "text": [
      "ewt-train-6742 At night , however , he slept alone , and the avenger might find him .\n",
      "ewt-train-7874 I have to say that the baby does not scream after her of anything ... he / she sleeps .\n",
      "ewt-train-7906 Why , how can i build up realtion ship with him he is also not useing the thing that he runs on and he wakes up walks around and goes to sleep again ???\n",
      "ewt-train-7978 Birds eat and sleep with their flock , not predators .\n",
      "ewt-train-8786 Guinea pigs ( also called cavies ) are gentle creatures and are awake during the day and sleep at night .\n",
      "ewt-train-8949 the room you sleep in is best ( seeing you so relaxed that you are sleeping will send the message that everything is OK ) , but others will work just as well .\n",
      "ewt-train-8958 extend the time he is out each day , but for the first month , always put him in his room at night , so he feels safe to sleep .\n",
      "ewt-train-9283 she will be able to sleep without being afraid .\n",
      "ewt-train-11220 i mean a 2 day stay was a ok stay even tho the manager looked like he was chineze and that we only slept and went out from 8 to 7 to see New York .\n",
      "ewt-train-11221 but sice we almost just slept there i ca nt give that good of a review\n",
      "ewt-train-11878 Do not go there if you expect to sleep through the night .\n",
      "ewt-dev-1415 Well last night while I was sleeping , my hamster escaped from his cage .\n",
      "ewt-dev-1455 Best place to sleep !!!!!!!\n",
      "ewt-test-345 i was just going to sleep anyway .\n"
     ]
    }
   ],
   "source": [
    "# based on lemma + POS! now we get \"slept\", also only verbs\n",
    "sleep_sents = []\n",
    "for x in uds:\n",
    "    sent_text = uds[x].sentence\n",
    "    sent_lem = [(v['lemma'], v['upos']) for (n,v) in uds[x].syntax_nodes.items()]\n",
    "    sent_lem_set = set(sent_lem)\n",
    "    if ('sleep', 'VERB') in sent_lem_set:\n",
    "        print(x, sent_text)\n",
    "        sleep_sents.append(x)"
   ]
  },
  {
   "cell_type": "code",
   "execution_count": 41,
   "id": "882fea67-563d-4d27-958a-cf4f7b1a3249",
   "metadata": {},
   "outputs": [
    {
     "data": {
      "text/plain": [
       "['ewt-train-6742', 'ewt-train-7874', 'ewt-train-7906', 'ewt-train-7978', 'ewt-train-8786', 'ewt-train-8949', 'ewt-train-8958', 'ewt-train-9283', 'ewt-train-11220', 'ewt-train-11221', 'ewt-train-11878', 'ewt-dev-1415', 'ewt-dev-1455', 'ewt-test-345']"
      ]
     },
     "execution_count": 41,
     "metadata": {},
     "output_type": "execute_result"
    }
   ],
   "source": [
    "sleep_sents"
   ]
  },
  {
   "cell_type": "code",
   "execution_count": 44,
   "id": "4e483313-0f73-43db-80c5-9e98908a44fb",
   "metadata": {},
   "outputs": [
    {
     "name": "stdout",
     "output_type": "stream",
     "text": [
      "\n",
      "ewt-train-6742-syntax-1\tAt\tat\tIN\tADP\n",
      "ewt-train-6742-syntax-2\tnight\tnight\tNN\tNOUN\n",
      "ewt-train-6742-syntax-3\t,\t,\t,\tPUNCT\n",
      "ewt-train-6742-syntax-4\thowever\thowever\tRB\tADV\n",
      "ewt-train-6742-syntax-5\t,\t,\t,\tPUNCT\n",
      "ewt-train-6742-syntax-6\the\the\tPRP\tPRON\n",
      "ewt-train-6742-syntax-7\tslept\tsleep\tVBD\tVERB\n",
      "ewt-train-6742-syntax-8\talone\talone\tRB\tADV\n",
      "ewt-train-6742-syntax-9\t,\t,\t,\tPUNCT\n",
      "ewt-train-6742-syntax-10\tand\tand\tCC\tCONJ\n",
      "ewt-train-6742-syntax-11\tthe\tthe\tDT\tDET\n",
      "ewt-train-6742-syntax-12\tavenger\tavenger\tNN\tNOUN\n",
      "ewt-train-6742-syntax-13\tmight\tmight\tMD\tAUX\n",
      "ewt-train-6742-syntax-14\tfind\tfind\tVB\tVERB\n",
      "ewt-train-6742-syntax-15\thim\the\tPRP\tPRON\n",
      "ewt-train-6742-syntax-16\t.\t.\t.\tPUNCT\n",
      "\n",
      "ewt-train-7874-syntax-1\tI\tI\tPRP\tPRON\n",
      "ewt-train-7874-syntax-2\thave\thave\tVBP\tVERB\n",
      "ewt-train-7874-syntax-3\tto\tto\tTO\tPART\n",
      "ewt-train-7874-syntax-4\tsay\tsay\tVB\tVERB\n",
      "ewt-train-7874-syntax-5\tthat\tthat\tIN\tSCONJ\n",
      "ewt-train-7874-syntax-6\tthe\tthe\tDT\tDET\n",
      "ewt-train-7874-syntax-7\tbaby\tbaby\tNN\tNOUN\n",
      "ewt-train-7874-syntax-8\tdoes\tdo\tVBZ\tAUX\n",
      "ewt-train-7874-syntax-9\tnot\tnot\tRB\tPART\n",
      "ewt-train-7874-syntax-10\tscream\tscream\tVB\tVERB\n",
      "ewt-train-7874-syntax-11\tafter\tafter\tIN\tADP\n",
      "ewt-train-7874-syntax-12\ther\tshe\tPRP\tPRON\n",
      "ewt-train-7874-syntax-13\tof\tof\tCC\tCONJ\n",
      "ewt-train-7874-syntax-14\tanything\tanything\tNN\tNOUN\n",
      "ewt-train-7874-syntax-15\t...\t...\t,\tPUNCT\n",
      "ewt-train-7874-syntax-16\the\the\tPRP\tPRON\n",
      "ewt-train-7874-syntax-17\t/\t/\t,\tPUNCT\n",
      "ewt-train-7874-syntax-18\tshe\tshe\tPRP\tPRON\n",
      "ewt-train-7874-syntax-19\tsleeps\tsleep\tVBZ\tVERB\n",
      "ewt-train-7874-syntax-20\t.\t.\t.\tPUNCT\n",
      "\n",
      "ewt-train-7906-syntax-1\tWhy\twhy\tWRB\tADV\n",
      "ewt-train-7906-syntax-2\t,\t,\t,\tPUNCT\n",
      "ewt-train-7906-syntax-3\thow\thow\tWRB\tADV\n",
      "ewt-train-7906-syntax-4\tcan\tcan\tMD\tAUX\n",
      "ewt-train-7906-syntax-5\ti\ti\tPRP\tPRON\n",
      "ewt-train-7906-syntax-6\tbuild\tbuild\tVB\tVERB\n",
      "ewt-train-7906-syntax-7\tup\tup\tRP\tADP\n",
      "ewt-train-7906-syntax-8\trealtion\trealtion\tGW\tX\n",
      "ewt-train-7906-syntax-9\tship\tship\tNN\tNOUN\n",
      "ewt-train-7906-syntax-10\twith\twith\tIN\tADP\n",
      "ewt-train-7906-syntax-11\thim\the\tPRP\tPRON\n",
      "ewt-train-7906-syntax-12\the\the\tPRP\tPRON\n",
      "ewt-train-7906-syntax-13\tis\tbe\tVBZ\tAUX\n",
      "ewt-train-7906-syntax-14\talso\talso\tRB\tADV\n",
      "ewt-train-7906-syntax-15\tnot\tnot\tRB\tPART\n",
      "ewt-train-7906-syntax-16\tuseing\tusee\tVBG\tVERB\n",
      "ewt-train-7906-syntax-17\tthe\tthe\tDT\tDET\n",
      "ewt-train-7906-syntax-18\tthing\tthing\tNN\tNOUN\n",
      "ewt-train-7906-syntax-19\tthat\tthat\tWDT\tDET\n",
      "ewt-train-7906-syntax-20\the\the\tPRP\tPRON\n",
      "ewt-train-7906-syntax-21\truns\trun\tVBZ\tVERB\n",
      "ewt-train-7906-syntax-22\ton\ton\tIN\tADP\n",
      "ewt-train-7906-syntax-23\tand\tand\tCC\tCONJ\n",
      "ewt-train-7906-syntax-24\the\the\tPRP\tPRON\n",
      "ewt-train-7906-syntax-25\twakes\twake\tVBZ\tVERB\n",
      "ewt-train-7906-syntax-26\tup\tup\tRP\tADP\n",
      "ewt-train-7906-syntax-27\twalks\twalk\tVBZ\tVERB\n",
      "ewt-train-7906-syntax-28\taround\taround\tRB\tADV\n",
      "ewt-train-7906-syntax-29\tand\tand\tCC\tCONJ\n",
      "ewt-train-7906-syntax-30\tgoes\tgo\tVBZ\tVERB\n",
      "ewt-train-7906-syntax-31\tto\tto\tTO\tPART\n",
      "ewt-train-7906-syntax-32\tsleep\tsleep\tVB\tVERB\n",
      "ewt-train-7906-syntax-33\tagain\tagain\tRB\tADV\n",
      "ewt-train-7906-syntax-34\t???\t???\t.\tPUNCT\n",
      "\n",
      "ewt-train-7978-syntax-1\tBirds\tbird\tNNS\tNOUN\n",
      "ewt-train-7978-syntax-2\teat\teat\tVBP\tVERB\n",
      "ewt-train-7978-syntax-3\tand\tand\tCC\tCONJ\n",
      "ewt-train-7978-syntax-4\tsleep\tsleep\tVBP\tVERB\n",
      "ewt-train-7978-syntax-5\twith\twith\tIN\tADP\n",
      "ewt-train-7978-syntax-6\ttheir\tthey\tPRP$\tPRON\n",
      "ewt-train-7978-syntax-7\tflock\tflock\tNN\tNOUN\n",
      "ewt-train-7978-syntax-8\t,\t,\t,\tPUNCT\n",
      "ewt-train-7978-syntax-9\tnot\tnot\tRB\tADV\n",
      "ewt-train-7978-syntax-10\tpredators\tpredator\tNNS\tNOUN\n",
      "ewt-train-7978-syntax-11\t.\t.\t.\tPUNCT\n",
      "\n",
      "ewt-train-8786-syntax-1\tGuinea\tguinea\tNN\tNOUN\n",
      "ewt-train-8786-syntax-2\tpigs\tpig\tNNS\tNOUN\n",
      "ewt-train-8786-syntax-3\t(\t(\t-LRB-\tPUNCT\n",
      "ewt-train-8786-syntax-4\talso\talso\tRB\tADV\n",
      "ewt-train-8786-syntax-5\tcalled\tcall\tVBN\tVERB\n",
      "ewt-train-8786-syntax-6\tcavies\tcavy\tNNS\tNOUN\n",
      "ewt-train-8786-syntax-7\t)\t)\t-RRB-\tPUNCT\n",
      "ewt-train-8786-syntax-8\tare\tbe\tVBP\tVERB\n",
      "ewt-train-8786-syntax-9\tgentle\tgentle\tJJ\tADJ\n",
      "ewt-train-8786-syntax-10\tcreatures\tcreature\tNNS\tNOUN\n",
      "ewt-train-8786-syntax-11\tand\tand\tCC\tCONJ\n",
      "ewt-train-8786-syntax-12\tare\tbe\tVBP\tVERB\n",
      "ewt-train-8786-syntax-13\tawake\tawake\tJJ\tADJ\n",
      "ewt-train-8786-syntax-14\tduring\tduring\tIN\tADP\n",
      "ewt-train-8786-syntax-15\tthe\tthe\tDT\tDET\n",
      "ewt-train-8786-syntax-16\tday\tday\tNN\tNOUN\n",
      "ewt-train-8786-syntax-17\tand\tand\tCC\tCONJ\n",
      "ewt-train-8786-syntax-18\tsleep\tsleep\tVBP\tVERB\n",
      "ewt-train-8786-syntax-19\tat\tat\tIN\tADP\n",
      "ewt-train-8786-syntax-20\tnight\tnight\tNN\tNOUN\n",
      "ewt-train-8786-syntax-21\t.\t.\t.\tPUNCT\n"
     ]
    }
   ],
   "source": [
    "for s in sleep_sents[:5]:      # We'll do first 5\n",
    "    print()\n",
    "    for (n, v) in uds[s].syntax_nodes.items():\n",
    "        print(n, v['form'], v['lemma'], v['xpos'], v['upos'], sep=\"\\t\")"
   ]
  },
  {
   "cell_type": "markdown",
   "id": "aacf3695-84b9-4935-af90-f0f4f3ebb374",
   "metadata": {},
   "source": [
    "### Looking good, but still tons to do:\n",
    "#### Which node is for the verb \"sleep\"\n",
    "#### Which ARG(s) go with the predicate\n",
    "#### Extract interesting semantic information on the pairs"
   ]
  },
  {
   "cell_type": "markdown",
   "id": "a0a07088-fc42-416a-b20e-bbc5118060c5",
   "metadata": {},
   "source": [
    "# Visualization... NOPE"
   ]
  },
  {
   "cell_type": "code",
   "execution_count": null,
   "id": "89e8b63b-c01b-4e0d-88f0-036c775ffe00",
   "metadata": {},
   "outputs": [],
   "source": [
    "from decomp.vis.uds_vis import UDSVisualization"
   ]
  },
  {
   "cell_type": "code",
   "execution_count": null,
   "id": "58822185-14a7-4bba-86ad-5f8de74c820d",
   "metadata": {},
   "outputs": [],
   "source": [
    "graph = uds[\"ewt-dev-1\"]\n",
    "vis = UDSVisualization(graph)\n",
    "vis.serve()"
   ]
  },
  {
   "cell_type": "code",
   "execution_count": null,
   "id": "b54531e2-8aae-4331-b34f-a9756d1db632",
   "metadata": {},
   "outputs": [],
   "source": [
    "import pyparsing"
   ]
  },
  {
   "cell_type": "code",
   "execution_count": null,
   "id": "8870b478-d4cf-499a-9199-6370dcc120b2",
   "metadata": {},
   "outputs": [],
   "source": [
    "pyparsing.__version__"
   ]
  },
  {
   "cell_type": "code",
   "execution_count": null,
   "id": "c51fa1df-66f5-4e8b-9d30-0db99407f686",
   "metadata": {},
   "outputs": [],
   "source": []
  }
 ],
 "metadata": {
  "kernelspec": {
   "display_name": "Python 3",
   "language": "python",
   "name": "python3"
  },
  "language_info": {
   "codemirror_mode": {
    "name": "ipython",
    "version": 3
   },
   "file_extension": ".py",
   "mimetype": "text/x-python",
   "name": "python",
   "nbconvert_exporter": "python",
   "pygments_lexer": "ipython3",
   "version": "3.8.8"
  }
 },
 "nbformat": 4,
 "nbformat_minor": 5
}
