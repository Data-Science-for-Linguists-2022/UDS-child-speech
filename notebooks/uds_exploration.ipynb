{
 "cells": [
  {
   "cell_type": "markdown",
   "id": "acdf5e55",
   "metadata": {},
   "source": [
    "# Initial exploration of UDS dataset\n",
    "\n",
    "## Caroline Gish | cng18@pitt.edu | for 2022-02-24\n",
    "\n",
    "### nbviewer: <https://nbviewer.org/github/Data-Science-for-Linguists-2022/UDS-child-speech/blob/main/notebooks/uds_exploration.ipynb>\n",
    "\n",
    "---\n",
    "\n",
    "**Source:** https://decomp.readthedocs.io/en/latest/index.html\n",
    "\n",
    "Initial exploration will involve working through the sections listed on the main Decomp read the docs page.\n",
    "\n",
    "- reference paper: https://aclanthology.org/2020.lrec-1.699.pdf\n",
    "- Decomp website: http://decomp.io/\n",
    "- documentation: https://decomp.readthedocs.io/en/latest/index.html\n",
    "- datasets and toolkit: https://github.com/decompositional-semantics-initiative/decomp"
   ]
  },
  {
   "cell_type": "markdown",
   "id": "9a0fff17",
   "metadata": {},
   "source": [
    "## Installation \n",
    "\n",
    "https://decomp.readthedocs.io/en/latest/install.html\n",
    "\n",
    "First installation option listed - tried to got it to work for a while as it is the recommended option, but I ultimately couldn't end up getting it to work and the operation timed out on my machine. \n",
    "\n",
    "Ended up installing locally using `pip`:\n",
    "- `pip install git+git://github.com/decompositional-semantics-initiative/decomp.git`"
   ]
  },
  {
   "cell_type": "markdown",
   "id": "1cb6add3",
   "metadata": {},
   "source": [
    "## Quick Start\n",
    "\n",
    "https://decomp.readthedocs.io/en/latest/tutorial/quick-start.html"
   ]
  },
  {
   "cell_type": "code",
   "execution_count": 1,
   "id": "15667cde",
   "metadata": {},
   "outputs": [
    {
     "ename": "AttributeError",
     "evalue": "can't set attribute",
     "output_type": "error",
     "traceback": [
      "\u001b[0;31m---------------------------------------------------------------------------\u001b[0m",
      "\u001b[0;31mAttributeError\u001b[0m                            Traceback (most recent call last)",
      "\u001b[0;32m/var/folders/wr/mkh_241s1697wrk7b4kxvm4r0000gn/T/ipykernel_38770/1048556902.py\u001b[0m in \u001b[0;36m<module>\u001b[0;34m\u001b[0m\n\u001b[1;32m      1\u001b[0m \u001b[0;31m# importing dataset\u001b[0m\u001b[0;34m\u001b[0m\u001b[0;34m\u001b[0m\u001b[0m\n\u001b[1;32m      2\u001b[0m \u001b[0;34m\u001b[0m\u001b[0m\n\u001b[0;32m----> 3\u001b[0;31m \u001b[0;32mfrom\u001b[0m \u001b[0mdecomp\u001b[0m \u001b[0;32mimport\u001b[0m \u001b[0mUDSCorpus\u001b[0m\u001b[0;34m\u001b[0m\u001b[0;34m\u001b[0m\u001b[0m\n\u001b[0m",
      "\u001b[0;32m~/opt/anaconda3/lib/python3.9/site-packages/decomp/__init__.py\u001b[0m in \u001b[0;36m<module>\u001b[0;34m\u001b[0m\n\u001b[1;32m      9\u001b[0m             level=DEBUG)\n\u001b[1;32m     10\u001b[0m \u001b[0;34m\u001b[0m\u001b[0m\n\u001b[0;32m---> 11\u001b[0;31m \u001b[0;32mfrom\u001b[0m \u001b[0;34m.\u001b[0m\u001b[0msemantics\u001b[0m\u001b[0;34m.\u001b[0m\u001b[0muds\u001b[0m \u001b[0;32mimport\u001b[0m \u001b[0mUDSCorpus\u001b[0m\u001b[0;34m\u001b[0m\u001b[0;34m\u001b[0m\u001b[0m\n\u001b[0m\u001b[1;32m     12\u001b[0m \u001b[0;32mfrom\u001b[0m \u001b[0;34m.\u001b[0m\u001b[0msemantics\u001b[0m\u001b[0;34m.\u001b[0m\u001b[0muds\u001b[0m \u001b[0;32mimport\u001b[0m \u001b[0mNormalizedUDSAnnotation\u001b[0m\u001b[0;34m\u001b[0m\u001b[0;34m\u001b[0m\u001b[0m\n\u001b[1;32m     13\u001b[0m \u001b[0;32mfrom\u001b[0m \u001b[0;34m.\u001b[0m\u001b[0msemantics\u001b[0m\u001b[0;34m.\u001b[0m\u001b[0muds\u001b[0m \u001b[0;32mimport\u001b[0m \u001b[0mRawUDSAnnotation\u001b[0m\u001b[0;34m\u001b[0m\u001b[0;34m\u001b[0m\u001b[0m\n",
      "\u001b[0;32m~/opt/anaconda3/lib/python3.9/site-packages/decomp/semantics/uds/__init__.py\u001b[0m in \u001b[0;36m<module>\u001b[0;34m\u001b[0m\n\u001b[1;32m      1\u001b[0m \u001b[0;34m\"\"\"Module for representing UDS corpora, documents, graphs, and annotations.\"\"\"\u001b[0m\u001b[0;34m\u001b[0m\u001b[0;34m\u001b[0m\u001b[0m\n\u001b[1;32m      2\u001b[0m \u001b[0;34m\u001b[0m\u001b[0m\n\u001b[0;32m----> 3\u001b[0;31m \u001b[0;32mfrom\u001b[0m \u001b[0;34m.\u001b[0m\u001b[0mcorpus\u001b[0m \u001b[0;32mimport\u001b[0m \u001b[0mUDSCorpus\u001b[0m\u001b[0;34m\u001b[0m\u001b[0;34m\u001b[0m\u001b[0m\n\u001b[0m\u001b[1;32m      4\u001b[0m \u001b[0;32mfrom\u001b[0m \u001b[0;34m.\u001b[0m\u001b[0mdocument\u001b[0m \u001b[0;32mimport\u001b[0m \u001b[0mUDSDocument\u001b[0m\u001b[0;34m\u001b[0m\u001b[0;34m\u001b[0m\u001b[0m\n\u001b[1;32m      5\u001b[0m \u001b[0;32mfrom\u001b[0m \u001b[0;34m.\u001b[0m\u001b[0mgraph\u001b[0m \u001b[0;32mimport\u001b[0m \u001b[0mUDSDocumentGraph\u001b[0m\u001b[0;34m\u001b[0m\u001b[0;34m\u001b[0m\u001b[0m\n",
      "\u001b[0;32m~/opt/anaconda3/lib/python3.9/site-packages/decomp/semantics/uds/corpus.py\u001b[0m in \u001b[0;36m<module>\u001b[0;34m\u001b[0m\n\u001b[1;32m     22\u001b[0m \u001b[0;32mfrom\u001b[0m \u001b[0mzipfile\u001b[0m \u001b[0;32mimport\u001b[0m \u001b[0mZipFile\u001b[0m\u001b[0;34m\u001b[0m\u001b[0;34m\u001b[0m\u001b[0m\n\u001b[1;32m     23\u001b[0m \u001b[0;32mfrom\u001b[0m \u001b[0mrdflib\u001b[0m\u001b[0;34m.\u001b[0m\u001b[0mquery\u001b[0m \u001b[0;32mimport\u001b[0m \u001b[0mResult\u001b[0m\u001b[0;34m\u001b[0m\u001b[0;34m\u001b[0m\u001b[0m\n\u001b[0;32m---> 24\u001b[0;31m \u001b[0;32mfrom\u001b[0m \u001b[0mrdflib\u001b[0m\u001b[0;34m.\u001b[0m\u001b[0mplugins\u001b[0m\u001b[0;34m.\u001b[0m\u001b[0msparql\u001b[0m\u001b[0;34m.\u001b[0m\u001b[0msparql\u001b[0m \u001b[0;32mimport\u001b[0m \u001b[0mQuery\u001b[0m\u001b[0;34m\u001b[0m\u001b[0;34m\u001b[0m\u001b[0m\n\u001b[0m\u001b[1;32m     25\u001b[0m \u001b[0;32mfrom\u001b[0m \u001b[0;34m.\u001b[0m\u001b[0;34m.\u001b[0m\u001b[0mpredpatt\u001b[0m \u001b[0;32mimport\u001b[0m \u001b[0mPredPattCorpus\u001b[0m\u001b[0;34m\u001b[0m\u001b[0;34m\u001b[0m\u001b[0m\n\u001b[1;32m     26\u001b[0m \u001b[0;34m\u001b[0m\u001b[0m\n",
      "\u001b[0;32m~/opt/anaconda3/lib/python3.9/site-packages/rdflib/plugins/sparql/__init__.py\u001b[0m in \u001b[0;36m<module>\u001b[0;34m\u001b[0m\n\u001b[1;32m     33\u001b[0m \u001b[0;34m\u001b[0m\u001b[0m\n\u001b[1;32m     34\u001b[0m \u001b[0;34m\u001b[0m\u001b[0m\n\u001b[0;32m---> 35\u001b[0;31m \u001b[0;32mfrom\u001b[0m \u001b[0;34m.\u001b[0m \u001b[0;32mimport\u001b[0m \u001b[0mparser\u001b[0m\u001b[0;34m\u001b[0m\u001b[0;34m\u001b[0m\u001b[0m\n\u001b[0m\u001b[1;32m     36\u001b[0m \u001b[0;32mfrom\u001b[0m \u001b[0;34m.\u001b[0m \u001b[0;32mimport\u001b[0m \u001b[0moperators\u001b[0m\u001b[0;34m\u001b[0m\u001b[0;34m\u001b[0m\u001b[0m\n\u001b[1;32m     37\u001b[0m \u001b[0;32mfrom\u001b[0m \u001b[0;34m.\u001b[0m \u001b[0;32mimport\u001b[0m \u001b[0mparserutils\u001b[0m\u001b[0;34m\u001b[0m\u001b[0;34m\u001b[0m\u001b[0m\n",
      "\u001b[0;32m~/opt/anaconda3/lib/python3.9/site-packages/rdflib/plugins/sparql/parser.py\u001b[0m in \u001b[0;36m<module>\u001b[0;34m\u001b[0m\n\u001b[1;32m    180\u001b[0m \u001b[0;31m# [140] PNAME_NS ::= PN_PREFIX? ':'\u001b[0m\u001b[0;34m\u001b[0m\u001b[0;34m\u001b[0m\u001b[0m\n\u001b[1;32m    181\u001b[0m PNAME_NS = Optional(\n\u001b[0;32m--> 182\u001b[0;31m     Param('prefix', PN_PREFIX)) + Suppress(':').leaveWhitespace()\n\u001b[0m\u001b[1;32m    183\u001b[0m \u001b[0;34m\u001b[0m\u001b[0m\n\u001b[1;32m    184\u001b[0m \u001b[0;31m# [173] PN_LOCAL_ESC ::= '\\' ( '_' | '~' | '.' | '-' | '!' | '$' | '&' | \"'\" | '(' | ')' | '*' | '+' | ',' | ';' | '=' | '/' | '?' | '#' | '@' | '%' )\u001b[0m\u001b[0;34m\u001b[0m\u001b[0;34m\u001b[0m\u001b[0m\n",
      "\u001b[0;32m~/opt/anaconda3/lib/python3.9/site-packages/rdflib/plugins/sparql/parserutils.py\u001b[0m in \u001b[0;36m__init__\u001b[0;34m(self, name, expr, isList)\u001b[0m\n\u001b[1;32m    111\u001b[0m     \"\"\"\n\u001b[1;32m    112\u001b[0m     \u001b[0;32mdef\u001b[0m \u001b[0m__init__\u001b[0m\u001b[0;34m(\u001b[0m\u001b[0mself\u001b[0m\u001b[0;34m,\u001b[0m \u001b[0mname\u001b[0m\u001b[0;34m,\u001b[0m \u001b[0mexpr\u001b[0m\u001b[0;34m,\u001b[0m \u001b[0misList\u001b[0m\u001b[0;34m=\u001b[0m\u001b[0;32mFalse\u001b[0m\u001b[0;34m)\u001b[0m\u001b[0;34m:\u001b[0m\u001b[0;34m\u001b[0m\u001b[0;34m\u001b[0m\u001b[0m\n\u001b[0;32m--> 113\u001b[0;31m         \u001b[0mself\u001b[0m\u001b[0;34m.\u001b[0m\u001b[0mname\u001b[0m \u001b[0;34m=\u001b[0m \u001b[0mname\u001b[0m\u001b[0;34m\u001b[0m\u001b[0;34m\u001b[0m\u001b[0m\n\u001b[0m\u001b[1;32m    114\u001b[0m         \u001b[0mself\u001b[0m\u001b[0;34m.\u001b[0m\u001b[0misList\u001b[0m \u001b[0;34m=\u001b[0m \u001b[0misList\u001b[0m\u001b[0;34m\u001b[0m\u001b[0;34m\u001b[0m\u001b[0m\n\u001b[1;32m    115\u001b[0m         \u001b[0mTokenConverter\u001b[0m\u001b[0;34m.\u001b[0m\u001b[0m__init__\u001b[0m\u001b[0;34m(\u001b[0m\u001b[0mself\u001b[0m\u001b[0;34m,\u001b[0m \u001b[0mexpr\u001b[0m\u001b[0;34m)\u001b[0m\u001b[0;34m\u001b[0m\u001b[0;34m\u001b[0m\u001b[0m\n",
      "\u001b[0;31mAttributeError\u001b[0m: can't set attribute"
     ]
    }
   ],
   "source": [
    "# importing dataset\n",
    "\n",
    "from decomp import UDSCorpus"
   ]
  },
  {
   "cell_type": "code",
   "execution_count": null,
   "id": "95aa1caf",
   "metadata": {},
   "outputs": [],
   "source": [
    "import decomp"
   ]
  },
  {
   "cell_type": "code",
   "execution_count": null,
   "id": "1db7a280",
   "metadata": {},
   "outputs": [],
   "source": [
    "# creating uds object (UDSCorpus object)\n",
    "\n",
    "uds = UDSCorpus()"
   ]
  },
  {
   "cell_type": "markdown",
   "id": "a6bd076f",
   "metadata": {},
   "source": [
    "The dataset is built from the [Univeral Dependencies English Web Treebank](https://github.com/UniversalDependencies/UD_English-EWT) and the [UDS annotations](http://decomp.io/data/). "
   ]
  },
  {
   "cell_type": "markdown",
   "id": "73fad4da",
   "metadata": {},
   "source": [
    "### UDSSentenceGraph objects\n",
    "\n",
    "- accessed through standard dictionary getters or iteration"
   ]
  },
  {
   "cell_type": "code",
   "execution_count": null,
   "id": "550078c8",
   "metadata": {},
   "outputs": [],
   "source": [
    "# UDS graph corresponding to 12th \n",
    "# sentence in en-ud-train.conllu\n",
    "\n",
    "uds[\"ewt-train-12\"]"
   ]
  },
  {
   "cell_type": "markdown",
   "id": "174d2e24",
   "metadata": {},
   "source": [
    "### UDSDocument objects & UDSDocumentGraph\n",
    "\n",
    "- graph associated with each document object"
   ]
  },
  {
   "cell_type": "code",
   "execution_count": null,
   "id": "f82cd4d4",
   "metadata": {},
   "outputs": [],
   "source": [
    "# document\n",
    "\n",
    "uds.documents[\"reviews-112579\"]"
   ]
  },
  {
   "cell_type": "code",
   "execution_count": null,
   "id": "4fce80a3",
   "metadata": {},
   "outputs": [],
   "source": [
    "# associated graph\n",
    "\n",
    "uds.documents[\"reviews-112579\"].document_graph"
   ]
  },
  {
   "cell_type": "markdown",
   "id": "ccfb38a2",
   "metadata": {},
   "source": [
    "#### `UDSCorpus` objects behave like dictionaries:"
   ]
  },
  {
   "cell_type": "code",
   "execution_count": null,
   "id": "d9b44c4f",
   "metadata": {},
   "outputs": [],
   "source": [
    "# sentence-level graph identifiers\n",
    "\n",
    "#for graphid in uds:\n",
    "    #print(graphid)"
   ]
  },
  {
   "cell_type": "code",
   "execution_count": null,
   "id": "17c6ddf9",
   "metadata": {},
   "outputs": [],
   "source": [
    "len(uds.graphids)"
   ]
  },
  {
   "cell_type": "code",
   "execution_count": null,
   "id": "e49e6b48",
   "metadata": {
    "scrolled": false
   },
   "outputs": [],
   "source": [
    "# document identifiers\n",
    "# (correspond directly to English \n",
    "# Web Treebank file IDs)\n",
    "\n",
    "#for documentid in uds.documents:\n",
    "    #print(documentid)"
   ]
  },
  {
   "cell_type": "code",
   "execution_count": null,
   "id": "2014614a",
   "metadata": {},
   "outputs": [],
   "source": [
    "len(uds.documents)"
   ]
  },
  {
   "cell_type": "code",
   "execution_count": null,
   "id": "173f1b06",
   "metadata": {},
   "outputs": [],
   "source": [
    "# sentence-level graph identifiers \n",
    "# with corresponding sentence\n",
    "\n",
    "#for graphid, graph in uds.items():\n",
    "    #print(graphid)\n",
    "    #print(graph.sentence)"
   ]
  },
  {
   "cell_type": "code",
   "execution_count": null,
   "id": "915c8b4d",
   "metadata": {},
   "outputs": [],
   "source": [
    "# document identifiers with \n",
    "# each document’s entire text\n",
    "\n",
    "#for documentid, document in uds.documents.items():\n",
    "    #print(documentid)\n",
    "    #print(document.text)"
   ]
  },
  {
   "cell_type": "markdown",
   "id": "7b55dfc5",
   "metadata": {},
   "source": [
    "- `graphids` attribute of UDSCorpus: list of sentence-level graph identifiers"
   ]
  },
  {
   "cell_type": "code",
   "execution_count": null,
   "id": "0ca90286",
   "metadata": {},
   "outputs": [],
   "source": [
    "# a list of the sentence-level \n",
    "# graph identifiers in the corpus\n",
    "#uds.graphids"
   ]
  },
  {
   "cell_type": "markdown",
   "id": "9877d669",
   "metadata": {},
   "source": [
    "- `graphs` attribute of UDSCorpus: mapping from identifiers and the corresponding graph"
   ]
  },
  {
   "cell_type": "code",
   "execution_count": null,
   "id": "54811fc8",
   "metadata": {},
   "outputs": [],
   "source": [
    "# a dictionary mapping the sentence-level\n",
    "# graph identifiers to the corresponding graph\n",
    "#uds.graphs"
   ]
  },
  {
   "cell_type": "markdown",
   "id": "6db8326e",
   "metadata": {},
   "source": [
    "- `document_ids` attribute of UDSCorpus: list of document identifiers"
   ]
  },
  {
   "cell_type": "markdown",
   "id": "b1ba3a44",
   "metadata": {},
   "source": [
    "#### sentence-level graphs:"
   ]
  },
  {
   "cell_type": "code",
   "execution_count": null,
   "id": "aae496e7",
   "metadata": {},
   "outputs": [],
   "source": [
    "# dictionary mapping identifiers for \n",
    "# syntax nodes to their attributes\n",
    "\n",
    "uds[\"ewt-train-12\"].syntax_nodes"
   ]
  },
  {
   "cell_type": "code",
   "execution_count": null,
   "id": "63d86b80",
   "metadata": {},
   "outputs": [],
   "source": [
    "# dictionary mapping identifiers for \n",
    "# semantics nodes to their attributes\n",
    "\n",
    "uds[\"ewt-train-12\"].semantics_nodes.keys()"
   ]
  },
  {
   "cell_type": "code",
   "execution_count": null,
   "id": "69eb394a",
   "metadata": {},
   "outputs": [],
   "source": [
    "# dictionary mapping identifiers for \n",
    "# semantics edges (tuples of node \n",
    "# identifiers) to their attributes\n",
    "\n",
    "uds[\"ewt-train-12\"].semantics_edges()"
   ]
  },
  {
   "cell_type": "code",
   "execution_count": null,
   "id": "bfe26afe",
   "metadata": {},
   "outputs": [],
   "source": [
    "# dictionary mapping identifiers for \n",
    "# syntax edges (tuples of node \n",
    "# identifiers) to their attributes\n",
    "\n",
    "uds[\"ewt-train-12\"].syntax_edges()"
   ]
  },
  {
   "cell_type": "markdown",
   "id": "ed654c29",
   "metadata": {},
   "source": [
    "#### Accessing relationships between semantics and syntax nodes:"
   ]
  },
  {
   "cell_type": "code",
   "execution_count": null,
   "id": "e3e1192d",
   "metadata": {},
   "outputs": [],
   "source": [
    "uds[\"ewt-train-12\"].head('ewt-train-12-semantics-pred-7', ['form', 'lemma'])"
   ]
  },
  {
   "cell_type": "code",
   "execution_count": null,
   "id": "a07aa66a",
   "metadata": {},
   "outputs": [],
   "source": [
    "# same info for every token in the span\n",
    "\n",
    "uds[\"ewt-train-12\"].span('ewt-train-12-semantics-pred-7', ['form', 'lemma'])"
   ]
  },
  {
   "cell_type": "markdown",
   "id": "768c1608",
   "metadata": {},
   "source": [
    "- `.genre`\n",
    "- `.text`\n",
    "- `.timestamp`\n",
    "- `.sentence_ids`\n",
    "- `.sentence_graphs`"
   ]
  },
  {
   "cell_type": "code",
   "execution_count": null,
   "id": "836b5d50",
   "metadata": {},
   "outputs": [],
   "source": [
    "uds.documents[\"reviews-112579\"].document_graph.nodes"
   ]
  },
  {
   "cell_type": "code",
   "execution_count": null,
   "id": "bee31919",
   "metadata": {},
   "outputs": [],
   "source": [
    "uds.documents[\"reviews-112579\"].document_graph.edges"
   ]
  },
  {
   "cell_type": "code",
   "execution_count": null,
   "id": "216e0406",
   "metadata": {},
   "outputs": [],
   "source": [
    "# raw annotations\n",
    "\n",
    "# uds_raw = UDSCorpus(annotation_format=\"raw\")"
   ]
  },
  {
   "cell_type": "markdown",
   "id": "49d243f6",
   "metadata": {},
   "source": [
    "#### querying UDS graphs:"
   ]
  },
  {
   "cell_type": "code",
   "execution_count": null,
   "id": "bedf9407",
   "metadata": {},
   "outputs": [],
   "source": [
    "#querystr = \"\"\"\n",
    "#           SELECT ?pred\n",
    "#           WHERE { ?pred <domain> <semantics> ;\n",
    "#                         <type> <predicate> ;\n",
    "#                         <factual> ?factual ;\n",
    "#                         <dur-minutes> ?duration\n",
    "#                         FILTER ( ?factual > 0 && ?duration > 0 )\n",
    "#                 }\n",
    "#           \"\"\"\n",
    "\n",
    "#results = {gid: graph.query(querystr, query_type='node', cache_rdf=False)\n",
    "#           for gid, graph in uds.items()}\n",
    "\n",
    "#results = uds.query(querystr, query_type='node', cache_rdf=False)"
   ]
  },
  {
   "cell_type": "code",
   "execution_count": null,
   "id": "3d88b19d",
   "metadata": {},
   "outputs": [],
   "source": [
    "#querystr = \"\"\"\n",
    "#           SELECT DISTINCT ?node\n",
    "#           WHERE { ?node ?edge ?arg ;\n",
    "#                         <domain> <semantics> ;\n",
    "#                         <type>   <predicate> ;\n",
    "#                         <pred-particular> ?predparticular\n",
    "#                         FILTER ( ?predparticular > 0 ) .\n",
    "#                   ?arg  <domain> <semantics> ;\n",
    "#                         <type>   <argument>  ;\n",
    "#                         <arg-particular> ?argparticular\n",
    "#                         FILTER ( ?argparticular > 0 ) .\n",
    "#                   ?edge <volition> ?volition\n",
    "#                         FILTER ( ?volition > 0 ) .\n",
    "#                 }\n",
    "#           \"\"\"\n",
    "\n",
    "#results = uds.query(querystr, query_type='node', cache_rdf=False)"
   ]
  },
  {
   "cell_type": "code",
   "execution_count": null,
   "id": "8f78e5c5",
   "metadata": {},
   "outputs": [],
   "source": [
    "# serialize UDS dataset to JSON ? \n",
    "\n",
    "# uds.to_json(\"uds-sentence.json\")"
   ]
  },
  {
   "cell_type": "markdown",
   "id": "825c694d",
   "metadata": {},
   "source": [
    "#### Visualizations:"
   ]
  },
  {
   "cell_type": "code",
   "execution_count": null,
   "id": "83f94fc9",
   "metadata": {},
   "outputs": [],
   "source": [
    "from dash import Dash"
   ]
  },
  {
   "cell_type": "code",
   "execution_count": 2,
   "id": "aeabb31a",
   "metadata": {},
   "outputs": [
    {
     "ename": "AttributeError",
     "evalue": "can't set attribute",
     "output_type": "error",
     "traceback": [
      "\u001b[0;31m---------------------------------------------------------------------------\u001b[0m",
      "\u001b[0;31mAttributeError\u001b[0m                            Traceback (most recent call last)",
      "\u001b[0;32m/var/folders/wr/mkh_241s1697wrk7b4kxvm4r0000gn/T/ipykernel_38770/4186134077.py\u001b[0m in \u001b[0;36m<module>\u001b[0;34m\u001b[0m\n\u001b[0;32m----> 1\u001b[0;31m \u001b[0;32mfrom\u001b[0m \u001b[0mdecomp\u001b[0m\u001b[0;34m.\u001b[0m\u001b[0mvis\u001b[0m\u001b[0;34m.\u001b[0m\u001b[0muds_vis\u001b[0m \u001b[0;32mimport\u001b[0m \u001b[0mUDSVisualization\u001b[0m\u001b[0;34m\u001b[0m\u001b[0;34m\u001b[0m\u001b[0m\n\u001b[0m",
      "\u001b[0;32m~/opt/anaconda3/lib/python3.9/site-packages/decomp/__init__.py\u001b[0m in \u001b[0;36m<module>\u001b[0;34m\u001b[0m\n\u001b[1;32m      9\u001b[0m             level=DEBUG)\n\u001b[1;32m     10\u001b[0m \u001b[0;34m\u001b[0m\u001b[0m\n\u001b[0;32m---> 11\u001b[0;31m \u001b[0;32mfrom\u001b[0m \u001b[0;34m.\u001b[0m\u001b[0msemantics\u001b[0m\u001b[0;34m.\u001b[0m\u001b[0muds\u001b[0m \u001b[0;32mimport\u001b[0m \u001b[0mUDSCorpus\u001b[0m\u001b[0;34m\u001b[0m\u001b[0;34m\u001b[0m\u001b[0m\n\u001b[0m\u001b[1;32m     12\u001b[0m \u001b[0;32mfrom\u001b[0m \u001b[0;34m.\u001b[0m\u001b[0msemantics\u001b[0m\u001b[0;34m.\u001b[0m\u001b[0muds\u001b[0m \u001b[0;32mimport\u001b[0m \u001b[0mNormalizedUDSAnnotation\u001b[0m\u001b[0;34m\u001b[0m\u001b[0;34m\u001b[0m\u001b[0m\n\u001b[1;32m     13\u001b[0m \u001b[0;32mfrom\u001b[0m \u001b[0;34m.\u001b[0m\u001b[0msemantics\u001b[0m\u001b[0;34m.\u001b[0m\u001b[0muds\u001b[0m \u001b[0;32mimport\u001b[0m \u001b[0mRawUDSAnnotation\u001b[0m\u001b[0;34m\u001b[0m\u001b[0;34m\u001b[0m\u001b[0m\n",
      "\u001b[0;32m~/opt/anaconda3/lib/python3.9/site-packages/decomp/semantics/uds/__init__.py\u001b[0m in \u001b[0;36m<module>\u001b[0;34m\u001b[0m\n\u001b[1;32m      1\u001b[0m \u001b[0;34m\"\"\"Module for representing UDS corpora, documents, graphs, and annotations.\"\"\"\u001b[0m\u001b[0;34m\u001b[0m\u001b[0;34m\u001b[0m\u001b[0m\n\u001b[1;32m      2\u001b[0m \u001b[0;34m\u001b[0m\u001b[0m\n\u001b[0;32m----> 3\u001b[0;31m \u001b[0;32mfrom\u001b[0m \u001b[0;34m.\u001b[0m\u001b[0mcorpus\u001b[0m \u001b[0;32mimport\u001b[0m \u001b[0mUDSCorpus\u001b[0m\u001b[0;34m\u001b[0m\u001b[0;34m\u001b[0m\u001b[0m\n\u001b[0m\u001b[1;32m      4\u001b[0m \u001b[0;32mfrom\u001b[0m \u001b[0;34m.\u001b[0m\u001b[0mdocument\u001b[0m \u001b[0;32mimport\u001b[0m \u001b[0mUDSDocument\u001b[0m\u001b[0;34m\u001b[0m\u001b[0;34m\u001b[0m\u001b[0m\n\u001b[1;32m      5\u001b[0m \u001b[0;32mfrom\u001b[0m \u001b[0;34m.\u001b[0m\u001b[0mgraph\u001b[0m \u001b[0;32mimport\u001b[0m \u001b[0mUDSDocumentGraph\u001b[0m\u001b[0;34m\u001b[0m\u001b[0;34m\u001b[0m\u001b[0m\n",
      "\u001b[0;32m~/opt/anaconda3/lib/python3.9/site-packages/decomp/semantics/uds/corpus.py\u001b[0m in \u001b[0;36m<module>\u001b[0;34m\u001b[0m\n\u001b[1;32m     25\u001b[0m \u001b[0;32mfrom\u001b[0m \u001b[0;34m.\u001b[0m\u001b[0;34m.\u001b[0m\u001b[0mpredpatt\u001b[0m \u001b[0;32mimport\u001b[0m \u001b[0mPredPattCorpus\u001b[0m\u001b[0;34m\u001b[0m\u001b[0;34m\u001b[0m\u001b[0m\n\u001b[1;32m     26\u001b[0m \u001b[0;34m\u001b[0m\u001b[0m\n\u001b[0;32m---> 27\u001b[0;31m \u001b[0;32mfrom\u001b[0m \u001b[0;34m.\u001b[0m\u001b[0mdocument\u001b[0m \u001b[0;32mimport\u001b[0m \u001b[0mUDSDocument\u001b[0m\u001b[0;34m\u001b[0m\u001b[0;34m\u001b[0m\u001b[0m\n\u001b[0m\u001b[1;32m     28\u001b[0m \u001b[0;32mfrom\u001b[0m \u001b[0;34m.\u001b[0m\u001b[0mannotation\u001b[0m \u001b[0;32mimport\u001b[0m \u001b[0mUDSAnnotation\u001b[0m\u001b[0;34m\u001b[0m\u001b[0;34m\u001b[0m\u001b[0m\n\u001b[1;32m     29\u001b[0m \u001b[0;32mfrom\u001b[0m \u001b[0;34m.\u001b[0m\u001b[0mannotation\u001b[0m \u001b[0;32mimport\u001b[0m \u001b[0mRawUDSAnnotation\u001b[0m\u001b[0;34m\u001b[0m\u001b[0;34m\u001b[0m\u001b[0m\n",
      "\u001b[0;32m~/opt/anaconda3/lib/python3.9/site-packages/decomp/semantics/uds/document.py\u001b[0m in \u001b[0;36m<module>\u001b[0;34m\u001b[0m\n\u001b[1;32m      8\u001b[0m \u001b[0;32mfrom\u001b[0m \u001b[0mmemoized_property\u001b[0m \u001b[0;32mimport\u001b[0m \u001b[0mmemoized_property\u001b[0m\u001b[0;34m\u001b[0m\u001b[0;34m\u001b[0m\u001b[0m\n\u001b[1;32m      9\u001b[0m \u001b[0;32mfrom\u001b[0m \u001b[0mnetworkx\u001b[0m \u001b[0;32mimport\u001b[0m \u001b[0mDiGraph\u001b[0m\u001b[0;34m\u001b[0m\u001b[0;34m\u001b[0m\u001b[0m\n\u001b[0;32m---> 10\u001b[0;31m \u001b[0;32mfrom\u001b[0m \u001b[0;34m.\u001b[0m\u001b[0mgraph\u001b[0m \u001b[0;32mimport\u001b[0m \u001b[0mUDSSentenceGraph\u001b[0m\u001b[0;34m,\u001b[0m \u001b[0mUDSDocumentGraph\u001b[0m\u001b[0;34m\u001b[0m\u001b[0;34m\u001b[0m\u001b[0m\n\u001b[0m\u001b[1;32m     11\u001b[0m \u001b[0;34m\u001b[0m\u001b[0m\n\u001b[1;32m     12\u001b[0m \u001b[0;34m\u001b[0m\u001b[0m\n",
      "\u001b[0;32m~/opt/anaconda3/lib/python3.9/site-packages/decomp/semantics/uds/graph.py\u001b[0m in \u001b[0;36m<module>\u001b[0;34m\u001b[0m\n\u001b[1;32m     12\u001b[0m \u001b[0;32mfrom\u001b[0m \u001b[0mrdflib\u001b[0m\u001b[0;34m.\u001b[0m\u001b[0mquery\u001b[0m \u001b[0;32mimport\u001b[0m \u001b[0mResult\u001b[0m\u001b[0;34m\u001b[0m\u001b[0;34m\u001b[0m\u001b[0m\n\u001b[1;32m     13\u001b[0m \u001b[0;32mfrom\u001b[0m \u001b[0mrdflib\u001b[0m\u001b[0;34m.\u001b[0m\u001b[0mplugins\u001b[0m\u001b[0;34m.\u001b[0m\u001b[0msparql\u001b[0m\u001b[0;34m.\u001b[0m\u001b[0msparql\u001b[0m \u001b[0;32mimport\u001b[0m \u001b[0mQuery\u001b[0m\u001b[0;34m\u001b[0m\u001b[0;34m\u001b[0m\u001b[0m\n\u001b[0;32m---> 14\u001b[0;31m \u001b[0;32mfrom\u001b[0m \u001b[0mrdflib\u001b[0m\u001b[0;34m.\u001b[0m\u001b[0mplugins\u001b[0m\u001b[0;34m.\u001b[0m\u001b[0msparql\u001b[0m \u001b[0;32mimport\u001b[0m \u001b[0mprepareQuery\u001b[0m\u001b[0;34m\u001b[0m\u001b[0;34m\u001b[0m\u001b[0m\n\u001b[0m\u001b[1;32m     15\u001b[0m \u001b[0;32mfrom\u001b[0m \u001b[0mnetworkx\u001b[0m \u001b[0;32mimport\u001b[0m \u001b[0mDiGraph\u001b[0m\u001b[0;34m,\u001b[0m \u001b[0madjacency_data\u001b[0m\u001b[0;34m,\u001b[0m \u001b[0madjacency_graph\u001b[0m\u001b[0;34m\u001b[0m\u001b[0;34m\u001b[0m\u001b[0m\n\u001b[1;32m     16\u001b[0m \u001b[0;32mfrom\u001b[0m \u001b[0;34m...\u001b[0m\u001b[0mgraph\u001b[0m \u001b[0;32mimport\u001b[0m \u001b[0mRDFConverter\u001b[0m\u001b[0;34m\u001b[0m\u001b[0;34m\u001b[0m\u001b[0m\n",
      "\u001b[0;32m~/opt/anaconda3/lib/python3.9/site-packages/rdflib/plugins/sparql/__init__.py\u001b[0m in \u001b[0;36m<module>\u001b[0;34m\u001b[0m\n\u001b[1;32m     33\u001b[0m \u001b[0;34m\u001b[0m\u001b[0m\n\u001b[1;32m     34\u001b[0m \u001b[0;34m\u001b[0m\u001b[0m\n\u001b[0;32m---> 35\u001b[0;31m \u001b[0;32mfrom\u001b[0m \u001b[0;34m.\u001b[0m \u001b[0;32mimport\u001b[0m \u001b[0mparser\u001b[0m\u001b[0;34m\u001b[0m\u001b[0;34m\u001b[0m\u001b[0m\n\u001b[0m\u001b[1;32m     36\u001b[0m \u001b[0;32mfrom\u001b[0m \u001b[0;34m.\u001b[0m \u001b[0;32mimport\u001b[0m \u001b[0moperators\u001b[0m\u001b[0;34m\u001b[0m\u001b[0;34m\u001b[0m\u001b[0m\n\u001b[1;32m     37\u001b[0m \u001b[0;32mfrom\u001b[0m \u001b[0;34m.\u001b[0m \u001b[0;32mimport\u001b[0m \u001b[0mparserutils\u001b[0m\u001b[0;34m\u001b[0m\u001b[0;34m\u001b[0m\u001b[0m\n",
      "\u001b[0;32m~/opt/anaconda3/lib/python3.9/site-packages/rdflib/plugins/sparql/parser.py\u001b[0m in \u001b[0;36m<module>\u001b[0;34m\u001b[0m\n\u001b[1;32m    180\u001b[0m \u001b[0;31m# [140] PNAME_NS ::= PN_PREFIX? ':'\u001b[0m\u001b[0;34m\u001b[0m\u001b[0;34m\u001b[0m\u001b[0m\n\u001b[1;32m    181\u001b[0m PNAME_NS = Optional(\n\u001b[0;32m--> 182\u001b[0;31m     Param('prefix', PN_PREFIX)) + Suppress(':').leaveWhitespace()\n\u001b[0m\u001b[1;32m    183\u001b[0m \u001b[0;34m\u001b[0m\u001b[0m\n\u001b[1;32m    184\u001b[0m \u001b[0;31m# [173] PN_LOCAL_ESC ::= '\\' ( '_' | '~' | '.' | '-' | '!' | '$' | '&' | \"'\" | '(' | ')' | '*' | '+' | ',' | ';' | '=' | '/' | '?' | '#' | '@' | '%' )\u001b[0m\u001b[0;34m\u001b[0m\u001b[0;34m\u001b[0m\u001b[0m\n",
      "\u001b[0;32m~/opt/anaconda3/lib/python3.9/site-packages/rdflib/plugins/sparql/parserutils.py\u001b[0m in \u001b[0;36m__init__\u001b[0;34m(self, name, expr, isList)\u001b[0m\n\u001b[1;32m    111\u001b[0m     \"\"\"\n\u001b[1;32m    112\u001b[0m     \u001b[0;32mdef\u001b[0m \u001b[0m__init__\u001b[0m\u001b[0;34m(\u001b[0m\u001b[0mself\u001b[0m\u001b[0;34m,\u001b[0m \u001b[0mname\u001b[0m\u001b[0;34m,\u001b[0m \u001b[0mexpr\u001b[0m\u001b[0;34m,\u001b[0m \u001b[0misList\u001b[0m\u001b[0;34m=\u001b[0m\u001b[0;32mFalse\u001b[0m\u001b[0;34m)\u001b[0m\u001b[0;34m:\u001b[0m\u001b[0;34m\u001b[0m\u001b[0;34m\u001b[0m\u001b[0m\n\u001b[0;32m--> 113\u001b[0;31m         \u001b[0mself\u001b[0m\u001b[0;34m.\u001b[0m\u001b[0mname\u001b[0m \u001b[0;34m=\u001b[0m \u001b[0mname\u001b[0m\u001b[0;34m\u001b[0m\u001b[0;34m\u001b[0m\u001b[0m\n\u001b[0m\u001b[1;32m    114\u001b[0m         \u001b[0mself\u001b[0m\u001b[0;34m.\u001b[0m\u001b[0misList\u001b[0m \u001b[0;34m=\u001b[0m \u001b[0misList\u001b[0m\u001b[0;34m\u001b[0m\u001b[0;34m\u001b[0m\u001b[0m\n\u001b[1;32m    115\u001b[0m         \u001b[0mTokenConverter\u001b[0m\u001b[0;34m.\u001b[0m\u001b[0m__init__\u001b[0m\u001b[0;34m(\u001b[0m\u001b[0mself\u001b[0m\u001b[0;34m,\u001b[0m \u001b[0mexpr\u001b[0m\u001b[0;34m)\u001b[0m\u001b[0;34m\u001b[0m\u001b[0;34m\u001b[0m\u001b[0m\n",
      "\u001b[0;31mAttributeError\u001b[0m: can't set attribute"
     ]
    }
   ],
   "source": [
    "\n",
    "from decomp.vis.uds_vis import UDSVisualization"
   ]
  },
  {
   "cell_type": "code",
   "execution_count": null,
   "id": "aded9e4e",
   "metadata": {},
   "outputs": [],
   "source": [
    "graph = uds[\"ewt-dev-1\"]\n",
    "vis = UDSVisualization(graph)\n",
    "vis.serve()"
   ]
  },
  {
   "cell_type": "markdown",
   "id": "932b9c0a",
   "metadata": {},
   "source": [
    "^^^ should open a browser window to visualize the first graph in the dev split (\"ewt-dev-1\")"
   ]
  },
  {
   "cell_type": "markdown",
   "id": "beaf2fed",
   "metadata": {},
   "source": [
    "I've spent a while trying to get this to work and it won't work. I also can't find any specific documentation on it beyond the code above, so I am stumped."
   ]
  },
  {
   "cell_type": "markdown",
   "id": "d2dd1de5",
   "metadata": {},
   "source": [
    "Details:\n",
    "\n",
    "- **black edges:** edges in the semantic graph\n",
    "- **thick grey arrows:** syntactic head of semantic arg or pred\n",
    "- **semantics nodes** have thick outline when annotated w/ decomp properties; hovering over a semantics node reveals annotations in a pop-out window\n",
    "- **yellow boxes on edges**: protorole annotations; hover over to reveal values\n",
    "- **checkboxes** at top left to select/de-select subannotations"
   ]
  },
  {
   "cell_type": "markdown",
   "id": "fcfe286a",
   "metadata": {},
   "source": [
    "Can specify options for a visualization via arguments:"
   ]
  },
  {
   "cell_type": "code",
   "execution_count": null,
   "id": "2fa23523",
   "metadata": {},
   "outputs": [],
   "source": [
    "# syntactic parse along with semantic parse\n",
    "\n",
    "#vis = UDSVisualization(graph, add_syntax_edges = True)"
   ]
  }
 ],
 "metadata": {
  "kernelspec": {
   "display_name": "Python 3 (ipykernel)",
   "language": "python",
   "name": "python3"
  },
  "language_info": {
   "codemirror_mode": {
    "name": "ipython",
    "version": 3
   },
   "file_extension": ".py",
   "mimetype": "text/x-python",
   "name": "python",
   "nbconvert_exporter": "python",
   "pygments_lexer": "ipython3",
   "version": "3.9.7"
  }
 },
 "nbformat": 4,
 "nbformat_minor": 5
}
