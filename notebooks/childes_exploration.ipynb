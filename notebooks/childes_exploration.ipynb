{
 "cells": [
  {
   "cell_type": "markdown",
   "id": "d6a8fe8b",
   "metadata": {},
   "source": [
    "# Initial exploration of CHILDES Narrative English Hicks Corpus\n",
    "\n",
    "## Caroline Gish | cng18@pitt.edu | for 2022-02-24\n",
    "\n",
    "---\n",
    "\n",
    "*This notebook accounts for work done for progress report 1 and progress report 2.*\n",
    "\n",
    "**Source:** https://childes.talkbank.org/access/Eng-NA/Hicks.html \n",
    "(also has description of research goals and annotation schema)\n",
    "\n",
    "Initial exploration will involve trying to read in the CHAT files. \n",
    "\n",
    "**Resources:**\n",
    "\n",
    "- .cha file viewer: https://filext.com/file-extension/CHA\n",
    "\n",
    "- paper on child genre development: https://www.jstor.org/stable/40171463?seq=1#metadata_info_tab_contents\n",
    "\n",
    "- CLAN documentation: https://talkbank.org/manuals/CLAN.pdf\n",
    "\n",
    "- CHAT documentation: https://talkbank.org/manuals/CHAT.pdf\n",
    "\n",
    "**Relevant tiers:**\n",
    "\n",
    "- %mor: Morphological Tier\n",
    "    - This tier codes morphemic segments by type and part of speech.\n",
    "\n",
    "- %gra: Grammatical Relations Tier            \n",
    "    - This tier is used to code dependency structures with tagged grammatical relations (Sagae, Davis, Lavie, MacWhinney, & Wintner, 2007; Sagae, Lavie, & MacWhinney, 2005; Sagae, MacWhinney, & Lavie, 2004).\n",
    "\n",
    "- %cod: Coding Tier                                       \n",
    "    - This is the general purpose coding tier. It can be used for mixing codes into a single tier for economy or ease of entry."
   ]
  },
  {
   "cell_type": "code",
   "execution_count": 1,
   "id": "5a8e0f84",
   "metadata": {},
   "outputs": [
    {
     "name": "stdout",
     "output_type": "stream",
     "text": [
      "Pretty printing has been turned OFF\n"
     ]
    }
   ],
   "source": [
    "import numpy as np\n",
    "import pandas as pd\n",
    "import pickle as pkl\n",
    "\n",
    "%pprint"
   ]
  },
  {
   "cell_type": "code",
   "execution_count": 2,
   "id": "00c51ccd",
   "metadata": {},
   "outputs": [],
   "source": [
    "# every returned Out[] displayed  \n",
    "from IPython.core.interactiveshell import InteractiveShell\n",
    "InteractiveShell.ast_node_interactivity = \"all\""
   ]
  },
  {
   "cell_type": "markdown",
   "id": "7e5f87ce",
   "metadata": {},
   "source": [
    "## Trying out `chamd`:"
   ]
  },
  {
   "cell_type": "code",
   "execution_count": 3,
   "id": "51b70342",
   "metadata": {},
   "outputs": [],
   "source": [
    "from chamd import ChatReader"
   ]
  },
  {
   "cell_type": "code",
   "execution_count": 4,
   "id": "04974e73",
   "metadata": {},
   "outputs": [],
   "source": [
    "reader = ChatReader()\n",
    "chat = reader.read_file('../data/Hicks/1st/event/evt004.cha') # or read_string\n",
    "\n",
    "#for item in chat.metadata:\n",
    "    #print(item)\n",
    "#for line in chat.lines:\n",
    "    #for item in line.metadata:\n",
    "        #print(item)\n",
    "    #print(line.text)"
   ]
  },
  {
   "cell_type": "code",
   "execution_count": 5,
   "id": "c4f4a586",
   "metadata": {},
   "outputs": [
    {
     "name": "stdout",
     "output_type": "stream",
     "text": [
      "Help on class ChatReader in module chamd.chat_reader:\n",
      "\n",
      "class ChatReader(builtins.object)\n",
      " |  Methods defined here:\n",
      " |  \n",
      " |  __init__(self)\n",
      " |      Initialize self.  See help(type(self)) for accurate signature.\n",
      " |  \n",
      " |  read_file(self, filename: str) -> chamd.chat_reader.ChatFile\n",
      " |  \n",
      " |  read_string(self, content: str, filename: str) -> chamd.chat_reader.ChatFile\n",
      " |  \n",
      " |  ----------------------------------------------------------------------\n",
      " |  Data descriptors defined here:\n",
      " |  \n",
      " |  __dict__\n",
      " |      dictionary for instance variables (if defined)\n",
      " |  \n",
      " |  __weakref__\n",
      " |      list of weak references to the object (if defined)\n",
      "\n"
     ]
    }
   ],
   "source": [
    "help(ChatReader)"
   ]
  },
  {
   "cell_type": "code",
   "execution_count": 6,
   "id": "965e18c4",
   "metadata": {},
   "outputs": [
    {
     "data": {
      "text/plain": [
       "['__class__', '__delattr__', '__dict__', '__dir__', '__doc__', '__eq__', '__format__', '__ge__', '__getattribute__', '__gt__', '__hash__', '__init__', '__init_subclass__', '__le__', '__lt__', '__module__', '__ne__', '__new__', '__reduce__', '__reduce_ex__', '__repr__', '__setattr__', '__sizeof__', '__str__', '__subclasshook__', '__weakref__', 'read_file', 'read_string']"
      ]
     },
     "execution_count": 6,
     "metadata": {},
     "output_type": "execute_result"
    }
   ],
   "source": [
    "dir(ChatReader)"
   ]
  },
  {
   "cell_type": "code",
   "execution_count": 7,
   "id": "b2ba6be2",
   "metadata": {},
   "outputs": [],
   "source": [
    "#for line in chat.lines:\n",
    "    #print(line.text)"
   ]
  },
  {
   "cell_type": "markdown",
   "id": "9285adad",
   "metadata": {},
   "source": [
    "I've spent wayyy too much time researching and trying to figure out the `chamd` library, so it's time to see if there is anything else I can use."
   ]
  },
  {
   "cell_type": "markdown",
   "id": "c94b55bd",
   "metadata": {},
   "source": [
    "## Trying out PyLangAcq:\n",
    "\n",
    "PyLangAcq: Language Acquisition Research in Python: https://pylangacq.org/\n",
    "\n",
    "reading CHAT data: https://pylangacq.org/read.html"
   ]
  },
  {
   "cell_type": "code",
   "execution_count": 8,
   "id": "ad5d64b0",
   "metadata": {},
   "outputs": [],
   "source": [
    "import pylangacq"
   ]
  },
  {
   "cell_type": "markdown",
   "id": "e3209119",
   "metadata": {},
   "source": [
    "- \"`read_chat()` automatically handles everything behind the scenes for you, from downloading the ZIP file, unzipping it, traversing through the CHAT files found, as well as parsing the files\""
   ]
  },
  {
   "cell_type": "code",
   "execution_count": 9,
   "id": "347de19d",
   "metadata": {},
   "outputs": [],
   "source": [
    "# initializing a reader from URL\n",
    "\n",
    "url = 'https://childes.talkbank.org/data/Eng-NA/Hicks.zip'\n",
    "hicks = pylangacq.read_chat(url)"
   ]
  },
  {
   "cell_type": "code",
   "execution_count": 10,
   "id": "76bd8dc2",
   "metadata": {},
   "outputs": [
    {
     "name": "stdout",
     "output_type": "stream",
     "text": [
      "213 files\n",
      "14273 utterances\n",
      "104908 words\n",
      "        Utterance Count    Word Count  File Path\n",
      "----  -----------------  ------------  -------------------------------\n",
      "#1                   66           522  Hicks/1st/event/evt004.cha\n",
      "#2                   79           560  Hicks/1st/event/evt005.cha\n",
      "#3                   57           423  Hicks/1st/event/evt009.cha\n",
      "#4                   58           395  Hicks/1st/event/evt010.cha\n",
      "#5                   57           469  Hicks/1st/event/evt012.cha\n",
      "#6                   79           623  Hicks/1st/event/evt016.cha\n",
      "#7                   41           309  Hicks/1st/event/evt018.cha\n",
      "#8                   90           658  Hicks/1st/event/evt019.cha\n",
      "#9                   73           531  Hicks/1st/event/evt021.cha\n",
      "#10                  82           587  Hicks/1st/event/evt024.cha\n",
      "#11                  75           553  Hicks/1st/event/evt026.cha\n",
      "#12                  89           698  Hicks/1st/event/evt027.cha\n",
      "#13                  77           513  Hicks/1st/event/evt029.cha\n",
      "#14                  90           636  Hicks/1st/event/evt030.cha\n",
      "#15                  81           603  Hicks/1st/event/evt035.cha\n",
      "#16                  93           620  Hicks/1st/event/evt038.cha\n",
      "#17                 101           722  Hicks/1st/event/evt039.cha\n",
      "#18                  72           522  Hicks/1st/event/evt040.cha\n",
      "#19                  75           529  Hicks/1st/event/evt041.cha\n",
      "#20                  63           491  Hicks/1st/event/evt042.cha\n",
      "#21                  70           536  Hicks/1st/report/rep004.cha\n",
      "#22                  29           244  Hicks/1st/report/rep005.cha\n",
      "#23                  40           301  Hicks/1st/report/rep009.cha\n",
      "#24                  48           364  Hicks/1st/report/rep010.cha\n",
      "#25                  51           400  Hicks/1st/report/rep012.cha\n",
      "#26                  77           550  Hicks/1st/report/rep016.cha\n",
      "#27                  28           237  Hicks/1st/report/rep018.cha\n",
      "#28                  27           188  Hicks/1st/report/rep019.cha\n",
      "#29                  21           174  Hicks/1st/report/rep021.cha\n",
      "#30                  44           344  Hicks/1st/report/rep024.cha\n",
      "#31                  74           544  Hicks/1st/report/rep026.cha\n",
      "#32                  42           326  Hicks/1st/report/rep027.cha\n",
      "#33                  89           676  Hicks/1st/report/rep029.cha\n",
      "#34                  95           753  Hicks/1st/report/rep030.cha\n",
      "#35                  40           280  Hicks/1st/report/rep035.cha\n",
      "#36                  67           456  Hicks/1st/report/rep038.cha\n",
      "#37                  69           525  Hicks/1st/report/rep039.cha\n",
      "#38                  68           501  Hicks/1st/report/rep040.cha\n",
      "#39                  47           366  Hicks/1st/report/rep041.cha\n",
      "#40                  53           394  Hicks/1st/report/rep042.cha\n",
      "#41                 114           841  Hicks/1st/story/story004.cha\n",
      "#42                  50           370  Hicks/1st/story/story005.cha\n",
      "#43                  70           500  Hicks/1st/story/story009.cha\n",
      "#44                  59           408  Hicks/1st/story/story010.cha\n",
      "#45                  41           320  Hicks/1st/story/story012.cha\n",
      "#46                 151          1061  Hicks/1st/story/story016.cha\n",
      "#47                  68           497  Hicks/1st/story/story018.cha\n",
      "#48                  83           595  Hicks/1st/story/story019.cha\n",
      "#49                  48           348  Hicks/1st/story/story021.cha\n",
      "#50                  64           495  Hicks/1st/story/story024.cha\n",
      "#51                  45           326  Hicks/1st/story/story026.cha\n",
      "#52                  78           556  Hicks/1st/story/story027.cha\n",
      "#53                  82           597  Hicks/1st/story/story029.cha\n",
      "#54                  75           611  Hicks/1st/story/story030.cha\n",
      "#55                  37           270  Hicks/1st/story/story035.cha\n",
      "#56                  36           244  Hicks/1st/story/story038.cha\n",
      "#57                  91           651  Hicks/1st/story/story039.cha\n",
      "#58                  51           377  Hicks/1st/story/story040.cha\n",
      "#59                 111           759  Hicks/1st/story/story041.cha\n",
      "#60                  50           363  Hicks/1st/story/story042.cha\n",
      "#61                  72           435  Hicks/2nd/event/evt001.cha\n",
      "#62                  59           484  Hicks/2nd/event/evt002.cha\n",
      "#63                  62           475  Hicks/2nd/event/evt003.cha\n",
      "#64                  66           442  Hicks/2nd/event/evt006.cha\n",
      "#65                  82           582  Hicks/2nd/event/evt007.cha\n",
      "#66                  87           580  Hicks/2nd/event/evt008.cha\n",
      "#67                  68           498  Hicks/2nd/event/evt011.cha\n",
      "#68                 123           828  Hicks/2nd/event/evt017.cha\n",
      "#69                  80           502  Hicks/2nd/event/evt020.cha\n",
      "#70                  80           620  Hicks/2nd/event/evt022.cha\n",
      "#71                 108           766  Hicks/2nd/event/evt023.cha\n",
      "#72                  94           700  Hicks/2nd/event/evt025.cha\n",
      "#73                  84           597  Hicks/2nd/event/evt028.cha\n",
      "#74                  96           655  Hicks/2nd/event/evt036.cha\n",
      "#75                  61           444  Hicks/2nd/event/evt037.cha\n",
      "#76                  78           598  Hicks/2nd/event/evt048.cha\n",
      "#77                  72           551  Hicks/2nd/event/evt049.cha\n",
      "#78                  76           531  Hicks/2nd/event/evt055.cha\n",
      "#79                  21           161  Hicks/2nd/report/rep001.cha\n",
      "#80                  29           211  Hicks/2nd/report/rep002.cha\n",
      "#81                  26           171  Hicks/2nd/report/rep003.cha\n",
      "#82                  37           272  Hicks/2nd/report/rep006.cha\n",
      "#83                  55           438  Hicks/2nd/report/rep007.cha\n",
      "#84                  32           245  Hicks/2nd/report/rep008.cha\n",
      "#85                  19           144  Hicks/2nd/report/rep011.cha\n",
      "#86                  51           369  Hicks/2nd/report/rep017.cha\n",
      "#87                  60           400  Hicks/2nd/report/rep020.cha\n",
      "#88                  59           457  Hicks/2nd/report/rep022.cha\n",
      "#89                 132           902  Hicks/2nd/report/rep023.cha\n",
      "#90                  31           239  Hicks/2nd/report/rep025.cha\n",
      "#91                  43           329  Hicks/2nd/report/rep028.cha\n",
      "#92                  41           316  Hicks/2nd/report/rep036.cha\n",
      "#93                  90           590  Hicks/2nd/report/rep037.cha\n",
      "#94                  57           425  Hicks/2nd/report/rep048.cha\n",
      "#95                  70           550  Hicks/2nd/report/rep049.cha\n",
      "#96                  35           258  Hicks/2nd/report/rep055.cha\n",
      "#97                  42           300  Hicks/2nd/story/story001.cha\n",
      "#98                 120           940  Hicks/2nd/story/story002.cha\n",
      "#99                  87           615  Hicks/2nd/story/story003.cha\n",
      "#100                 37           267  Hicks/2nd/story/story006.cha\n",
      "#101                 96           705  Hicks/2nd/story/story007.cha\n",
      "#102                119           907  Hicks/2nd/story/story008.cha\n",
      "#103                 44           315  Hicks/2nd/story/story011.cha\n",
      "#104                 60           449  Hicks/2nd/story/story017.cha\n",
      "#105                110           760  Hicks/2nd/story/story020.cha\n",
      "#106                117           832  Hicks/2nd/story/story022.cha\n",
      "#107                136           984  Hicks/2nd/story/story023.cha\n",
      "#108                 48           368  Hicks/2nd/story/story025.cha\n",
      "#109                 34           277  Hicks/2nd/story/story028.cha\n",
      "#110                106           759  Hicks/2nd/story/story036.cha\n",
      "#111                 87           615  Hicks/2nd/story/story037.cha\n",
      "#112                 87           612  Hicks/2nd/story/story048.cha\n",
      "#113                111           774  Hicks/2nd/story/story049.cha\n",
      "#114                 66           482  Hicks/2nd/story/story055.cha\n",
      "#115                 83           506  Hicks/5th/event/evt01.cha\n",
      "#116                 74           490  Hicks/5th/event/evt02.cha\n",
      "#117                 73           509  Hicks/5th/event/evt03.cha\n",
      "#118                 73           471  Hicks/5th/event/evt04.cha\n",
      "#119                 91           653  Hicks/5th/event/evt05.cha\n",
      "#120                 81           586  Hicks/5th/report/rep01.cha\n",
      "#121                 31           221  Hicks/5th/report/rep02.cha\n",
      "#122                 60           488  Hicks/5th/report/rep03.cha\n",
      "#123                 20           177  Hicks/5th/report/rep04.cha\n",
      "#124                100           721  Hicks/5th/report/rep05.cha\n",
      "#125                105           722  Hicks/5th/story/story01.cha\n",
      "#126                 83           570  Hicks/5th/story/story02.cha\n",
      "#127                163          1255  Hicks/5th/story/story03.cha\n",
      "#128                 70           466  Hicks/5th/story/story04.cha\n",
      "#129                126           941  Hicks/5th/story/story05.cha\n",
      "#130                 86           696  Hicks/Del/event/evt01.cha\n",
      "#131                 81           638  Hicks/Del/event/evt02.cha\n",
      "#132                 74           544  Hicks/Del/event/evt04.cha\n",
      "#133                 79           659  Hicks/Del/event/evt07.cha\n",
      "#134                 66           494  Hicks/Del/event/evt10.cha\n",
      "#135                 69           539  Hicks/Del/event/evt12.cha\n",
      "#136                 76           559  Hicks/Del/event/evt15.cha\n",
      "#137                 58           480  Hicks/Del/event/evt17.cha\n",
      "#138                 77           618  Hicks/Del/event/evt19.cha\n",
      "#139                 56           422  Hicks/Del/event/evt21.cha\n",
      "#140                 50           383  Hicks/Del/event/evt23.cha\n",
      "#141                 54           412  Hicks/Del/event/evt24.cha\n",
      "#142                 22           164  Hicks/Del/story/story01.cha\n",
      "#143                 34           266  Hicks/Del/story/story02.cha\n",
      "#144                 25           203  Hicks/Del/story/story04.cha\n",
      "#145                 59           455  Hicks/Del/story/story07.cha\n",
      "#146                 60           451  Hicks/Del/story/story10.cha\n",
      "#147                 79           633  Hicks/Del/story/story12.cha\n",
      "#148                117           866  Hicks/Del/story/story15.cha\n",
      "#149                 28           262  Hicks/Del/story/story17.cha\n",
      "#150                 44           355  Hicks/Del/story/story19.cha\n",
      "#151                 34           308  Hicks/Del/story/story21.cha\n",
      "#152                 33           246  Hicks/Del/story/story23.cha\n",
      "#153                 47           388  Hicks/Del/story/story24.cha\n",
      "#154                 99           689  Hicks/Kinder/event/evt013.cha\n",
      "#155                 68           546  Hicks/Kinder/event/evt014.cha\n",
      "#156                 92           722  Hicks/Kinder/event/evt015.cha\n",
      "#157                 75           524  Hicks/Kinder/event/evt031.cha\n",
      "#158                 84           584  Hicks/Kinder/event/evt032.cha\n",
      "#159                 78           562  Hicks/Kinder/event/evt033.cha\n",
      "#160                 70           488  Hicks/Kinder/event/evt034.cha\n",
      "#161                 85           552  Hicks/Kinder/event/evt043.cha\n",
      "#162                 86           665  Hicks/Kinder/event/evt044.cha\n",
      "#163                 68           482  Hicks/Kinder/event/evt045.cha\n",
      "#164                 38           269  Hicks/Kinder/event/evt046.cha\n",
      "#165                 70           461  Hicks/Kinder/event/evt047.cha\n",
      "#166                 72           565  Hicks/Kinder/event/evt051.cha\n",
      "#167                 78           543  Hicks/Kinder/event/evt052.cha\n",
      "#168                 60           472  Hicks/Kinder/event/evt053.cha\n",
      "#169                 63           474  Hicks/Kinder/event/evt054.cha\n",
      "#170                 62           458  Hicks/Kinder/event/evt056.cha\n",
      "#171                 93           622  Hicks/Kinder/event/evt057.cha\n",
      "#172                 56           385  Hicks/Kinder/event/evt058.cha\n",
      "#173                 60           427  Hicks/Kinder/event/evt059.cha\n",
      "#174                 40           277  Hicks/Kinder/report/rep013.cha\n",
      "#175                 47           348  Hicks/Kinder/report/rep014.cha\n",
      "#176                100           701  Hicks/Kinder/report/rep015.cha\n",
      "#177                 45           361  Hicks/Kinder/report/rep031.cha\n",
      "#178                 38           286  Hicks/Kinder/report/rep032.cha\n",
      "#179                 63           488  Hicks/Kinder/report/rep033.cha\n",
      "#180                 56           418  Hicks/Kinder/report/rep034.cha\n",
      "#181                 36           272  Hicks/Kinder/report/rep043.cha\n",
      "#182                 37           288  Hicks/Kinder/report/rep044.cha\n",
      "#183                 19           147  Hicks/Kinder/report/rep045.cha\n",
      "#184                 92           696  Hicks/Kinder/report/rep046.cha\n",
      "#185                 84           616  Hicks/Kinder/report/rep047.cha\n",
      "#186                 67           462  Hicks/Kinder/report/rep051.cha\n",
      "#187                 35           285  Hicks/Kinder/report/rep052.cha\n",
      "#188                 30           244  Hicks/Kinder/report/rep053.cha\n",
      "#189                 94           750  Hicks/Kinder/report/rep054.cha\n",
      "#190                 63           467  Hicks/Kinder/report/rep056.cha\n",
      "#191                 19           145  Hicks/Kinder/report/rep057.cha\n",
      "#192                 64           464  Hicks/Kinder/report/rep058.cha\n",
      "#193                 43           329  Hicks/Kinder/report/rep059.cha\n",
      "#194                 86           615  Hicks/Kinder/story/story013.cha\n",
      "#195                 91           700  Hicks/Kinder/story/story014.cha\n",
      "#196                 64           419  Hicks/Kinder/story/story015.cha\n",
      "#197                 45           341  Hicks/Kinder/story/story031.cha\n",
      "#198                 55           404  Hicks/Kinder/story/story032.cha\n",
      "#199                 83           626  Hicks/Kinder/story/story033.cha\n",
      "#200                 58           430  Hicks/Kinder/story/story034.cha\n",
      "#201                 54           436  Hicks/Kinder/story/story043.cha\n",
      "#202                 35           286  Hicks/Kinder/story/story044.cha\n",
      "#203                 79           579  Hicks/Kinder/story/story045.cha\n",
      "#204                 53           417  Hicks/Kinder/story/story046.cha\n",
      "#205                 51           403  Hicks/Kinder/story/story047.cha\n",
      "#206                 87           655  Hicks/Kinder/story/story051.cha\n",
      "#207                 58           416  Hicks/Kinder/story/story052.cha\n",
      "#208                 46           340  Hicks/Kinder/story/story053.cha\n",
      "#209                 89           658  Hicks/Kinder/story/story054.cha\n",
      "#210                 60           441  Hicks/Kinder/story/story056.cha\n",
      "#211                 74           552  Hicks/Kinder/story/story057.cha\n",
      "#212                 44           318  Hicks/Kinder/story/story058.cha\n",
      "#213                 67           483  Hicks/Kinder/story/story059.cha\n"
     ]
    }
   ],
   "source": [
    "hicks.info(verbose='True')  # set 'verbose' to True \n",
    "                            # to see all files"
   ]
  },
  {
   "cell_type": "markdown",
   "id": "78b54f48",
   "metadata": {},
   "source": [
    "This is looking much more promising! Acceses to different files and the ability to count different things is already built in.\n",
    "\n",
    "Not sure how/why I didn't find this before `chamd`. PyLangAcq has a lot more documentation (that's also organized well) and it's taking care of everything I need."
   ]
  },
  {
   "cell_type": "code",
   "execution_count": 11,
   "id": "c433d877",
   "metadata": {},
   "outputs": [
    {
     "data": {
      "text/html": [
       "<table>  <tr>\n",
       "    <td>*RES:</td>\n",
       "    <td style=\"text-align: left\">so</td>\n",
       "    <td style=\"text-align: left\">this</td>\n",
       "    <td style=\"text-align: left\">is</td>\n",
       "    <td style=\"text-align: left\">again</td>\n",
       "    <td style=\"text-align: left\">Deborah</td>\n",
       "    <td style=\"text-align: left\">and</td>\n",
       "    <td style=\"text-align: left\">Ari</td>\n",
       "    <td style=\"text-align: left\">.</td>\n",
       "  </tr>\n",
       "  <tr>\n",
       "    <td>%mor:</td>\n",
       "    <td style=\"text-align: left\">adv|so</td>\n",
       "    <td style=\"text-align: left\">pro:dem|this</td>\n",
       "    <td style=\"text-align: left\">cop|be&3S</td>\n",
       "    <td style=\"text-align: left\">adv|again</td>\n",
       "    <td style=\"text-align: left\">n:prop|Deborah</td>\n",
       "    <td style=\"text-align: left\">coord|and</td>\n",
       "    <td style=\"text-align: left\">n:prop|Ari</td>\n",
       "    <td style=\"text-align: left\">.</td>\n",
       "  </tr>\n",
       "  <tr>\n",
       "    <td>%gra:</td>\n",
       "    <td style=\"text-align: left\">1|2|JCT</td>\n",
       "    <td style=\"text-align: left\">2|3|SUBJ</td>\n",
       "    <td style=\"text-align: left\">3|0|ROOT</td>\n",
       "    <td style=\"text-align: left\">4|3|JCT</td>\n",
       "    <td style=\"text-align: left\">5|3|PRED</td>\n",
       "    <td style=\"text-align: left\">6|5|CONJ</td>\n",
       "    <td style=\"text-align: left\">7|6|COORD</td>\n",
       "    <td style=\"text-align: left\">8|3|PUNCT</td>\n",
       "  </tr>\n",
       "</table>\n",
       "<table>  <tr>\n",
       "    <td>*RES:</td>\n",
       "    <td style=\"text-align: left\">and</td>\n",
       "    <td style=\"text-align: left\">we're</td>\n",
       "    <td style=\"text-align: left\">CLITIC</td>\n",
       "    <td style=\"text-align: left\">gonna</td>\n",
       "    <td style=\"text-align: left\">CLITIC</td>\n",
       "    <td style=\"text-align: left\">be</td>\n",
       "    <td style=\"text-align: left\">sportscasters</td>\n",
       "    <td style=\"text-align: left\">.</td>\n",
       "  </tr>\n",
       "  <tr>\n",
       "    <td>%mor:</td>\n",
       "    <td style=\"text-align: left\">coord|and</td>\n",
       "    <td style=\"text-align: left\">pro:sub|we</td>\n",
       "    <td style=\"text-align: left\">aux|be&PRES</td>\n",
       "    <td style=\"text-align: left\">part|go-PRESP</td>\n",
       "    <td style=\"text-align: left\">inf|to</td>\n",
       "    <td style=\"text-align: left\">cop|be</td>\n",
       "    <td style=\"text-align: left\">n|+n|sports+n|caster-PL</td>\n",
       "    <td style=\"text-align: left\">.</td>\n",
       "  </tr>\n",
       "  <tr>\n",
       "    <td>%gra:</td>\n",
       "    <td style=\"text-align: left\">1|4|LINK</td>\n",
       "    <td style=\"text-align: left\">2|4|SUBJ</td>\n",
       "    <td style=\"text-align: left\">3|4|AUX</td>\n",
       "    <td style=\"text-align: left\">4|0|ROOT</td>\n",
       "    <td style=\"text-align: left\">5|6|INF</td>\n",
       "    <td style=\"text-align: left\">6|4|COMP</td>\n",
       "    <td style=\"text-align: left\">7|6|PRED</td>\n",
       "    <td style=\"text-align: left\">8|4|PUNCT</td>\n",
       "  </tr>\n",
       "</table>\n",
       "<table>  <tr>\n",
       "    <td>*RES:</td>\n",
       "    <td style=\"text-align: left\">and</td>\n",
       "    <td style=\"text-align: left\">say</td>\n",
       "    <td style=\"text-align: left\">what's</td>\n",
       "    <td style=\"text-align: left\">CLITIC</td>\n",
       "    <td style=\"text-align: left\">happening</td>\n",
       "    <td style=\"text-align: left\">in</td>\n",
       "    <td style=\"text-align: left\">the</td>\n",
       "    <td style=\"text-align: left\">movie</td>\n",
       "    <td style=\"text-align: left\">.</td>\n",
       "  </tr>\n",
       "  <tr>\n",
       "    <td>%mor:</td>\n",
       "    <td style=\"text-align: left\">coord|and</td>\n",
       "    <td style=\"text-align: left\">v|say</td>\n",
       "    <td style=\"text-align: left\">pro:int|what</td>\n",
       "    <td style=\"text-align: left\">aux|be&3S</td>\n",
       "    <td style=\"text-align: left\">part|happen-PRESP</td>\n",
       "    <td style=\"text-align: left\">prep|in</td>\n",
       "    <td style=\"text-align: left\">det:art|the</td>\n",
       "    <td style=\"text-align: left\">n|movie</td>\n",
       "    <td style=\"text-align: left\">.</td>\n",
       "  </tr>\n",
       "  <tr>\n",
       "    <td>%gra:</td>\n",
       "    <td style=\"text-align: left\">1|2|LINK</td>\n",
       "    <td style=\"text-align: left\">2|0|ROOT</td>\n",
       "    <td style=\"text-align: left\">3|5|SUBJ</td>\n",
       "    <td style=\"text-align: left\">4|5|AUX</td>\n",
       "    <td style=\"text-align: left\">5|2|COMP</td>\n",
       "    <td style=\"text-align: left\">6|5|JCT</td>\n",
       "    <td style=\"text-align: left\">7|8|DET</td>\n",
       "    <td style=\"text-align: left\">8|6|POBJ</td>\n",
       "    <td style=\"text-align: left\">9|2|PUNCT</td>\n",
       "  </tr>\n",
       "</table>\n",
       "<table>  <tr>\n",
       "    <td>*RES:</td>\n",
       "    <td style=\"text-align: left\">and</td>\n",
       "    <td style=\"text-align: left\">I'm</td>\n",
       "    <td style=\"text-align: left\">CLITIC</td>\n",
       "    <td style=\"text-align: left\">gonna</td>\n",
       "    <td style=\"text-align: left\">CLITIC</td>\n",
       "    <td style=\"text-align: left\">start</td>\n",
       "    <td style=\"text-align: left\">.</td>\n",
       "  </tr>\n",
       "  <tr>\n",
       "    <td>%mor:</td>\n",
       "    <td style=\"text-align: left\">coord|and</td>\n",
       "    <td style=\"text-align: left\">pro:sub|I</td>\n",
       "    <td style=\"text-align: left\">aux|be&1S</td>\n",
       "    <td style=\"text-align: left\">part|go-PRESP</td>\n",
       "    <td style=\"text-align: left\">inf|to</td>\n",
       "    <td style=\"text-align: left\">v|start</td>\n",
       "    <td style=\"text-align: left\">.</td>\n",
       "  </tr>\n",
       "  <tr>\n",
       "    <td>%gra:</td>\n",
       "    <td style=\"text-align: left\">1|4|LINK</td>\n",
       "    <td style=\"text-align: left\">2|4|SUBJ</td>\n",
       "    <td style=\"text-align: left\">3|4|AUX</td>\n",
       "    <td style=\"text-align: left\">4|0|ROOT</td>\n",
       "    <td style=\"text-align: left\">5|6|INF</td>\n",
       "    <td style=\"text-align: left\">6|4|COMP</td>\n",
       "    <td style=\"text-align: left\">7|4|PUNCT</td>\n",
       "  </tr>\n",
       "</table>\n",
       "<table>  <tr>\n",
       "    <td>*RES:</td>\n",
       "    <td style=\"text-align: left\">the</td>\n",
       "    <td style=\"text-align: left\">little</td>\n",
       "    <td style=\"text-align: left\">boy</td>\n",
       "    <td style=\"text-align: left\">is</td>\n",
       "    <td style=\"text-align: left\">getting</td>\n",
       "    <td style=\"text-align: left\">some</td>\n",
       "    <td style=\"text-align: left\">money</td>\n",
       "    <td style=\"text-align: left\">out</td>\n",
       "    <td style=\"text-align: left\">.</td>\n",
       "  </tr>\n",
       "  <tr>\n",
       "    <td>%mor:</td>\n",
       "    <td style=\"text-align: left\">det:art|the</td>\n",
       "    <td style=\"text-align: left\">adj|little</td>\n",
       "    <td style=\"text-align: left\">n|boy</td>\n",
       "    <td style=\"text-align: left\">aux|be&3S</td>\n",
       "    <td style=\"text-align: left\">part|get-PRESP</td>\n",
       "    <td style=\"text-align: left\">qn|some</td>\n",
       "    <td style=\"text-align: left\">n|money</td>\n",
       "    <td style=\"text-align: left\">adv|out</td>\n",
       "    <td style=\"text-align: left\">.</td>\n",
       "  </tr>\n",
       "  <tr>\n",
       "    <td>%gra:</td>\n",
       "    <td style=\"text-align: left\">1|3|DET</td>\n",
       "    <td style=\"text-align: left\">2|3|MOD</td>\n",
       "    <td style=\"text-align: left\">3|5|SUBJ</td>\n",
       "    <td style=\"text-align: left\">4|5|AUX</td>\n",
       "    <td style=\"text-align: left\">5|0|ROOT</td>\n",
       "    <td style=\"text-align: left\">6|7|QUANT</td>\n",
       "    <td style=\"text-align: left\">7|5|OBJ</td>\n",
       "    <td style=\"text-align: left\">8|5|JCT</td>\n",
       "    <td style=\"text-align: left\">9|5|PUNCT</td>\n",
       "  </tr>\n",
       "</table>"
      ],
      "text/plain": [
       "*RES:  so       this          is         again      Deborah         and        Ari         .\n",
       "%mor:  adv|so   pro:dem|this  cop|be&3S  adv|again  n:prop|Deborah  coord|and  n:prop|Ari  .\n",
       "%gra:  1|2|JCT  2|3|SUBJ      3|0|ROOT   4|3|JCT    5|3|PRED        6|5|CONJ   7|6|COORD   8|3|PUNCT\n",
       "\n",
       "*RES:  and        we're                   gonna                 be        sportscasters            .\n",
       "%mor:  coord|and  pro:sub|we~aux|be&PRES  part|go-PRESP~inf|to  cop|be    n|+n|sports+n|caster-PL  .\n",
       "%gra:  1|4|LINK   2|4|SUBJ 3|4|AUX        4|0|ROOT 5|6|INF      6|4|COMP  7|6|PRED                 8|4|PUNCT\n",
       "\n",
       "*RES:  and        say       what's                  happening          in       the          movie     .\n",
       "%mor:  coord|and  v|say     pro:int|what~aux|be&3S  part|happen-PRESP  prep|in  det:art|the  n|movie   .\n",
       "%gra:  1|2|LINK   2|0|ROOT  3|5|SUBJ 4|5|AUX        5|2|COMP           6|5|JCT  7|8|DET      8|6|POBJ  9|2|PUNCT\n",
       "\n",
       "*RES:  and        I'm                  gonna                 start     .\n",
       "%mor:  coord|and  pro:sub|I~aux|be&1S  part|go-PRESP~inf|to  v|start   .\n",
       "%gra:  1|4|LINK   2|4|SUBJ 3|4|AUX     4|0|ROOT 5|6|INF      6|4|COMP  7|4|PUNCT\n",
       "\n",
       "*RES:  the          little      boy       is         getting         some       money    out      .\n",
       "%mor:  det:art|the  adj|little  n|boy     aux|be&3S  part|get-PRESP  qn|some    n|money  adv|out  .\n",
       "%gra:  1|3|DET      2|3|MOD     3|5|SUBJ  4|5|AUX    5|0|ROOT        6|7|QUANT  7|5|OBJ  8|5|JCT  9|5|PUNCT\n"
      ]
     },
     "execution_count": 11,
     "metadata": {},
     "output_type": "execute_result"
    },
    {
     "data": {
      "text/html": [
       "<table>  <tr>\n",
       "    <td>*CHI:</td>\n",
       "    <td style=\"text-align: left\">and</td>\n",
       "    <td style=\"text-align: left\">and</td>\n",
       "    <td style=\"text-align: left\">then</td>\n",
       "    <td style=\"text-align: left\">all</td>\n",
       "    <td style=\"text-align: left\">the</td>\n",
       "    <td style=\"text-align: left\">people</td>\n",
       "    <td style=\"text-align: left\">loosed</td>\n",
       "    <td style=\"text-align: left\">their</td>\n",
       "    <td style=\"text-align: left\">balloon</td>\n",
       "    <td style=\"text-align: left\">.</td>\n",
       "  </tr>\n",
       "  <tr>\n",
       "    <td>%mor:</td>\n",
       "    <td style=\"text-align: left\">coord|and</td>\n",
       "    <td style=\"text-align: left\">coord|and</td>\n",
       "    <td style=\"text-align: left\">adv:tem|then</td>\n",
       "    <td style=\"text-align: left\">qn|all</td>\n",
       "    <td style=\"text-align: left\">det:art|the</td>\n",
       "    <td style=\"text-align: left\">n|person&PL</td>\n",
       "    <td style=\"text-align: left\">v|loose-PAST</td>\n",
       "    <td style=\"text-align: left\">det:poss|their</td>\n",
       "    <td style=\"text-align: left\">n|balloon</td>\n",
       "    <td style=\"text-align: left\">.</td>\n",
       "  </tr>\n",
       "  <tr>\n",
       "    <td>%gra:</td>\n",
       "    <td style=\"text-align: left\">1|7|LINK</td>\n",
       "    <td style=\"text-align: left\">2|7|LINK</td>\n",
       "    <td style=\"text-align: left\">3|7|JCT</td>\n",
       "    <td style=\"text-align: left\">4|6|QUANT</td>\n",
       "    <td style=\"text-align: left\">5|6|DET</td>\n",
       "    <td style=\"text-align: left\">6|7|SUBJ</td>\n",
       "    <td style=\"text-align: left\">7|0|ROOT</td>\n",
       "    <td style=\"text-align: left\">8|9|DET</td>\n",
       "    <td style=\"text-align: left\">9|7|OBJ</td>\n",
       "    <td style=\"text-align: left\">10|7|PUNCT</td>\n",
       "  </tr>\n",
       "  <tr>\n",
       "    <td>%cod:</td>\n",
       "    <td colspan=\"10\" style=\"text-align: left\">$ind $pa $t:sq</td>\n",
       "  </tr>\n",
       "</table>\n",
       "<table>  <tr>\n",
       "    <td>*CHI:</td>\n",
       "    <td style=\"text-align: left\">and</td>\n",
       "    <td style=\"text-align: left\">lots_of</td>\n",
       "    <td style=\"text-align: left\">balloons</td>\n",
       "    <td style=\"text-align: left\">came</td>\n",
       "    <td style=\"text-align: left\">flying</td>\n",
       "    <td style=\"text-align: left\">to</td>\n",
       "    <td style=\"text-align: left\">the</td>\n",
       "    <td style=\"text-align: left\">boy</td>\n",
       "    <td style=\"text-align: left\">.</td>\n",
       "  </tr>\n",
       "  <tr>\n",
       "    <td>%mor:</td>\n",
       "    <td style=\"text-align: left\">coord|and</td>\n",
       "    <td style=\"text-align: left\">qn|lots_of</td>\n",
       "    <td style=\"text-align: left\">n|balloon-PL</td>\n",
       "    <td style=\"text-align: left\">v|come&PAST</td>\n",
       "    <td style=\"text-align: left\">part|fly-PRESP</td>\n",
       "    <td style=\"text-align: left\">prep|to</td>\n",
       "    <td style=\"text-align: left\">det:art|the</td>\n",
       "    <td style=\"text-align: left\">n|boy</td>\n",
       "    <td style=\"text-align: left\">.</td>\n",
       "  </tr>\n",
       "  <tr>\n",
       "    <td>%gra:</td>\n",
       "    <td style=\"text-align: left\">1|4|LINK</td>\n",
       "    <td style=\"text-align: left\">2|3|QUANT</td>\n",
       "    <td style=\"text-align: left\">3|4|SUBJ</td>\n",
       "    <td style=\"text-align: left\">4|0|ROOT</td>\n",
       "    <td style=\"text-align: left\">5|4|XJCT</td>\n",
       "    <td style=\"text-align: left\">6|5|JCT</td>\n",
       "    <td style=\"text-align: left\">7|8|DET</td>\n",
       "    <td style=\"text-align: left\">8|6|POBJ</td>\n",
       "    <td style=\"text-align: left\">9|4|PUNCT</td>\n",
       "  </tr>\n",
       "  <tr>\n",
       "    <td>%cod:</td>\n",
       "    <td colspan=\"9\" style=\"text-align: left\">$ind $pa $pg $indef:bls $np:pas</td>\n",
       "  </tr>\n",
       "</table>\n",
       "<table>  <tr>\n",
       "    <td>*EXP:</td>\n",
       "    <td style=\"text-align: left\">wow</td>\n",
       "    <td style=\"text-align: left\">is</td>\n",
       "    <td style=\"text-align: left\">that</td>\n",
       "    <td style=\"text-align: left\">the</td>\n",
       "    <td style=\"text-align: left\">end</td>\n",
       "    <td style=\"text-align: left\">of</td>\n",
       "    <td style=\"text-align: left\">the</td>\n",
       "    <td style=\"text-align: left\">story</td>\n",
       "    <td style=\"text-align: left\">?</td>\n",
       "  </tr>\n",
       "  <tr>\n",
       "    <td>%mor:</td>\n",
       "    <td style=\"text-align: left\">co|wow</td>\n",
       "    <td style=\"text-align: left\">cop|be&3S</td>\n",
       "    <td style=\"text-align: left\">comp|that</td>\n",
       "    <td style=\"text-align: left\">det:art|the</td>\n",
       "    <td style=\"text-align: left\">n|end</td>\n",
       "    <td style=\"text-align: left\">prep|of</td>\n",
       "    <td style=\"text-align: left\">det:art|the</td>\n",
       "    <td style=\"text-align: left\">n|story</td>\n",
       "    <td style=\"text-align: left\">?</td>\n",
       "  </tr>\n",
       "  <tr>\n",
       "    <td>%gra:</td>\n",
       "    <td style=\"text-align: left\">1|2|COM</td>\n",
       "    <td style=\"text-align: left\">2|0|ROOT</td>\n",
       "    <td style=\"text-align: left\">3|2|PRED</td>\n",
       "    <td style=\"text-align: left\">4|5|DET</td>\n",
       "    <td style=\"text-align: left\">5|3|OBJ</td>\n",
       "    <td style=\"text-align: left\">6|5|NJCT</td>\n",
       "    <td style=\"text-align: left\">7|8|DET</td>\n",
       "    <td style=\"text-align: left\">8|6|POBJ</td>\n",
       "    <td style=\"text-align: left\">9|2|PUNCT</td>\n",
       "  </tr>\n",
       "</table>\n",
       "<table>  <tr>\n",
       "    <td>*XXX:</td>\n",
       "    <td style=\"text-align: left\">yeah</td>\n",
       "    <td style=\"text-align: left\">.</td>\n",
       "  </tr>\n",
       "  <tr>\n",
       "    <td>%mor:</td>\n",
       "    <td style=\"text-align: left\">co|yeah</td>\n",
       "    <td style=\"text-align: left\">.</td>\n",
       "  </tr>\n",
       "  <tr>\n",
       "    <td>%gra:</td>\n",
       "    <td style=\"text-align: left\">1|0|INCROOT</td>\n",
       "    <td style=\"text-align: left\">2|1|PUNCT</td>\n",
       "  </tr>\n",
       "</table>\n",
       "<table>  <tr>\n",
       "    <td>*EXP:</td>\n",
       "    <td style=\"text-align: left\">great</td>\n",
       "    <td style=\"text-align: left\">!</td>\n",
       "  </tr>\n",
       "  <tr>\n",
       "    <td>%mor:</td>\n",
       "    <td style=\"text-align: left\">adj|great</td>\n",
       "    <td style=\"text-align: left\">!</td>\n",
       "  </tr>\n",
       "  <tr>\n",
       "    <td>%gra:</td>\n",
       "    <td style=\"text-align: left\">1|0|INCROOT</td>\n",
       "    <td style=\"text-align: left\">2|1|PUNCT</td>\n",
       "  </tr>\n",
       "</table>"
      ],
      "text/plain": [
       "*CHI:  and        and        then          all        the          people       loosed        their           balloon    .\n",
       "%mor:  coord|and  coord|and  adv:tem|then  qn|all     det:art|the  n|person&PL  v|loose-PAST  det:poss|their  n|balloon  .\n",
       "%gra:  1|7|LINK   2|7|LINK   3|7|JCT       4|6|QUANT  5|6|DET      6|7|SUBJ     7|0|ROOT      8|9|DET         9|7|OBJ    10|7|PUNCT\n",
       "%cod:\t$ind $pa $t:sq\n",
       "\n",
       "*CHI:  and        lots_of     balloons      came         flying          to       the          boy       .\n",
       "%mor:  coord|and  qn|lots_of  n|balloon-PL  v|come&PAST  part|fly-PRESP  prep|to  det:art|the  n|boy     .\n",
       "%gra:  1|4|LINK   2|3|QUANT   3|4|SUBJ      4|0|ROOT     5|4|XJCT        6|5|JCT  7|8|DET      8|6|POBJ  9|4|PUNCT\n",
       "%cod:\t$ind $pa $pg $indef:bls $np:pas\n",
       "\n",
       "*EXP:  wow      is         that       the          end      of        the          story     ?\n",
       "%mor:  co|wow   cop|be&3S  comp|that  det:art|the  n|end    prep|of   det:art|the  n|story   ?\n",
       "%gra:  1|2|COM  2|0|ROOT   3|2|PRED   4|5|DET      5|3|OBJ  6|5|NJCT  7|8|DET      8|6|POBJ  9|2|PUNCT\n",
       "\n",
       "*XXX:  yeah         .\n",
       "%mor:  co|yeah      .\n",
       "%gra:  1|0|INCROOT  2|1|PUNCT\n",
       "\n",
       "*EXP:  great        !\n",
       "%mor:  adj|great    !\n",
       "%gra:  1|0|INCROOT  2|1|PUNCT\n"
      ]
     },
     "execution_count": 11,
     "metadata": {},
     "output_type": "execute_result"
    }
   ],
   "source": [
    "hicks.head()\n",
    "hicks.tail()"
   ]
  },
  {
   "cell_type": "markdown",
   "id": "923fc52c",
   "metadata": {},
   "source": [
    "This is in a great format that preserves all the separation between tokens across all tiers. When a child is speaking, the %cod tier gets tacked on as the fourth and final tier. \n",
    "\n",
    "Of note for now: Contractions and clitics are transcribed in a specific way with the word itself first and then CLITIC as the next \"word\". Can read more about this in the CHAT manual. "
   ]
  },
  {
   "cell_type": "code",
   "execution_count": 12,
   "id": "9e5848e8",
   "metadata": {},
   "outputs": [
    {
     "data": {
      "text/plain": [
       "['Hicks/1st/event/evt004.cha', 'Hicks/1st/event/evt005.cha', 'Hicks/1st/event/evt009.cha', 'Hicks/1st/event/evt010.cha', 'Hicks/1st/event/evt012.cha', 'Hicks/1st/event/evt016.cha', 'Hicks/1st/event/evt018.cha', 'Hicks/1st/event/evt019.cha', 'Hicks/1st/event/evt021.cha', 'Hicks/1st/event/evt024.cha']"
      ]
     },
     "execution_count": 12,
     "metadata": {},
     "output_type": "execute_result"
    },
    {
     "data": {
      "text/plain": [
       "['Hicks/Kinder/story/story046.cha', 'Hicks/Kinder/story/story047.cha', 'Hicks/Kinder/story/story051.cha', 'Hicks/Kinder/story/story052.cha', 'Hicks/Kinder/story/story053.cha', 'Hicks/Kinder/story/story054.cha', 'Hicks/Kinder/story/story056.cha', 'Hicks/Kinder/story/story057.cha', 'Hicks/Kinder/story/story058.cha', 'Hicks/Kinder/story/story059.cha']"
      ]
     },
     "execution_count": 12,
     "metadata": {},
     "output_type": "execute_result"
    }
   ],
   "source": [
    "# all file paths\n",
    "\n",
    "hicks.file_paths()[:10]\n",
    "hicks.file_paths()[-10:]"
   ]
  },
  {
   "cell_type": "code",
   "execution_count": 13,
   "id": "75e3bb90",
   "metadata": {},
   "outputs": [],
   "source": [
    "# setting variables for grade level\n",
    "\n",
    "first = pylangacq.read_chat(url, match=\"1st\")\n",
    "second = pylangacq.read_chat(url, match=\"2nd\")\n",
    "fifth = pylangacq.read_chat(url, match=\"5th\")\n",
    "Del = pylangacq.read_chat(url, match=\"Del\")  # only has event and story, though\n",
    "kinder = pylangacq.read_chat(url, match=\"Kinder\")"
   ]
  },
  {
   "cell_type": "markdown",
   "id": "5e6eeda0",
   "metadata": {},
   "source": [
    "The \"Del\" directory of files only contains narratives of the event and story genre (no report genre). To keep things consistent across all the grade levels, I may end up not using the \"Del\" files. I'll keep them in for now, though."
   ]
  },
  {
   "cell_type": "code",
   "execution_count": 14,
   "id": "cae597f6",
   "metadata": {},
   "outputs": [
    {
     "name": "stdout",
     "output_type": "stream",
     "text": [
      "=====\n",
      "\n",
      "number of files: 60\n",
      "file path example: ['Hicks/1st/event/evt004.cha', 'Hicks/1st/event/evt005.cha']\n",
      "number of files per genre: 20\n",
      "total number of utterances: 3981\n",
      "total number of words: 28408 \n",
      "\n",
      "=====\n",
      "\n",
      "number of files: 54\n",
      "file path example: ['Hicks/2nd/event/evt001.cha', 'Hicks/2nd/event/evt002.cha']\n",
      "number of files per genre: 18\n",
      "total number of utterances: 3843\n",
      "total number of words: 26823 \n",
      "\n",
      "=====\n",
      "\n",
      "number of files: 15\n",
      "file path example: ['Hicks/5th/event/evt01.cha', 'Hicks/5th/event/evt02.cha']\n",
      "number of files per genre: 5\n",
      "total number of utterances: 1233\n",
      "total number of words: 8545 \n",
      "\n",
      "=====\n",
      "\n",
      "number of files: 24\n",
      "file path example: ['Hicks/Del/event/evt01.cha', 'Hicks/Del/event/evt02.cha']\n",
      "number of files per genre: 8\n",
      "total number of utterances: 1408\n",
      "total number of words: 10560 \n",
      "\n",
      "=====\n",
      "\n",
      "number of files: 60\n",
      "file path example: ['Hicks/Kinder/event/evt013.cha', 'Hicks/Kinder/event/evt014.cha']\n",
      "number of files per genre: 20\n",
      "total number of utterances: 3808\n",
      "total number of words: 27241 \n",
      "\n"
     ]
    }
   ],
   "source": [
    "for file in first, second, fifth, Del, kinder:\n",
    "    print('=====\\n')\n",
    "    print('number of files:', file.n_files())\n",
    "    print('file path example:', file.file_paths()[:2])\n",
    "    print('number of files per genre:', int(file.n_files()/3))\n",
    "    print('total number of utterances:', len(file.utterances()))\n",
    "    print('total number of words:', len(file.words()), '\\n')"
   ]
  },
  {
   "cell_type": "markdown",
   "id": "7b70ea24",
   "metadata": {},
   "source": [
    "There are a lot less files for fifth-grade students. There are 3 different genres, so that means there are all only 5 files per genre for fifth-grade students."
   ]
  },
  {
   "cell_type": "code",
   "execution_count": 15,
   "id": "6ee80f82",
   "metadata": {},
   "outputs": [],
   "source": [
    "# setting variables for narrative genre\n",
    "\n",
    "event = pylangacq.read_chat(url, match=\"event\")\n",
    "report = pylangacq.read_chat(url, match=\"report\")\n",
    "story = pylangacq.read_chat(url, match=\"story\")"
   ]
  },
  {
   "cell_type": "code",
   "execution_count": 16,
   "id": "532c864b",
   "metadata": {},
   "outputs": [
    {
     "name": "stdout",
     "output_type": "stream",
     "text": [
      "=====\n",
      "\n",
      "number of files: 75\n",
      "file path example: ['Hicks/1st/event/evt004.cha', 'Hicks/1st/event/evt005.cha']\n",
      "total number of utterances: 5623\n",
      "total number of words: 38753 \n",
      "\n",
      "=====\n",
      "\n",
      "number of files: 63\n",
      "file path example: ['Hicks/1st/report/rep004.cha', 'Hicks/1st/report/rep005.cha']\n",
      "total number of utterances: 3331\n",
      "total number of words: 24338 \n",
      "\n",
      "=====\n",
      "\n",
      "number of files: 75\n",
      "file path example: ['Hicks/1st/story/story004.cha', 'Hicks/1st/story/story005.cha']\n",
      "total number of utterances: 5319\n",
      "total number of words: 38486 \n",
      "\n"
     ]
    }
   ],
   "source": [
    "for file in event, report, story:\n",
    "    print('=====\\n')\n",
    "    print('number of files:', file.n_files())\n",
    "    print('file path example:', file.file_paths()[:2])\n",
    "    print('total number of utterances:', len(file.utterances()))\n",
    "    print('total number of words:', len(file.words()), '\\n')"
   ]
  },
  {
   "cell_type": "markdown",
   "id": "4e204a54",
   "metadata": {},
   "source": [
    "This seems to match up - remember the \"Del\" directory did not have any report files (so 63 report files instead of 75), but it did have event and story files. \n",
    "\n",
    "So, overall, it looks like the sets (by genre) are comparable in size. "
   ]
  },
  {
   "cell_type": "markdown",
   "id": "21bb248f",
   "metadata": {},
   "source": [
    "I am not sure yet in what way I want to apply the UDS framework to this CHILDES narrative dataset - across age or narrative genre? "
   ]
  },
  {
   "cell_type": "markdown",
   "id": "025b293b",
   "metadata": {},
   "source": [
    "There is a lot more I can do with `pylangacq` than this, but I only have the basic info about the datasets for now because I exhausted so much of my energy trying to get `chamd` to work... "
   ]
  },
  {
   "cell_type": "markdown",
   "id": "f653ead9",
   "metadata": {},
   "source": [
    "### More exploration:"
   ]
  },
  {
   "cell_type": "markdown",
   "id": "e997eca5",
   "metadata": {},
   "source": [
    "#### Accessing CHAT headers:"
   ]
  },
  {
   "cell_type": "code",
   "execution_count": 17,
   "id": "43026e12",
   "metadata": {},
   "outputs": [
    {
     "data": {
      "text/plain": [
       "[(5, 9, 0), (6, 6, 0), (7, 0, 0), (6, 5, 0), (6, 8, 0), (6, 6, 0), (6, 1, 0), (6, 1, 0), (6, 7, 0), (6, 10, 0), (6, 7, 0), (6, 6, 0), (6, 7, 0), (6, 11, 0), (6, 9, 0), (6, 7, 0), (6, 5, 0), (6, 7, 0), (6, 6, 0), (6, 9, 0), (5, 9, 0), (6, 6, 0), (7, 0, 0), (6, 5, 0), (6, 8, 0), (6, 6, 0), (6, 1, 0), (6, 1, 0), (6, 7, 0), (6, 10, 0), (6, 7, 0), (6, 6, 0), (6, 7, 0), (6, 11, 0), (6, 9, 0), (6, 7, 0), (6, 5, 0), (6, 7, 0), (6, 6, 0), (6, 9, 0), (5, 9, 0), (6, 6, 0), (7, 0, 0), (6, 5, 0), (6, 8, 0), (6, 6, 0), (6, 1, 0), (6, 1, 0), (6, 7, 0), (6, 10, 0), (6, 7, 0), (6, 6, 0), (6, 7, 0), (6, 11, 0), (6, 9, 0), (6, 7, 0), (6, 5, 0), (6, 7, 0), (6, 6, 0), (6, 9, 0)]"
      ]
     },
     "execution_count": 17,
     "metadata": {},
     "output_type": "execute_result"
    },
    {
     "data": {
      "text/plain": [
       "[69.0, 78.0, 84.0, 77.0, 80.0, 78.0, 73.0, 73.0, 79.0, 82.0, 79.0, 78.0, 79.0, 83.0, 81.0, 79.0, 77.0, 79.0, 78.0, 81.0, 69.0, 78.0, 84.0, 77.0, 80.0, 78.0, 73.0, 73.0, 79.0, 82.0, 79.0, 78.0, 79.0, 83.0, 81.0, 79.0, 77.0, 79.0, 78.0, 81.0, 69.0, 78.0, 84.0, 77.0, 80.0, 78.0, 73.0, 73.0, 79.0, 82.0, 79.0, 78.0, 79.0, 83.0, 81.0, 79.0, 77.0, 79.0, 78.0, 81.0]"
      ]
     },
     "execution_count": 17,
     "metadata": {},
     "output_type": "execute_result"
    }
   ],
   "source": [
    "# ages()\n",
    "# returns CHI ages in tuple of 3 integers\n",
    "# (years, months, days)\n",
    "\n",
    "# ages of first graders\n",
    "first.ages()\n",
    "\n",
    "# same ages in months\n",
    "first.ages(months=True)"
   ]
  },
  {
   "cell_type": "code",
   "execution_count": 18,
   "id": "c55287e5",
   "metadata": {},
   "outputs": [
    {
     "data": {
      "text/plain": [
       "[{datetime.date(1987, 10, 8)}, {datetime.date(1987, 10, 14)}, {datetime.date(1987, 10, 15)}, {datetime.date(1987, 10, 16)}, {datetime.date(1987, 10, 16)}, {datetime.date(1987, 10, 19)}, {datetime.date(1987, 10, 19)}, {datetime.date(1987, 10, 19)}, {datetime.date(1987, 10, 22)}, {datetime.date(1987, 10, 23)}, {datetime.date(1987, 10, 29)}, {datetime.date(1987, 10, 19)}, {datetime.date(1987, 10, 30)}, {datetime.date(1987, 10, 30)}, {datetime.date(1987, 11, 5)}, {datetime.date(1987, 11, 5)}, {datetime.date(1987, 11, 5)}, {datetime.date(1987, 11, 6)}, {datetime.date(1987, 11, 6)}, {datetime.date(1987, 11, 6)}, {datetime.date(1987, 10, 8)}, {datetime.date(1987, 10, 14)}, {datetime.date(1987, 10, 15)}, {datetime.date(1987, 10, 16)}, {datetime.date(1987, 10, 16)}, {datetime.date(1987, 10, 19)}, {datetime.date(1987, 10, 19)}, {datetime.date(1987, 10, 19)}, {datetime.date(1987, 10, 22)}, set(), {datetime.date(1987, 10, 29)}, {datetime.date(1987, 10, 29)}, {datetime.date(1987, 10, 30)}, {datetime.date(1987, 10, 30)}, {datetime.date(1987, 11, 5)}, {datetime.date(1987, 11, 5)}, {datetime.date(1987, 11, 5)}, {datetime.date(1987, 11, 6)}, {datetime.date(1987, 11, 6)}, {datetime.date(1987, 11, 6)}, {datetime.date(1987, 10, 8)}, {datetime.date(1987, 10, 15)}, {datetime.date(1987, 10, 15)}, {datetime.date(1987, 10, 19)}, {datetime.date(1987, 10, 16)}, {datetime.date(1987, 10, 19)}, {datetime.date(1987, 10, 19)}, {datetime.date(1987, 10, 29)}, {datetime.date(1987, 10, 22)}, {datetime.date(1987, 10, 23)}, {datetime.date(1987, 10, 29)}, {datetime.date(1987, 10, 29)}, {datetime.date(1987, 10, 30)}, {datetime.date(1987, 10, 30)}, {datetime.date(1987, 11, 5)}, {datetime.date(1987, 11, 5)}, {datetime.date(1987, 11, 5)}, {datetime.date(1987, 11, 6)}, {datetime.date(1987, 11, 6)}, {datetime.date(1987, 11, 6)}]"
      ]
     },
     "execution_count": 18,
     "metadata": {},
     "output_type": "execute_result"
    },
    {
     "data": {
      "text/plain": [
       "{datetime.date(1987, 11, 6), datetime.date(1987, 10, 30), datetime.date(1987, 10, 23), datetime.date(1987, 10, 19), datetime.date(1987, 10, 29), datetime.date(1987, 11, 5), datetime.date(1987, 10, 8), datetime.date(1987, 10, 14), datetime.date(1987, 10, 16), datetime.date(1987, 10, 22), datetime.date(1987, 10, 15)}"
      ]
     },
     "execution_count": 18,
     "metadata": {},
     "output_type": "execute_result"
    }
   ],
   "source": [
    "# dates_of_recording()\n",
    "# returns dates of recording\n",
    "\n",
    "# recording date by file\n",
    "first.dates_of_recording(by_files=True)\n",
    "\n",
    "# unique recording dates\n",
    "first.dates_of_recording()"
   ]
  },
  {
   "cell_type": "markdown",
   "id": "b4fbe40d",
   "metadata": {},
   "source": [
    "all 1987"
   ]
  },
  {
   "cell_type": "code",
   "execution_count": 19,
   "id": "b9f193b4",
   "metadata": {},
   "outputs": [
    {
     "data": {
      "text/plain": [
       "{'eng'}"
      ]
     },
     "execution_count": 19,
     "metadata": {},
     "output_type": "execute_result"
    }
   ],
   "source": [
    "# languages()\n",
    "# returns language info \n",
    "\n",
    "first.languages()"
   ]
  },
  {
   "cell_type": "markdown",
   "id": "a74cd142",
   "metadata": {},
   "source": [
    "Already know that this dataset is all English."
   ]
  },
  {
   "cell_type": "code",
   "execution_count": 20,
   "id": "ad00cff3",
   "metadata": {},
   "outputs": [
    {
     "data": {
      "text/plain": [
       "{'XXX', 'CHI', 'RES'}"
      ]
     },
     "execution_count": 20,
     "metadata": {},
     "output_type": "execute_result"
    }
   ],
   "source": [
    "# participants()\n",
    "# returns participants\n",
    "\n",
    "first.participants()"
   ]
  },
  {
   "cell_type": "markdown",
   "id": "43464b64",
   "metadata": {},
   "source": [
    "Note to self: look up what the 'XXX' participant label is.\n",
    "\n",
    "&darr;\n",
    "\n",
    "According to the [CHAT transcription manual](https://talkbank.org/manuals/CHAT.pdf), XXX stands for the three-letter speaker ID, which would be RES (researcher) and CHI (child), here. This XXX popping up here could be a remnant from a time they forgot to remove the template and add the actual ID?"
   ]
  },
  {
   "cell_type": "code",
   "execution_count": 21,
   "id": "5ee8235f",
   "metadata": {},
   "outputs": [
    {
     "data": {
      "text/plain": [
       "{'UTF8': '', 'PID': '11312/c-00025368-1', 'Languages': ['eng'], 'Participants': {'CHI': {'name': 'Ari', 'language': 'eng', 'corpus': 'Hicks', 'age': '5;09.', 'sex': 'female', 'group': '', 'ses': '', 'role': 'Target_Child', 'education': '', 'custom': ''}, 'RES': {'name': 'Deborah', 'language': 'eng', 'corpus': 'Hicks', 'age': '', 'sex': '', 'group': '', 'ses': '', 'role': 'Investigator', 'education': '', 'custom': ''}}, 'Comment': 'Task is eventcast', 'Date': {datetime.date(1987, 10, 8)}, 'Types': 'cross, narrative, TD'}"
      ]
     },
     "execution_count": 21,
     "metadata": {},
     "output_type": "execute_result"
    },
    {
     "data": {
      "text/plain": [
       "{'UTF8': '', 'PID': '11312/c-00025427-1', 'Languages': ['eng'], 'Participants': {'CHI': {'name': 'Emily', 'language': 'eng', 'corpus': 'Hicks', 'age': '6;09.', 'sex': 'female', 'group': '', 'ses': '', 'role': 'Target_Child', 'education': '', 'custom': ''}, 'RES': {'name': 'Deborah', 'language': 'eng', 'corpus': 'Hicks', 'age': '', 'sex': '', 'group': '', 'ses': '', 'role': 'Investigator', 'education': '', 'custom': ''}}, 'Comment': 'Task is story', 'Date': {datetime.date(1987, 11, 6)}, 'Types': 'cross, narrative, TD'}"
      ]
     },
     "execution_count": 21,
     "metadata": {},
     "output_type": "execute_result"
    }
   ],
   "source": [
    "# full header information in a dict \n",
    "\n",
    "first.headers()[0]\n",
    "first.headers()[-1]"
   ]
  },
  {
   "cell_type": "markdown",
   "id": "89b33f1e",
   "metadata": {},
   "source": [
    "There's not a whole lot of information in the headers of this dataset, but for demographic information, I think I will want to have access to the participants' age and sex. Not sure if I need their names? The grade level comes from the file name. As for additional information, it might be nice to see the comments, though, actually, this might only tell me about the narrative genre (which I also already know from the file name).\n",
    "\n",
    "*For this project, what is important is the actual text and the dependent tiers."
   ]
  },
  {
   "cell_type": "markdown",
   "id": "87d514a5",
   "metadata": {},
   "source": [
    "#### Accessing transcriptions and annotations: "
   ]
  },
  {
   "cell_type": "markdown",
   "id": "40bffd46",
   "metadata": {},
   "source": [
    "For the specific purposes of my project, the transcription and annotation information is the important information needed.  "
   ]
  },
  {
   "cell_type": "markdown",
   "id": "4414d9dd",
   "metadata": {},
   "source": [
    "- asterisk that comes before the participant code signals a transcription line\n",
    "- transcriptions are word-segmented by spaces\n",
    "- punctuation treated as words\n",
    "- dependent tiers marked by a % \n",
    "    - %mor tier\n",
    "    - %gre tier\n",
    "    - %cod tier (only for participants' utterances in this dataset)"
   ]
  },
  {
   "cell_type": "code",
   "execution_count": 22,
   "id": "ecded0d7",
   "metadata": {},
   "outputs": [
    {
     "name": "stdout",
     "output_type": "stream",
     "text": [
      "['Hicks/5th/event/evt01.cha'] [['he', 'puts', 'his', 'balloon', '.'], ['and', 'says', '.'], [\"what's\", 'he', 'saying', \"what's\", 'he', 'saying', '?'], [\"he's\", 'saying', '\"/.'], ['stay', 'there', '!'], ['he', 'goes', 'into', 'the', 'bakery', 'shop', '.'], ['and', 'he', 'gets', 'something', '.'], ['oh', 'no', 'along', 'come', 'the', 'mean', 'boys', '.'], [\"they're\", 'looking', 'too', '.'], ['ah', \"they're\", 'looking', 'too', '.'], [\"they're\", 'feasting', 'their', 'eyes', '.'], ['agh', 'one', 'boy', 'spots', 'the', 'balloon', '!'], ['oh', 'they', 'run', '.'], ['and', 'they', 'catch', 'it', '.'], ['and', 'they', 'grab', 'it', '.'], ['and', 'they', 'run', '.'], ['the', 'little', 'boy', 'walks', 'out', 'of', 'the', 'pastry', 'shop', '.'], ['and', 'looks', 'for', 'his', 'balloon', '.'], ['he', 'walks', 'out', '.'], ['he', 'looks', 'up', '.'], ['he', 'looks', 'down', '.'], ['here', 'go', 'the', 'boys', '.'], ['up', 'the', 'hill', 'to', 'the', 'big', 'top', 'carrying', 'the', 'balloon', '.'], ['the', 'little', 'boy', 'still', \"doesn't\", 'have', 'any', 'idea', '.'], ['where', 'his', 'balloon', 'is', '.'], ['now', \"he's\", \"he's\", 'looking', '.'], ['and', 'he', 'walks', 'up', '.'], ['there', 'are', 'the', 'boys', '.'], [\"they're\", 'climbing', 'over', 'a', 'wall', 'with', 'the', 'balloon', '.'], ['over', 'the', 'wall', '.'], ['up', 'the', 'hill', '.'], ['over', 'the', 'small', 'pieces', 'of', 'gravel', '.'], [\"there's\", 'the', 'little', 'boy', '.'], [\"he's\", 'up', 'on', 'the', 'hill', '.'], ['but', 'can', 'he', 'see', 'his', 'balloon', '?'], [\"he's\", 'walking', \"he's\", 'walking', '.'], ['he', 'looks', 'around', '.'], ['the', 'boys', 'are', 'shooting', 'the', 'balloon', '.'], ['and', \"they're\", 'fighting', 'about', '.'], [\"who's\", 'going', 'to', 'shoot', 'it', 'first', '.'], ['now', 'there', 'goes', 'the', 'balloon', '.'], ['the', \"balloon's\", 'floating', 'up', '.'], ['no', 'back', 'back', '.'], ['boys', 'are', 'shooting', '.'], [\"they're\", 'fighting', '.'], ['the', 'the', 'little', 'boy', 'sees', 'his', 'red', 'balloon', '!'], ['he', 'shouts', '\"/.'], ['balloon', 'balloon', '.'], ['then', 'he', 'runs', 'down', '.'], ['the', 'balloon', 'is', 'still', 'floating', 'over', 'the', 'top', '.'], ['where', 'the', 'boys', 'are', 'fighting', 'over', 'it', '.'], ['he', 'runs', 'down', 'the', 'street', '.'], [\"there's\", 'his', 'balloon', '!'], ['he', 'tries', 'to', 'open', 'the', 'gate', '.'], ['but', 'it', \"won't\", '.'], ['the', 'he', 'peeps', 'in', '.'], ['and', 'he', 'sees', 'the', 'boys', '.'], ['he', 'shouts', '\"/.'], ['come', 'here', 'balloon', '!'], ['the', 'balloon', 'comes', 'down', '.'], ['the', 'boy', 'grabs', 'the', 'balloon', '.'], ['and', 'they', 'they', 'are', 'running', '.'], ['no', 'but', 'the', 'boys', 'have', 'the', 'other', 'side', 'of', 'the', 'string', '!'], ['then', 'the', 'boy', 'lets', 'go', '.'], ['and', 'runs', 'with', 'his', 'balloon', '.']]\n",
      "['Hicks/5th/event/evt02.cha'] [[\"he's\", 'telling', 'his', 'balloon', '.'], ['not', 'not', 'to', 'move', 'at', 'all', '.'], ['when', \"he's\", 'going', 'in', '.'], ['now', 'the', 'older', 'boys', 'or', 'I', \"don't\", 'know', 'the', 'other', 'boys', 'look', 'into', 'the', 'bakery', 'shop', '.'], ['look', '.'], ['and', 'see', 'the', 'balloon', '.'], ['they', 'come', 'around', 'the', 'corner', '.'], ['and', 'sweep', 'the', 'balloon', '.'], ['while', 'the', 'boy', 'comes', 'out', '.'], ['eating', 'his', 'pastry', '.'], ['he', \"doesn't\", 'know', '.'], ['where', 'his', 'balloon', 'went', '.'], ['so', 'he', 'looks', 'high', 'and', 'low', '.'], ['while', 'the', 'boys', 'are', 'running', '.'], ['and', 'thrashing', 'the', 'balloon', 'with', 'a', 'wooden', 'stick', '.'], ['he', 'walks', 'down', 'the', 'street', '.'], ['looking', 'everywhere', '.'], ['turns', 'around', '.'], ['the', 'boys', 'are', 'climbing', 'over', 'the', 'tall', 'wall', 'with', 'the', 'balloon', '.'], ['and', 'now', \"they're\", 'going', 'up', 'some', 'stairs', '.'], ['the', 'boy', 'is', 'looking', 'for', 'the', 'balloon', 'very', 'carefully', '.'], ['he', 'thinks', '.'], ['it', 'would', 'be', 'in', 'the', 'sky', '.'], ['as', 'you', 'can', 'see', '.'], [\"he's\", 'holding', 'his', 'head', 'up', 'high', '.'], ['the', 'boys', 'are', 'thrashing', 'the', 'balloon', '.'], ['and', 'hitting', 'it', 'with', 'rubber', 'bands', '.'], ['and', 'rocks', '.'], ['and', 'they', 'have', 'the', 'balloon', '.'], ['tied', 'to', 'a', 'long', 'string', '.'], ['the', 'boy', 'sees', 'the', 'balloon', '.'], ['and', 'calls', 'for', 'it', '.'], ['to', 'come', 'to', 'him', '.'], ['but', 'it', \"doesn't\", 'seem', 'to', 'come', '.'], ['he', 'wonders', '.'], ['why', \"it's\", 'not', 'coming', '.'], ['and', 'he', 'goes', 'down', 'the', 'hill', 'a', 'little', 'more', '.'], ['while', 'the', 'in', 'the', 'meantime', 'the', 'boys', 'are', 'still', 'trying', 'to', 'thrash', 'the', 'balloon', '.'], ['and', 'are', 'roughhousing', '.'], ['the', 'boy', 'comes', 'to', 'a', 'wall', '.'], ['and', 'sees', 'the', 'balloon', '.'], ['he', 'tries', 'to', 'open', 'a', 'door', '.'], ['but', 'it', 'seems', 'to', 'be', 'locked', '.'], ['he', 'looks', 'in', 'the', 'peephole', 'or', 'the', 'keyhole', '.'], ['and', 'then', 'calls', 'for', 'the', 'balloon', '.'], ['to', 'come', 'again', '.'], ['the', 'balloon', 'comes', '.'], ['as', 'far', 'as', 'he', 'can', 'go', 'down', '.'], ['and', 'the', 'boy', 'tugs', 'at', 'the', 'string', '.'], ['while', 'the', 'other', 'boys', 'are', '.'], [\"he's\", 'off', 'the', 'ground', 'now', '.'], ['because', \"they're\", 'tugging', '.'], ['and', 'finally', 'they', 'give', 'in', '.'], ['the', 'boy', 'runs', 'with', 'the', 'balloon', '.'], ['as', 'fast', 'as', 'he', 'can', '.'], ['as', 'the', 'boys', 'are', 'following', 'him', '.']]\n",
      "['Hicks/5th/event/evt03.cha'] [['okay', \"he's\", 'telling', 'the', 'balloon', '.'], ['to', 'wait', 'right', 'outside', 'the', 'bakery', '.'], ['and', 'not', 'go', 'anywhere', '.'], ['oh', 'now', 'the', 'boys', 'who', 'are', 'chasing', 'them', '.'], ['look', 'into', 'the', 'bakery', 'shop', '.'], ['and', 'then', 'they', 'see', 'the', 'balloon', '.'], ['well', 'they', 'grab', 'the', 'balloon', '.'], ['and', 'run', 'away', '.'], ['and', 'the', 'little', 'boy', 'is', 'coming', 'out', 'of', 'the', 'bakery', 'shop', 'with', 'a', 'pastry', 'in', 'his', 'hand', '.'], ['looking', 'for', 'the', 'balloon', '.'], ['he', 'remembered', '.'], [\"he'd\", 'specifically', 'told', 'the', 'balloon', '.'], ['to', 'stay', 'there', '.'], ['and', 'now', 'the', 'boys', \"they've\", 'tied', 'another', 'longer', 'string', '.'], ['and', \"they're\", 'beating', 'it', 'the', 'balloon', '.'], ['and', 'the', 'little', 'boy', 'is', 'looking', 'all', 'around', 'for', 'the', 'balloon', '.'], ['and', 'he', 'goes', 'this', 'way', 'and', 'that', '.'], ['and', 'the', 'boys', 'climb', 'over', 'a', 'a', 'wall', '.'], ['and', 'up', 'some', 'steps', '.'], ['and', \"there's\", 'some', 'other', 'boys', '.'], ['looking', 'out', 'the', 'window', 'older', 'boys', '.'], ['and', 'they', 'climb', 'all', 'over', 'some', 'ruins', '.'], ['and', 'the', 'little', 'boy', 'is', 'still', 'looking', '.'], ['and', \"he's\", 'on', 'a', 'little', 'hill', '.'], ['looking', '...'], ['whoops', 'he', 'slipped', '.'], ['looking', 'for', 'the', 'balloon', '.'], ['looking', 'this', 'way', 'and', 'that', '.'], ['and', 'the', 'boys', 'have', 'slingshots', '.'], ['and', \"they're\", 'fighting', 'over', 'the', 'balloon', '.'], ['and', \"they're\", 'hitting', 'each', 'other', '.'], ['and', 'trying', 'to', 'hit', 'the', 'balloon', '.'], ['and', \"they're\", 'pulling', 'on', 'it', '.'], ['and', 'the', 'little', 'boy', 'sees', '.'], ['the', 'red', 'balloon', 'waiving', 'in', 'the', 'air', '.'], ['and', 'he', 'tells', 'the', 'balloon', '.'], ['to', 'come', 'to', 'him', '.'], ['but', 'the', 'balloon', 'is', 'tied', 'to', 'another', 'string', '.'], ['so', 'it', \"can't\", 'come', '.'], ['so', 'now', 'the', 'boys', 'are', 'still', 'fighting', '.'], ['and', \"they're\", 'fighting', '.'], ['and', 'they', 'try', 'to', 'get', 'the', 'balloon', '.'], ['meanwhile', 'the', 'boy', 'has', 'gotten', 'to', 'the', 'fence', '.'], [\"he's\", 'trying', 'to', 'open', 'the', 'door', '.'], ['but', 'the', 'door', 'will', 'not', 'open', '.'], ['and', 'he', 'looks', 'in', 'the', 'keyhole', '.'], ['and', 'he', 'sees', 'the', 'boys', '.'], ['and', 'so', 'he', 'tells', 'again', 'the', 'balloon', '.'], ['to', 'come', 'to', 'him', '.'], ['and', 'the', 'balloon', 'comes', 'now', '.'], ['and', 'he', 'pulls', '.'], ['and', 'the', 'boys', 'pull', '.'], ['and', 'he', 'gets', 'up', 'the', 'fence', '.'], ['but', 'then', 'the', 'string', 'breaks', '.'], ['and', 'the', 'little', 'boy', 'runs', 'away', '.'], ['now', 'those', 'other', 'boys', 'are', 'climbing', 'over', 'the', 'fence', '.']]\n",
      "['Hicks/5th/event/evt04.cha'] [['now', \"he's\", 'now', \"he's\", 'telling', 'his', 'balloon', '.'], ['to', 'wait', 'outside', '.'], ['while', 'he', 'goes', 'into', 'the', 'bakery', 'shop', '.'], ['but', 'ah', 'look', '.'], ['here', 'come', 'the', 'big', 'bullies', '.'], ['who', 'who', 'also', 'want', 'pastries', '.'], ['and', 'then', 'they', 'see', 'the', 'balloon', '.'], ['and', 'so', 'they', 'grab', 'it', '!'], ['and', 'they', 'go', 'running', 'off', 'with', 'it', '.'], ['and', 'the', 'boy', 'comes', 'out', '.'], ['and', \"he's\", 'eating', 'and', \"he's\", 'eating', 'his', 'pastry', '.'], ['but', 'his', \"balloon's\", 'gone', '.'], ['he', 'looks', 'around', '.'], ['but', \"it's\", 'not', 'there', '.'], ['he', 'looks', 'up', '.'], ['meanwhile', 'the', 'boys', 'are', 'running', 'away', 'with', 'his', 'balloon', '.'], ['getting', 'ready', 'to', 'whack', 'it', 'with', 'sticks', '.'], ['and', 'knock', 'it', 'down', '.'], ['and', 'kill', 'it', '.'], ['the', 'boy', 'looks', 'around', 'some', 'more', '.'], ['but', \"can't\", 'find', 'him', '.'], ['the', 'bullies', 'climb', 'over', 'a', 'wall', '.'], ['and', 'the', 'red', 'balloon', 'tries', 'to', 'escape', '.'], ['but', 'they', 'have', 'it', 'on', 'a', 'leash', '.'], ['oh', 'men', 'are', 'watching', 'from', 'the', 'window', '.'], ['while', 'they', 'clamber', 'over', 'stones', 'and', 'bricks', '.'], ['and', 'then', 'the', 'boy', 'he', 'sees', 'something', '.'], ['he', 'sees', 'his', 'red', 'balloon', '!'], ['or', 'does', 'he', '?'], ['the', 'boys', 'are', 'fighting', 'now', '.'], ['whether', 'to', 'hit', 'it', '.'], ['or', 'kill', 'it', 'or', 'whatever', '.'], ['the', 'balloon', 'is', 'being', 'attacked', '!'], ['stones', 'and', 'stones', '!'], ['and', 'then', 'the', 'boy', 'sees', 'it', 'his', 'balloon', '!'], ['he', 'goes', 'running', 'after', 'it', '!'], ['come', 'back', 'balloon', 'come', 'back', '!'], ['he', 'says', '.'], ['he', 'runs', 'down', 'the', 'hill', '.'], ['fast', 'as', 'he', 'can', '.'], ['not', 'very', 'fast', '.'], ['and', 'then', 'the', 'bullies', 'are', 'fighting', 'meanwhile', 'very', 'hard', '.'], ['oh', 'no', 'the', 'the', 'biggest', 'bullies', 'seem', 'to', 'have', 'his', 'thing', '.'], ['oh', 'no', 'the', 'boy', 'tries', 'to', 'get', 'in', '.'], ['but', \"it's\", 'locked', '!'], ['oh', 'no', 'he', \"can't\", '!'], ['he', 'sees', '.'], [\"what's\", 'going', 'on', '.'], ['so', 'he', 'says', '\"/.'], ['come', 'here', 'balloon', '!'], ['the', 'balloon', 'tries', '.'], ['but', \"can't\", '.'], ['he', 'gets', 'the', 'rope', '.'], ['but', 'the', 'bullies', 'have', 'another', 'rope', '!'], ['and', 'they', 'pull', 'him', 'up', 'against', 'the', 'wall', '!'], ['then', 'off', 'the', 'boy', 'runs', 'away', '!'], ['but', 'the', 'boys', 'come', 'after', 'him', '.'], ['over', 'the', 'wall', 'they', 'climb', '.']]\n",
      "['Hicks/5th/event/evt05.cha'] [['okay', 'he', 'tells', 'his', 'balloon', '.'], ['to', 'stay', 'right', 'in', 'front', 'of', 'the', 'shop', '.'], ['while', 'he', 'goes', 'in', '.'], ['and', 'buys', 'one', 'of', 'the', 'pastries', '.'], ['and', 'then', 'these', 'street', 'boys', 'who', 'like', \"they're\", 'just', 'walking', 'around', '.'], ['they', 'look', '.'], ['and', 'they', \"don't\", 'have', 'enough', 'money', '.'], ['but', 'they', 'want', 'the', 'balloon', '.'], ['and', 'they', 'see', 'the', 'balloon', '.'], ['and', 'then', 'they', 'grab', 'it', '.'], ['they', 'run', 'off', 'with', 'it', '.'], ['and', 'then', 'the', 'little', 'boy', 'comes', 'out', 'of', 'the', 'shop', '.'], ['munching', 'a', 'pastry', '.'], ['and', 'he', 'goes', '\"/.'], [\"where's\", 'my', 'balloon', '?'], ['and', 'so', \"he's\", 'looking', 'all', 'around', '.'], ['and', 'looks', 'up', '.'], ['and', 'then', 'you', 'see', 'all', 'the', 'other', 'people', '.'], [\"who's\", 'tied', 'a', 'long', 'long', 'string', 'to', 'the', 'balloon', '.'], ['and', \"there's\", 'another', 'person', 'I', 'think', '.'], ['and', 'so', \"he's\", 'going', 'to', 'going', 'down', 'the', 'street', '.'], [\"he's\", 'still', 'looking', 'around', '.'], ['he', \"doesn't\", 'know', '.'], [\"what's\", 'happened', '.'], ['and', \"he's\", 'going', 'up', 'the', 'street', '.'], ['meanwhile', 'the', 'other', 'boys', 'are', 'climbing', 'over', 'the', 'this', 'big', 'wall', '.'], ['still', 'holding', 'the', 'balloon', '.'], ['and', \"they're\", 'just', 'climbing', 'like', 'like', 'this', 'field', 'up', 'above', '.'], [\"they're\", 'all', 'climbing', 'over', '.'], ['just', 'climbing', 'over', 'all', 'these', 'things', '.'], ['and', 'the', \"boy's\", 'still', 'wondering', '.'], ['where', 'it', 'his', 'balloon', 'is', '.'], ['and', \"he's\", 'looking', 'all', 'around', '.'], [\"he's\", 'on', 'this', 'field', 'kind', 'of', 'thing', '.'], ['slips', '.'], ['then', 'he', 'is', 'looking', 'all', 'around', '.'], ['he', \"doesn't\", 'see', 'it', 'anywhere', '.'], ['and', 'then', \"they're\", 'all', 'fighting', 'over', 'the', 'balloon', '.'], ['saying', '\"/.'], ['I', 'want', '.'], ['no', 'actually', \"they're\", 'also', 'trying', 'to', 'get', 'a', 'policeman', 'away', '.'], [\"there's\", 'a', 'policeman', 'there', '.'], ['and', 'so', \"they're\", \"they're\", 'pulling', 'on', 'the', 'balloon', '.'], ['and', 'the', \"boy's\", 'up', 'above', '.'], ['and', 'suddenly', 'he', 'sees', '.'], ['his', 'balloon', 'coming', 'coming', 'up', 'there', '.'], ['and', 'he', 'goes', '\"/.'], ['hello', 'balloon', 'come', 'back', '!'], ['but', 'he', \"doesn't\", 'know', '.'], [\"there's\", 'other', 'string', 'tied', 'to', 'it', '.'], ['so', 'he', 'goes', 'down', '.'], ['and', 'meanwhile', 'the', 'boys', 'are', 'still', 'fighting', 'around', 'the', 'balloon', '.'], ['and', \"they're\", 'trying', 'to', 'shoot', 'it', 'with', 'with', 'those', 'little', 'thingies', '.'], ['and', 'he', 'he', 'sees', 'the', 'wall', '.'], ['and', 'he', 'sees', 'the', 'balloon', 'over', 'it', '.'], ['and', \"there's\", 'a', 'door', 'in', 'the', 'wall', '.'], [\"he's\", 'pushing', 'on', 'it', '.'], ['but', \"everyone's\", 'pushing', 'back', '.'], ['and', 'then', 'he', 'looks', 'through', 'the', 'keyhole', '.'], ['and', 'he', 'sees', '.'], ['what', \"everyone's\", 'doing', '.'], ['and', 'he', 'sees', 'the', 'balloon', '.'], ['and', 'it', 'comes', 'like', 'down', 'closer', '.'], ['since', \"there's\", 'still', 'the', 'other', 'string', '.'], ['hanging', 'down', '.'], ['and', 'so', 'he', 'holds', 'the', 'the', 'the', 'old', 'string', '.'], ['meanwhile', 'all', 'the', 'boys', 'on', 'the', 'other', 'side', 'are', 'pulling', 'on', 'the', 'on', 'the', 'new', 'string', '.'], ['that', 'they', 'put', 'on', '.'], ['the', 'boy', 'comes', 'up', 'over', 'the', 'wall', '.'], ['and', 'then', 'breaks', 'the', 'string', 'the', 'new', 'string', '.'], ['and', 'he', 'runs', 'down', 'the', 'street', '.'], ['all', 'the', 'boys', 'climb', 'over', 'the', 'wall', 'after', 'him', '.'], ['climbing', 'all', 'over', '.']]\n",
      "['Hicks/5th/report/rep01.cha'] [['as', 'the', 'bus', 'went', 'along', '.'], ['the', 'balloon', 'kept', 'following', '.'], ['when', 'he', 'got', 'off', 'the', 'bus', '.'], ['the', 'balloon', 'stopped', 'following', '.'], ['as', 'the', 'boy', 'got', 'off', 'the', 'bus', '.'], ['the', 'balloon', 'came', 'down', '.'], ['and', 'let', 'the', 'boy', 'take', 'its', 'string', '.'], ['as', 'they', 'kept', 'on', 'walking', '.'], ['after', 'a', 'while', 'they', 'came', 'along', 'some', 'boys', '.'], ['the', 'boys', 'were', 'following', 'the', 'little', 'boy', 'and', 'the', 'red', 'balloon', '.'], ['and', 'were', 'trying', 'to', 'catch', 'the', 'balloon', '.'], ['and', 'take', 'it', 'down', '.'], ['the', 'balloon', 'as', 'strange', 'as', 'it', 'may', 'seem', '.'], ['would', 'not', 'allow', '.'], ['these', 'ragamuffins', 'to', 'catch', 'it', '.'], ['when', 'the', 'boy', 'came', 'later', 'on', 'the', 'boy', 'went', 'into', 'a', 'pastry', 'shop', '.'], ['and', 'as', 'he', 'went', 'in', '.'], ['he', 'told', 'the', 'balloon', '.'], ['to', 'stay', 'right', 'above', 'the', 'door', '.'], ['the', 'boys', 'who', 'had', 'also', 'come', 'along', '.'], ['to', 'look', 'at', 'the', 'pastry', 'shop', '.'], ['saw', 'the', 'balloon', '.'], ['hanging', 'there', '.'], ['and', 'in', 'just', 'a', 'moment', 'caught', 'the', 'balloon', '.'], ['and', 'were', 'running', 'toward', 'the', 'hill', '.'], ['when', 'they', 'got', 'to', 'when', 'the', 'boy', 'got', 'out', 'of', 'the', 'pastry', 'shop', '.'], ['he', 'called', 'his', 'balloon', '.'], ['and', 'it', \"didn't\", 'come', '.'], ['he', 'was', 'running', 'all', 'around', 'Paris', '.'], ['trying', 'to', 'find', 'his', 'balloon', '.'], ['finally', 'he', 'came', 'up', 'to', 'the', 'beginning', 'of', 'the', 'hill', '.'], ['and', 'he', 'saw', 'a', 'tiny', 'red', 'mark', 'on', 'the', 'on', 'the', 'dot', 'of', 'the', 'hill', '.'], ['he', 'ran', 'up', '.'], ['and', 'low', 'and', 'behold', 'there', 'was', 'his', 'balloon', '.'], ['and', 'there', 'were', 'the', 'boys', '.'], ['he', 'called', 'his', 'balloon', 'many', 'times', '.'], ['and', 'finally', 'it', 'came', '.'], ['he', 'started', 'running', '.'], ['he', 'he', 'ran', 'down', 'a', 'narrow', 'passageway', '.'], ['and', 'seemingly', 'escaped', 'the', 'boys', '.'], ['but', 'then', 'as', 'he', 'was', 'reaching', 'the', 'end', 'of', 'the', 'passageway', '.'], ['three', 'more', 'boys', 'came', '.'], ['and', 'trapped', 'him', '.'], ['he', 'pushed', 'through', 'them', '.'], ['and', 'ran', 'up', 'toward', 'the', 'hill', '.'], ['hoping', 'to', 'escape', 'from', 'them', '.'], ['but', 'when', 'he', 'got', 'to', 'the', 'top', 'of', 'the', 'hill', '.'], ['boys', 'came', 'from', 'every', 'direction', '.'], ['around', 'eight', 'boys', 'grabbed', 'him', '.'], ['and', 'held', 'him', '.'], ['while', 'the', 'other', 'boys', 'were', 'shot', 'the', 'balloon', '.'], ['as', 'the', 'balloon', 'fizzled', '.'], ['and', 'went', 'to', 'the', 'ground', '.'], ['balloons', 'were', 'popping', 'out', 'of', 'every', 'corner', 'in', 'the', 'town', '.'], ['out', 'of', 'windows', 'came', 'balloons', '!'], ['off', 'babies', 'came', 'balloons', '!'], ['everywhere', 'there', 'were', 'balloons', '!'], ['they', 'all', 'came', 'up', 'to', 'the', 'hill', '.'], ['where', 'the', 'little', 'boy', 'was', 'sitting', '.'], ['lamenting', 'over', 'his', 'lost', 'red', 'balloon', '.'], ['when', 'the', 'balloons', 'got', 'to', 'the', 'top', 'of', 'the', 'hill', '.'], ['the', 'boy', 'tied', 'them', 'all', 'together', '.'], ['and', 'sat', 'on', 'top', 'of', 'the', 'strings', '.'], ['he', 'was', 'last', 'seen', '.'], ['floating', 'above', 'the', 'town', 'of', 'Paris', '.']]\n",
      "['Hicks/5th/report/rep02.cha'] [['okay', 'the', 'boy', 'is', 'the', 'boy', 'last', 'seen', '.'], ['reaching', 'for', 'the', 'balloon', 'vigorously', '.'], ['to', 'get', 'the', 'balloon', '.'], ['he', 'is', 'carrying', 'it', 'along', '.'], ['and', 'he', 'and', 'he', 'has', 'come', 'to', 'a', 'bakery', 'shop', '.'], ['there', 'are', 'some', 'boys', '.'], ['the', 'boys', 'come', 'around', 'the', 'corner', '.'], [\"they've\", 'been', 'trying', 'to', 'get', 'the', 'balloon', 'for', 'hours', '.'], ['and', 'finally', 'see', 'their', 'opportunity', '.'], ['to', 'get', 'the', 'balloon', '.'], ['they', 'grab', 'the', 'balloon', '.'], ['and', 'start', 'running', '.'], ['the', 'boy', 'comes', 'back', 'with', 'his', 'pastry', '.'], ['is', 'wondering', '.'], ['where', 'his', 'balloon', 'was', '.'], ['stay', 'tuned', 'later', 'for', 'more', 'details', '.']]\n",
      "['Hicks/5th/report/rep03.cha'] [['okay', 'then', 'well', 'some', 'so', 'now', 'there', 'are', 'these', 'boys', '.'], ['who', 'want', 'this', 'balloon', '.'], ['and', 'they', 'went', '.'], ['to', 'go', 'over', '.'], ['and', 'they', 'try', 'and', 'catch', 'the', 'balloon', '.'], ['and', 'the', 'boy', 'lets', 'go', 'of', 'the', 'balloon', '.'], ['and', 'he', 'goes', 'up', 'stairs', '.'], ['and', 'amazingly', 'the', 'balloon', 'comes', 'back', 'to', 'him', '.'], ['and', 'all', 'the', 'kids', \"they're\", 'yelling', 'again', '.'], ['trying', 'to', 'get', 'the', 'balloon', '.'], ['and', 'then', 'the', 'boy', 'goes', 'home', '.'], ['and', 'he', \"can't\", 'bring', 'the', 'balloon', 'up', 'the', 'stairs', '.'], ['so', 'he', 'goes', 'up', 'to', 'the', 'balcony', '.'], ['and', 'the', 'balloon', 'goes', 'up', 'to', 'the', 'balcony', '.'], ['and', 'he', 'gets', 'the', 'balloon', 'there', '.'], ['meanwhile', 'all', 'the', 'boys', 'are', 'trying', 'to', 'get', 'the', 'balloon', '.'], ['but', 'of', 'course', 'they', \"can't\", '.'], ['and', 'then', 'well', 'the', 'next', 'day', 'they', 'hafta', 'church', '.'], ['when', \"he's\", 'going', 'to', 'church', '.'], ['the', 'balloon', 'follows', 'him', '.'], ['I', \"don't\", 'think', '.'], ['he', 'told', 'the', 'balloon', '.'], ['to', 'follow', 'him', '.'], ['but', 'the', 'guards', 'had', 'told', 'the', 'boy', 'and', 'his', 'grandmother', 'or', 'mother', 'or', 'guardian', 'or', 'whoever', 'that', 'is', 'and', 'the', 'balloon', '.'], ['and', 'they', 'all', 'hadta', 'go', 'out', 'of', 'the', 'church', '.'], ['and', 'and', 'so', 'when', 'the', 'balloon', 'goes', 'away', '.'], ['and', 'the', 'boy', 'looks', 'for', 'the', 'balloon', '.'], ['the', 'boy', 'was', 'looking', 'for', 'the', 'balloon', '.'], ['and', 'he', 'just', \"couldn't\", 'find', 'it', 'anywhere', '.'], ['so', 'he', 'looks', 'around', '.'], ['and', 'then', 'he', 'sees', 'the', 'balloon', '.'], ['the', 'boys', 'the', 'boys', 'are', 'throwing', 'stones', 'at', 'the', 'balloon', '.'], ['trying', 'to', 'pop', 'it', '.'], ['and', 'of', 'course', 'this', 'boy', \"doesn't\", 'want', 'this', '.'], ['to', 'happen', '.'], ['so', 'he', 'gets', 'the', 'balloon', '.'], ['and', 'he', 'runs', 'away', 'from', 'the', 'boys', '.'], ['then', \"they're\", 'trying', 'to', 'get', 'the', 'balloon', '.'], ['so', 'they', 'can', 'pop', 'it', '.'], ['then', 'he', 'hasta', 'let', 'go', 'of', 'the', 'balloon', '.'], ['and', 'then', 'crock', 'someone', 'hits', 'a', 'stone', 'at', 'the', 'balloon', '.'], ['and', 'it', 'and', 'it', 'shatters', '.'], ['and', 'it', 'goes', 'down', 'down', 'to', 'the', 'ground', '.'], ['but', 'then', 'all', 'of', 'the', 'balloons', 'in', 'the', 'whole', 'town', 'come', '.'], ['to', 'where', 'the', 'boy', 'is', '.'], ['all', 'the', 'other', 'boys', 'left', '.'], ['and', 'they', 'lift', 'him', 'into', 'the', 'air', '.'], ['and', 'that', 'is', 'all', 'we', 'know', 'of', 'this', 'story', '.']]\n",
      "['Hicks/5th/report/rep04.cha'] [['the', 'the', 'boy', 'seemed', 'to', 'have', 'many', 'bullies', '.'], ['who', 'picked', 'on', 'him', '.'], ['and', 'and', 'and', 'so', 'they', 'took', 'his', 'balloon', 'away', 'from', 'him', '.'], ['the', 'the', 'biggest', 'and', 'bravest', 'of', 'the', 'boys', 'shot', 'down', 'his', 'balloon', '.'], ['then', 'balloons', 'were', 'said', 'to', 'be', 'flying', 'away', 'from', 'children', 'away', 'from', 'homes', 'and', 'cities', 'and', 'up', 'to', 'the', 'boy', '.'], ['and', 'he', 'was', 'picked', 'up', '.'], ['and', 'flown', 'over', 'around', 'the', 'world', '.']]\n",
      "['Hicks/5th/report/rep05.cha'] [['the', 'other', 'people', 'had', 'said', '.'], [\"there's\", 'no', 'balloons', 'allowed', 'on', 'the', 'bus', '.'], ['so', 'the', 'balloon', 'is', 'following', 'along', 'behind', '.'], ['while', 'the', 'and', 'all', 'the', 'people', 'on', 'the', 'bus', 'are', 'going', '\"/.'], ['ah', \"what's\", 'happening', '?'], ['and', 'so', 'he', 'is', \"he's\", 'on', 'the', 'bus', '.'], ['and', 'the', 'balloon', 'is', 'following', 'behind', '.'], ['and', 'he', 'and', 'he', 'gets', 'off', 'the', 'bus', '.'], ['and', 'he', 'catches', 'the', 'balloon', '.'], ['then', 'he', 'he', 'walks', 'around', '.'], ['and', 'he', 'goes', 'with', 'his', 'mother', 'I', 'think', 'it', 'is', '.'], ['and', 'he', 'goes', 'into', 'this', 'big', 'churchlike', 'building', '.'], ['the', 'balloon', 'wants', 'to', 'follow', '.'], ['so', 'it', 'follows', 'in', '.'], ['but', 'the', 'guards', 'say', '\"/.'], ['no', 'balloons', '!'], ['and', 'the', 'boy', 'runs', 'out', 'with', 'the', 'balloon', '.'], ['and', 'so', 'he', 'walks', 'he', 'walks', 'around', '.'], ['and', 'these', 'boys', 'see', 'the', 'balloon', '.'], ['they', 'want', 'it', '.'], ['and', 'so', \"he's\", 'walking', 'all', 'around', '.'], ['and', \"they're\", 'chasing', 'after', 'him', '.'], ['and', 'they', 'go', 'down', 'like', 'an', 'alley', 'and', 'things', '.'], ['and', 'then', 'and', 'then', 'he', 'he', 'sees', 'the', 'bakery', 'shop', '.'], ['and', 'he', 'he', 'decides', '.'], ['if', 'he', 'has', 'enough', 'money', '.'], ['he', 'says', '\"/.'], ['yes', 'I', 'think', 'I', 'have', 'enough', 'money', '.'], ['so', 'he', 'goes', 'in', '.'], ['and', 'gets', 'this', 'pastry', '.'], ['meanwhile', 'the', 'other', 'boys', 'get', 'the', 'balloon', '.'], ['and', 'run', 'off', 'to', 'this', 'other', 'place', '.'], ['and', 'they', 'go', 'over', 'walls', 'and', 'things', '.'], ['then', 'the', 'boy', 'comes', 'out', '.'], ['has', 'gotten', 'a', 'pastry', '.'], ['is', 'looking', 'around', '.'], ['and', 'he', \"doesn't\", 'know', '.'], [\"what's\", 'happened', 'to', 'his', 'balloon', '.'], ['looks', 'around', 'and', 'around', '.'], ['and', 'he', 'looks', 'up', '.'], ['and', 'then', 'he', 'goes', 'down', 'the', 'street', '.'], ['where', 'they', 'have', 'gone', '.'], ['then', 'they', 'then', 'they', 'have', 'a', 'chase', '.'], ['and', 'then', 'they', 'tie', 'like', 'a', 'really', 'long', 'string', '.'], ['so', 'that', 'the', 'balloon', 'is', 'trailing', 'way', 'after', 'it', '.'], ['so', 'he', 'could', 'see', 'it', '.'], ['and', 'so', \"they're\", 'running', '.'], ['and', 'they', 'go', 'over', 'walls', '.'], ['and', 'the', \"boy's\", 'chasing', 'after', 'them', '.'], ['then', 'the', 'balloon', 'goes', 'over', 'a', 'wall', '.'], ['with', 'their', 'holding', 'onto', 'it', '.'], ['and', 'like', 'fighting', 'over', 'it', '.'], ['and', 'he', 'he', 'sees', 'a', 'door', 'in', 'the', 'wall', '.'], ['he', 'sees', 'the', 'balloon', '.'], ['and', 'he', 'says', '\"/.'], ['come', 'back', 'balloon', '.'], ['but', 'the', \"balloon's\", 'being', 'holded', 'by', 'another', 'string', '.'], ['and', 'so', 'he', 'he', 'tries', 'to', 'open', 'the', 'door', '.'], ['but', 'it', 'keeps', 'getting', 'pushed', 'back', '.'], ['and', 'he', 'keeps', 'trying', 'to', 'open', 'it', '.'], ['and', 'then', 'he', 'looks', 'through', 'the', 'keyhole', '.'], ['and', 'sees', '.'], [\"what's\", 'happening', '.'], ['then', 'he', 'goes', 'to', 'the', 'side', 'of', 'the', 'wall', '.'], ['and', 'the', 'balloon', 'comes', 'like', 'down', 'over', '.'], ['and', 'he', 'holds', 'the', 'old', 'string', '.'], ['and', 'breaks', 'the', 'other', 'one', '.'], ['and', 'all', 'the', 'boys', 'fall', 'over', 'in', 'back', '.'], ['then', 'he', 'runs', 'off', '.'], ['and', 'all', 'the', 'boys', 'are', 'trying', 'to', 'follow', 'him', '.'], ['and', 'get', 'it', '.'], ['then', 'they', 'then', 'they', \"they're\", 'going', 'around', 'to', 'catch', 'him', '.'], ['and', 'they', 'get', 'him', '.'], ['and', 'they', 'try', 'to', 'smush', 'the', 'balloon', '.'], ['and', 'wreck', 'it', '.'], ['and', 'then', 'they', 'finally', 'hit', 'a', 'lot', 'of', 'holes', 'in', 'it', '.'], [\"it's\", 'just', 'sitting', 'there', '.'], ['and', 'then', 'someone', 'steps', 'on', 'it', '.'], ['and', 'he', 'gets', 'really', 'sad', '.'], ['and', 'then', 'the', 'balloons', 'all', 'over', 'the', 'city', 'start', 'coming', 'around', '.'], ['and', 'gathering', 'themselves', 'into', 'a', 'bundle', '.'], ['and', 'he', 'gets', 'the', 'strings', 'of', 'each', 'one', '.'], ['and', 'he', 'makes', 'kind', 'of', 'like', 'a', 'noose', 'for', 'himself', '.'], ['and', 'he', 'puts', 'his', 'legs', 'through', 'it', '.'], ['and', 'he', 'holds', 'there', '.'], ['and', 'they', 'fly', 'him', 'off', 'over', 'the', 'city', '.']]\n",
      "['Hicks/5th/story/story01.cha'] [['as', 'he', 'walked', 'to', 'the', 'bus', '.'], ['he', 'realized', 'that', 'probably', '.'], ['the', 'people', 'who', 'owned', 'the', 'bus', '.'], [\"wouldn't\", 'let', 'the', 'balloon', 'on', '.'], ['so', 'with', 'great', 'sorrow', 'he', 'hadta', 'let', 'the', 'balloon', 'go', '.'], ['but', 'much', 'to', 'his', 'surprise', 'as', 'the', 'bus', 'went', 'on', '.'], ['the', 'balloon', 'went', 'on', '.'], ['when', 'he', 'got', 'off', 'the', 'bus', '.'], ['the', 'balloon', 'came', 'down', '.'], ['and', 'the', 'boy', 'walked', 'home', 'with', 'it', '.'], ['on', 'his', 'way', 'home', 'some', 'boys', 'from', 'somewhere', 'in', 'the', 'town', 'saw', 'him', 'and', 'his', 'beautiful', 'red', 'balloon', '.'], ['as', 'you', 'can', 'imagine', '.'], ['anybody', 'who', 'saw', 'such', 'a', 'lucky', 'little', 'boy', 'with', 'a', 'beautiful', 'red', 'balloon', '.'], ['would', 'want', 'it', '.'], ['so', 'they', 'began', 'to', 'follow', 'him', '.'], ['soon', 'the', 'little', 'boy', 'realized', 'this', '.'], ['and', 'started', 'to', 'run', '.'], ['he', 'just', 'made', 'it', 'home', '.'], ['when', 'when', 'the', 'boys', 'caught', 'up', 'with', 'him', '.'], ['the', 'next', 'day', 'his', 'mother', 'took', 'him', 'to', 'church', '.'], ['he', 'told', 'the', 'balloon', '.'], ['to', 'stay', 'there', '.'], ['but', 'as', 'they', 'went', 'into', 'the', 'church', '.'], ['the', 'balloon', 'followed', '.'], ['the', 'next', 'thing', 'you', 'know', '.'], ['a', 'bunch', 'of', 'guards', 'are', 'coming', 'out', '.'], ['and', 'the', 'boy', 'is', 'running', 'with', 'his', 'little', 'red', 'balloon', '.'], ['they', 'came', 'they', 'come', 'upon', 'a', 'bakery', 'shop', '.'], ['and', 'the', 'boy', 'stops', '.'], ['looking', 'at', 'the', 'delicious', 'pastries', '.'], ['he', 'checks', 'in', 'he', 'checked', 'in', 'his', 'pocket', '.'], ['to', 'see', '.'], ['if', 'he', 'had', 'enough', 'money', '.'], ['and', 'yes', 'he', 'does', '.'], ['lucky', 'for', 'him', '.'], ['he', 'walks', 'to', 'the', 'doorway', 'of', 'the', 'bakery', 'shop', '.'], ['and', 'tells', 'the', 'balloon', '.'], ['to', 'wait', 'right', 'there', 'for', 'him', '.'], ['he', 'goes', 'in', '.'], ['as', \"he's\", 'in', 'the', 'shop', '.'], ['buying', 'the', 'pastry', '.'], ['some', 'of', 'the', 'boys', 'come', 'along', '.'], ['and', 'look', 'at', 'the', 'pastries', '.'], ['and', 'then', 'suddenly', 'one', 'of', 'them', 'spots', 'the', 'balloon', '.'], ['and', 'when', 'they', 'think', '.'], ['the', 'time', 'is', 'right', '.'], ['they', 'grab', 'the', 'balloon', '.'], ['and', 'start', 'to', 'run', '.'], ['a', 'minute', 'after', 'that', 'the', 'little', 'boy', 'comes', 'out', '.'], ['and', 'realizes', '.'], ['his', 'balloon', 'is', 'not', 'there', '.'], ['he', 'looks', 'around', 'for', 'a', 'while', '.'], ['meanwhile', 'the', 'boys', 'are', 'running', 'up', 'the', 'streets', '.'], ['jumping', 'up', 'stairs', '.'], ['and', 'up', 'to', 'the', 'top', 'of', 'a', 'very', 'high', 'hill', '.'], ['finally', 'the', 'boy', 'goes', 'to', 'the', 'top', 'of', 'a', 'small', 'hill', '.'], ['and', 'sees', '.'], ['his', 'balloon', 'hovering', 'a', 'over', 'a', 'bunch', 'of', 'loud', 'noises', '.'], ['he', 'runs', 'down', '.'], ['and', 'jumps', 'over', 'a', 'wall', '.'], ['and', 'then', 'to', 'the', 'gate', '.'], ['then', 'he', 'looks', 'up', '.'], ['and', 'sees', 'his', 'balloon', '.'], ['he', 'sees', 'a', 'gate', '.'], ['and', 'he', 'peeps', 'through', 'the', 'peephole', '.'], ['there', 'are', 'the', 'boys', '.'], ['and', 'up', 'above', 'them', 'is', 'the', 'balloon', '.'], ['he', 'calls', '\"/.'], ['balloon', 'balloon', 'come', 'down', '!'], ['and', 'the', 'balloon', 'comes', 'down', '.'], ['and', 'they', 'start', 'running', '.'], ['he', 'runs', 'through', 'passageways', '.'], ['and', 'just', 'as', 'he', 'thinks', '.'], [\"he's\", 'escaped', 'the', 'boys', '.'], ['out', 'of', 'the', 'other', 'end', 'of', 'the', 'passageway', 'come', 'three', 'more', '.'], [\"there's\", 'another', 'chase', '.'], ['and', 'finally', 'they', 'get', 'the', 'balloon', '.'], ['and', 'hold', 'onto', 'the', 'boy', '.'], ['so', 'they', 'can', 'have', 'free', 'shots', 'at', 'the', 'balloon', '.'], ['finally', 'one', 'of', 'them', 'hits', 'the', 'balloon', '.'], ['it', 'fizzles', '.'], ['and', 'falls', 'to', 'the', 'ground', 'without', 'air', '.'], ['suddenly', 'out', 'of', 'everywhere', 'in', 'France', 'comes', 'balloons', '.'], ['balloons', 'out', 'of', 'the', 'windows', '!'], ['balloons', 'off', 'babies', '!'], ['balloons', 'off', 'little', 'kids', '.'], ['walking', 'in', 'the', 'park', '!'], ['the', 'boy', 'is', 'sitting', 'there', '.'], ['lamenting', 'over', 'his', 'lost', 'red', 'balloon', '.'], ['the', 'balloons', 'come', 'up', 'to', 'the', 'top', 'of', 'the', 'hill', '.'], ['and', 'the', 'boy', 'ties', 'the', 'strings', 'all', 'together', '.'], ['and', 'sits', 'on', 'them', '.'], ['as', 'the', 'story', 'ends', '.'], ['the', 'boy', 'is', 'flying', 'over', 'Paris', 'to', 'an', 'adventure', 'far', 'away', '.']]\n",
      "['Hicks/5th/story/story02.cha'] [['so', 'he', 'climbed', 'up', 'the', 'lamppost', '.'], ['and', 'he', 'found', 'his', 'way', 'in', 'the', 'wall', '.'], ['he', 'tied', 'off', 'the', 'balloon', 'from', 'the', 'lamppost', '.'], ['and', 'came', 'down', '.'], ['he', 'started', 'walking', '.'], ['until', 'he', 'came', 'to', 'the', 'bus', 'stop', '.'], ['he', 'got', 'on', 'the', 'bus', '.'], ['and', 'by', 'mistake', 'he', 'let', 'go', 'of', 'the', 'red', 'balloon', '.'], ['but', 'the', 'red', 'balloon', 'still', 'followed', 'him', '.'], ['he', 'was', 'happy', '.'], ['to', 'see', '.'], ['that', 'the', 'red', 'balloon', 'was', 'his', 'friend', '.'], ['next', 'next', 'he', 'got', 'off', 'the', 'bus', '.'], ['he', 'reached', 'for', 'the', 'balloon', '.'], ['and', 'the', 'and', 'he', 'got', 'it', '.'], ['he', 'started', 'walking', 'up', 'a', 'few', 'flights', 'of', 'stairs', '.'], ['and', 'he', 'some', 'boys', 'caught', 'hold', 'of', 'him', 'and', 'the', 'red', 'balloon', '.'], ['they', 'thought', '.'], ['it', 'was', 'such', 'a', 'beautiful', 'balloon', '.'], ['but', 'they', 'were', 'very', 'rowdy', '.'], ['and', 'they', 'wanted', '.'], ['to', 'tear', 'it', 'to', 'shreds', '.'], ['he', 'started', 'running', '.'], ['and', 'the', 'boys', 'were', 'following', 'him', '.'], ['he', 'went', 'he', 'let', 'go', 'of', 'the', 'balloon', '.'], ['and', 'it', 'went', 'high', '.'], ['so', 'and', 'he', 'went', 'in', 'an', 'apartment', '.'], ['when', 'he', 'got', 'the', 'balloon', 'and', 'then', 'next', 'scene', '.'], ['the', 'boy', 'is', 'hungry', '.'], ['and', 'so', 'with', 'his', 'red', 'balloon', 'he', 'goes', 'to', 'a', 'pastry', 'shop', '.'], ['he', 'glances', 'in', 'the', 'window', 'at', 'all', 'the', 'delicious', 'food', '.'], ['he', 'feels', '.'], ['that', 'he', 'wants', 'a', 'piece', '.'], ['so', 'he', 'so', 'he', 'tells', 'the', 'balloon', '.'], ['to', 'wait', 'outside', 'the', 'shop', '.'], ['and', 'until', 'he', 'gets', 'his', 'pastries', '.'], ['while', 'the', 'boys', 'hungry', 'too', '.'], ['they', 'look', 'in', 'the', 'shop', 'window', '.'], ['and', 'they', 'catch', 'glimpse', 'of', 'the', 'balloon', '.'], ['seeing', '.'], ['if', \"it'd\", 'be', 'a', 'good', 'opportunity', '.'], ['to', 'to', 'steal', 'the', 'balloon', '.'], ['they', 'slowly', 'turn', 'around', 'the', 'corner', '.'], ['they', 'grab', 'the', 'balloon', '.'], ['and', 'start', 'running', '.'], ['the', 'boy', 'comes', 'out', 'of', 'the', 'pastry', 'shop', '.'], ['looks', 'in', 'the', 'air', '.'], ['and', 'is', 'very', 'very', 'wondering', '.'], ['he', 'he', 'starts', 'going', '.'], ['and', 'the', 'boys', 'are', 'still', 'running', '.'], ['hitting', 'the', 'balloon', 'with', 'a', 'stick', '.'], ['he', 'finally', 'sees', 'the', 'balloon', '.'], ['and', 'he', 'calls', 'him', '.'], ['to', 'come', 'near', '.'], ['but', 'the', 'balloon', \"doesn't\", 'go', '.'], ['while', 'the', 'boys', 'have', 'tied', 'the', 'a', 'a', 'long', 'string', 'to', 'the', 'balloon', '.'], ['and', 'is', 'hitting', 'it', '.'], ['he', 'the', 'balloon', 'finally', 'goes', 'goes', 'to', 'him', '.'], ['and', 'he', 'unties', 'the', 'long', 'string', '.'], ['he', 'starts', 'running', '.'], ['but', 'the', 'boys', 'follow', 'him', '.'], ['the', 'one', 'boy', 'hits', 'the', 'balloon', '.'], ['and', 'it', 'pops', '.'], ['and', 'then', 'they', 'stamp', 'on', 'it', '.'], ['for', 'it', 'to', 'go', 'out', 'faster', '.'], ['the', 'the', 'boy', 'is', 'very', 'sad', '.'], ['but', 'all', 'the', 'other', 'balloons', 'in', 'this', 'town', 'or', 'whatever', 'come', '.'], ['and', 'make', 'the', 'boy', 'happy', '.'], ['they', 'go', 'around', '.'], ['and', 'he', 'grabs', 'all', 'the', 'balloons', '.'], ['and', 'he', 'starts', 'flying', 'in', 'the', 'air', '.']]\n",
      "['Hicks/5th/story/story03.cha'] [['okay', 'and', 'the', 'balloon', 'was', 'on', 'a', 'lamppost', '.'], ['so', 'he', 'climbed', 'up', 'the', 'lamppost', '.'], ['and', 'got', 'the', 'balloon', 'down', '.'], ['and', 'continued', 'on', 'his', 'way', 'to', 'the', 'bus', 'stop', '.'], ['at', 'the', 'bus', 'stop', 'well', 'the', 'balloon', \"wasn't\", 'allowed', 'on', 'the', 'bus', '.'], ['so', 'he', 'told', 'the', 'balloon', '.'], ['to', 'go', 'to', 'meet', 'him', 'at', 'his', 'stop', '.'], ['and', 'follow', 'the', 'bus', '.'], ['and', 'meet', 'him', '.'], ['when', 'he', 'gets', 'out', '.'], ['so', 'the', 'boy', 'gets', 'on', 'the', 'bus', '.'], ['and', 'the', 'balloon', 'actually', 'follows', 'the', 'bus', '.'], ['just', 'like', 'the', 'boy', 'told', 'him', '.'], ['and', \"everybody's\", 'amazed', '.'], ['people', 'are', 'looking', 'out', 'the', 'car', '.'], ['and', 'people', 'are', 'looking', 'out', 'of', 'the', 'bus', '.'], ['looking', 'at', 'the', 'balloon', '.'], [\"that's\", 'following', 'the', 'bus', '.'], ['so', 'then', 'then', 'the', 'boy', \"it's\", 'his', 'stop', '.'], ['so', 'he', 'gets', 'out', '.'], ['then', 'the', 'balloon', 'comes', 'to', 'him', '.'], ['when', 'he', 'calls', 'it', '.'], ['and', 'then', \"he's\", 'walking', 'along', '.'], ['and', 'there', 'are', 'some', 'boys', '.'], ['who', 'who', 'want', 'the', 'balloon', '.'], ['because', \"it's\", 'a', 'big', 'balloon', '.'], ['and', \"it's\", 'a', 'very', 'nice', 'balloon', '.'], ['and', 'they', 'wanna', 'have', 'the', 'balloon', '.'], ['but', 'the', 'boy', \"doesn't\", 'want', 'them', '.'], ['to', 'take', 'his', 'balloon', '.'], ['so', 'he', 'sees', 'them', '.'], ['and', 'he', 'starts', 'to', 'run', 'away', '.'], ['and', 'he', 'runs', 'up', 'the', 'stairs', '.'], ['but', 'the', 'boys', 'follow', 'him', '.'], ['and', 'some', 'boys', 'come', 'down', 'the', 'stairs', '.'], ['so', 'he', 'lets', 'go', 'of', 'the', 'balloon', '.'], ['and', 'all', 'the', 'boys', 'are', 'reaching', 'for', 'it', '.'], ['and', 'the', 'little', 'boy', 'who', 'had', 'the', 'balloon', '.'], ['he', 'goes', 'goes', 'up', 'the', 'stairs', '.'], ['and', 'when', \"he's\", 'up', 'on', 'the', 'stairs', '.'], ['he', 'gets', 'the', 'balloon', 'again', '.'], ['and', 'the', 'boys', 'are', 'trying', 'to', 'get', 'the', 'balloon', '.'], ['but', 'they', \"can't\", '.'], ['because', 'the', 'boy', 'has', 'it', '.'], ['so', 'then', 'when', 'he', 'reaches', 'his', 'house', '.'], ['he', 'lives', 'in', 'an', 'apartment', '.'], ['and', 'the', 'balloon', \"can't\", 'go', 'up', 'the', 'stairs', '.'], ['so', 'he', 'lets', 'go', 'of', 'the', 'balloon', '.'], ['and', 'climbs', 'up', 'to', 'his', 'balcony', '.'], ['and', 'the', 'balloon', 'meets', 'him', 'there', '.'], ['and', 'then', 'the', 'next', 'day', 'they', 'go', 'to', 'church', '.'], ['and', 'his', 'grandmother', 'I', 'guess', 'they', 'go', 'to', 'a', 'cathedral', '.'], ['and', 'and', 'the', 'balloon', 'is', 'following', 'them', '.'], ['the', 'little', 'boy', \"didn't\", 'tell', 'the', 'balloon', '.'], ['to', 'follow', 'them', '.'], ['but', 'the', 'balloon', 'wants', 'to', 'be', 'with', 'the', 'boys', '.'], ['so', 'he', 'followed', '.'], ['and', 'the', 'guard', 'throws', 'the', 'boy', 'and', 'his', 'grandmother', 'and', 'the', 'balloon', 'out', '.'], ['and', 'so', 'the', 'boy', 'well', 'they', 'leave', '.'], ['and', 'when', 'then', 'the', 'boy', 'and', 'the', 'balloon', 'well', \"they're\", 'walking', 'along', '.'], ['then', 'the', 'they', 'come', 'to', 'a', 'bakery', 'shop', '.'], ['and', \"there's\", 'some', 'delicious', 'pastries', 'in', 'the', 'window', '.'], ['the', 'boy', 'checks', 'his', 'pocket', '.'], ['to', 'see', '.'], ['if', 'he', 'has', 'any', 'money', '.'], ['and', 'he', 'has', 'enough', 'money', 'for', 'one', 'pastry', '.'], ['so', 'he', 'goes', 'into', 'the', 'store', '.'], ['but', 'before', 'he', 'goes', '.'], ['he', 'tells', 'the', 'balloon', '.'], ['to', 'wait', 'outside', 'for', 'him', '.'], ['and', 'stay', 'at', 'the', 'door', '.'], ['and', 'when', 'he', 'comes', 'out', '.'], ['to', 'go', 'with', 'him', '.'], ['and', 'so', 'the', 'boys', 'goes', '.'], ['to', 'get', 'his', 'pastry', '.'], ['but', 'then', 'the', 'other', 'boys', 'who', 'wanted', 'to', 'get', 'the', 'balloon', '.'], ['well', 'first', 'they', 'come', 'to', 'the', 'bakery', 'shop', '.'], ['and', 'they', 'see', 'the', 'delicious', 'pastries', '.'], ['and', 'then', 'one', 'of', 'them', 'sees', 'the', 'balloon', '.'], ['so', 'they', 'grab', 'the', 'balloon', '.'], ['and', 'then', 'they', 'tie', 'a', 'longer', 'string', 'to', 'it', '.'], ['and', 'they', 'start', 'beating', 'the', 'balloon', '.'], ['and', 'then', 'the', 'little', 'boy', 'he', 'he', 'got', 'his', 'pastry', '.'], ['and', 'he', 'comes', 'out', 'of', 'the', 'store', '.'], ['and', 'his', 'balloon', \"isn't\", 'there', '.'], ['and', 'he', 'looks', 'around', '.'], ['and', 'he', \"can't\", 'find', 'it', '.'], ['and', 'he', 'looks', 'all', 'over', 'the', 'place', '.'], ['meanwhile', 'the', 'other', 'boys', 'with', 'the', 'balloon', 'they', 'climb', 'over', 'a', 'big', 'clay', 'wall', '.'], ['and', 'they', 'climb', 'over', 'all', 'these', 'ruins', 'and', 'buildings', '.'], ['and', 'they', 'go', 'into', 'a', 'just', 'an', 'old', '.'], ['and', 'the', 'boy', 'is', 'still', 'looking', 'for', 'the', 'balloon', '.'], ['and', 'the', 'boys', 'they', 'have', 'their', 'slingshots', '.'], ['and', \"they're\", 'throwing', 'rocks', 'at', 'it', '.'], ['and', \"they're\", 'fighting', 'over', 'the', 'balloon', '.'], ['and', 'the', \"boy's\", 'still', 'looking', '.'], ['and', 'then', 'he', 'finds', 'the', 'balloon', '.'], ['and', 'he', 'tells', 'the', 'balloon', '.'], ['to', 'come', 'to', 'him', '.'], ['but', 'the', \"balloon's\", 'tied', 'up', '.'], ['so', 'it', \"can't\", 'come', '.'], ['so', 'he', 'looks', 'around', '.'], ['and', 'he', 'finds', '.'], ['where', 'the', 'the', 'he', 'finds', 'where', 'the', 'boys', 'are', '.'], ['and', 'he', 'tries', 'to', 'open', 'the', 'door', 'in', 'the', 'wall', '.'], ['but', 'he', \"can't\", 'open', 'the', 'door', '.'], ['and', 'he', 'looks', 'through', 'the', 'keyhole', '.'], ['and', 'he', 'sees', '.'], ['the', 'boys', 'throwing', '.'], ['and', 'fighting', 'over', 'the', 'balloon', '.'], ['and', 'so', 'he', 'tells', 'the', 'balloon', '.'], ['to', 'come', 'to', 'him', 'again', '.'], ['and', 'this', 'time', 'the', 'balloon', 'comes', '.'], ['he', 'can', 'just', 'reach', 'him', '.'], ['and', 'he', 'gets', 'the', 'string', 'the', 'shorter', 'string', '.'], ['and', 'he', 'pulls', 'it', '.'], ['but', 'then', 'the', 'other', 'boys', 'they', 'see', '.'], ['what', 'happened', '.'], ['and', 'they', 'pull', 'the', 'long', 'string', '.'], ['and', 'the', 'the', 'little', 'boy', 'he', 'goes', 'up', 'the', 'wall', '.'], ['but', 'then', 'the', 'long', 'string', 'breaks', '.'], ['and', 'so', 'the', 'little', 'boy', 'he', 'he', 'runs', 'away', 'from', 'them', '.'], ['and', 'then', 'all', 'the', 'other', 'boys', 'they', 'climb', 'over', 'the', 'wall', '.'], ['and', 'they', 'chase', 'the', 'boy', '.'], ['and', 'they', 'try', 'and', 'get', 'the', 'balloon', '.'], ['and', 'they', 'go', 'through', 'this', 'alley', '.'], ['and', 'a', 'woman', 'steps', 'through', 'the', 'alley', '.'], ['and', 'the', 'boys', 'well', 'actually', 'first', 'the', 'little', 'boy', 'with', 'the', 'balloon', 'he', 'goes', 'through', 'this', 'alley', '.'], ['and', 'then', 'this', 'woman', 'steps', 'out', 'of', 'the', 'alley', '.'], ['and', 'all', 'the', 'other', 'boys', 'well', 'they', \"can't\", 'knock', 'this', 'old', 'woman', 'down', '.'], ['and', 'so', 'they', 'hafta', 'wait', '.'], ['and', 'then', 'the', 'little', 'boy', 'goes', 'through', 'a', 'little', 'passageway', 'out', 'of', 'the', 'alley', '.'], ['but', 'then', 'the', 'boys', 'see', '.'], ['where', 'he', 'went', '.'], ['so', 'he', 'has', 'okay', 'so', 'when', 'the', 'well', 'all', 'the', 'other', 'boys', 'they', 'see', 'the', 'balloon', '.'], ['and', 'they', 'start', 'throwing', 'rocks', 'at', 'it', '.'], ['and', 'the', 'boy', 'lets', 'go', 'of', 'the', 'balloon', '.'], ['and', 'someone', 'throws', 'a', 'rock', '.'], ['and', 'it', 'hits', 'the', 'balloon', '.'], ['and', 'so', 'the', 'balloon', 'is', 'shattered', '.'], ['and', 'it', 'goes', 'down', 'down', 'to', 'the', 'ground', '.'], ['and', 'then', 'all', 'the', 'other', 'boys', 'go', 'away', '.'], ['because', 'they', 'popped', 'the', 'balloon', '.'], ['and', \"there's\", 'nothing', 'else', '.'], ['to', 'do', '.'], ['and', 'the', 'little', 'boy', 'was', 'very', 'sad', '.'], ['but', 'then', 'all', 'of', 'the', 'balloons', 'in', 'the', 'whole', 'town', 'from', 'everywhere', 'in', \"people's\", 'houses', 'and', 'fairs', 'and', 'things', '.'], ['they', 'all', 'come', 'to', '.'], ['where', 'the', 'boy', 'is', '.'], ['and', 'they', 'all', 'come', 'down', 'to', 'him', '.'], ['and', 'he', 'grabs', 'on', 'to', 'all', 'the', 'balloons', '.'], ['and', 'he', 'goes', 'up', 'up', 'up', 'into', 'the', 'sky', '.']]\n",
      "['Hicks/5th/story/story04.cha'] [['the', 'the', 'balloon', 'did', 'become', 'friends', '.'], ['and', 'he', 'knew', 'this', '.'], ['because', 'when', 'he', 'got', 'on', 'the', 'bus', '.'], ['the', 'balloon', 'followed', 'him', '.'], ['even', 'if', 'it', \"wasn't\", 'attached', '.'], ['when', 'he', 'got', 'as', 'he', 'was', 'getting', 'off', 'the', 'bus', '.'], ['some', 'bullies', 'began', 'to', 'come', '.'], ['and', 'attack', 'him', '.'], ['but', 'he', 'managed', 'to', 'get', 'inside', '.'], ['then', 'the', 'next', 'day', 'he', 'went', 'looking', 'for', 'some', 'pastries', '.'], ['and', 'he', 'reached', 'into', 'his', 'pocket', '.'], ['to', 'see', '.'], ['if', 'he', 'had', 'enough', 'money', '.'], ['he', 'did', '.'], ['so', 'he', 'told', 'the', 'red', 'balloon', '.'], ['to', 'stay', 'outside', 'the', 'pastry', 'shop', '.'], ['while', 'he', 'went', 'inside', '.'], ['while', 'he', 'was', 'inside', '.'], ['the', 'bullies', 'came', 'along', '.'], ['and', 'they', 'saw', 'the', 'red', 'balloon', '.'], ['and', 'grabbed', 'it', '.'], ['and', 'started', 'running', 'away', '.'], ['and', 'and', 'when', 'the', 'boy', 'came', 'out', '.'], ['it', \"wasn't\", 'there', '.'], ['because', 'the', 'bullies', 'had', 'ran', 'away', 'with', 'it', '.'], ['and', 'were', 'now', 'coming', 'to', 'a', 'wall', '.'], ['and', 'they', 'climbed', 'over', '.'], ['and', 'were', 'putting', 'it', '.'], ['they', 'tied', 'another', 'rope', 'to', 'it', '.'], ['climbed', 'over', 'a', 'wall', '.'], ['and', 'started', 'throwing', 'rocks', 'at', 'it', '.'], ['the', 'boy', 'saw', 'the', 'balloon', '.'], ['after', 'running', 'for', 'a', 'while', '.'], ['and', 'and', 'tried', 'to', 'get', 'into', '.'], ['where', 'the', 'boys', 'were', '.'], ['but', 'the', 'door', 'was', 'locked', '.'], ['so', 'he', 'pulled', 'on', 'the', 'other', 'string', 'of', 'the', 'balloon', '.'], ['but', 'three', 'boys', 'were', 'pulling', 'on', 'the', 'other', 'end', '.'], ['and', 'one', 'on', 'this', 'end', '.'], ['so', 'he', 'had', 'no', 'chance', '.'], ['he', 'was', 'picked', 'up', 'off', 'the', 'wall', '.'], ['until', 'suddenly', 'the', 'string', 'broke', '.'], ['and', 'he', 'ran', 'away', 'with', 'the', 'balloon', '.'], ['but', 'the', 'boys', 'were', 'too', 'quick', 'for', 'him', '.'], ['they', 'jumped', 'over', 'the', 'wall', '.'], ['and', 'started', 'chasing', 'him', '.'], ['then', 'he', 'came', 'to', 'then', 'the', 'boys', 'came', 'upon', 'him', 'hundreds', 'of', 'them', '.'], ['and', 'they', 'trapped', 'him', '.'], ['and', 'then', 'picked', 'him', 'up', '.'], ['and', 'grabbed', 'him', '.'], ['and', 'started', 'throwing', 'rocks', 'at', 'his', 'balloon', '.'], ['and', 'then', 'when', 'the', 'biggest', 'and', 'bravest', 'bully', 'killed', 'the', 'balloon', '.'], ['and', 'the', 'balloon', 'went', 'down', '.']]\n",
      "['Hicks/5th/story/story05.cha'] [['so', \"it's\", 'actually', 'tied', 'on', 'top', 'of', 'of', 'a', 'lamp', 'pole', '.'], ['so', 'he', 'climbs', 'up', 'the', 'lamp', 'pole', 'onto', 'a', 'wall', '.'], ['that', 'is', 'near', '.'], ['and', 'he', 'unties', 'the', 'balloon', '.'], ['and', 'jumps', 'down', '.'], ['then', 'he', 'he', 'walks', '.'], ['and', 'and', 'he', 'and', 'he', 'goes', 'to', 'the', 'bus', 'stop', '.'], ['but', 'the', 'people', 'there', 'say', '\"/.'], ['no', 'balloons', 'allowed', '!'], ['so', 'he', 'lets', 'go', 'of', 'the', 'balloon', '.'], ['but', 'the', 'balloon', 'wants', 'to', 'be', 'his', 'friend', 'also', '.'], ['so', 'he', 'follows', 'along', 'behind', '.'], ['and', 'he', 'says', '\"/.'], ['oh', 'good', 'now', 'I', \"won't\", 'loose', 'it', '.'], ['when', 'he', 'gets', 'off', 'the', 'bus', '.'], ['he', 'grabs', 'the', 'balloon', '.'], ['and', 'he', 'walks', 'along', 'with', 'with', 'his', 'mother', '.'], ['and', 'they', 'go', 'to', 'this', 'big', 'church', '.'], ['and', 'the', 'and', 'he', 'says', '\"/.'], ['stay', 'right', 'here', 'balloon', 'on', 'the', 'outside', '.'], ['but', 'but', 'the', 'balloon', \"doesn't\", 'really', 'wanna', 'stay', 'out', 'there', '.'], ['he', 'goes', 'the', 'balloon', 'goes', 'there', '.'], ['and', 'so', 'so', 'the', 'guard', 'said', '\"/.'], ['no', 'balloons', 'in', 'there', '.'], ['and', 'so', 'the', 'boy', 'goes', 'out', 'with', 'the', 'balloon', '.'], ['and', 'so', 'he', 'walks', 'around', '.'], ['and', 'these', 'other', 'boys', 'see', 'him', 'with', 'the', 'red', 'balloon', '.'], ['and', 'say', '\"/.'], ['we', 'want', 'that', 'red', 'balloon', '.'], [\"that's\", 'a', 'really', 'good', 'red', 'balloon', '.'], ['and', 'so', 'they', 'chase', 'him', 'all', 'over', '.'], ['and', 'so', 'he', 'sees', 'a', 'the', 'pastry', 'shop', '.'], ['and', 'he', 'says', '\"/.'], ['hm', 'I', 'think', \"I'd\", 'like', 'one', 'of', 'those', '.'], ['and', 'so', 'he', 'checks', '.'], ['if', 'he', 'has', 'enough', 'money', '.'], ['yes', 'he', 'does', '.'], ['so', 'he', 'says', 'to', 'the', 'balloon', '\"/.'], ['you', 'stay', 'right', 'here', 'balloon', '.'], ['because', \"I'm\", 'going', 'to', 'be', 'in', 'the', 'shop', '\"/.'], ['but', \"I'll\", 'get', 'you', '\"/.'], ['as', 'soon', 'as', 'I', 'come', 'out', '.'], ['so', 'he', 'leaves', 'the', 'balloon', 'at', 'at', 'the', 'shop', 'in', 'front', '.'], ['and', 'he', 'goes', 'in', '.'], ['but', 'the', 'boys', 'have', 'chased', 'him', 'all', 'the', 'way', 'there', '.'], ['and', 'they', 'see', 'the', 'balloon', '.'], ['so', 'they', 'grab', 'it', '.'], ['and', 'tie', 'another', 'longer', 'string', 'onto', 'the', 'balloon', '.'], ['the', 'boy', 'comes', 'out', '.'], ['munching', 'a', 'pastry', '.'], ['and', 'he', 'says', '\"/.'], ['hm', \"where's\", 'my', 'balloon', '?'], ['he', 'looks', 'all', 'around', 'and', 'around', 'and', 'around', '.'], ['then', 'he', 'just', 'decides', 'to', 'go', 'off', 'down', 'the', 'street', '.'], ['which', 'the', 'boys', 'have', 'actually', 'gone', 'on', '.'], ['so', 'he', 'goes', 'down', '.'], ['they', 'see', 'him', '.'], ['and', 'they', 'run', 'faster', '.'], ['and', 'they', 'go', 'down', 'an', 'alley', '.'], ['and', 'the', 'boy', \"who's\", 'who', 'who', 'gets', 'the', 'balloon', '.'], ['but', 'then', 'but', 'then', 'but', 'and', 'he', 'runs', 'off', 'with', 'it', '.'], ['they', 'go', 'down', 'an', 'alley', '.'], ['and', \"there's\", 'an', 'old', 'man', 'there', '.'], ['he', 'goes', 'around', 'the', 'old', 'man', 'into', 'a', 'little', 'nook', '.'], ['until', \"he's\", 'gone', 'by', '.'], ['and', 'then', 'he', 'runs', 'runs', 'down', 'the', 'alley', '.'], ['but', 'the', 'other', 'boys', 'there', \"isn't\", 'that', 'little', 'doorway', '.'], ['and', 'so', \"they're\", 'running', 'around', '.'], ['and', 'they', 'push', 'the', 'old', 'man', '.'], ['and', \"they're\", 'pushing', 'around', '.'], ['and', 'that', 'makes', 'the', 'the', 'boy', 'gain', 'time', '.'], ['he', 'runs', 'around', '.'], ['and', 'then', 'they', 'get', 'his', 'balloon', '.'], ['so', 'he', 'follows', 'them', '.'], ['they', 'climb', 'over', 'lots_of', 'walls', 'and', 'things', 'like', 'that', '.'], ['and', 'then', 'then', 'they', 'go', '.'], ['and', \"they're\", 'tieing', 'they', 'make', 'they', 'go', 'behind', 'this', 'wall', '.'], ['that', 'has', 'a', 'door', 'in', 'it', '.'], ['and', 'so', 'he', 'sees', 'the', 'balloon', '.'], ['and', 'says', '\"/.'], ['come', 'back', 'balloon', 'come', 'back', '!'], ['but', 'the', 'balloon', 'is', 'being', 'held', 'by', 'another', 'string', '.'], ['and', 'so', 'he', 'and', 'so', 'he', 'tries', 'the', 'door', 'in', 'the', 'wall', '.'], ['behind', 'which', 'the', 'other', 'boys', 'have', 'his', 'balloon', '.'], ['but', 'they', \"can't\", 'he', \"can't\", 'open', 'it', '.'], ['because', \"they're\", 'pushing', 'it', 'back', '.'], ['and', 'he', 'keeps', 'trying', 'to', 'open', 'it', '.'], ['and', 'then', 'he', 'says', '\"/.'], ['I', 'guess', \"I'll\", 'just', 'look', 'through', 'the', 'key', 'hole', '.'], ['which', 'there', 'is', 'one', '.'], ['and', 'so', 'he', 'looks', 'through', 'the', 'keyhole', '.'], ['and', 'he', 'sees', '.'], ['what', \"they're\", 'doing', '.'], ['but', 'the', 'balloon', 'comes', 'down', 'over', 'the', 'wall', '.'], ['and', 'he', 'gets', 'the', 'old', 'string', '.'], ['and', 'he', 'breaks', 'the', 'new', 'string', '.'], ['so', 'all', 'the', 'boys', 'who', 'are', 'holding', 'it', '.'], ['fall', 'over', '.'], ['and', 'so', 'he', 'gets', 'the', 'balloon', '.'], ['he', 'runs', 'and', 'runs', 'and', 'runs', '.'], ['but', 'the', 'boys', 'catch', 'up', 'to', 'him', '.'], ['and', 'so', 'they', 'and', 'they', 'catch', 'his', 'balloon', '.'], ['and', 'they', 'shoot', 'it', 'full', 'of', 'holes', 'with', 'their', 'slingshots', '.'], ['and', 'so', 'they', 'and', 'and', 'then', 'someone', 'stamps', 'on', 'it', '.'], ['so', 'he', 'has', 'no', 'more', 'red', 'balloon', '.'], ['he', 'gets', 'really', 'sad', '.'], ['but', 'then', 'balloons', 'all', 'over', 'the', 'city', 'and', 'all', 'different', 'colors', 'come', '.'], ['and', 'they', 'gather', 'themselves', 'into', 'a', 'bundle', '.'], ['and', 'he', 'grabs', 'each', 'of', 'the', 'strings', '.'], ['and', 'he', 'pulls', 'them', 'together', '.'], ['and', 'he', 'makes', 'kind', 'of', 'a', 'loop', '.'], ['so', 'he', 'can', 'sit', 'in', 'it', '.'], ['and', 'he', 'sits', 'there', '.'], ['and', 'they', 'carry', 'him', 'up', 'all', 'over', 'the', 'city', '.']]\n"
     ]
    }
   ],
   "source": [
    "# only care about CHI utterances\n",
    "# group by utterance to create a list of lists\n",
    "\n",
    "for file in fifth:\n",
    "    print(file.file_paths(), file.words(participants=\"CHI\", by_utterances=True,))"
   ]
  },
  {
   "cell_type": "code",
   "execution_count": 23,
   "id": "c6f09da5",
   "metadata": {},
   "outputs": [
    {
     "data": {
      "text/plain": [
       "[Token(word='so', pos='adv', mor='so', gra=Gra(dep=1, head=2, rel='JCT')), Token(word='then', pos='adv:tem', mor='then', gra=Gra(dep=2, head=4, rel='JCT'))]"
      ]
     },
     "execution_count": 23,
     "metadata": {},
     "output_type": "execute_result"
    }
   ],
   "source": [
    "# .tokens() gives word-based annotations\n",
    "\n",
    "hicks_tokens = hicks.tokens(participants=\"CHI\")\n",
    "hicks_tokens[:2]"
   ]
  },
  {
   "cell_type": "code",
   "execution_count": 24,
   "id": "985f1ad9",
   "metadata": {},
   "outputs": [
    {
     "name": "stdout",
     "output_type": "stream",
     "text": [
      "word: so\n",
      "part-of-speech tag: adv\n",
      "morphological information: so\n",
      "grammatical relation: Gra(dep=1, head=2, rel='JCT') \n",
      "\n",
      "word: then\n",
      "part-of-speech tag: adv:tem\n",
      "morphological information: then\n",
      "grammatical relation: Gra(dep=2, head=4, rel='JCT') \n",
      "\n"
     ]
    }
   ],
   "source": [
    "for token in hicks_tokens[:2]:\n",
    "    print(\"word:\", token.word)\n",
    "    print(\"part-of-speech tag:\", token.pos)\n",
    "    print(\"morphological information:\", token.mor)\n",
    "    print(\"grammatical relation:\", token.gra, '\\n')"
   ]
  },
  {
   "cell_type": "code",
   "execution_count": 25,
   "id": "601ae734",
   "metadata": {},
   "outputs": [],
   "source": [
    "# utterances - info beyond tokens\n",
    "# filter by CHI utterances\n",
    "\n",
    "hicks_utterances = hicks.utterances(participants=\"CHI\")"
   ]
  },
  {
   "cell_type": "code",
   "execution_count": 26,
   "id": "41d6ed99",
   "metadata": {},
   "outputs": [
    {
     "data": {
      "text/html": [
       "<table>  <tr>\n",
       "    <td>*CHI:</td>\n",
       "    <td style=\"text-align: left\">so</td>\n",
       "    <td style=\"text-align: left\">then</td>\n",
       "    <td style=\"text-align: left\">they</td>\n",
       "    <td style=\"text-align: left\">catch</td>\n",
       "    <td style=\"text-align: left\">the</td>\n",
       "    <td style=\"text-align: left\">balloon</td>\n",
       "    <td style=\"text-align: left\">around</td>\n",
       "    <td style=\"text-align: left\">the</td>\n",
       "    <td style=\"text-align: left\">bakery</td>\n",
       "    <td style=\"text-align: left\">.</td>\n",
       "  </tr>\n",
       "  <tr>\n",
       "    <td>%mor:</td>\n",
       "    <td style=\"text-align: left\">adv|so</td>\n",
       "    <td style=\"text-align: left\">adv:tem|then</td>\n",
       "    <td style=\"text-align: left\">pro:sub|they</td>\n",
       "    <td style=\"text-align: left\">v|catch</td>\n",
       "    <td style=\"text-align: left\">det:art|the</td>\n",
       "    <td style=\"text-align: left\">n|balloon</td>\n",
       "    <td style=\"text-align: left\">prep|around</td>\n",
       "    <td style=\"text-align: left\">det:art|the</td>\n",
       "    <td style=\"text-align: left\">n|bakery</td>\n",
       "    <td style=\"text-align: left\">.</td>\n",
       "  </tr>\n",
       "  <tr>\n",
       "    <td>%gra:</td>\n",
       "    <td style=\"text-align: left\">1|2|JCT</td>\n",
       "    <td style=\"text-align: left\">2|4|JCT</td>\n",
       "    <td style=\"text-align: left\">3|4|SUBJ</td>\n",
       "    <td style=\"text-align: left\">4|0|ROOT</td>\n",
       "    <td style=\"text-align: left\">5|6|DET</td>\n",
       "    <td style=\"text-align: left\">6|4|OBJ</td>\n",
       "    <td style=\"text-align: left\">7|4|JCT</td>\n",
       "    <td style=\"text-align: left\">8|9|DET</td>\n",
       "    <td style=\"text-align: left\">9|7|POBJ</td>\n",
       "    <td style=\"text-align: left\">10|4|PUNCT</td>\n",
       "  </tr>\n",
       "  <tr>\n",
       "    <td>%cod:</td>\n",
       "    <td colspan=\"10\" style=\"text-align: left\">$ind $pr $t:sq $str $pro:kds $np:bal</td>\n",
       "  </tr>\n",
       "</table>"
      ],
      "text/plain": [
       "Utterance(participant='CHI', tokens=[Token(word='so', pos='adv', mor='so', gra=Gra(dep=1, head=2, rel='JCT')), Token(word='then', pos='adv:tem', mor='then', gra=Gra(dep=2, head=4, rel='JCT')), Token(word='they', pos='pro:sub', mor='they', gra=Gra(dep=3, head=4, rel='SUBJ')), Token(word='catch', pos='v', mor='catch', gra=Gra(dep=4, head=0, rel='ROOT')), Token(word='the', pos='det:art', mor='the', gra=Gra(dep=5, head=6, rel='DET')), Token(word='balloon', pos='n', mor='balloon', gra=Gra(dep=6, head=4, rel='OBJ')), Token(word='around', pos='prep', mor='around', gra=Gra(dep=7, head=4, rel='JCT')), Token(word='the', pos='det:art', mor='the', gra=Gra(dep=8, head=9, rel='DET')), Token(word='bakery', pos='n', mor='bakery', gra=Gra(dep=9, head=7, rel='POBJ')), Token(word='.', pos='.', mor='', gra=Gra(dep=10, head=4, rel='PUNCT'))], time_marks=None, tiers={'CHI': 'so then they catch [!] the balloon around the bakery .', '%mor': 'adv|so adv:tem|then pro:sub|they v|catch det:art|the n|balloon prep|around det:art|the n|bakery .', '%gra': '1|2|JCT 2|4|JCT 3|4|SUBJ 4|0|ROOT 5|6|DET 6|4|OBJ 7|4|JCT 8|9|DET 9|7|POBJ 10|4|PUNCT', '%cod': '$ind $pr $t:sq $str $pro:kds $np:bal'})"
      ]
     },
     "execution_count": 26,
     "metadata": {},
     "output_type": "execute_result"
    }
   ],
   "source": [
    "hicks_utterances[0]"
   ]
  },
  {
   "cell_type": "code",
   "execution_count": 27,
   "id": "fd24deb8",
   "metadata": {},
   "outputs": [
    {
     "data": {
      "text/plain": [
       "{'CHI': 'so then they catch [!] the balloon around the bakery .', '%mor': 'adv|so adv:tem|then pro:sub|they v|catch det:art|the n|balloon prep|around det:art|the n|bakery .', '%gra': '1|2|JCT 2|4|JCT 3|4|SUBJ 4|0|ROOT 5|6|DET 6|4|OBJ 7|4|JCT 8|9|DET 9|7|POBJ 10|4|PUNCT', '%cod': '$ind $pr $t:sq $str $pro:kds $np:bal'}"
      ]
     },
     "execution_count": 27,
     "metadata": {},
     "output_type": "execute_result"
    }
   ],
   "source": [
    "t = [u.tiers for u in hicks_utterances]\n",
    "t[0]"
   ]
  },
  {
   "cell_type": "code",
   "execution_count": 28,
   "id": "cce83540",
   "metadata": {},
   "outputs": [
    {
     "name": "stdout",
     "output_type": "stream",
     "text": [
      "mor tier:   adv|so adv:tem|then pro:sub|they v|catch det:art|the n|balloon prep|around det:art|the n|bakery .\n",
      "gra tier:   1|2|JCT 2|4|JCT 3|4|SUBJ 4|0|ROOT 5|6|DET 6|4|OBJ 7|4|JCT 8|9|DET 9|7|POBJ 10|4|PUNCT\n",
      "cod tier:   $ind $pr $t:sq $str $pro:kds $np:bal \n",
      "\n",
      "mor tier:   coord|and adv:tem|then det:art|the n|boy v|come-3S adv|out .\n",
      "gra tier:   1|5|LINK 2|5|JCT 3|4|DET 4|5|SUBJ 5|0|ROOT 6|5|JCT 7|5|PUNCT\n",
      "cod tier:   $ind $pr $t:sq $np:pas \n",
      "\n",
      "mor tier:   coord|and v|look-3S prep|for det:poss|his n|balloon .\n",
      "gra tier:   1|2|LINK 2|0|ROOT 3|2|JCT 4|5|DET 5|3|POBJ 6|2|PUNCT\n",
      "cod tier:   $ind $pr $zero:pas $np:bal \n",
      "\n",
      "mor tier:   coord|and pro:sub|he v|walk-3S adv|out .\n",
      "gra tier:   1|3|LINK 2|3|SUBJ 3|0|ROOT 4|3|JCT 5|3|PUNCT\n",
      "cod tier:   $ind $pr $pro:pas \n",
      "\n",
      "mor tier:   coord|and pro:sub|he v|look-3S adv|up .\n",
      "gra tier:   1|3|LINK 2|3|SUBJ 3|0|ROOT 4|3|JCT 5|3|PUNCT\n",
      "cod tier:   $ind $pr $pro:pas \n",
      "\n"
     ]
    }
   ],
   "source": [
    "for u in hicks_utterances[:5]:\n",
    "    print('mor tier:  ', u.tiers['%mor'])\n",
    "    print('gra tier:  ', u.tiers['%gra'])\n",
    "    print('cod tier:  ', u.tiers['%cod'], '\\n')"
   ]
  },
  {
   "cell_type": "code",
   "execution_count": 29,
   "id": "3cd7286a",
   "metadata": {},
   "outputs": [],
   "source": [
    "mor_tier = [[u.tiers['%mor']] for u in hicks_utterances]\n",
    "gra_tier = [[u.tiers['%gra']] for u in hicks_utterances]\n",
    "#cod_tier = [[u.tiers['%cod']] for u in hicks_utterances]"
   ]
  },
  {
   "cell_type": "markdown",
   "id": "680db8cc",
   "metadata": {},
   "source": [
    "It's not letting me use list comprension to create a list out of the %cod tier... It may be because it is an extra tier not required by the CHAT data format? There are tiers that are not readily handled by PyLangAcq, and I think this may be one of them. \n",
    "\n",
    "Try for loop?"
   ]
  },
  {
   "cell_type": "code",
   "execution_count": 30,
   "id": "fdd1ae0f",
   "metadata": {},
   "outputs": [
    {
     "ename": "KeyError",
     "evalue": "'%cod'",
     "output_type": "error",
     "traceback": [
      "\u001b[0;31m---------------------------------------------------------------------------\u001b[0m",
      "\u001b[0;31mKeyError\u001b[0m                                  Traceback (most recent call last)",
      "\u001b[0;32m/var/folders/wr/mkh_241s1697wrk7b4kxvm4r0000gn/T/ipykernel_7719/3305424933.py\u001b[0m in \u001b[0;36m<module>\u001b[0;34m\u001b[0m\n\u001b[1;32m      2\u001b[0m \u001b[0;34m\u001b[0m\u001b[0m\n\u001b[1;32m      3\u001b[0m \u001b[0;32mfor\u001b[0m \u001b[0mu\u001b[0m \u001b[0;32min\u001b[0m \u001b[0mhicks_utterances\u001b[0m\u001b[0;34m:\u001b[0m\u001b[0;34m\u001b[0m\u001b[0;34m\u001b[0m\u001b[0m\n\u001b[0;32m----> 4\u001b[0;31m     \u001b[0mcod_tier\u001b[0m \u001b[0;34m=\u001b[0m \u001b[0;34m[\u001b[0m\u001b[0mu\u001b[0m\u001b[0;34m.\u001b[0m\u001b[0mtiers\u001b[0m\u001b[0;34m[\u001b[0m\u001b[0;34m'%cod'\u001b[0m\u001b[0;34m]\u001b[0m\u001b[0;34m]\u001b[0m\u001b[0;34m\u001b[0m\u001b[0;34m\u001b[0m\u001b[0m\n\u001b[0m\u001b[1;32m      5\u001b[0m     \u001b[0mcod_tier_l\u001b[0m\u001b[0;34m.\u001b[0m\u001b[0mappend\u001b[0m\u001b[0;34m(\u001b[0m\u001b[0mcod_tier\u001b[0m\u001b[0;34m)\u001b[0m\u001b[0;34m\u001b[0m\u001b[0;34m\u001b[0m\u001b[0m\n",
      "\u001b[0;31mKeyError\u001b[0m: '%cod'"
     ]
    }
   ],
   "source": [
    "cod_tier_l = []\n",
    "\n",
    "for u in hicks_utterances:\n",
    "    cod_tier = [u.tiers['%cod']]\n",
    "    cod_tier_l.append(cod_tier)"
   ]
  },
  {
   "cell_type": "code",
   "execution_count": 31,
   "id": "a77635a5",
   "metadata": {},
   "outputs": [
    {
     "data": {
      "text/plain": [
       "[['$ind $pr $t:sq $str $pro:kds $np:bal'], ['$ind $pr $t:sq $np:pas'], ['$ind $pr $zero:pas $np:bal'], ['$ind $pr $pro:pas'], ['$ind $pr $pro:pas']]"
      ]
     },
     "execution_count": 31,
     "metadata": {},
     "output_type": "execute_result"
    },
    {
     "data": {
      "text/plain": [
       "302"
      ]
     },
     "execution_count": 31,
     "metadata": {},
     "output_type": "execute_result"
    }
   ],
   "source": [
    "cod_tier_l[:5]\n",
    "len(cod_tier_l)"
   ]
  },
  {
   "cell_type": "code",
   "execution_count": 32,
   "id": "8668aa5d",
   "metadata": {},
   "outputs": [
    {
     "name": "stdout",
     "output_type": "stream",
     "text": [
      "8992 8992 302\n"
     ]
    }
   ],
   "source": [
    "print(len(mor_tier), len(gra_tier), len(cod_tier_l))"
   ]
  },
  {
   "cell_type": "markdown",
   "id": "fde295f3",
   "metadata": {},
   "source": [
    "I'm not exactly sure what's going on here. Again, it doesn't like '%cod' as a tiers attribute value, but I'm still getting some of the lists of individual cod tiers in a larger list. I only get 302, though, instead of the 8992 I want to match up with the '%mor' and '%gra' tiers."
   ]
  },
  {
   "cell_type": "code",
   "execution_count": 33,
   "id": "a4609828",
   "metadata": {},
   "outputs": [
    {
     "data": {
      "text/plain": [
       "[['adv|so adv:tem|then pro:sub|they v|catch det:art|the n|balloon prep|around det:art|the n|bakery .'], ['coord|and adv:tem|then det:art|the n|boy v|come-3S adv|out .'], ['coord|and v|look-3S prep|for det:poss|his n|balloon .'], ['coord|and pro:sub|he v|walk-3S adv|out .'], ['coord|and pro:sub|he v|look-3S adv|up .']]"
      ]
     },
     "execution_count": 33,
     "metadata": {},
     "output_type": "execute_result"
    },
    {
     "data": {
      "text/plain": [
       "[['1|2|JCT 2|4|JCT 3|4|SUBJ 4|0|ROOT 5|6|DET 6|4|OBJ 7|4|JCT 8|9|DET 9|7|POBJ 10|4|PUNCT'], ['1|5|LINK 2|5|JCT 3|4|DET 4|5|SUBJ 5|0|ROOT 6|5|JCT 7|5|PUNCT'], ['1|2|LINK 2|0|ROOT 3|2|JCT 4|5|DET 5|3|POBJ 6|2|PUNCT'], ['1|3|LINK 2|3|SUBJ 3|0|ROOT 4|3|JCT 5|3|PUNCT'], ['1|3|LINK 2|3|SUBJ 3|0|ROOT 4|3|JCT 5|3|PUNCT']]"
      ]
     },
     "execution_count": 33,
     "metadata": {},
     "output_type": "execute_result"
    }
   ],
   "source": [
    "mor_tier[:5]\n",
    "gra_tier[:5]"
   ]
  },
  {
   "cell_type": "code",
   "execution_count": 34,
   "id": "84cfc5e5",
   "metadata": {},
   "outputs": [],
   "source": [
    "tier_df = pd.DataFrame({'mor_tier':mor_tier,\n",
    "                        'gra_tier':gra_tier,\n",
    "                        #'cod_tier':cod_tier_l\n",
    "                        })"
   ]
  },
  {
   "cell_type": "code",
   "execution_count": 35,
   "id": "21295676",
   "metadata": {},
   "outputs": [
    {
     "data": {
      "text/html": [
       "<div>\n",
       "<style scoped>\n",
       "    .dataframe tbody tr th:only-of-type {\n",
       "        vertical-align: middle;\n",
       "    }\n",
       "\n",
       "    .dataframe tbody tr th {\n",
       "        vertical-align: top;\n",
       "    }\n",
       "\n",
       "    .dataframe thead th {\n",
       "        text-align: right;\n",
       "    }\n",
       "</style>\n",
       "<table border=\"1\" class=\"dataframe\">\n",
       "  <thead>\n",
       "    <tr style=\"text-align: right;\">\n",
       "      <th></th>\n",
       "      <th>mor_tier</th>\n",
       "      <th>gra_tier</th>\n",
       "    </tr>\n",
       "  </thead>\n",
       "  <tbody>\n",
       "    <tr>\n",
       "      <th>0</th>\n",
       "      <td>[adv|so adv:tem|then pro:sub|they v|catch det:...</td>\n",
       "      <td>[1|2|JCT 2|4|JCT 3|4|SUBJ 4|0|ROOT 5|6|DET 6|4...</td>\n",
       "    </tr>\n",
       "    <tr>\n",
       "      <th>1</th>\n",
       "      <td>[coord|and adv:tem|then det:art|the n|boy v|co...</td>\n",
       "      <td>[1|5|LINK 2|5|JCT 3|4|DET 4|5|SUBJ 5|0|ROOT 6|...</td>\n",
       "    </tr>\n",
       "    <tr>\n",
       "      <th>2</th>\n",
       "      <td>[coord|and v|look-3S prep|for det:poss|his n|b...</td>\n",
       "      <td>[1|2|LINK 2|0|ROOT 3|2|JCT 4|5|DET 5|3|POBJ 6|...</td>\n",
       "    </tr>\n",
       "    <tr>\n",
       "      <th>3</th>\n",
       "      <td>[coord|and pro:sub|he v|walk-3S adv|out .]</td>\n",
       "      <td>[1|3|LINK 2|3|SUBJ 3|0|ROOT 4|3|JCT 5|3|PUNCT]</td>\n",
       "    </tr>\n",
       "    <tr>\n",
       "      <th>4</th>\n",
       "      <td>[coord|and pro:sub|he v|look-3S adv|up .]</td>\n",
       "      <td>[1|3|LINK 2|3|SUBJ 3|0|ROOT 4|3|JCT 5|3|PUNCT]</td>\n",
       "    </tr>\n",
       "    <tr>\n",
       "      <th>...</th>\n",
       "      <td>...</td>\n",
       "      <td>...</td>\n",
       "    </tr>\n",
       "    <tr>\n",
       "      <th>8987</th>\n",
       "      <td>[coord|and part|throw-PRESP n|rock-PL prep|at ...</td>\n",
       "      <td>[1|0|INCROOT 2|1|COORD 3|2|OBJ 4|2|JCT 5|4|POB...</td>\n",
       "    </tr>\n",
       "    <tr>\n",
       "      <th>8988</th>\n",
       "      <td>[coord|and coord|and pro:indef|one prep|of det...</td>\n",
       "      <td>[1|7|LINK 2|7|LINK 3|7|SUBJ 4|3|NJCT 5|6|DET 6...</td>\n",
       "    </tr>\n",
       "    <tr>\n",
       "      <th>8989</th>\n",
       "      <td>[coord|and adv:tem|then pro:per|it v|pop-PAST .]</td>\n",
       "      <td>[1|4|LINK 2|4|JCT 3|4|SUBJ 4|0|ROOT 5|4|PUNCT]</td>\n",
       "    </tr>\n",
       "    <tr>\n",
       "      <th>8990</th>\n",
       "      <td>[coord|and coord|and adv:tem|then qn|all det:a...</td>\n",
       "      <td>[1|7|LINK 2|7|LINK 3|7|JCT 4|6|QUANT 5|6|DET 6...</td>\n",
       "    </tr>\n",
       "    <tr>\n",
       "      <th>8991</th>\n",
       "      <td>[coord|and qn|lots_of n|balloon-PL v|come&amp;PAST...</td>\n",
       "      <td>[1|4|LINK 2|3|QUANT 3|4|SUBJ 4|0|ROOT 5|4|XJCT...</td>\n",
       "    </tr>\n",
       "  </tbody>\n",
       "</table>\n",
       "<p>8992 rows × 2 columns</p>\n",
       "</div>"
      ],
      "text/plain": [
       "                                               mor_tier  \\\n",
       "0     [adv|so adv:tem|then pro:sub|they v|catch det:...   \n",
       "1     [coord|and adv:tem|then det:art|the n|boy v|co...   \n",
       "2     [coord|and v|look-3S prep|for det:poss|his n|b...   \n",
       "3            [coord|and pro:sub|he v|walk-3S adv|out .]   \n",
       "4             [coord|and pro:sub|he v|look-3S adv|up .]   \n",
       "...                                                 ...   \n",
       "8987  [coord|and part|throw-PRESP n|rock-PL prep|at ...   \n",
       "8988  [coord|and coord|and pro:indef|one prep|of det...   \n",
       "8989   [coord|and adv:tem|then pro:per|it v|pop-PAST .]   \n",
       "8990  [coord|and coord|and adv:tem|then qn|all det:a...   \n",
       "8991  [coord|and qn|lots_of n|balloon-PL v|come&PAST...   \n",
       "\n",
       "                                               gra_tier  \n",
       "0     [1|2|JCT 2|4|JCT 3|4|SUBJ 4|0|ROOT 5|6|DET 6|4...  \n",
       "1     [1|5|LINK 2|5|JCT 3|4|DET 4|5|SUBJ 5|0|ROOT 6|...  \n",
       "2     [1|2|LINK 2|0|ROOT 3|2|JCT 4|5|DET 5|3|POBJ 6|...  \n",
       "3        [1|3|LINK 2|3|SUBJ 3|0|ROOT 4|3|JCT 5|3|PUNCT]  \n",
       "4        [1|3|LINK 2|3|SUBJ 3|0|ROOT 4|3|JCT 5|3|PUNCT]  \n",
       "...                                                 ...  \n",
       "8987  [1|0|INCROOT 2|1|COORD 3|2|OBJ 4|2|JCT 5|4|POB...  \n",
       "8988  [1|7|LINK 2|7|LINK 3|7|SUBJ 4|3|NJCT 5|6|DET 6...  \n",
       "8989     [1|4|LINK 2|4|JCT 3|4|SUBJ 4|0|ROOT 5|4|PUNCT]  \n",
       "8990  [1|7|LINK 2|7|LINK 3|7|JCT 4|6|QUANT 5|6|DET 6...  \n",
       "8991  [1|4|LINK 2|3|QUANT 3|4|SUBJ 4|0|ROOT 5|4|XJCT...  \n",
       "\n",
       "[8992 rows x 2 columns]"
      ]
     },
     "execution_count": 35,
     "metadata": {},
     "output_type": "execute_result"
    }
   ],
   "source": [
    "tier_df"
   ]
  },
  {
   "cell_type": "code",
   "execution_count": null,
   "id": "a92bf3e6",
   "metadata": {},
   "outputs": [],
   "source": []
  }
 ],
 "metadata": {
  "kernelspec": {
   "display_name": "Python 3 (ipykernel)",
   "language": "python",
   "name": "python3"
  },
  "language_info": {
   "codemirror_mode": {
    "name": "ipython",
    "version": 3
   },
   "file_extension": ".py",
   "mimetype": "text/x-python",
   "name": "python",
   "nbconvert_exporter": "python",
   "pygments_lexer": "ipython3",
   "version": "3.9.7"
  }
 },
 "nbformat": 4,
 "nbformat_minor": 5
}
