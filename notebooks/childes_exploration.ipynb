{
 "cells": [
  {
   "cell_type": "markdown",
   "id": "d6a8fe8b",
   "metadata": {},
   "source": [
    "# CHILDES Narrative English Hicks Corpus\n",
    "\n",
    "Caroline Gish | cng18@pitt.edu\n",
    "\n",
    "nbviewer view: <https://nbviewer.org/github/Data-Science-for-Linguists-2022/UDS-child-speech/blob/main/notebooks/childes_exploration.ipynb>\n",
    "\n",
    "\n",
    "*This notebook contains exploration of the dataset and explains how I got to the information I wanted.*\n",
    "\n",
    "---\n",
    "\n",
    "### Table of Contents\n",
    "\n",
    "- [1. Overview of dataset](http://localhost:8888/notebooks/notebooks/childes_exploration.ipynb#1.-Overview-of-dataset) provides relevant sources and gives a run-down of what the dataset tiers are\n",
    "- [2. Trying out `chamd`](http://localhost:8888/notebooks/notebooks/childes_exploration.ipynb#2.-Trying-out-chamd) briefly discusses my attempt to utilize the `chamd` library (unsuccessful)\n",
    "- [3. Trying out `PyLangAcq`](http://localhost:8888/notebooks/notebooks/childes_exploration.ipynb#3.-Trying-out-PyLangAcq) details my intitial exploration of the Hicks dataset using the `pylangacq` library\n",
    "    - [3-1. More exploration](http://localhost:8888/notebooks/notebooks/childes_exploration.ipynb#3-1.-More-exploration) contains more data exploration\n",
    "- [4. Creating DataFrame](http://localhost:8888/notebooks/notebooks/childes_exploration.ipynb#4.-Creating-DataFrame) is where I create a DataFrame with the desired data\n",
    "- [5. Linguistic phenomenon of interest](http://localhost:8888/notebooks/notebooks/childes_exploration.ipynb#5.-Linguistic-phenomenon-of-interest) explains the linguistic phenomenon I will be further exploring and analyzing\n",
    "    - [5-1. \"try to\" constructions](http://localhost:8888/notebooks/notebooks/childes_exploration.ipynb#5-1.-%22try-to%22-constructions) explains how I got to the linguistic phenomenon of interest"
   ]
  },
  {
   "cell_type": "markdown",
   "id": "2734a717",
   "metadata": {},
   "source": [
    "## 1. Overview of dataset\n",
    "\n",
    "**Source:** https://childes.talkbank.org/access/Eng-NA/Hicks.html \n",
    "(also has description of research goals and annotation schema)\n",
    "\n",
    "Initial exploration will involve trying to read in the CHAT files. \n",
    "\n",
    "**Resources:**\n",
    "\n",
    "- .cha file viewer: https://filext.com/file-extension/CHA\n",
    "\n",
    "- paper on child genre development: https://www.jstor.org/stable/40171463?seq=1#metadata_info_tab_contents\n",
    "\n",
    "- CLAN documentation: https://talkbank.org/manuals/CLAN.pdf\n",
    "\n",
    "- CHAT documentation: https://talkbank.org/manuals/CHAT.pdf\n",
    "\n",
    "**Relevant tiers:**\n",
    "\n",
    "- %mor: Morphological Tier\n",
    "    - This tier codes morphemic segments by type and part of speech.\n",
    "\n",
    "- %gra: Grammatical Relations Tier            \n",
    "    - This tier is used to code dependency structures with tagged grammatical relations (Sagae, Davis, Lavie, MacWhinney, & Wintner, 2007; Sagae, Lavie, & MacWhinney, 2005; Sagae, MacWhinney, & Lavie, 2004).\n",
    "\n",
    "- %cod: Coding Tier                                       \n",
    "    - This is the general purpose coding tier. It can be used for mixing codes into a single tier for economy or ease of entry."
   ]
  },
  {
   "cell_type": "code",
   "execution_count": 1,
   "id": "5a8e0f84",
   "metadata": {},
   "outputs": [
    {
     "name": "stdout",
     "output_type": "stream",
     "text": [
      "Pretty printing has been turned OFF\n"
     ]
    }
   ],
   "source": [
    "import numpy as np\n",
    "import pandas as pd\n",
    "import pickle as pkl\n",
    "\n",
    "%pprint"
   ]
  },
  {
   "cell_type": "code",
   "execution_count": 2,
   "id": "00c51ccd",
   "metadata": {},
   "outputs": [],
   "source": [
    "# every returned Out[] displayed  \n",
    "from IPython.core.interactiveshell import InteractiveShell\n",
    "InteractiveShell.ast_node_interactivity = \"all\""
   ]
  },
  {
   "cell_type": "markdown",
   "id": "7e5f87ce",
   "metadata": {},
   "source": [
    "## 2. Trying out `chamd`"
   ]
  },
  {
   "cell_type": "code",
   "execution_count": 3,
   "id": "51b70342",
   "metadata": {},
   "outputs": [],
   "source": [
    "from chamd import ChatReader"
   ]
  },
  {
   "cell_type": "code",
   "execution_count": 4,
   "id": "04974e73",
   "metadata": {},
   "outputs": [],
   "source": [
    "reader = ChatReader()\n",
    "chat = reader.read_file('../data/Hicks/1st/event/evt004.cha') # or read_string"
   ]
  },
  {
   "cell_type": "markdown",
   "id": "b0ca8481",
   "metadata": {},
   "source": [
    "My first go at exploring the CHAT files involved utilizing the `chamd` library. I've deleted almost all of the code I wrote using `chamd`, but I've still included this section so that I have record of using it (and also as a helpful tip for anyone else to NOT use it and instead use `PyLangAcq` as I do below)."
   ]
  },
  {
   "cell_type": "markdown",
   "id": "c94b55bd",
   "metadata": {},
   "source": [
    "## 3. Trying out PyLangAcq\n",
    "\n",
    "PyLangAcq: Language Acquisition Research in Python: https://pylangacq.org/\n",
    "\n",
    "reading CHAT data: https://pylangacq.org/read.html"
   ]
  },
  {
   "cell_type": "code",
   "execution_count": 5,
   "id": "ad5d64b0",
   "metadata": {},
   "outputs": [],
   "source": [
    "import pylangacq"
   ]
  },
  {
   "cell_type": "markdown",
   "id": "e3209119",
   "metadata": {},
   "source": [
    "- \"`read_chat()` automatically handles everything behind the scenes for you, from downloading the ZIP file, unzipping it, traversing through the CHAT files found, as well as parsing the files\""
   ]
  },
  {
   "cell_type": "code",
   "execution_count": 6,
   "id": "347de19d",
   "metadata": {},
   "outputs": [],
   "source": [
    "# initializing a reader from URL\n",
    "\n",
    "url = 'https://childes.talkbank.org/data/Eng-NA/Hicks.zip'\n",
    "hicks = pylangacq.read_chat(url)"
   ]
  },
  {
   "cell_type": "code",
   "execution_count": 7,
   "id": "76bd8dc2",
   "metadata": {},
   "outputs": [
    {
     "name": "stdout",
     "output_type": "stream",
     "text": [
      "213 files\n",
      "14273 utterances\n",
      "104908 words\n",
      "        Utterance Count    Word Count  File Path\n",
      "----  -----------------  ------------  -------------------------------\n",
      "#1                   66           522  Hicks/1st/event/evt004.cha\n",
      "#2                   79           560  Hicks/1st/event/evt005.cha\n",
      "#3                   57           423  Hicks/1st/event/evt009.cha\n",
      "#4                   58           395  Hicks/1st/event/evt010.cha\n",
      "#5                   57           469  Hicks/1st/event/evt012.cha\n",
      "#6                   79           623  Hicks/1st/event/evt016.cha\n",
      "#7                   41           309  Hicks/1st/event/evt018.cha\n",
      "#8                   90           658  Hicks/1st/event/evt019.cha\n",
      "#9                   73           531  Hicks/1st/event/evt021.cha\n",
      "#10                  82           587  Hicks/1st/event/evt024.cha\n",
      "#11                  75           553  Hicks/1st/event/evt026.cha\n",
      "#12                  89           698  Hicks/1st/event/evt027.cha\n",
      "#13                  77           513  Hicks/1st/event/evt029.cha\n",
      "#14                  90           636  Hicks/1st/event/evt030.cha\n",
      "#15                  81           603  Hicks/1st/event/evt035.cha\n",
      "#16                  93           620  Hicks/1st/event/evt038.cha\n",
      "#17                 101           722  Hicks/1st/event/evt039.cha\n",
      "#18                  72           522  Hicks/1st/event/evt040.cha\n",
      "#19                  75           529  Hicks/1st/event/evt041.cha\n",
      "#20                  63           491  Hicks/1st/event/evt042.cha\n",
      "#21                  70           536  Hicks/1st/report/rep004.cha\n",
      "#22                  29           244  Hicks/1st/report/rep005.cha\n",
      "#23                  40           301  Hicks/1st/report/rep009.cha\n",
      "#24                  48           364  Hicks/1st/report/rep010.cha\n",
      "#25                  51           400  Hicks/1st/report/rep012.cha\n",
      "#26                  77           550  Hicks/1st/report/rep016.cha\n",
      "#27                  28           237  Hicks/1st/report/rep018.cha\n",
      "#28                  27           188  Hicks/1st/report/rep019.cha\n",
      "#29                  21           174  Hicks/1st/report/rep021.cha\n",
      "#30                  44           344  Hicks/1st/report/rep024.cha\n",
      "#31                  74           544  Hicks/1st/report/rep026.cha\n",
      "#32                  42           326  Hicks/1st/report/rep027.cha\n",
      "#33                  89           676  Hicks/1st/report/rep029.cha\n",
      "#34                  95           753  Hicks/1st/report/rep030.cha\n",
      "#35                  40           280  Hicks/1st/report/rep035.cha\n",
      "#36                  67           456  Hicks/1st/report/rep038.cha\n",
      "#37                  69           525  Hicks/1st/report/rep039.cha\n",
      "#38                  68           501  Hicks/1st/report/rep040.cha\n",
      "#39                  47           366  Hicks/1st/report/rep041.cha\n",
      "#40                  53           394  Hicks/1st/report/rep042.cha\n",
      "#41                 114           841  Hicks/1st/story/story004.cha\n",
      "#42                  50           370  Hicks/1st/story/story005.cha\n",
      "#43                  70           500  Hicks/1st/story/story009.cha\n",
      "#44                  59           408  Hicks/1st/story/story010.cha\n",
      "#45                  41           320  Hicks/1st/story/story012.cha\n",
      "#46                 151          1061  Hicks/1st/story/story016.cha\n",
      "#47                  68           497  Hicks/1st/story/story018.cha\n",
      "#48                  83           595  Hicks/1st/story/story019.cha\n",
      "#49                  48           348  Hicks/1st/story/story021.cha\n",
      "#50                  64           495  Hicks/1st/story/story024.cha\n",
      "#51                  45           326  Hicks/1st/story/story026.cha\n",
      "#52                  78           556  Hicks/1st/story/story027.cha\n",
      "#53                  82           597  Hicks/1st/story/story029.cha\n",
      "#54                  75           611  Hicks/1st/story/story030.cha\n",
      "#55                  37           270  Hicks/1st/story/story035.cha\n",
      "#56                  36           244  Hicks/1st/story/story038.cha\n",
      "#57                  91           651  Hicks/1st/story/story039.cha\n",
      "#58                  51           377  Hicks/1st/story/story040.cha\n",
      "#59                 111           759  Hicks/1st/story/story041.cha\n",
      "#60                  50           363  Hicks/1st/story/story042.cha\n",
      "#61                  72           435  Hicks/2nd/event/evt001.cha\n",
      "#62                  59           484  Hicks/2nd/event/evt002.cha\n",
      "#63                  62           475  Hicks/2nd/event/evt003.cha\n",
      "#64                  66           442  Hicks/2nd/event/evt006.cha\n",
      "#65                  82           582  Hicks/2nd/event/evt007.cha\n",
      "#66                  87           580  Hicks/2nd/event/evt008.cha\n",
      "#67                  68           498  Hicks/2nd/event/evt011.cha\n",
      "#68                 123           828  Hicks/2nd/event/evt017.cha\n",
      "#69                  80           502  Hicks/2nd/event/evt020.cha\n",
      "#70                  80           620  Hicks/2nd/event/evt022.cha\n",
      "#71                 108           766  Hicks/2nd/event/evt023.cha\n",
      "#72                  94           700  Hicks/2nd/event/evt025.cha\n",
      "#73                  84           597  Hicks/2nd/event/evt028.cha\n",
      "#74                  96           655  Hicks/2nd/event/evt036.cha\n",
      "#75                  61           444  Hicks/2nd/event/evt037.cha\n",
      "#76                  78           598  Hicks/2nd/event/evt048.cha\n",
      "#77                  72           551  Hicks/2nd/event/evt049.cha\n",
      "#78                  76           531  Hicks/2nd/event/evt055.cha\n",
      "#79                  21           161  Hicks/2nd/report/rep001.cha\n",
      "#80                  29           211  Hicks/2nd/report/rep002.cha\n",
      "#81                  26           171  Hicks/2nd/report/rep003.cha\n",
      "#82                  37           272  Hicks/2nd/report/rep006.cha\n",
      "#83                  55           438  Hicks/2nd/report/rep007.cha\n",
      "#84                  32           245  Hicks/2nd/report/rep008.cha\n",
      "#85                  19           144  Hicks/2nd/report/rep011.cha\n",
      "#86                  51           369  Hicks/2nd/report/rep017.cha\n",
      "#87                  60           400  Hicks/2nd/report/rep020.cha\n",
      "#88                  59           457  Hicks/2nd/report/rep022.cha\n",
      "#89                 132           902  Hicks/2nd/report/rep023.cha\n",
      "#90                  31           239  Hicks/2nd/report/rep025.cha\n",
      "#91                  43           329  Hicks/2nd/report/rep028.cha\n",
      "#92                  41           316  Hicks/2nd/report/rep036.cha\n",
      "#93                  90           590  Hicks/2nd/report/rep037.cha\n",
      "#94                  57           425  Hicks/2nd/report/rep048.cha\n",
      "#95                  70           550  Hicks/2nd/report/rep049.cha\n",
      "#96                  35           258  Hicks/2nd/report/rep055.cha\n",
      "#97                  42           300  Hicks/2nd/story/story001.cha\n",
      "#98                 120           940  Hicks/2nd/story/story002.cha\n",
      "#99                  87           615  Hicks/2nd/story/story003.cha\n",
      "#100                 37           267  Hicks/2nd/story/story006.cha\n",
      "#101                 96           705  Hicks/2nd/story/story007.cha\n",
      "#102                119           907  Hicks/2nd/story/story008.cha\n",
      "#103                 44           315  Hicks/2nd/story/story011.cha\n",
      "#104                 60           449  Hicks/2nd/story/story017.cha\n",
      "#105                110           760  Hicks/2nd/story/story020.cha\n",
      "#106                117           832  Hicks/2nd/story/story022.cha\n",
      "#107                136           984  Hicks/2nd/story/story023.cha\n",
      "#108                 48           368  Hicks/2nd/story/story025.cha\n",
      "#109                 34           277  Hicks/2nd/story/story028.cha\n",
      "#110                106           759  Hicks/2nd/story/story036.cha\n",
      "#111                 87           615  Hicks/2nd/story/story037.cha\n",
      "#112                 87           612  Hicks/2nd/story/story048.cha\n",
      "#113                111           774  Hicks/2nd/story/story049.cha\n",
      "#114                 66           482  Hicks/2nd/story/story055.cha\n",
      "#115                 83           506  Hicks/5th/event/evt01.cha\n",
      "#116                 74           490  Hicks/5th/event/evt02.cha\n",
      "#117                 73           509  Hicks/5th/event/evt03.cha\n",
      "#118                 73           471  Hicks/5th/event/evt04.cha\n",
      "#119                 91           653  Hicks/5th/event/evt05.cha\n",
      "#120                 81           586  Hicks/5th/report/rep01.cha\n",
      "#121                 31           221  Hicks/5th/report/rep02.cha\n",
      "#122                 60           488  Hicks/5th/report/rep03.cha\n",
      "#123                 20           177  Hicks/5th/report/rep04.cha\n",
      "#124                100           721  Hicks/5th/report/rep05.cha\n",
      "#125                105           722  Hicks/5th/story/story01.cha\n",
      "#126                 83           570  Hicks/5th/story/story02.cha\n",
      "#127                163          1255  Hicks/5th/story/story03.cha\n",
      "#128                 70           466  Hicks/5th/story/story04.cha\n",
      "#129                126           941  Hicks/5th/story/story05.cha\n",
      "#130                 86           696  Hicks/Del/event/evt01.cha\n",
      "#131                 81           638  Hicks/Del/event/evt02.cha\n",
      "#132                 74           544  Hicks/Del/event/evt04.cha\n",
      "#133                 79           659  Hicks/Del/event/evt07.cha\n",
      "#134                 66           494  Hicks/Del/event/evt10.cha\n",
      "#135                 69           539  Hicks/Del/event/evt12.cha\n",
      "#136                 76           559  Hicks/Del/event/evt15.cha\n",
      "#137                 58           480  Hicks/Del/event/evt17.cha\n",
      "#138                 77           618  Hicks/Del/event/evt19.cha\n",
      "#139                 56           422  Hicks/Del/event/evt21.cha\n",
      "#140                 50           383  Hicks/Del/event/evt23.cha\n",
      "#141                 54           412  Hicks/Del/event/evt24.cha\n",
      "#142                 22           164  Hicks/Del/story/story01.cha\n",
      "#143                 34           266  Hicks/Del/story/story02.cha\n",
      "#144                 25           203  Hicks/Del/story/story04.cha\n",
      "#145                 59           455  Hicks/Del/story/story07.cha\n",
      "#146                 60           451  Hicks/Del/story/story10.cha\n",
      "#147                 79           633  Hicks/Del/story/story12.cha\n",
      "#148                117           866  Hicks/Del/story/story15.cha\n",
      "#149                 28           262  Hicks/Del/story/story17.cha\n",
      "#150                 44           355  Hicks/Del/story/story19.cha\n",
      "#151                 34           308  Hicks/Del/story/story21.cha\n",
      "#152                 33           246  Hicks/Del/story/story23.cha\n",
      "#153                 47           388  Hicks/Del/story/story24.cha\n",
      "#154                 99           689  Hicks/Kinder/event/evt013.cha\n",
      "#155                 68           546  Hicks/Kinder/event/evt014.cha\n",
      "#156                 92           722  Hicks/Kinder/event/evt015.cha\n",
      "#157                 75           524  Hicks/Kinder/event/evt031.cha\n",
      "#158                 84           584  Hicks/Kinder/event/evt032.cha\n",
      "#159                 78           562  Hicks/Kinder/event/evt033.cha\n",
      "#160                 70           488  Hicks/Kinder/event/evt034.cha\n",
      "#161                 85           552  Hicks/Kinder/event/evt043.cha\n",
      "#162                 86           665  Hicks/Kinder/event/evt044.cha\n",
      "#163                 68           482  Hicks/Kinder/event/evt045.cha\n",
      "#164                 38           269  Hicks/Kinder/event/evt046.cha\n",
      "#165                 70           461  Hicks/Kinder/event/evt047.cha\n",
      "#166                 72           565  Hicks/Kinder/event/evt051.cha\n",
      "#167                 78           543  Hicks/Kinder/event/evt052.cha\n",
      "#168                 60           472  Hicks/Kinder/event/evt053.cha\n",
      "#169                 63           474  Hicks/Kinder/event/evt054.cha\n",
      "#170                 62           458  Hicks/Kinder/event/evt056.cha\n",
      "#171                 93           622  Hicks/Kinder/event/evt057.cha\n",
      "#172                 56           385  Hicks/Kinder/event/evt058.cha\n",
      "#173                 60           427  Hicks/Kinder/event/evt059.cha\n",
      "#174                 40           277  Hicks/Kinder/report/rep013.cha\n",
      "#175                 47           348  Hicks/Kinder/report/rep014.cha\n",
      "#176                100           701  Hicks/Kinder/report/rep015.cha\n",
      "#177                 45           361  Hicks/Kinder/report/rep031.cha\n",
      "#178                 38           286  Hicks/Kinder/report/rep032.cha\n",
      "#179                 63           488  Hicks/Kinder/report/rep033.cha\n",
      "#180                 56           418  Hicks/Kinder/report/rep034.cha\n",
      "#181                 36           272  Hicks/Kinder/report/rep043.cha\n",
      "#182                 37           288  Hicks/Kinder/report/rep044.cha\n",
      "#183                 19           147  Hicks/Kinder/report/rep045.cha\n",
      "#184                 92           696  Hicks/Kinder/report/rep046.cha\n",
      "#185                 84           616  Hicks/Kinder/report/rep047.cha\n",
      "#186                 67           462  Hicks/Kinder/report/rep051.cha\n",
      "#187                 35           285  Hicks/Kinder/report/rep052.cha\n",
      "#188                 30           244  Hicks/Kinder/report/rep053.cha\n",
      "#189                 94           750  Hicks/Kinder/report/rep054.cha\n",
      "#190                 63           467  Hicks/Kinder/report/rep056.cha\n",
      "#191                 19           145  Hicks/Kinder/report/rep057.cha\n",
      "#192                 64           464  Hicks/Kinder/report/rep058.cha\n",
      "#193                 43           329  Hicks/Kinder/report/rep059.cha\n",
      "#194                 86           615  Hicks/Kinder/story/story013.cha\n",
      "#195                 91           700  Hicks/Kinder/story/story014.cha\n",
      "#196                 64           419  Hicks/Kinder/story/story015.cha\n",
      "#197                 45           341  Hicks/Kinder/story/story031.cha\n",
      "#198                 55           404  Hicks/Kinder/story/story032.cha\n",
      "#199                 83           626  Hicks/Kinder/story/story033.cha\n",
      "#200                 58           430  Hicks/Kinder/story/story034.cha\n",
      "#201                 54           436  Hicks/Kinder/story/story043.cha\n",
      "#202                 35           286  Hicks/Kinder/story/story044.cha\n",
      "#203                 79           579  Hicks/Kinder/story/story045.cha\n",
      "#204                 53           417  Hicks/Kinder/story/story046.cha\n",
      "#205                 51           403  Hicks/Kinder/story/story047.cha\n",
      "#206                 87           655  Hicks/Kinder/story/story051.cha\n",
      "#207                 58           416  Hicks/Kinder/story/story052.cha\n",
      "#208                 46           340  Hicks/Kinder/story/story053.cha\n",
      "#209                 89           658  Hicks/Kinder/story/story054.cha\n",
      "#210                 60           441  Hicks/Kinder/story/story056.cha\n",
      "#211                 74           552  Hicks/Kinder/story/story057.cha\n",
      "#212                 44           318  Hicks/Kinder/story/story058.cha\n",
      "#213                 67           483  Hicks/Kinder/story/story059.cha\n"
     ]
    }
   ],
   "source": [
    "hicks.info(verbose='True')  # set 'verbose' to True \n",
    "                            # to see all files"
   ]
  },
  {
   "cell_type": "markdown",
   "id": "78b54f48",
   "metadata": {},
   "source": [
    "This is looking much more promising! Acceses to different files and the ability to count different things is already built in.\n",
    "\n",
    "Not sure how/why I didn't find this before `chamd`. PyLangAcq has a lot more documentation (that's also organized well) and it's taking care of everything I need."
   ]
  },
  {
   "cell_type": "code",
   "execution_count": 8,
   "id": "c433d877",
   "metadata": {},
   "outputs": [
    {
     "data": {
      "text/html": [
       "<table>  <tr>\n",
       "    <td>*RES:</td>\n",
       "    <td style=\"text-align: left\">so</td>\n",
       "    <td style=\"text-align: left\">this</td>\n",
       "    <td style=\"text-align: left\">is</td>\n",
       "    <td style=\"text-align: left\">again</td>\n",
       "    <td style=\"text-align: left\">Deborah</td>\n",
       "    <td style=\"text-align: left\">and</td>\n",
       "    <td style=\"text-align: left\">Ari</td>\n",
       "    <td style=\"text-align: left\">.</td>\n",
       "  </tr>\n",
       "  <tr>\n",
       "    <td>%mor:</td>\n",
       "    <td style=\"text-align: left\">adv|so</td>\n",
       "    <td style=\"text-align: left\">pro:dem|this</td>\n",
       "    <td style=\"text-align: left\">cop|be&3S</td>\n",
       "    <td style=\"text-align: left\">adv|again</td>\n",
       "    <td style=\"text-align: left\">n:prop|Deborah</td>\n",
       "    <td style=\"text-align: left\">coord|and</td>\n",
       "    <td style=\"text-align: left\">n:prop|Ari</td>\n",
       "    <td style=\"text-align: left\">.</td>\n",
       "  </tr>\n",
       "  <tr>\n",
       "    <td>%gra:</td>\n",
       "    <td style=\"text-align: left\">1|2|JCT</td>\n",
       "    <td style=\"text-align: left\">2|3|SUBJ</td>\n",
       "    <td style=\"text-align: left\">3|0|ROOT</td>\n",
       "    <td style=\"text-align: left\">4|3|JCT</td>\n",
       "    <td style=\"text-align: left\">5|3|PRED</td>\n",
       "    <td style=\"text-align: left\">6|5|CONJ</td>\n",
       "    <td style=\"text-align: left\">7|6|COORD</td>\n",
       "    <td style=\"text-align: left\">8|3|PUNCT</td>\n",
       "  </tr>\n",
       "</table>\n",
       "<table>  <tr>\n",
       "    <td>*RES:</td>\n",
       "    <td style=\"text-align: left\">and</td>\n",
       "    <td style=\"text-align: left\">we're</td>\n",
       "    <td style=\"text-align: left\">CLITIC</td>\n",
       "    <td style=\"text-align: left\">gonna</td>\n",
       "    <td style=\"text-align: left\">CLITIC</td>\n",
       "    <td style=\"text-align: left\">be</td>\n",
       "    <td style=\"text-align: left\">sportscasters</td>\n",
       "    <td style=\"text-align: left\">.</td>\n",
       "  </tr>\n",
       "  <tr>\n",
       "    <td>%mor:</td>\n",
       "    <td style=\"text-align: left\">coord|and</td>\n",
       "    <td style=\"text-align: left\">pro:sub|we</td>\n",
       "    <td style=\"text-align: left\">aux|be&PRES</td>\n",
       "    <td style=\"text-align: left\">part|go-PRESP</td>\n",
       "    <td style=\"text-align: left\">inf|to</td>\n",
       "    <td style=\"text-align: left\">cop|be</td>\n",
       "    <td style=\"text-align: left\">n|+n|sports+n|caster-PL</td>\n",
       "    <td style=\"text-align: left\">.</td>\n",
       "  </tr>\n",
       "  <tr>\n",
       "    <td>%gra:</td>\n",
       "    <td style=\"text-align: left\">1|4|LINK</td>\n",
       "    <td style=\"text-align: left\">2|4|SUBJ</td>\n",
       "    <td style=\"text-align: left\">3|4|AUX</td>\n",
       "    <td style=\"text-align: left\">4|0|ROOT</td>\n",
       "    <td style=\"text-align: left\">5|6|INF</td>\n",
       "    <td style=\"text-align: left\">6|4|COMP</td>\n",
       "    <td style=\"text-align: left\">7|6|PRED</td>\n",
       "    <td style=\"text-align: left\">8|4|PUNCT</td>\n",
       "  </tr>\n",
       "</table>\n",
       "<table>  <tr>\n",
       "    <td>*RES:</td>\n",
       "    <td style=\"text-align: left\">and</td>\n",
       "    <td style=\"text-align: left\">say</td>\n",
       "    <td style=\"text-align: left\">what's</td>\n",
       "    <td style=\"text-align: left\">CLITIC</td>\n",
       "    <td style=\"text-align: left\">happening</td>\n",
       "    <td style=\"text-align: left\">in</td>\n",
       "    <td style=\"text-align: left\">the</td>\n",
       "    <td style=\"text-align: left\">movie</td>\n",
       "    <td style=\"text-align: left\">.</td>\n",
       "  </tr>\n",
       "  <tr>\n",
       "    <td>%mor:</td>\n",
       "    <td style=\"text-align: left\">coord|and</td>\n",
       "    <td style=\"text-align: left\">v|say</td>\n",
       "    <td style=\"text-align: left\">pro:int|what</td>\n",
       "    <td style=\"text-align: left\">aux|be&3S</td>\n",
       "    <td style=\"text-align: left\">part|happen-PRESP</td>\n",
       "    <td style=\"text-align: left\">prep|in</td>\n",
       "    <td style=\"text-align: left\">det:art|the</td>\n",
       "    <td style=\"text-align: left\">n|movie</td>\n",
       "    <td style=\"text-align: left\">.</td>\n",
       "  </tr>\n",
       "  <tr>\n",
       "    <td>%gra:</td>\n",
       "    <td style=\"text-align: left\">1|2|LINK</td>\n",
       "    <td style=\"text-align: left\">2|0|ROOT</td>\n",
       "    <td style=\"text-align: left\">3|5|SUBJ</td>\n",
       "    <td style=\"text-align: left\">4|5|AUX</td>\n",
       "    <td style=\"text-align: left\">5|2|COMP</td>\n",
       "    <td style=\"text-align: left\">6|5|JCT</td>\n",
       "    <td style=\"text-align: left\">7|8|DET</td>\n",
       "    <td style=\"text-align: left\">8|6|POBJ</td>\n",
       "    <td style=\"text-align: left\">9|2|PUNCT</td>\n",
       "  </tr>\n",
       "</table>\n",
       "<table>  <tr>\n",
       "    <td>*RES:</td>\n",
       "    <td style=\"text-align: left\">and</td>\n",
       "    <td style=\"text-align: left\">I'm</td>\n",
       "    <td style=\"text-align: left\">CLITIC</td>\n",
       "    <td style=\"text-align: left\">gonna</td>\n",
       "    <td style=\"text-align: left\">CLITIC</td>\n",
       "    <td style=\"text-align: left\">start</td>\n",
       "    <td style=\"text-align: left\">.</td>\n",
       "  </tr>\n",
       "  <tr>\n",
       "    <td>%mor:</td>\n",
       "    <td style=\"text-align: left\">coord|and</td>\n",
       "    <td style=\"text-align: left\">pro:sub|I</td>\n",
       "    <td style=\"text-align: left\">aux|be&1S</td>\n",
       "    <td style=\"text-align: left\">part|go-PRESP</td>\n",
       "    <td style=\"text-align: left\">inf|to</td>\n",
       "    <td style=\"text-align: left\">v|start</td>\n",
       "    <td style=\"text-align: left\">.</td>\n",
       "  </tr>\n",
       "  <tr>\n",
       "    <td>%gra:</td>\n",
       "    <td style=\"text-align: left\">1|4|LINK</td>\n",
       "    <td style=\"text-align: left\">2|4|SUBJ</td>\n",
       "    <td style=\"text-align: left\">3|4|AUX</td>\n",
       "    <td style=\"text-align: left\">4|0|ROOT</td>\n",
       "    <td style=\"text-align: left\">5|6|INF</td>\n",
       "    <td style=\"text-align: left\">6|4|COMP</td>\n",
       "    <td style=\"text-align: left\">7|4|PUNCT</td>\n",
       "  </tr>\n",
       "</table>\n",
       "<table>  <tr>\n",
       "    <td>*RES:</td>\n",
       "    <td style=\"text-align: left\">the</td>\n",
       "    <td style=\"text-align: left\">little</td>\n",
       "    <td style=\"text-align: left\">boy</td>\n",
       "    <td style=\"text-align: left\">is</td>\n",
       "    <td style=\"text-align: left\">getting</td>\n",
       "    <td style=\"text-align: left\">some</td>\n",
       "    <td style=\"text-align: left\">money</td>\n",
       "    <td style=\"text-align: left\">out</td>\n",
       "    <td style=\"text-align: left\">.</td>\n",
       "  </tr>\n",
       "  <tr>\n",
       "    <td>%mor:</td>\n",
       "    <td style=\"text-align: left\">det:art|the</td>\n",
       "    <td style=\"text-align: left\">adj|little</td>\n",
       "    <td style=\"text-align: left\">n|boy</td>\n",
       "    <td style=\"text-align: left\">aux|be&3S</td>\n",
       "    <td style=\"text-align: left\">part|get-PRESP</td>\n",
       "    <td style=\"text-align: left\">qn|some</td>\n",
       "    <td style=\"text-align: left\">n|money</td>\n",
       "    <td style=\"text-align: left\">adv|out</td>\n",
       "    <td style=\"text-align: left\">.</td>\n",
       "  </tr>\n",
       "  <tr>\n",
       "    <td>%gra:</td>\n",
       "    <td style=\"text-align: left\">1|3|DET</td>\n",
       "    <td style=\"text-align: left\">2|3|MOD</td>\n",
       "    <td style=\"text-align: left\">3|5|SUBJ</td>\n",
       "    <td style=\"text-align: left\">4|5|AUX</td>\n",
       "    <td style=\"text-align: left\">5|0|ROOT</td>\n",
       "    <td style=\"text-align: left\">6|7|QUANT</td>\n",
       "    <td style=\"text-align: left\">7|5|OBJ</td>\n",
       "    <td style=\"text-align: left\">8|5|JCT</td>\n",
       "    <td style=\"text-align: left\">9|5|PUNCT</td>\n",
       "  </tr>\n",
       "</table>"
      ],
      "text/plain": [
       "*RES:  so       this          is         again      Deborah         and        Ari         .\n",
       "%mor:  adv|so   pro:dem|this  cop|be&3S  adv|again  n:prop|Deborah  coord|and  n:prop|Ari  .\n",
       "%gra:  1|2|JCT  2|3|SUBJ      3|0|ROOT   4|3|JCT    5|3|PRED        6|5|CONJ   7|6|COORD   8|3|PUNCT\n",
       "\n",
       "*RES:  and        we're                   gonna                 be        sportscasters            .\n",
       "%mor:  coord|and  pro:sub|we~aux|be&PRES  part|go-PRESP~inf|to  cop|be    n|+n|sports+n|caster-PL  .\n",
       "%gra:  1|4|LINK   2|4|SUBJ 3|4|AUX        4|0|ROOT 5|6|INF      6|4|COMP  7|6|PRED                 8|4|PUNCT\n",
       "\n",
       "*RES:  and        say       what's                  happening          in       the          movie     .\n",
       "%mor:  coord|and  v|say     pro:int|what~aux|be&3S  part|happen-PRESP  prep|in  det:art|the  n|movie   .\n",
       "%gra:  1|2|LINK   2|0|ROOT  3|5|SUBJ 4|5|AUX        5|2|COMP           6|5|JCT  7|8|DET      8|6|POBJ  9|2|PUNCT\n",
       "\n",
       "*RES:  and        I'm                  gonna                 start     .\n",
       "%mor:  coord|and  pro:sub|I~aux|be&1S  part|go-PRESP~inf|to  v|start   .\n",
       "%gra:  1|4|LINK   2|4|SUBJ 3|4|AUX     4|0|ROOT 5|6|INF      6|4|COMP  7|4|PUNCT\n",
       "\n",
       "*RES:  the          little      boy       is         getting         some       money    out      .\n",
       "%mor:  det:art|the  adj|little  n|boy     aux|be&3S  part|get-PRESP  qn|some    n|money  adv|out  .\n",
       "%gra:  1|3|DET      2|3|MOD     3|5|SUBJ  4|5|AUX    5|0|ROOT        6|7|QUANT  7|5|OBJ  8|5|JCT  9|5|PUNCT\n"
      ]
     },
     "execution_count": 8,
     "metadata": {},
     "output_type": "execute_result"
    },
    {
     "data": {
      "text/html": [
       "<table>  <tr>\n",
       "    <td>*CHI:</td>\n",
       "    <td style=\"text-align: left\">and</td>\n",
       "    <td style=\"text-align: left\">and</td>\n",
       "    <td style=\"text-align: left\">then</td>\n",
       "    <td style=\"text-align: left\">all</td>\n",
       "    <td style=\"text-align: left\">the</td>\n",
       "    <td style=\"text-align: left\">people</td>\n",
       "    <td style=\"text-align: left\">loosed</td>\n",
       "    <td style=\"text-align: left\">their</td>\n",
       "    <td style=\"text-align: left\">balloon</td>\n",
       "    <td style=\"text-align: left\">.</td>\n",
       "  </tr>\n",
       "  <tr>\n",
       "    <td>%mor:</td>\n",
       "    <td style=\"text-align: left\">coord|and</td>\n",
       "    <td style=\"text-align: left\">coord|and</td>\n",
       "    <td style=\"text-align: left\">adv:tem|then</td>\n",
       "    <td style=\"text-align: left\">qn|all</td>\n",
       "    <td style=\"text-align: left\">det:art|the</td>\n",
       "    <td style=\"text-align: left\">n|person&PL</td>\n",
       "    <td style=\"text-align: left\">v|loose-PAST</td>\n",
       "    <td style=\"text-align: left\">det:poss|their</td>\n",
       "    <td style=\"text-align: left\">n|balloon</td>\n",
       "    <td style=\"text-align: left\">.</td>\n",
       "  </tr>\n",
       "  <tr>\n",
       "    <td>%gra:</td>\n",
       "    <td style=\"text-align: left\">1|7|LINK</td>\n",
       "    <td style=\"text-align: left\">2|7|LINK</td>\n",
       "    <td style=\"text-align: left\">3|7|JCT</td>\n",
       "    <td style=\"text-align: left\">4|6|QUANT</td>\n",
       "    <td style=\"text-align: left\">5|6|DET</td>\n",
       "    <td style=\"text-align: left\">6|7|SUBJ</td>\n",
       "    <td style=\"text-align: left\">7|0|ROOT</td>\n",
       "    <td style=\"text-align: left\">8|9|DET</td>\n",
       "    <td style=\"text-align: left\">9|7|OBJ</td>\n",
       "    <td style=\"text-align: left\">10|7|PUNCT</td>\n",
       "  </tr>\n",
       "  <tr>\n",
       "    <td>%cod:</td>\n",
       "    <td colspan=\"10\" style=\"text-align: left\">$ind $pa $t:sq</td>\n",
       "  </tr>\n",
       "</table>\n",
       "<table>  <tr>\n",
       "    <td>*CHI:</td>\n",
       "    <td style=\"text-align: left\">and</td>\n",
       "    <td style=\"text-align: left\">lots_of</td>\n",
       "    <td style=\"text-align: left\">balloons</td>\n",
       "    <td style=\"text-align: left\">came</td>\n",
       "    <td style=\"text-align: left\">flying</td>\n",
       "    <td style=\"text-align: left\">to</td>\n",
       "    <td style=\"text-align: left\">the</td>\n",
       "    <td style=\"text-align: left\">boy</td>\n",
       "    <td style=\"text-align: left\">.</td>\n",
       "  </tr>\n",
       "  <tr>\n",
       "    <td>%mor:</td>\n",
       "    <td style=\"text-align: left\">coord|and</td>\n",
       "    <td style=\"text-align: left\">qn|lots_of</td>\n",
       "    <td style=\"text-align: left\">n|balloon-PL</td>\n",
       "    <td style=\"text-align: left\">v|come&PAST</td>\n",
       "    <td style=\"text-align: left\">part|fly-PRESP</td>\n",
       "    <td style=\"text-align: left\">prep|to</td>\n",
       "    <td style=\"text-align: left\">det:art|the</td>\n",
       "    <td style=\"text-align: left\">n|boy</td>\n",
       "    <td style=\"text-align: left\">.</td>\n",
       "  </tr>\n",
       "  <tr>\n",
       "    <td>%gra:</td>\n",
       "    <td style=\"text-align: left\">1|4|LINK</td>\n",
       "    <td style=\"text-align: left\">2|3|QUANT</td>\n",
       "    <td style=\"text-align: left\">3|4|SUBJ</td>\n",
       "    <td style=\"text-align: left\">4|0|ROOT</td>\n",
       "    <td style=\"text-align: left\">5|4|XJCT</td>\n",
       "    <td style=\"text-align: left\">6|5|JCT</td>\n",
       "    <td style=\"text-align: left\">7|8|DET</td>\n",
       "    <td style=\"text-align: left\">8|6|POBJ</td>\n",
       "    <td style=\"text-align: left\">9|4|PUNCT</td>\n",
       "  </tr>\n",
       "  <tr>\n",
       "    <td>%cod:</td>\n",
       "    <td colspan=\"9\" style=\"text-align: left\">$ind $pa $pg $indef:bls $np:pas</td>\n",
       "  </tr>\n",
       "</table>\n",
       "<table>  <tr>\n",
       "    <td>*EXP:</td>\n",
       "    <td style=\"text-align: left\">wow</td>\n",
       "    <td style=\"text-align: left\">is</td>\n",
       "    <td style=\"text-align: left\">that</td>\n",
       "    <td style=\"text-align: left\">the</td>\n",
       "    <td style=\"text-align: left\">end</td>\n",
       "    <td style=\"text-align: left\">of</td>\n",
       "    <td style=\"text-align: left\">the</td>\n",
       "    <td style=\"text-align: left\">story</td>\n",
       "    <td style=\"text-align: left\">?</td>\n",
       "  </tr>\n",
       "  <tr>\n",
       "    <td>%mor:</td>\n",
       "    <td style=\"text-align: left\">co|wow</td>\n",
       "    <td style=\"text-align: left\">cop|be&3S</td>\n",
       "    <td style=\"text-align: left\">comp|that</td>\n",
       "    <td style=\"text-align: left\">det:art|the</td>\n",
       "    <td style=\"text-align: left\">n|end</td>\n",
       "    <td style=\"text-align: left\">prep|of</td>\n",
       "    <td style=\"text-align: left\">det:art|the</td>\n",
       "    <td style=\"text-align: left\">n|story</td>\n",
       "    <td style=\"text-align: left\">?</td>\n",
       "  </tr>\n",
       "  <tr>\n",
       "    <td>%gra:</td>\n",
       "    <td style=\"text-align: left\">1|2|COM</td>\n",
       "    <td style=\"text-align: left\">2|0|ROOT</td>\n",
       "    <td style=\"text-align: left\">3|2|PRED</td>\n",
       "    <td style=\"text-align: left\">4|5|DET</td>\n",
       "    <td style=\"text-align: left\">5|3|OBJ</td>\n",
       "    <td style=\"text-align: left\">6|5|NJCT</td>\n",
       "    <td style=\"text-align: left\">7|8|DET</td>\n",
       "    <td style=\"text-align: left\">8|6|POBJ</td>\n",
       "    <td style=\"text-align: left\">9|2|PUNCT</td>\n",
       "  </tr>\n",
       "</table>\n",
       "<table>  <tr>\n",
       "    <td>*XXX:</td>\n",
       "    <td style=\"text-align: left\">yeah</td>\n",
       "    <td style=\"text-align: left\">.</td>\n",
       "  </tr>\n",
       "  <tr>\n",
       "    <td>%mor:</td>\n",
       "    <td style=\"text-align: left\">co|yeah</td>\n",
       "    <td style=\"text-align: left\">.</td>\n",
       "  </tr>\n",
       "  <tr>\n",
       "    <td>%gra:</td>\n",
       "    <td style=\"text-align: left\">1|0|INCROOT</td>\n",
       "    <td style=\"text-align: left\">2|1|PUNCT</td>\n",
       "  </tr>\n",
       "</table>\n",
       "<table>  <tr>\n",
       "    <td>*EXP:</td>\n",
       "    <td style=\"text-align: left\">great</td>\n",
       "    <td style=\"text-align: left\">!</td>\n",
       "  </tr>\n",
       "  <tr>\n",
       "    <td>%mor:</td>\n",
       "    <td style=\"text-align: left\">adj|great</td>\n",
       "    <td style=\"text-align: left\">!</td>\n",
       "  </tr>\n",
       "  <tr>\n",
       "    <td>%gra:</td>\n",
       "    <td style=\"text-align: left\">1|0|INCROOT</td>\n",
       "    <td style=\"text-align: left\">2|1|PUNCT</td>\n",
       "  </tr>\n",
       "</table>"
      ],
      "text/plain": [
       "*CHI:  and        and        then          all        the          people       loosed        their           balloon    .\n",
       "%mor:  coord|and  coord|and  adv:tem|then  qn|all     det:art|the  n|person&PL  v|loose-PAST  det:poss|their  n|balloon  .\n",
       "%gra:  1|7|LINK   2|7|LINK   3|7|JCT       4|6|QUANT  5|6|DET      6|7|SUBJ     7|0|ROOT      8|9|DET         9|7|OBJ    10|7|PUNCT\n",
       "%cod:\t$ind $pa $t:sq\n",
       "\n",
       "*CHI:  and        lots_of     balloons      came         flying          to       the          boy       .\n",
       "%mor:  coord|and  qn|lots_of  n|balloon-PL  v|come&PAST  part|fly-PRESP  prep|to  det:art|the  n|boy     .\n",
       "%gra:  1|4|LINK   2|3|QUANT   3|4|SUBJ      4|0|ROOT     5|4|XJCT        6|5|JCT  7|8|DET      8|6|POBJ  9|4|PUNCT\n",
       "%cod:\t$ind $pa $pg $indef:bls $np:pas\n",
       "\n",
       "*EXP:  wow      is         that       the          end      of        the          story     ?\n",
       "%mor:  co|wow   cop|be&3S  comp|that  det:art|the  n|end    prep|of   det:art|the  n|story   ?\n",
       "%gra:  1|2|COM  2|0|ROOT   3|2|PRED   4|5|DET      5|3|OBJ  6|5|NJCT  7|8|DET      8|6|POBJ  9|2|PUNCT\n",
       "\n",
       "*XXX:  yeah         .\n",
       "%mor:  co|yeah      .\n",
       "%gra:  1|0|INCROOT  2|1|PUNCT\n",
       "\n",
       "*EXP:  great        !\n",
       "%mor:  adj|great    !\n",
       "%gra:  1|0|INCROOT  2|1|PUNCT\n"
      ]
     },
     "execution_count": 8,
     "metadata": {},
     "output_type": "execute_result"
    }
   ],
   "source": [
    "hicks.head()\n",
    "hicks.tail()"
   ]
  },
  {
   "cell_type": "markdown",
   "id": "923fc52c",
   "metadata": {},
   "source": [
    "This is in a great format that preserves all the separation between tokens across all tiers. When a child is speaking, the %cod tier gets tacked on as the fourth and final tier. \n",
    "\n",
    "Of note for now: Contractions and clitics are transcribed in a specific way with the word itself first and then CLITIC as the next \"word\". Can read more about this in the CHAT manual. "
   ]
  },
  {
   "cell_type": "code",
   "execution_count": 9,
   "id": "9e5848e8",
   "metadata": {},
   "outputs": [
    {
     "data": {
      "text/plain": [
       "['Hicks/1st/event/evt004.cha', 'Hicks/1st/event/evt005.cha', 'Hicks/1st/event/evt009.cha', 'Hicks/1st/event/evt010.cha', 'Hicks/1st/event/evt012.cha', 'Hicks/1st/event/evt016.cha', 'Hicks/1st/event/evt018.cha', 'Hicks/1st/event/evt019.cha', 'Hicks/1st/event/evt021.cha', 'Hicks/1st/event/evt024.cha']"
      ]
     },
     "execution_count": 9,
     "metadata": {},
     "output_type": "execute_result"
    },
    {
     "data": {
      "text/plain": [
       "['Hicks/Kinder/story/story046.cha', 'Hicks/Kinder/story/story047.cha', 'Hicks/Kinder/story/story051.cha', 'Hicks/Kinder/story/story052.cha', 'Hicks/Kinder/story/story053.cha', 'Hicks/Kinder/story/story054.cha', 'Hicks/Kinder/story/story056.cha', 'Hicks/Kinder/story/story057.cha', 'Hicks/Kinder/story/story058.cha', 'Hicks/Kinder/story/story059.cha']"
      ]
     },
     "execution_count": 9,
     "metadata": {},
     "output_type": "execute_result"
    }
   ],
   "source": [
    "# all file paths\n",
    "\n",
    "hicks.file_paths()[:10]\n",
    "hicks.file_paths()[-10:]"
   ]
  },
  {
   "cell_type": "code",
   "execution_count": 10,
   "id": "75e3bb90",
   "metadata": {},
   "outputs": [],
   "source": [
    "# setting variables for grade level\n",
    "\n",
    "first = pylangacq.read_chat(url, match=\"1st\")\n",
    "second = pylangacq.read_chat(url, match=\"2nd\")\n",
    "fifth = pylangacq.read_chat(url, match=\"5th\")\n",
    "Del = pylangacq.read_chat(url, match=\"Del\")  # only has event and story, though\n",
    "kinder = pylangacq.read_chat(url, match=\"Kinder\")"
   ]
  },
  {
   "cell_type": "markdown",
   "id": "5e6eeda0",
   "metadata": {},
   "source": [
    "The \"Del\" directory of files only contains narratives of the event and story genre (no report genre). To keep things consistent across all the grade levels, I may end up not using the \"Del\" files. I'll keep them in for now, though."
   ]
  },
  {
   "cell_type": "code",
   "execution_count": 11,
   "id": "cae597f6",
   "metadata": {},
   "outputs": [
    {
     "name": "stdout",
     "output_type": "stream",
     "text": [
      "=====\n",
      "\n",
      "number of files: 60\n",
      "file path example: ['Hicks/1st/event/evt004.cha', 'Hicks/1st/event/evt005.cha']\n",
      "number of files per genre: 20\n",
      "total number of utterances: 3981\n",
      "total number of words: 28408 \n",
      "\n",
      "=====\n",
      "\n",
      "number of files: 54\n",
      "file path example: ['Hicks/2nd/event/evt001.cha', 'Hicks/2nd/event/evt002.cha']\n",
      "number of files per genre: 18\n",
      "total number of utterances: 3843\n",
      "total number of words: 26823 \n",
      "\n",
      "=====\n",
      "\n",
      "number of files: 15\n",
      "file path example: ['Hicks/5th/event/evt01.cha', 'Hicks/5th/event/evt02.cha']\n",
      "number of files per genre: 5\n",
      "total number of utterances: 1233\n",
      "total number of words: 8545 \n",
      "\n",
      "=====\n",
      "\n",
      "number of files: 24\n",
      "file path example: ['Hicks/Del/event/evt01.cha', 'Hicks/Del/event/evt02.cha']\n",
      "number of files per genre: 8\n",
      "total number of utterances: 1408\n",
      "total number of words: 10560 \n",
      "\n",
      "=====\n",
      "\n",
      "number of files: 60\n",
      "file path example: ['Hicks/Kinder/event/evt013.cha', 'Hicks/Kinder/event/evt014.cha']\n",
      "number of files per genre: 20\n",
      "total number of utterances: 3808\n",
      "total number of words: 27241 \n",
      "\n"
     ]
    }
   ],
   "source": [
    "for file in first, second, fifth, Del, kinder:\n",
    "    print('=====\\n')\n",
    "    print('number of files:', file.n_files())\n",
    "    print('file path example:', file.file_paths()[:2])\n",
    "    print('number of files per genre:', int(file.n_files()/3))\n",
    "    print('total number of utterances:', len(file.utterances()))\n",
    "    print('total number of words:', len(file.words()), '\\n')"
   ]
  },
  {
   "cell_type": "markdown",
   "id": "7b70ea24",
   "metadata": {},
   "source": [
    "There are a lot less files for fifth-grade students. There are 3 different genres, so that means there are all only 5 files per genre for fifth-grade students."
   ]
  },
  {
   "cell_type": "code",
   "execution_count": 12,
   "id": "6ee80f82",
   "metadata": {},
   "outputs": [],
   "source": [
    "# setting variables for narrative genre\n",
    "\n",
    "event = pylangacq.read_chat(url, match=\"event\")\n",
    "report = pylangacq.read_chat(url, match=\"report\")\n",
    "story = pylangacq.read_chat(url, match=\"story\")"
   ]
  },
  {
   "cell_type": "code",
   "execution_count": 13,
   "id": "532c864b",
   "metadata": {},
   "outputs": [
    {
     "name": "stdout",
     "output_type": "stream",
     "text": [
      "=====\n",
      "\n",
      "number of files: 75\n",
      "file path example: ['Hicks/1st/event/evt004.cha', 'Hicks/1st/event/evt005.cha']\n",
      "total number of utterances: 5623\n",
      "total number of words: 38753 \n",
      "\n",
      "=====\n",
      "\n",
      "number of files: 63\n",
      "file path example: ['Hicks/1st/report/rep004.cha', 'Hicks/1st/report/rep005.cha']\n",
      "total number of utterances: 3331\n",
      "total number of words: 24338 \n",
      "\n",
      "=====\n",
      "\n",
      "number of files: 75\n",
      "file path example: ['Hicks/1st/story/story004.cha', 'Hicks/1st/story/story005.cha']\n",
      "total number of utterances: 5319\n",
      "total number of words: 38486 \n",
      "\n"
     ]
    }
   ],
   "source": [
    "for file in event, report, story:\n",
    "    print('=====\\n')\n",
    "    print('number of files:', file.n_files())\n",
    "    print('file path example:', file.file_paths()[:2])\n",
    "    print('total number of utterances:', len(file.utterances()))\n",
    "    print('total number of words:', len(file.words()), '\\n')"
   ]
  },
  {
   "cell_type": "markdown",
   "id": "4e204a54",
   "metadata": {},
   "source": [
    "This seems to match up - remember the \"Del\" directory did not have any report files (so 63 report files instead of 75), but it did have event and story files. \n",
    "\n",
    "So, overall, it looks like the sets (by genre) are comparable in size. "
   ]
  },
  {
   "cell_type": "markdown",
   "id": "f653ead9",
   "metadata": {},
   "source": [
    "### 3-1. More exploration"
   ]
  },
  {
   "cell_type": "markdown",
   "id": "e997eca5",
   "metadata": {},
   "source": [
    "#### Accessing CHAT headers:"
   ]
  },
  {
   "cell_type": "code",
   "execution_count": 14,
   "id": "43026e12",
   "metadata": {},
   "outputs": [
    {
     "data": {
      "text/plain": [
       "[(5, 9, 0), (6, 6, 0), (7, 0, 0), (6, 5, 0), (6, 8, 0), (6, 6, 0), (6, 1, 0), (6, 1, 0), (6, 7, 0), (6, 10, 0), (6, 7, 0), (6, 6, 0), (6, 7, 0), (6, 11, 0), (6, 9, 0), (6, 7, 0), (6, 5, 0), (6, 7, 0), (6, 6, 0), (6, 9, 0), (5, 9, 0), (6, 6, 0), (7, 0, 0), (6, 5, 0), (6, 8, 0), (6, 6, 0), (6, 1, 0), (6, 1, 0), (6, 7, 0), (6, 10, 0), (6, 7, 0), (6, 6, 0), (6, 7, 0), (6, 11, 0), (6, 9, 0), (6, 7, 0), (6, 5, 0), (6, 7, 0), (6, 6, 0), (6, 9, 0), (5, 9, 0), (6, 6, 0), (7, 0, 0), (6, 5, 0), (6, 8, 0), (6, 6, 0), (6, 1, 0), (6, 1, 0), (6, 7, 0), (6, 10, 0), (6, 7, 0), (6, 6, 0), (6, 7, 0), (6, 11, 0), (6, 9, 0), (6, 7, 0), (6, 5, 0), (6, 7, 0), (6, 6, 0), (6, 9, 0)]"
      ]
     },
     "execution_count": 14,
     "metadata": {},
     "output_type": "execute_result"
    },
    {
     "data": {
      "text/plain": [
       "[69.0, 78.0, 84.0, 77.0, 80.0, 78.0, 73.0, 73.0, 79.0, 82.0, 79.0, 78.0, 79.0, 83.0, 81.0, 79.0, 77.0, 79.0, 78.0, 81.0, 69.0, 78.0, 84.0, 77.0, 80.0, 78.0, 73.0, 73.0, 79.0, 82.0, 79.0, 78.0, 79.0, 83.0, 81.0, 79.0, 77.0, 79.0, 78.0, 81.0, 69.0, 78.0, 84.0, 77.0, 80.0, 78.0, 73.0, 73.0, 79.0, 82.0, 79.0, 78.0, 79.0, 83.0, 81.0, 79.0, 77.0, 79.0, 78.0, 81.0]"
      ]
     },
     "execution_count": 14,
     "metadata": {},
     "output_type": "execute_result"
    }
   ],
   "source": [
    "# ages()\n",
    "# returns CHI ages in tuple of 3 integers\n",
    "# (years, months, days)\n",
    "\n",
    "# ages of first graders\n",
    "first.ages()\n",
    "\n",
    "# same ages in months\n",
    "first.ages(months=True)"
   ]
  },
  {
   "cell_type": "code",
   "execution_count": 15,
   "id": "c55287e5",
   "metadata": {},
   "outputs": [
    {
     "data": {
      "text/plain": [
       "[{datetime.date(1987, 10, 8)}, {datetime.date(1987, 10, 14)}, {datetime.date(1987, 10, 15)}, {datetime.date(1987, 10, 16)}, {datetime.date(1987, 10, 16)}, {datetime.date(1987, 10, 19)}, {datetime.date(1987, 10, 19)}, {datetime.date(1987, 10, 19)}, {datetime.date(1987, 10, 22)}, {datetime.date(1987, 10, 23)}, {datetime.date(1987, 10, 29)}, {datetime.date(1987, 10, 19)}, {datetime.date(1987, 10, 30)}, {datetime.date(1987, 10, 30)}, {datetime.date(1987, 11, 5)}, {datetime.date(1987, 11, 5)}, {datetime.date(1987, 11, 5)}, {datetime.date(1987, 11, 6)}, {datetime.date(1987, 11, 6)}, {datetime.date(1987, 11, 6)}, {datetime.date(1987, 10, 8)}, {datetime.date(1987, 10, 14)}, {datetime.date(1987, 10, 15)}, {datetime.date(1987, 10, 16)}, {datetime.date(1987, 10, 16)}, {datetime.date(1987, 10, 19)}, {datetime.date(1987, 10, 19)}, {datetime.date(1987, 10, 19)}, {datetime.date(1987, 10, 22)}, set(), {datetime.date(1987, 10, 29)}, {datetime.date(1987, 10, 29)}, {datetime.date(1987, 10, 30)}, {datetime.date(1987, 10, 30)}, {datetime.date(1987, 11, 5)}, {datetime.date(1987, 11, 5)}, {datetime.date(1987, 11, 5)}, {datetime.date(1987, 11, 6)}, {datetime.date(1987, 11, 6)}, {datetime.date(1987, 11, 6)}, {datetime.date(1987, 10, 8)}, {datetime.date(1987, 10, 15)}, {datetime.date(1987, 10, 15)}, {datetime.date(1987, 10, 19)}, {datetime.date(1987, 10, 16)}, {datetime.date(1987, 10, 19)}, {datetime.date(1987, 10, 19)}, {datetime.date(1987, 10, 29)}, {datetime.date(1987, 10, 22)}, {datetime.date(1987, 10, 23)}, {datetime.date(1987, 10, 29)}, {datetime.date(1987, 10, 29)}, {datetime.date(1987, 10, 30)}, {datetime.date(1987, 10, 30)}, {datetime.date(1987, 11, 5)}, {datetime.date(1987, 11, 5)}, {datetime.date(1987, 11, 5)}, {datetime.date(1987, 11, 6)}, {datetime.date(1987, 11, 6)}, {datetime.date(1987, 11, 6)}]"
      ]
     },
     "execution_count": 15,
     "metadata": {},
     "output_type": "execute_result"
    },
    {
     "data": {
      "text/plain": [
       "{datetime.date(1987, 11, 6), datetime.date(1987, 10, 22), datetime.date(1987, 10, 30), datetime.date(1987, 10, 16), datetime.date(1987, 10, 23), datetime.date(1987, 10, 29), datetime.date(1987, 10, 8), datetime.date(1987, 10, 14), datetime.date(1987, 10, 19), datetime.date(1987, 11, 5), datetime.date(1987, 10, 15)}"
      ]
     },
     "execution_count": 15,
     "metadata": {},
     "output_type": "execute_result"
    }
   ],
   "source": [
    "# dates_of_recording()\n",
    "# returns dates of recording\n",
    "\n",
    "# recording date by file\n",
    "first.dates_of_recording(by_files=True)\n",
    "\n",
    "# unique recording dates\n",
    "first.dates_of_recording()"
   ]
  },
  {
   "cell_type": "markdown",
   "id": "68d01298",
   "metadata": {},
   "source": [
    "all 1987"
   ]
  },
  {
   "cell_type": "code",
   "execution_count": 16,
   "id": "b9f193b4",
   "metadata": {},
   "outputs": [
    {
     "data": {
      "text/plain": [
       "{'eng'}"
      ]
     },
     "execution_count": 16,
     "metadata": {},
     "output_type": "execute_result"
    }
   ],
   "source": [
    "# languages()\n",
    "# returns language info \n",
    "\n",
    "first.languages()"
   ]
  },
  {
   "cell_type": "markdown",
   "id": "a74cd142",
   "metadata": {},
   "source": [
    "Already know that this dataset is all English."
   ]
  },
  {
   "cell_type": "code",
   "execution_count": 17,
   "id": "ad00cff3",
   "metadata": {},
   "outputs": [
    {
     "data": {
      "text/plain": [
       "{'RES', 'XXX', 'CHI'}"
      ]
     },
     "execution_count": 17,
     "metadata": {},
     "output_type": "execute_result"
    }
   ],
   "source": [
    "# participants()\n",
    "# returns participants\n",
    "\n",
    "first.participants()"
   ]
  },
  {
   "cell_type": "markdown",
   "id": "43464b64",
   "metadata": {},
   "source": [
    "Note to self: look up what the 'XXX' participant label is.\n",
    "\n",
    "&darr;\n",
    "\n",
    "According to the [CHAT transcription manual](https://talkbank.org/manuals/CHAT.pdf), XXX stands for the three-letter speaker ID, which would be RES (researcher) and CHI (child), here. This XXX popping up here could be a remnant from a time they forgot to remove the template and add the actual ID?"
   ]
  },
  {
   "cell_type": "code",
   "execution_count": 18,
   "id": "5ee8235f",
   "metadata": {},
   "outputs": [
    {
     "data": {
      "text/plain": [
       "{'UTF8': '', 'PID': '11312/c-00025368-1', 'Languages': ['eng'], 'Participants': {'CHI': {'name': 'Ari', 'language': 'eng', 'corpus': 'Hicks', 'age': '5;09.', 'sex': 'female', 'group': '', 'ses': '', 'role': 'Target_Child', 'education': '', 'custom': ''}, 'RES': {'name': 'Deborah', 'language': 'eng', 'corpus': 'Hicks', 'age': '', 'sex': '', 'group': '', 'ses': '', 'role': 'Investigator', 'education': '', 'custom': ''}}, 'Comment': 'Task is eventcast', 'Date': {datetime.date(1987, 10, 8)}, 'Types': 'cross, narrative, TD'}"
      ]
     },
     "execution_count": 18,
     "metadata": {},
     "output_type": "execute_result"
    },
    {
     "data": {
      "text/plain": [
       "{'UTF8': '', 'PID': '11312/c-00025427-1', 'Languages': ['eng'], 'Participants': {'CHI': {'name': 'Emily', 'language': 'eng', 'corpus': 'Hicks', 'age': '6;09.', 'sex': 'female', 'group': '', 'ses': '', 'role': 'Target_Child', 'education': '', 'custom': ''}, 'RES': {'name': 'Deborah', 'language': 'eng', 'corpus': 'Hicks', 'age': '', 'sex': '', 'group': '', 'ses': '', 'role': 'Investigator', 'education': '', 'custom': ''}}, 'Comment': 'Task is story', 'Date': {datetime.date(1987, 11, 6)}, 'Types': 'cross, narrative, TD'}"
      ]
     },
     "execution_count": 18,
     "metadata": {},
     "output_type": "execute_result"
    }
   ],
   "source": [
    "# full header information in a dict \n",
    "\n",
    "first.headers()[0]\n",
    "first.headers()[-1]"
   ]
  },
  {
   "cell_type": "markdown",
   "id": "89b33f1e",
   "metadata": {},
   "source": [
    "There's not a whole lot of information in the headers of this dataset, but for demographic information, I think I will want to have access to the participants' age and sex. Not sure if I need their names? The grade level comes from the file name. As for additional information, it might be nice to see the comments, though, actually, this might only tell me about the narrative genre (which I also already know from the file name).\n",
    "\n",
    "*Edit: For this project, what is important is the actual text and the dependent tiers, mainly the %cod tier."
   ]
  },
  {
   "cell_type": "markdown",
   "id": "87d514a5",
   "metadata": {},
   "source": [
    "#### Accessing transcriptions and annotations: "
   ]
  },
  {
   "cell_type": "markdown",
   "id": "18b031f3",
   "metadata": {},
   "source": [
    "For the specific purposes of my project, the transcription and annotation information is the important information needed.  "
   ]
  },
  {
   "cell_type": "markdown",
   "id": "39162020",
   "metadata": {},
   "source": [
    "- asterisk that comes before the participant code signals a transcription line\n",
    "- transcriptions are word-segmented by spaces\n",
    "- punctuation treated as words\n",
    "- dependent tiers marked by a % \n",
    "    - %mor tier\n",
    "    - %gre tier\n",
    "    - %cod tier (only for participants' (*CHI) utterances in this dataset)"
   ]
  },
  {
   "cell_type": "code",
   "execution_count": 19,
   "id": "ecded0d7",
   "metadata": {},
   "outputs": [
    {
     "name": "stdout",
     "output_type": "stream",
     "text": [
      "['Hicks/5th/event/evt01.cha'] [['he', 'puts', 'his', 'balloon', '.'], ['and', 'says', '.'], [\"what's\", 'he', 'saying', \"what's\", 'he', 'saying', '?'], [\"he's\", 'saying', '\"/.'], ['stay', 'there', '!'], ['he', 'goes', 'into', 'the', 'bakery', 'shop', '.'], ['and', 'he', 'gets', 'something', '.'], ['oh', 'no', 'along', 'come', 'the', 'mean', 'boys', '.'], [\"they're\", 'looking', 'too', '.'], ['ah', \"they're\", 'looking', 'too', '.'], [\"they're\", 'feasting', 'their', 'eyes', '.'], ['agh', 'one', 'boy', 'spots', 'the', 'balloon', '!'], ['oh', 'they', 'run', '.'], ['and', 'they', 'catch', 'it', '.'], ['and', 'they', 'grab', 'it', '.'], ['and', 'they', 'run', '.'], ['the', 'little', 'boy', 'walks', 'out', 'of', 'the', 'pastry', 'shop', '.'], ['and', 'looks', 'for', 'his', 'balloon', '.'], ['he', 'walks', 'out', '.'], ['he', 'looks', 'up', '.'], ['he', 'looks', 'down', '.'], ['here', 'go', 'the', 'boys', '.'], ['up', 'the', 'hill', 'to', 'the', 'big', 'top', 'carrying', 'the', 'balloon', '.'], ['the', 'little', 'boy', 'still', \"doesn't\", 'have', 'any', 'idea', '.'], ['where', 'his', 'balloon', 'is', '.'], ['now', \"he's\", \"he's\", 'looking', '.'], ['and', 'he', 'walks', 'up', '.'], ['there', 'are', 'the', 'boys', '.'], [\"they're\", 'climbing', 'over', 'a', 'wall', 'with', 'the', 'balloon', '.'], ['over', 'the', 'wall', '.'], ['up', 'the', 'hill', '.'], ['over', 'the', 'small', 'pieces', 'of', 'gravel', '.'], [\"there's\", 'the', 'little', 'boy', '.'], [\"he's\", 'up', 'on', 'the', 'hill', '.'], ['but', 'can', 'he', 'see', 'his', 'balloon', '?'], [\"he's\", 'walking', \"he's\", 'walking', '.'], ['he', 'looks', 'around', '.'], ['the', 'boys', 'are', 'shooting', 'the', 'balloon', '.'], ['and', \"they're\", 'fighting', 'about', '.'], [\"who's\", 'going', 'to', 'shoot', 'it', 'first', '.'], ['now', 'there', 'goes', 'the', 'balloon', '.'], ['the', \"balloon's\", 'floating', 'up', '.'], ['no', 'back', 'back', '.'], ['boys', 'are', 'shooting', '.'], [\"they're\", 'fighting', '.'], ['the', 'the', 'little', 'boy', 'sees', 'his', 'red', 'balloon', '!'], ['he', 'shouts', '\"/.'], ['balloon', 'balloon', '.'], ['then', 'he', 'runs', 'down', '.'], ['the', 'balloon', 'is', 'still', 'floating', 'over', 'the', 'top', '.'], ['where', 'the', 'boys', 'are', 'fighting', 'over', 'it', '.'], ['he', 'runs', 'down', 'the', 'street', '.'], [\"there's\", 'his', 'balloon', '!'], ['he', 'tries', 'to', 'open', 'the', 'gate', '.'], ['but', 'it', \"won't\", '.'], ['the', 'he', 'peeps', 'in', '.'], ['and', 'he', 'sees', 'the', 'boys', '.'], ['he', 'shouts', '\"/.'], ['come', 'here', 'balloon', '!'], ['the', 'balloon', 'comes', 'down', '.'], ['the', 'boy', 'grabs', 'the', 'balloon', '.'], ['and', 'they', 'they', 'are', 'running', '.'], ['no', 'but', 'the', 'boys', 'have', 'the', 'other', 'side', 'of', 'the', 'string', '!'], ['then', 'the', 'boy', 'lets', 'go', '.'], ['and', 'runs', 'with', 'his', 'balloon', '.']]\n",
      "['Hicks/5th/event/evt02.cha'] [[\"he's\", 'telling', 'his', 'balloon', '.'], ['not', 'not', 'to', 'move', 'at', 'all', '.'], ['when', \"he's\", 'going', 'in', '.'], ['now', 'the', 'older', 'boys', 'or', 'I', \"don't\", 'know', 'the', 'other', 'boys', 'look', 'into', 'the', 'bakery', 'shop', '.'], ['look', '.'], ['and', 'see', 'the', 'balloon', '.'], ['they', 'come', 'around', 'the', 'corner', '.'], ['and', 'sweep', 'the', 'balloon', '.'], ['while', 'the', 'boy', 'comes', 'out', '.'], ['eating', 'his', 'pastry', '.'], ['he', \"doesn't\", 'know', '.'], ['where', 'his', 'balloon', 'went', '.'], ['so', 'he', 'looks', 'high', 'and', 'low', '.'], ['while', 'the', 'boys', 'are', 'running', '.'], ['and', 'thrashing', 'the', 'balloon', 'with', 'a', 'wooden', 'stick', '.'], ['he', 'walks', 'down', 'the', 'street', '.'], ['looking', 'everywhere', '.'], ['turns', 'around', '.'], ['the', 'boys', 'are', 'climbing', 'over', 'the', 'tall', 'wall', 'with', 'the', 'balloon', '.'], ['and', 'now', \"they're\", 'going', 'up', 'some', 'stairs', '.'], ['the', 'boy', 'is', 'looking', 'for', 'the', 'balloon', 'very', 'carefully', '.'], ['he', 'thinks', '.'], ['it', 'would', 'be', 'in', 'the', 'sky', '.'], ['as', 'you', 'can', 'see', '.'], [\"he's\", 'holding', 'his', 'head', 'up', 'high', '.'], ['the', 'boys', 'are', 'thrashing', 'the', 'balloon', '.'], ['and', 'hitting', 'it', 'with', 'rubber', 'bands', '.'], ['and', 'rocks', '.'], ['and', 'they', 'have', 'the', 'balloon', '.'], ['tied', 'to', 'a', 'long', 'string', '.'], ['the', 'boy', 'sees', 'the', 'balloon', '.'], ['and', 'calls', 'for', 'it', '.'], ['to', 'come', 'to', 'him', '.'], ['but', 'it', \"doesn't\", 'seem', 'to', 'come', '.'], ['he', 'wonders', '.'], ['why', \"it's\", 'not', 'coming', '.'], ['and', 'he', 'goes', 'down', 'the', 'hill', 'a', 'little', 'more', '.'], ['while', 'the', 'in', 'the', 'meantime', 'the', 'boys', 'are', 'still', 'trying', 'to', 'thrash', 'the', 'balloon', '.'], ['and', 'are', 'roughhousing', '.'], ['the', 'boy', 'comes', 'to', 'a', 'wall', '.'], ['and', 'sees', 'the', 'balloon', '.'], ['he', 'tries', 'to', 'open', 'a', 'door', '.'], ['but', 'it', 'seems', 'to', 'be', 'locked', '.'], ['he', 'looks', 'in', 'the', 'peephole', 'or', 'the', 'keyhole', '.'], ['and', 'then', 'calls', 'for', 'the', 'balloon', '.'], ['to', 'come', 'again', '.'], ['the', 'balloon', 'comes', '.'], ['as', 'far', 'as', 'he', 'can', 'go', 'down', '.'], ['and', 'the', 'boy', 'tugs', 'at', 'the', 'string', '.'], ['while', 'the', 'other', 'boys', 'are', '.'], [\"he's\", 'off', 'the', 'ground', 'now', '.'], ['because', \"they're\", 'tugging', '.'], ['and', 'finally', 'they', 'give', 'in', '.'], ['the', 'boy', 'runs', 'with', 'the', 'balloon', '.'], ['as', 'fast', 'as', 'he', 'can', '.'], ['as', 'the', 'boys', 'are', 'following', 'him', '.']]\n"
     ]
    }
   ],
   "source": [
    "# only care about CHI utterances\n",
    "# group by utterance to create a list of lists\n",
    "\n",
    "for file in fifth[:2]:\n",
    "    print(file.file_paths(), file.words(participants=\"CHI\", by_utterances=True,))"
   ]
  },
  {
   "cell_type": "code",
   "execution_count": 20,
   "id": "ed8606f4",
   "metadata": {},
   "outputs": [
    {
     "data": {
      "text/plain": [
       "[Token(word='so', pos='adv', mor='so', gra=Gra(dep=1, head=2, rel='JCT')), Token(word='then', pos='adv:tem', mor='then', gra=Gra(dep=2, head=4, rel='JCT'))]"
      ]
     },
     "execution_count": 20,
     "metadata": {},
     "output_type": "execute_result"
    }
   ],
   "source": [
    "# .tokens() gives word-based annotations\n",
    "\n",
    "hicks_tokens = hicks.tokens(participants=\"CHI\")\n",
    "hicks_tokens[:2]"
   ]
  },
  {
   "cell_type": "code",
   "execution_count": 21,
   "id": "e866609a",
   "metadata": {},
   "outputs": [
    {
     "name": "stdout",
     "output_type": "stream",
     "text": [
      "word: so\n",
      "part-of-speech tag: adv\n",
      "morphological information: so\n",
      "grammatical relation: Gra(dep=1, head=2, rel='JCT') \n",
      "\n",
      "word: then\n",
      "part-of-speech tag: adv:tem\n",
      "morphological information: then\n",
      "grammatical relation: Gra(dep=2, head=4, rel='JCT') \n",
      "\n"
     ]
    }
   ],
   "source": [
    "for token in hicks_tokens[:2]:\n",
    "    print(\"word:\", token.word)\n",
    "    print(\"part-of-speech tag:\", token.pos)\n",
    "    print(\"morphological information:\", token.mor)\n",
    "    print(\"grammatical relation:\", token.gra, '\\n')"
   ]
  },
  {
   "cell_type": "code",
   "execution_count": 22,
   "id": "07497d71",
   "metadata": {},
   "outputs": [],
   "source": [
    "# utterances - info beyond tokens\n",
    "# filter by CHI utterances\n",
    "\n",
    "hicks_utterances = hicks.utterances(participants=\"CHI\")"
   ]
  },
  {
   "cell_type": "code",
   "execution_count": 23,
   "id": "652d2357",
   "metadata": {
    "scrolled": false
   },
   "outputs": [
    {
     "data": {
      "text/html": [
       "<table>  <tr>\n",
       "    <td>*CHI:</td>\n",
       "    <td style=\"text-align: left\">so</td>\n",
       "    <td style=\"text-align: left\">then</td>\n",
       "    <td style=\"text-align: left\">they</td>\n",
       "    <td style=\"text-align: left\">catch</td>\n",
       "    <td style=\"text-align: left\">the</td>\n",
       "    <td style=\"text-align: left\">balloon</td>\n",
       "    <td style=\"text-align: left\">around</td>\n",
       "    <td style=\"text-align: left\">the</td>\n",
       "    <td style=\"text-align: left\">bakery</td>\n",
       "    <td style=\"text-align: left\">.</td>\n",
       "  </tr>\n",
       "  <tr>\n",
       "    <td>%mor:</td>\n",
       "    <td style=\"text-align: left\">adv|so</td>\n",
       "    <td style=\"text-align: left\">adv:tem|then</td>\n",
       "    <td style=\"text-align: left\">pro:sub|they</td>\n",
       "    <td style=\"text-align: left\">v|catch</td>\n",
       "    <td style=\"text-align: left\">det:art|the</td>\n",
       "    <td style=\"text-align: left\">n|balloon</td>\n",
       "    <td style=\"text-align: left\">prep|around</td>\n",
       "    <td style=\"text-align: left\">det:art|the</td>\n",
       "    <td style=\"text-align: left\">n|bakery</td>\n",
       "    <td style=\"text-align: left\">.</td>\n",
       "  </tr>\n",
       "  <tr>\n",
       "    <td>%gra:</td>\n",
       "    <td style=\"text-align: left\">1|2|JCT</td>\n",
       "    <td style=\"text-align: left\">2|4|JCT</td>\n",
       "    <td style=\"text-align: left\">3|4|SUBJ</td>\n",
       "    <td style=\"text-align: left\">4|0|ROOT</td>\n",
       "    <td style=\"text-align: left\">5|6|DET</td>\n",
       "    <td style=\"text-align: left\">6|4|OBJ</td>\n",
       "    <td style=\"text-align: left\">7|4|JCT</td>\n",
       "    <td style=\"text-align: left\">8|9|DET</td>\n",
       "    <td style=\"text-align: left\">9|7|POBJ</td>\n",
       "    <td style=\"text-align: left\">10|4|PUNCT</td>\n",
       "  </tr>\n",
       "  <tr>\n",
       "    <td>%cod:</td>\n",
       "    <td colspan=\"10\" style=\"text-align: left\">$ind $pr $t:sq $str $pro:kds $np:bal</td>\n",
       "  </tr>\n",
       "</table>"
      ],
      "text/plain": [
       "Utterance(participant='CHI', tokens=[Token(word='so', pos='adv', mor='so', gra=Gra(dep=1, head=2, rel='JCT')), Token(word='then', pos='adv:tem', mor='then', gra=Gra(dep=2, head=4, rel='JCT')), Token(word='they', pos='pro:sub', mor='they', gra=Gra(dep=3, head=4, rel='SUBJ')), Token(word='catch', pos='v', mor='catch', gra=Gra(dep=4, head=0, rel='ROOT')), Token(word='the', pos='det:art', mor='the', gra=Gra(dep=5, head=6, rel='DET')), Token(word='balloon', pos='n', mor='balloon', gra=Gra(dep=6, head=4, rel='OBJ')), Token(word='around', pos='prep', mor='around', gra=Gra(dep=7, head=4, rel='JCT')), Token(word='the', pos='det:art', mor='the', gra=Gra(dep=8, head=9, rel='DET')), Token(word='bakery', pos='n', mor='bakery', gra=Gra(dep=9, head=7, rel='POBJ')), Token(word='.', pos='.', mor='', gra=Gra(dep=10, head=4, rel='PUNCT'))], time_marks=None, tiers={'CHI': 'so then they catch [!] the balloon around the bakery .', '%mor': 'adv|so adv:tem|then pro:sub|they v|catch det:art|the n|balloon prep|around det:art|the n|bakery .', '%gra': '1|2|JCT 2|4|JCT 3|4|SUBJ 4|0|ROOT 5|6|DET 6|4|OBJ 7|4|JCT 8|9|DET 9|7|POBJ 10|4|PUNCT', '%cod': '$ind $pr $t:sq $str $pro:kds $np:bal'})"
      ]
     },
     "execution_count": 23,
     "metadata": {},
     "output_type": "execute_result"
    }
   ],
   "source": [
    "hicks_utterances[0]"
   ]
  },
  {
   "cell_type": "markdown",
   "id": "1c152479",
   "metadata": {},
   "source": [
    "Coding Tier `%cod`:\n",
    "\n",
    "This is the general purpose coding tier. It can be used for mixing codes into a single\n",
    "tier for economy or ease of entry. \n",
    "\n",
    "Here is an example:\n",
    "\n",
    "*MOT: you want Mommy to do it?\n",
    "\n",
    "`%cod: $MLU=6 $NMV=2 $RDE $EXP`"
   ]
  },
  {
   "cell_type": "markdown",
   "id": "9b43e9e9",
   "metadata": {},
   "source": [
    "So, it looks like the %cod tier annotations do not line up with the tokens...interesting. This makes things a bit more challenging since I don't know what tokens are being annotated. "
   ]
  },
  {
   "cell_type": "code",
   "execution_count": 24,
   "id": "fb8e0f04",
   "metadata": {},
   "outputs": [
    {
     "data": {
      "text/plain": [
       "{'CHI': 'so then they catch [!] the balloon around the bakery .', '%mor': 'adv|so adv:tem|then pro:sub|they v|catch det:art|the n|balloon prep|around det:art|the n|bakery .', '%gra': '1|2|JCT 2|4|JCT 3|4|SUBJ 4|0|ROOT 5|6|DET 6|4|OBJ 7|4|JCT 8|9|DET 9|7|POBJ 10|4|PUNCT', '%cod': '$ind $pr $t:sq $str $pro:kds $np:bal'}"
      ]
     },
     "execution_count": 24,
     "metadata": {},
     "output_type": "execute_result"
    }
   ],
   "source": [
    "tiers = [u.tiers for u in hicks_utterances]\n",
    "tiers[0]"
   ]
  },
  {
   "cell_type": "code",
   "execution_count": 25,
   "id": "05f0d037",
   "metadata": {},
   "outputs": [
    {
     "name": "stdout",
     "output_type": "stream",
     "text": [
      "text tier   so then they catch [!] the balloon around the bakery .\n",
      "mor tier:   adv|so adv:tem|then pro:sub|they v|catch det:art|the n|balloon prep|around det:art|the n|bakery .\n",
      "gra tier:   1|2|JCT 2|4|JCT 3|4|SUBJ 4|0|ROOT 5|6|DET 6|4|OBJ 7|4|JCT 8|9|DET 9|7|POBJ 10|4|PUNCT\n",
      "cod tier:   $ind $pr $t:sq $str $pro:kds $np:bal \n",
      "\n",
      "text tier   and then the boy comes out .\n",
      "mor tier:   coord|and adv:tem|then det:art|the n|boy v|come-3S adv|out .\n",
      "gra tier:   1|5|LINK 2|5|JCT 3|4|DET 4|5|SUBJ 5|0|ROOT 6|5|JCT 7|5|PUNCT\n",
      "cod tier:   $ind $pr $t:sq $np:pas \n",
      "\n",
      "text tier   and looks for his balloon .\n",
      "mor tier:   coord|and v|look-3S prep|for det:poss|his n|balloon .\n",
      "gra tier:   1|2|LINK 2|0|ROOT 3|2|JCT 4|5|DET 5|3|POBJ 6|2|PUNCT\n",
      "cod tier:   $ind $pr $zero:pas $np:bal \n",
      "\n",
      "text tier   and he walks out .\n",
      "mor tier:   coord|and pro:sub|he v|walk-3S adv|out .\n",
      "gra tier:   1|3|LINK 2|3|SUBJ 3|0|ROOT 4|3|JCT 5|3|PUNCT\n",
      "cod tier:   $ind $pr $pro:pas \n",
      "\n",
      "text tier   and he looks up .\n",
      "mor tier:   coord|and pro:sub|he v|look-3S adv|up .\n",
      "gra tier:   1|3|LINK 2|3|SUBJ 3|0|ROOT 4|3|JCT 5|3|PUNCT\n",
      "cod tier:   $ind $pr $pro:pas \n",
      "\n"
     ]
    }
   ],
   "source": [
    "# formatted view of all tiers\n",
    "\n",
    "for u in hicks_utterances[:5]:\n",
    "    print('text tier  ', u.tiers['CHI'])\n",
    "    print('mor tier:  ', u.tiers['%mor'])\n",
    "    print('gra tier:  ', u.tiers['%gra'])\n",
    "    print('cod tier:  ', u.tiers['%cod'], '\\n')"
   ]
  },
  {
   "cell_type": "code",
   "execution_count": 26,
   "id": "9171f39a",
   "metadata": {},
   "outputs": [],
   "source": [
    "# create variables per tier\n",
    "\n",
    "text_tier = [u.tiers['CHI'] for u in hicks_utterances]\n",
    "mor_tier = [u.tiers['%mor'] for u in hicks_utterances]\n",
    "gra_tier = [u.tiers['%gra'] for u in hicks_utterances]\n",
    "cod_tier = [u.tiers['%cod'] for u in hicks_utterances if '%cod' in u.tiers.keys()] # thank you Man Ho!"
   ]
  },
  {
   "cell_type": "code",
   "execution_count": 27,
   "id": "8d690d4c",
   "metadata": {},
   "outputs": [
    {
     "data": {
      "text/plain": [
       "['so then they catch [!] the balloon around the bakery .', 'and then the boy comes out .']"
      ]
     },
     "execution_count": 27,
     "metadata": {},
     "output_type": "execute_result"
    }
   ],
   "source": [
    "text_tier[:2]"
   ]
  },
  {
   "cell_type": "code",
   "execution_count": 28,
   "id": "9b1bb11f",
   "metadata": {},
   "outputs": [
    {
     "data": {
      "text/plain": [
       "['$ind $pr $t:sq $str $pro:kds $np:bal', '$ind $pr $t:sq $np:pas', '$ind $pr $zero:pas $np:bal', '$ind $pr $pro:pas', '$ind $pr $pro:pas']"
      ]
     },
     "execution_count": 28,
     "metadata": {},
     "output_type": "execute_result"
    },
    {
     "data": {
      "text/plain": [
       "8123"
      ]
     },
     "execution_count": 28,
     "metadata": {},
     "output_type": "execute_result"
    }
   ],
   "source": [
    "cod_tier[:5]\n",
    "len(cod_tier)"
   ]
  },
  {
   "cell_type": "code",
   "execution_count": 29,
   "id": "c12ede55",
   "metadata": {},
   "outputs": [
    {
     "name": "stdout",
     "output_type": "stream",
     "text": [
      "mor: 8992 gra: 8992 cod: 8123\n"
     ]
    }
   ],
   "source": [
    "print('mor:', len(mor_tier), 'gra:', len(gra_tier), 'cod:', len(cod_tier))"
   ]
  },
  {
   "cell_type": "markdown",
   "id": "b983a883",
   "metadata": {},
   "source": [
    "So, there are different amounts of each tier. Whereas there are 8992 text tiers, 8992 mor tiers, and 8992 gra tiers, there are only 8123 cod tiers. (difference of 869)"
   ]
  },
  {
   "cell_type": "code",
   "execution_count": 30,
   "id": "2bc3246d",
   "metadata": {},
   "outputs": [
    {
     "data": {
      "text/plain": [
       "['adv|so adv:tem|then pro:sub|they v|catch det:art|the n|balloon prep|around det:art|the n|bakery .', 'coord|and adv:tem|then det:art|the n|boy v|come-3S adv|out .', 'coord|and v|look-3S prep|for det:poss|his n|balloon .', 'coord|and pro:sub|he v|walk-3S adv|out .', 'coord|and pro:sub|he v|look-3S adv|up .']"
      ]
     },
     "execution_count": 30,
     "metadata": {},
     "output_type": "execute_result"
    },
    {
     "data": {
      "text/plain": [
       "['1|2|JCT 2|4|JCT 3|4|SUBJ 4|0|ROOT 5|6|DET 6|4|OBJ 7|4|JCT 8|9|DET 9|7|POBJ 10|4|PUNCT', '1|5|LINK 2|5|JCT 3|4|DET 4|5|SUBJ 5|0|ROOT 6|5|JCT 7|5|PUNCT', '1|2|LINK 2|0|ROOT 3|2|JCT 4|5|DET 5|3|POBJ 6|2|PUNCT', '1|3|LINK 2|3|SUBJ 3|0|ROOT 4|3|JCT 5|3|PUNCT', '1|3|LINK 2|3|SUBJ 3|0|ROOT 4|3|JCT 5|3|PUNCT']"
      ]
     },
     "execution_count": 30,
     "metadata": {},
     "output_type": "execute_result"
    },
    {
     "data": {
      "text/plain": [
       "['$ind $pr $t:sq $str $pro:kds $np:bal', '$ind $pr $t:sq $np:pas', '$ind $pr $zero:pas $np:bal', '$ind $pr $pro:pas', '$ind $pr $pro:pas']"
      ]
     },
     "execution_count": 30,
     "metadata": {},
     "output_type": "execute_result"
    }
   ],
   "source": [
    "mor_tier[:5]\n",
    "gra_tier[:5]\n",
    "cod_tier[:5]"
   ]
  },
  {
   "cell_type": "code",
   "execution_count": 31,
   "id": "e6c1f5a0",
   "metadata": {},
   "outputs": [],
   "source": [
    "filenames = [f for f in hicks.file_paths()]"
   ]
  },
  {
   "cell_type": "code",
   "execution_count": 32,
   "id": "2b878e04",
   "metadata": {},
   "outputs": [
    {
     "data": {
      "text/plain": [
       "['Hicks/1st/event/evt004.cha', 'Hicks/1st/event/evt005.cha', 'Hicks/1st/event/evt009.cha', 'Hicks/1st/event/evt010.cha', 'Hicks/1st/event/evt012.cha']"
      ]
     },
     "execution_count": 32,
     "metadata": {},
     "output_type": "execute_result"
    }
   ],
   "source": [
    "filenames[:5]"
   ]
  },
  {
   "cell_type": "markdown",
   "id": "b65b1efe",
   "metadata": {},
   "source": [
    "## 4. Creating DataFrame"
   ]
  },
  {
   "cell_type": "markdown",
   "id": "20c714b1",
   "metadata": {},
   "source": [
    "I will use the dictionary output from calling tiers on the CHI utterances to create a DataFrame."
   ]
  },
  {
   "cell_type": "code",
   "execution_count": 33,
   "id": "e3cb5daf",
   "metadata": {},
   "outputs": [
    {
     "data": {
      "text/plain": [
       "{'CHI': 'so then they catch [!] the balloon around the bakery .', '%mor': 'adv|so adv:tem|then pro:sub|they v|catch det:art|the n|balloon prep|around det:art|the n|bakery .', '%gra': '1|2|JCT 2|4|JCT 3|4|SUBJ 4|0|ROOT 5|6|DET 6|4|OBJ 7|4|JCT 8|9|DET 9|7|POBJ 10|4|PUNCT', '%cod': '$ind $pr $t:sq $str $pro:kds $np:bal'}"
      ]
     },
     "execution_count": 33,
     "metadata": {},
     "output_type": "execute_result"
    }
   ],
   "source": [
    "# variable reminder\n",
    "# tiers = [u.tiers for u in hicks_utterances]\n",
    "\n",
    "tiers[0]"
   ]
  },
  {
   "cell_type": "code",
   "execution_count": 34,
   "id": "a45059a0",
   "metadata": {},
   "outputs": [],
   "source": [
    "# create DataFrame\n",
    "\n",
    "tiers_df = pd.DataFrame(tiers)"
   ]
  },
  {
   "cell_type": "code",
   "execution_count": 35,
   "id": "903adea8",
   "metadata": {},
   "outputs": [
    {
     "data": {
      "text/html": [
       "<div>\n",
       "<style scoped>\n",
       "    .dataframe tbody tr th:only-of-type {\n",
       "        vertical-align: middle;\n",
       "    }\n",
       "\n",
       "    .dataframe tbody tr th {\n",
       "        vertical-align: top;\n",
       "    }\n",
       "\n",
       "    .dataframe thead th {\n",
       "        text-align: right;\n",
       "    }\n",
       "</style>\n",
       "<table border=\"1\" class=\"dataframe\">\n",
       "  <thead>\n",
       "    <tr style=\"text-align: right;\">\n",
       "      <th></th>\n",
       "      <th>CHI</th>\n",
       "      <th>%mor</th>\n",
       "      <th>%gra</th>\n",
       "      <th>%cod</th>\n",
       "      <th>%com</th>\n",
       "    </tr>\n",
       "  </thead>\n",
       "  <tbody>\n",
       "    <tr>\n",
       "      <th>131</th>\n",
       "      <td>now the little boy sees it .</td>\n",
       "      <td>adv|now det:art|the adj|little n|boy v|see-3S ...</td>\n",
       "      <td>1|5|JCT 2|4|DET 3|4|MOD 4|5|SUBJ 5|0|ROOT 6|5|...</td>\n",
       "      <td>$ind $pr $npap:pas $pro:bal</td>\n",
       "      <td>NaN</td>\n",
       "    </tr>\n",
       "    <tr>\n",
       "      <th>3064</th>\n",
       "      <td>ooh (.) I think he's trying to open the door .</td>\n",
       "      <td>v|ooh pro:sub|I v|think pro:sub|he~aux|be&amp;3S p...</td>\n",
       "      <td>1|0|ROOT 2|3|SUBJ 3|1|COMP 4|6|SUBJ 5|6|AUX 6|...</td>\n",
       "      <td>$ind $pr $pg $modv $pro:pas</td>\n",
       "      <td>NaN</td>\n",
       "    </tr>\n",
       "    <tr>\n",
       "      <th>6429</th>\n",
       "      <td>and tried to (.) hide it .</td>\n",
       "      <td>coord|and v|try-PAST inf|to v|hide pro:per|it .</td>\n",
       "      <td>1|2|LINK 2|0|ROOT 3|4|INF 4|2|COMP 5|4|OBJ 6|2...</td>\n",
       "      <td>NaN</td>\n",
       "      <td>NaN</td>\n",
       "    </tr>\n",
       "    <tr>\n",
       "      <th>7586</th>\n",
       "      <td>and they walk away .</td>\n",
       "      <td>coord|and pro:sub|they v|walk adv|away .</td>\n",
       "      <td>1|3|LINK 2|3|SUBJ 3|0|ROOT 4|3|JCT 5|3|PUNCT</td>\n",
       "      <td>$ind $pr $pro:kds</td>\n",
       "      <td>NaN</td>\n",
       "    </tr>\n",
       "    <tr>\n",
       "      <th>8282</th>\n",
       "      <td>and noise started to come .</td>\n",
       "      <td>coord|and n|noise v|start-PAST inf|to v|come .</td>\n",
       "      <td>1|3|LINK 2|3|SUBJ 3|0|ROOT 4|5|INF 5|3|COMP 6|...</td>\n",
       "      <td>$ind $pa $a:v</td>\n",
       "      <td>NaN</td>\n",
       "    </tr>\n",
       "    <tr>\n",
       "      <th>697</th>\n",
       "      <td>now (.) he's checking .</td>\n",
       "      <td>adv|now pro:sub|he~aux|be&amp;3S part|check-PRESP .</td>\n",
       "      <td>1|4|JCT 2|4|SUBJ 3|4|AUX 4|0|ROOT 5|4|PUNCT</td>\n",
       "      <td>$mc $pr $pg $pro:pas</td>\n",
       "      <td>NaN</td>\n",
       "    </tr>\n",
       "    <tr>\n",
       "      <th>2956</th>\n",
       "      <td>now the boys went over the wall .</td>\n",
       "      <td>adv|now det:art|the n|boy-PL v|go&amp;PAST prep|ov...</td>\n",
       "      <td>1|4|JCT 2|3|DET 3|4|SUBJ 4|0|ROOT 5|4|JCT 6|7|...</td>\n",
       "      <td>$ind $pa $np:kds</td>\n",
       "      <td>NaN</td>\n",
       "    </tr>\n",
       "    <tr>\n",
       "      <th>1132</th>\n",
       "      <td>to stay right there .</td>\n",
       "      <td>inf|to v|stay adv|right adv|there .</td>\n",
       "      <td>1|2|INF 2|0|ROOT 3|4|JCT 4|2|JCT 5|2|PUNCT</td>\n",
       "      <td>$cmp $inf $emp:bal</td>\n",
       "      <td>NaN</td>\n",
       "    </tr>\n",
       "    <tr>\n",
       "      <th>5709</th>\n",
       "      <td>and they catch glimpse of the balloon .</td>\n",
       "      <td>coord|and pro:sub|they v|catch n|glimpse prep|...</td>\n",
       "      <td>1|3|LINK 2|3|SUBJ 3|0|ROOT 4|3|OBJ 5|4|NJCT 6|...</td>\n",
       "      <td>$mc $pr $note</td>\n",
       "      <td>NaN</td>\n",
       "    </tr>\n",
       "    <tr>\n",
       "      <th>6237</th>\n",
       "      <td>now he's going into the shop to get something ...</td>\n",
       "      <td>adv|now pro:sub|he~aux|be&amp;3S part|go-PRESP pre...</td>\n",
       "      <td>1|4|JCT 2|4|SUBJ 3|4|AUX 4|0|ROOT 5|4|JCT 6|7|...</td>\n",
       "      <td>$c:c:pur</td>\n",
       "      <td>NaN</td>\n",
       "    </tr>\n",
       "  </tbody>\n",
       "</table>\n",
       "</div>"
      ],
      "text/plain": [
       "                                                    CHI  \\\n",
       "131                        now the little boy sees it .   \n",
       "3064     ooh (.) I think he's trying to open the door .   \n",
       "6429                         and tried to (.) hide it .   \n",
       "7586                               and they walk away .   \n",
       "8282                        and noise started to come .   \n",
       "697                             now (.) he's checking .   \n",
       "2956                  now the boys went over the wall .   \n",
       "1132                              to stay right there .   \n",
       "5709            and they catch glimpse of the balloon .   \n",
       "6237  now he's going into the shop to get something ...   \n",
       "\n",
       "                                                   %mor  \\\n",
       "131   adv|now det:art|the adj|little n|boy v|see-3S ...   \n",
       "3064  v|ooh pro:sub|I v|think pro:sub|he~aux|be&3S p...   \n",
       "6429    coord|and v|try-PAST inf|to v|hide pro:per|it .   \n",
       "7586           coord|and pro:sub|they v|walk adv|away .   \n",
       "8282     coord|and n|noise v|start-PAST inf|to v|come .   \n",
       "697     adv|now pro:sub|he~aux|be&3S part|check-PRESP .   \n",
       "2956  adv|now det:art|the n|boy-PL v|go&PAST prep|ov...   \n",
       "1132                inf|to v|stay adv|right adv|there .   \n",
       "5709  coord|and pro:sub|they v|catch n|glimpse prep|...   \n",
       "6237  adv|now pro:sub|he~aux|be&3S part|go-PRESP pre...   \n",
       "\n",
       "                                                   %gra  \\\n",
       "131   1|5|JCT 2|4|DET 3|4|MOD 4|5|SUBJ 5|0|ROOT 6|5|...   \n",
       "3064  1|0|ROOT 2|3|SUBJ 3|1|COMP 4|6|SUBJ 5|6|AUX 6|...   \n",
       "6429  1|2|LINK 2|0|ROOT 3|4|INF 4|2|COMP 5|4|OBJ 6|2...   \n",
       "7586       1|3|LINK 2|3|SUBJ 3|0|ROOT 4|3|JCT 5|3|PUNCT   \n",
       "8282  1|3|LINK 2|3|SUBJ 3|0|ROOT 4|5|INF 5|3|COMP 6|...   \n",
       "697         1|4|JCT 2|4|SUBJ 3|4|AUX 4|0|ROOT 5|4|PUNCT   \n",
       "2956  1|4|JCT 2|3|DET 3|4|SUBJ 4|0|ROOT 5|4|JCT 6|7|...   \n",
       "1132         1|2|INF 2|0|ROOT 3|4|JCT 4|2|JCT 5|2|PUNCT   \n",
       "5709  1|3|LINK 2|3|SUBJ 3|0|ROOT 4|3|OBJ 5|4|NJCT 6|...   \n",
       "6237  1|4|JCT 2|4|SUBJ 3|4|AUX 4|0|ROOT 5|4|JCT 6|7|...   \n",
       "\n",
       "                             %cod %com  \n",
       "131   $ind $pr $npap:pas $pro:bal  NaN  \n",
       "3064  $ind $pr $pg $modv $pro:pas  NaN  \n",
       "6429                          NaN  NaN  \n",
       "7586            $ind $pr $pro:kds  NaN  \n",
       "8282                $ind $pa $a:v  NaN  \n",
       "697          $mc $pr $pg $pro:pas  NaN  \n",
       "2956             $ind $pa $np:kds  NaN  \n",
       "1132           $cmp $inf $emp:bal  NaN  \n",
       "5709                $mc $pr $note  NaN  \n",
       "6237                     $c:c:pur  NaN  "
      ]
     },
     "execution_count": 35,
     "metadata": {},
     "output_type": "execute_result"
    }
   ],
   "source": [
    "tiers_df.sample(10)"
   ]
  },
  {
   "cell_type": "markdown",
   "id": "f15965fc",
   "metadata": {},
   "source": [
    "This is looking pretty good overall. I will need to change the column names because the % might cause issues, and I want the columns to be more self-documenting than they are currently. I was not expecting to get %com, which I am fairly certain is the comments tier, and it looks like most of the values are NaN, so I will remove this column. I do not need it for the purposes of my analysis."
   ]
  },
  {
   "cell_type": "code",
   "execution_count": 36,
   "id": "246f0f92",
   "metadata": {},
   "outputs": [
    {
     "name": "stderr",
     "output_type": "stream",
     "text": [
      "/var/folders/wr/mkh_241s1697wrk7b4kxvm4r0000gn/T/ipykernel_33294/2173863999.py:3: FutureWarning: In a future version of pandas all arguments of DataFrame.drop except for the argument 'labels' will be keyword-only\n",
      "  tiers_df = tiers_df.drop('%com', 1)\n"
     ]
    },
    {
     "data": {
      "text/html": [
       "<div>\n",
       "<style scoped>\n",
       "    .dataframe tbody tr th:only-of-type {\n",
       "        vertical-align: middle;\n",
       "    }\n",
       "\n",
       "    .dataframe tbody tr th {\n",
       "        vertical-align: top;\n",
       "    }\n",
       "\n",
       "    .dataframe thead th {\n",
       "        text-align: right;\n",
       "    }\n",
       "</style>\n",
       "<table border=\"1\" class=\"dataframe\">\n",
       "  <thead>\n",
       "    <tr style=\"text-align: right;\">\n",
       "      <th></th>\n",
       "      <th>CHI</th>\n",
       "      <th>%mor</th>\n",
       "      <th>%gra</th>\n",
       "      <th>%cod</th>\n",
       "    </tr>\n",
       "  </thead>\n",
       "  <tbody>\n",
       "    <tr>\n",
       "      <th>2421</th>\n",
       "      <td>he went out of church with it .</td>\n",
       "      <td>pro:sub|he v|go&amp;PAST adv|out prep|of n|church ...</td>\n",
       "      <td>1|2|SUBJ 2|0|ROOT 3|2|JCT 4|3|JCT 5|4|POBJ 6|2...</td>\n",
       "      <td>$mc $pa $pro:pas $pro:bal</td>\n",
       "    </tr>\n",
       "    <tr>\n",
       "      <th>3251</th>\n",
       "      <td>to come back .</td>\n",
       "      <td>inf|to v|come adv|back .</td>\n",
       "      <td>1|2|INF 2|0|ROOT 3|2|JCT 4|2|PUNCT</td>\n",
       "      <td>$cmp $inf $emp:bal</td>\n",
       "    </tr>\n",
       "  </tbody>\n",
       "</table>\n",
       "</div>"
      ],
      "text/plain": [
       "                                  CHI  \\\n",
       "2421  he went out of church with it .   \n",
       "3251                   to come back .   \n",
       "\n",
       "                                                   %mor  \\\n",
       "2421  pro:sub|he v|go&PAST adv|out prep|of n|church ...   \n",
       "3251                           inf|to v|come adv|back .   \n",
       "\n",
       "                                                   %gra  \\\n",
       "2421  1|2|SUBJ 2|0|ROOT 3|2|JCT 4|3|JCT 5|4|POBJ 6|2...   \n",
       "3251                 1|2|INF 2|0|ROOT 3|2|JCT 4|2|PUNCT   \n",
       "\n",
       "                           %cod  \n",
       "2421  $mc $pa $pro:pas $pro:bal  \n",
       "3251         $cmp $inf $emp:bal  "
      ]
     },
     "execution_count": 36,
     "metadata": {},
     "output_type": "execute_result"
    }
   ],
   "source": [
    "# get rid of %com column\n",
    "\n",
    "tiers_df = tiers_df.drop('%com', 1)\n",
    "tiers_df.sample(2)"
   ]
  },
  {
   "cell_type": "code",
   "execution_count": 37,
   "id": "dc5d8c71",
   "metadata": {},
   "outputs": [],
   "source": [
    "# change column names to remove the %\n",
    "\n",
    "tiers_df.columns = ['CHI_text', 'mor_tier', 'gra_tier', 'cod_tier']"
   ]
  },
  {
   "cell_type": "code",
   "execution_count": 38,
   "id": "9d3f088a",
   "metadata": {},
   "outputs": [
    {
     "data": {
      "text/html": [
       "<div>\n",
       "<style scoped>\n",
       "    .dataframe tbody tr th:only-of-type {\n",
       "        vertical-align: middle;\n",
       "    }\n",
       "\n",
       "    .dataframe tbody tr th {\n",
       "        vertical-align: top;\n",
       "    }\n",
       "\n",
       "    .dataframe thead th {\n",
       "        text-align: right;\n",
       "    }\n",
       "</style>\n",
       "<table border=\"1\" class=\"dataframe\">\n",
       "  <thead>\n",
       "    <tr style=\"text-align: right;\">\n",
       "      <th></th>\n",
       "      <th>CHI_text</th>\n",
       "      <th>mor_tier</th>\n",
       "      <th>gra_tier</th>\n",
       "      <th>cod_tier</th>\n",
       "    </tr>\n",
       "  </thead>\n",
       "  <tbody>\n",
       "    <tr>\n",
       "      <th>0</th>\n",
       "      <td>so then they catch [!] the balloon around the ...</td>\n",
       "      <td>adv|so adv:tem|then pro:sub|they v|catch det:a...</td>\n",
       "      <td>1|2|JCT 2|4|JCT 3|4|SUBJ 4|0|ROOT 5|6|DET 6|4|...</td>\n",
       "      <td>$ind $pr $t:sq $str $pro:kds $np:bal</td>\n",
       "    </tr>\n",
       "    <tr>\n",
       "      <th>1</th>\n",
       "      <td>and then the boy comes out .</td>\n",
       "      <td>coord|and adv:tem|then det:art|the n|boy v|com...</td>\n",
       "      <td>1|5|LINK 2|5|JCT 3|4|DET 4|5|SUBJ 5|0|ROOT 6|5...</td>\n",
       "      <td>$ind $pr $t:sq $np:pas</td>\n",
       "    </tr>\n",
       "    <tr>\n",
       "      <th>2</th>\n",
       "      <td>and looks for his balloon .</td>\n",
       "      <td>coord|and v|look-3S prep|for det:poss|his n|ba...</td>\n",
       "      <td>1|2|LINK 2|0|ROOT 3|2|JCT 4|5|DET 5|3|POBJ 6|2...</td>\n",
       "      <td>$ind $pr $zero:pas $np:bal</td>\n",
       "    </tr>\n",
       "    <tr>\n",
       "      <th>3</th>\n",
       "      <td>and he walks out .</td>\n",
       "      <td>coord|and pro:sub|he v|walk-3S adv|out .</td>\n",
       "      <td>1|3|LINK 2|3|SUBJ 3|0|ROOT 4|3|JCT 5|3|PUNCT</td>\n",
       "      <td>$ind $pr $pro:pas</td>\n",
       "    </tr>\n",
       "    <tr>\n",
       "      <th>4</th>\n",
       "      <td>and he looks up .</td>\n",
       "      <td>coord|and pro:sub|he v|look-3S adv|up .</td>\n",
       "      <td>1|3|LINK 2|3|SUBJ 3|0|ROOT 4|3|JCT 5|3|PUNCT</td>\n",
       "      <td>$ind $pr $pro:pas</td>\n",
       "    </tr>\n",
       "    <tr>\n",
       "      <th>...</th>\n",
       "      <td>...</td>\n",
       "      <td>...</td>\n",
       "      <td>...</td>\n",
       "      <td>...</td>\n",
       "    </tr>\n",
       "    <tr>\n",
       "      <th>8987</th>\n",
       "      <td>and throwing rocks at it .</td>\n",
       "      <td>coord|and part|throw-PRESP n|rock-PL prep|at p...</td>\n",
       "      <td>1|0|INCROOT 2|1|COORD 3|2|OBJ 4|2|JCT 5|4|POBJ...</td>\n",
       "      <td>$ind $pa $pg $zero:kds $pro:bal</td>\n",
       "    </tr>\n",
       "    <tr>\n",
       "      <th>8988</th>\n",
       "      <td>and then [//] and one of the rocks hit it .</td>\n",
       "      <td>coord|and coord|and pro:indef|one prep|of det:...</td>\n",
       "      <td>1|7|LINK 2|7|LINK 3|7|SUBJ 4|3|NJCT 5|6|DET 6|...</td>\n",
       "      <td>$ind $pa $t:sq $pro:bal</td>\n",
       "    </tr>\n",
       "    <tr>\n",
       "      <th>8989</th>\n",
       "      <td>and then it popped .</td>\n",
       "      <td>coord|and adv:tem|then pro:per|it v|pop-PAST .</td>\n",
       "      <td>1|4|LINK 2|4|JCT 3|4|SUBJ 4|0|ROOT 5|4|PUNCT</td>\n",
       "      <td>$ind $pa $t:sq $pro:bal</td>\n",
       "    </tr>\n",
       "    <tr>\n",
       "      <th>8990</th>\n",
       "      <td>and then [/] and then all the people loosed th...</td>\n",
       "      <td>coord|and coord|and adv:tem|then qn|all det:ar...</td>\n",
       "      <td>1|7|LINK 2|7|LINK 3|7|JCT 4|6|QUANT 5|6|DET 6|...</td>\n",
       "      <td>$ind $pa $t:sq</td>\n",
       "    </tr>\n",
       "    <tr>\n",
       "      <th>8991</th>\n",
       "      <td>and lots_of balloons came flying to the boy .</td>\n",
       "      <td>coord|and qn|lots_of n|balloon-PL v|come&amp;PAST ...</td>\n",
       "      <td>1|4|LINK 2|3|QUANT 3|4|SUBJ 4|0|ROOT 5|4|XJCT ...</td>\n",
       "      <td>$ind $pa $pg $indef:bls $np:pas</td>\n",
       "    </tr>\n",
       "  </tbody>\n",
       "</table>\n",
       "<p>8992 rows × 4 columns</p>\n",
       "</div>"
      ],
      "text/plain": [
       "                                               CHI_text  \\\n",
       "0     so then they catch [!] the balloon around the ...   \n",
       "1                          and then the boy comes out .   \n",
       "2                           and looks for his balloon .   \n",
       "3                                    and he walks out .   \n",
       "4                                     and he looks up .   \n",
       "...                                                 ...   \n",
       "8987                         and throwing rocks at it .   \n",
       "8988        and then [//] and one of the rocks hit it .   \n",
       "8989                               and then it popped .   \n",
       "8990  and then [/] and then all the people loosed th...   \n",
       "8991      and lots_of balloons came flying to the boy .   \n",
       "\n",
       "                                               mor_tier  \\\n",
       "0     adv|so adv:tem|then pro:sub|they v|catch det:a...   \n",
       "1     coord|and adv:tem|then det:art|the n|boy v|com...   \n",
       "2     coord|and v|look-3S prep|for det:poss|his n|ba...   \n",
       "3              coord|and pro:sub|he v|walk-3S adv|out .   \n",
       "4               coord|and pro:sub|he v|look-3S adv|up .   \n",
       "...                                                 ...   \n",
       "8987  coord|and part|throw-PRESP n|rock-PL prep|at p...   \n",
       "8988  coord|and coord|and pro:indef|one prep|of det:...   \n",
       "8989     coord|and adv:tem|then pro:per|it v|pop-PAST .   \n",
       "8990  coord|and coord|and adv:tem|then qn|all det:ar...   \n",
       "8991  coord|and qn|lots_of n|balloon-PL v|come&PAST ...   \n",
       "\n",
       "                                               gra_tier  \\\n",
       "0     1|2|JCT 2|4|JCT 3|4|SUBJ 4|0|ROOT 5|6|DET 6|4|...   \n",
       "1     1|5|LINK 2|5|JCT 3|4|DET 4|5|SUBJ 5|0|ROOT 6|5...   \n",
       "2     1|2|LINK 2|0|ROOT 3|2|JCT 4|5|DET 5|3|POBJ 6|2...   \n",
       "3          1|3|LINK 2|3|SUBJ 3|0|ROOT 4|3|JCT 5|3|PUNCT   \n",
       "4          1|3|LINK 2|3|SUBJ 3|0|ROOT 4|3|JCT 5|3|PUNCT   \n",
       "...                                                 ...   \n",
       "8987  1|0|INCROOT 2|1|COORD 3|2|OBJ 4|2|JCT 5|4|POBJ...   \n",
       "8988  1|7|LINK 2|7|LINK 3|7|SUBJ 4|3|NJCT 5|6|DET 6|...   \n",
       "8989       1|4|LINK 2|4|JCT 3|4|SUBJ 4|0|ROOT 5|4|PUNCT   \n",
       "8990  1|7|LINK 2|7|LINK 3|7|JCT 4|6|QUANT 5|6|DET 6|...   \n",
       "8991  1|4|LINK 2|3|QUANT 3|4|SUBJ 4|0|ROOT 5|4|XJCT ...   \n",
       "\n",
       "                                  cod_tier  \n",
       "0     $ind $pr $t:sq $str $pro:kds $np:bal  \n",
       "1                   $ind $pr $t:sq $np:pas  \n",
       "2               $ind $pr $zero:pas $np:bal  \n",
       "3                        $ind $pr $pro:pas  \n",
       "4                        $ind $pr $pro:pas  \n",
       "...                                    ...  \n",
       "8987       $ind $pa $pg $zero:kds $pro:bal  \n",
       "8988               $ind $pa $t:sq $pro:bal  \n",
       "8989               $ind $pa $t:sq $pro:bal  \n",
       "8990                        $ind $pa $t:sq  \n",
       "8991       $ind $pa $pg $indef:bls $np:pas  \n",
       "\n",
       "[8992 rows x 4 columns]"
      ]
     },
     "execution_count": 38,
     "metadata": {},
     "output_type": "execute_result"
    }
   ],
   "source": [
    "tiers_df"
   ]
  },
  {
   "cell_type": "code",
   "execution_count": 39,
   "id": "81643ea1",
   "metadata": {},
   "outputs": [
    {
     "name": "stdout",
     "output_type": "stream",
     "text": [
      "<class 'pandas.core.frame.DataFrame'>\n",
      "RangeIndex: 8992 entries, 0 to 8991\n",
      "Data columns (total 4 columns):\n",
      " #   Column    Non-Null Count  Dtype \n",
      "---  ------    --------------  ----- \n",
      " 0   CHI_text  8992 non-null   object\n",
      " 1   mor_tier  8992 non-null   object\n",
      " 2   gra_tier  8992 non-null   object\n",
      " 3   cod_tier  8123 non-null   object\n",
      "dtypes: object(4)\n",
      "memory usage: 281.1+ KB\n"
     ]
    },
    {
     "data": {
      "text/html": [
       "<div>\n",
       "<style scoped>\n",
       "    .dataframe tbody tr th:only-of-type {\n",
       "        vertical-align: middle;\n",
       "    }\n",
       "\n",
       "    .dataframe tbody tr th {\n",
       "        vertical-align: top;\n",
       "    }\n",
       "\n",
       "    .dataframe thead th {\n",
       "        text-align: right;\n",
       "    }\n",
       "</style>\n",
       "<table border=\"1\" class=\"dataframe\">\n",
       "  <thead>\n",
       "    <tr style=\"text-align: right;\">\n",
       "      <th></th>\n",
       "      <th>CHI_text</th>\n",
       "      <th>mor_tier</th>\n",
       "      <th>gra_tier</th>\n",
       "      <th>cod_tier</th>\n",
       "    </tr>\n",
       "  </thead>\n",
       "  <tbody>\n",
       "    <tr>\n",
       "      <th>count</th>\n",
       "      <td>8992</td>\n",
       "      <td>8992</td>\n",
       "      <td>8992</td>\n",
       "      <td>8123</td>\n",
       "    </tr>\n",
       "    <tr>\n",
       "      <th>unique</th>\n",
       "      <td>8217</td>\n",
       "      <td>8032</td>\n",
       "      <td>4042</td>\n",
       "      <td>3057</td>\n",
       "    </tr>\n",
       "    <tr>\n",
       "      <th>top</th>\n",
       "      <td>to see .</td>\n",
       "      <td>inf|to v|see .</td>\n",
       "      <td>1|3|LINK 2|3|SUBJ 3|0|ROOT 4|5|DET 5|3|OBJ 6|3...</td>\n",
       "      <td>$ind $pa $pro:pas</td>\n",
       "    </tr>\n",
       "    <tr>\n",
       "      <th>freq</th>\n",
       "      <td>21</td>\n",
       "      <td>21</td>\n",
       "      <td>137</td>\n",
       "      <td>269</td>\n",
       "    </tr>\n",
       "  </tbody>\n",
       "</table>\n",
       "</div>"
      ],
      "text/plain": [
       "        CHI_text        mor_tier  \\\n",
       "count       8992            8992   \n",
       "unique      8217            8032   \n",
       "top     to see .  inf|to v|see .   \n",
       "freq          21              21   \n",
       "\n",
       "                                                 gra_tier           cod_tier  \n",
       "count                                                8992               8123  \n",
       "unique                                               4042               3057  \n",
       "top     1|3|LINK 2|3|SUBJ 3|0|ROOT 4|5|DET 5|3|OBJ 6|3...  $ind $pa $pro:pas  \n",
       "freq                                                  137                269  "
      ]
     },
     "execution_count": 39,
     "metadata": {},
     "output_type": "execute_result"
    }
   ],
   "source": [
    "tiers_df.info()\n",
    "tiers_df.describe()"
   ]
  },
  {
   "cell_type": "markdown",
   "id": "a3f07c90",
   "metadata": {},
   "source": [
    "As I discovered earlier and this confirms, not all of the child utterances have a %cod tier. Frustrating, but will have to deal with it. This just means that I may not catch all instances of the phenomenon I am analyzing present in the utterances since I am specifically working from the %cod annotations. I can also see here that a lot of the %cod tier annotations must be the same since there are only 3057 unique tiers out of a total 8123. "
   ]
  },
  {
   "cell_type": "markdown",
   "id": "84846adb",
   "metadata": {},
   "source": [
    "## 5. Linguistic phenomenon of interest\n",
    "\n",
    "The easiest way to search through all the CHAT files was to grep through them using the command line. I initially wanted to find instances of verbs participating in the dative alternation (\"give\", \"tell\").\n",
    "- ex) from local *Hicks* directory: `grep -i 'told' */*/*cha | grep 'CHI'` (only want child lines)\n",
    "This went no where as this dataset features speech from children who are reporting back the events they saw from a short, simple video, and there were no utterances in which these verbs were being utilized.\n",
    "\n",
    "In my original project plan I noted that \"verb forms, aspectual markers, timemarkers and logical connectors\" would be my focus in part because that is what the Hicks dataset claimed to be exploring and therefore annotating. Looking through the %cod tier and comparing it against the coding scheme (Coding 1.1 section of https://childes.talkbank.org/access/Eng-NA/Hicks.html), I do not see much evidence that the researchers followed through with this path of exploration.\n",
    "\n",
    "However, one thing I have been noticing that comes up a lot is the code $modv which stands for \"modal verb.\" This is almost always some form of “try to”. It’s most likely so prevalent because of the nature of the task (getting kids to talk about something they have just watched) and probably has something to do with the kids not wanting to say something actually happened with certainty because they only witnessed what happened in a video, not in real life. \n",
    "\n",
    "This phenomenon is probably highly affected by the narrative task and therefore it’s not really true spoken speech. Then again, “try to” constructions are interesting because there are varying degrees to which the action being “tried”(?) is actually completed. \n",
    "\n",
    "How could the UDS framework apply to this phenomenon?"
   ]
  },
  {
   "cell_type": "markdown",
   "id": "db3e4f3b",
   "metadata": {},
   "source": [
    "### 5-1. \"try to\" constructions \n",
    "\n",
    "from *Hicks* directory: `grep -i '$modv' */*/*cha | grep 'CHI'`\n",
    "- goes through *all* files (5 subdirectories categorized by child age/subdirectories categorized by genre/files) and grabs coding tiers that have the `$modv` (modal verb) code\n",
    "- only the participant (*CHI) utterances should have the %cod tier and `$modv` annotation only appears in the %cod tier, so I didn't need to restrict the search further with `grep 'CHI'`\n",
    "- use -B# to grab # lines before and see what the text of the utterance is"
   ]
  }
 ],
 "metadata": {
  "kernelspec": {
   "display_name": "Python 3 (ipykernel)",
   "language": "python",
   "name": "python3"
  },
  "language_info": {
   "codemirror_mode": {
    "name": "ipython",
    "version": 3
   },
   "file_extension": ".py",
   "mimetype": "text/x-python",
   "name": "python",
   "nbconvert_exporter": "python",
   "pygments_lexer": "ipython3",
   "version": "3.9.7"
  }
 },
 "nbformat": 4,
 "nbformat_minor": 5
}
