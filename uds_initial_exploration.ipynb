{
 "cells": [
  {
   "cell_type": "markdown",
   "id": "efeb1215",
   "metadata": {},
   "source": [
    "# Initial exploration of UDS dataset\n",
    "\n",
    "## Caroline Gish | cng18@pitt.edu | for 2022-02-24\n",
    "\n",
    "---\n",
    "\n",
    "**Source:** https://decomp.readthedocs.io/en/latest/index.html\n",
    "\n",
    "Initial exploration will involve working through the sections listed on the main Decomp read the docs page."
   ]
  },
  {
   "cell_type": "markdown",
   "id": "f594ce0b",
   "metadata": {},
   "source": [
    "## Installation \n",
    "\n",
    "https://decomp.readthedocs.io/en/latest/install.html\n",
    "\n",
    "First installation option listed - operation timed out on my machine. \n",
    "\n",
    "Ended up installing locally using `pip`:\n",
    "- `pip install git+git://github.com/decompositional-semantics-initiative/decomp.git`"
   ]
  },
  {
   "cell_type": "markdown",
   "id": "355dcfd7",
   "metadata": {},
   "source": [
    "## Quick Start\n",
    "\n",
    "https://decomp.readthedocs.io/en/latest/tutorial/quick-start.html"
   ]
  },
  {
   "cell_type": "code",
   "execution_count": 1,
   "id": "e17cca58",
   "metadata": {},
   "outputs": [],
   "source": [
    "# importing dataset\n",
    "\n",
    "from decomp import UDSCorpus"
   ]
  },
  {
   "cell_type": "code",
   "execution_count": 2,
   "id": "c390efb7",
   "metadata": {},
   "outputs": [],
   "source": [
    "# creating uds object (UDSCorpus object)\n",
    "\n",
    "uds = UDSCorpus()"
   ]
  },
  {
   "cell_type": "markdown",
   "id": "b28b80f3",
   "metadata": {},
   "source": [
    "The dataset is built from the [Univeral Dependencies English Web Treebank](https://github.com/UniversalDependencies/UD_English-EWT) and the [UDS annotations](http://decomp.io/data/). "
   ]
  },
  {
   "cell_type": "markdown",
   "id": "505154e2",
   "metadata": {},
   "source": [
    "### UDSSentenceGraph objects\n",
    "\n",
    "- accessed through standard dictionary getters or iteration"
   ]
  },
  {
   "cell_type": "code",
   "execution_count": 6,
   "id": "241a54eb",
   "metadata": {},
   "outputs": [
    {
     "data": {
      "text/plain": [
       "<decomp.semantics.uds.graph.UDSSentenceGraph at 0x7fbedb51e700>"
      ]
     },
     "execution_count": 6,
     "metadata": {},
     "output_type": "execute_result"
    }
   ],
   "source": [
    "# UDS graph corresponding to 12th \n",
    "# sentence in en-ud-train.conllu\n",
    "\n",
    "uds[\"ewt-train-12\"]"
   ]
  },
  {
   "cell_type": "markdown",
   "id": "0e8e854c",
   "metadata": {},
   "source": [
    "### UDSDocument objects & UDSDocumentGraph\n",
    "\n",
    "- graph associated with each document object"
   ]
  },
  {
   "cell_type": "code",
   "execution_count": 5,
   "id": "6485b5e7",
   "metadata": {},
   "outputs": [
    {
     "data": {
      "text/plain": [
       "<decomp.semantics.uds.document.UDSDocument at 0x7fbeb849fd30>"
      ]
     },
     "execution_count": 5,
     "metadata": {},
     "output_type": "execute_result"
    }
   ],
   "source": [
    "# document\n",
    "\n",
    "uds.documents[\"reviews-112579\"]"
   ]
  },
  {
   "cell_type": "code",
   "execution_count": 7,
   "id": "9e14448d",
   "metadata": {},
   "outputs": [
    {
     "data": {
      "text/plain": [
       "<decomp.semantics.uds.graph.UDSDocumentGraph at 0x7fbec00ad6d0>"
      ]
     },
     "execution_count": 7,
     "metadata": {},
     "output_type": "execute_result"
    }
   ],
   "source": [
    "# associated graph\n",
    "\n",
    "uds.documents[\"reviews-112579\"].document_graph"
   ]
  },
  {
   "cell_type": "markdown",
   "id": "b0c6d8ad",
   "metadata": {},
   "source": [
    "#### `UDSCorpus` objects behave like dictionaries:"
   ]
  },
  {
   "cell_type": "code",
   "execution_count": 41,
   "id": "5017339b",
   "metadata": {},
   "outputs": [],
   "source": [
    "# sentence-level graph identifiers\n",
    "\n",
    "#for graphid in uds:\n",
    "    #print(graphid)"
   ]
  },
  {
   "cell_type": "code",
   "execution_count": 24,
   "id": "9cdeb4ca",
   "metadata": {},
   "outputs": [
    {
     "data": {
      "text/plain": [
       "16622"
      ]
     },
     "execution_count": 24,
     "metadata": {},
     "output_type": "execute_result"
    }
   ],
   "source": [
    "len(uds.graphids)"
   ]
  },
  {
   "cell_type": "code",
   "execution_count": 21,
   "id": "ac2869a4",
   "metadata": {
    "scrolled": false
   },
   "outputs": [],
   "source": [
    "# document identifiers\n",
    "# (correspond directly to English \n",
    "# Web Treebank file IDs)\n",
    "\n",
    "#for documentid in uds.documents:\n",
    "    #print(documentid)"
   ]
  },
  {
   "cell_type": "code",
   "execution_count": 19,
   "id": "098cd969",
   "metadata": {},
   "outputs": [
    {
     "data": {
      "text/plain": [
       "1174"
      ]
     },
     "execution_count": 19,
     "metadata": {},
     "output_type": "execute_result"
    }
   ],
   "source": [
    "len(uds.documents)"
   ]
  },
  {
   "cell_type": "code",
   "execution_count": 42,
   "id": "e22457b4",
   "metadata": {},
   "outputs": [],
   "source": [
    "# sentence-level graph identifiers \n",
    "# with corresponding sentence\n",
    "\n",
    "#for graphid, graph in uds.items():\n",
    "    #print(graphid)\n",
    "    #print(graph.sentence)"
   ]
  },
  {
   "cell_type": "code",
   "execution_count": 43,
   "id": "c517f386",
   "metadata": {},
   "outputs": [],
   "source": [
    "# document identifiers with \n",
    "# each document’s entire text\n",
    "\n",
    "#for documentid, document in uds.documents.items():\n",
    "    #print(documentid)\n",
    "    #print(document.text)"
   ]
  },
  {
   "cell_type": "markdown",
   "id": "b2d44efd",
   "metadata": {},
   "source": [
    "- `graphids` attribute of UDSCorpus: list of sentence-level graph identifiers"
   ]
  },
  {
   "cell_type": "code",
   "execution_count": 44,
   "id": "a9ad699e",
   "metadata": {},
   "outputs": [],
   "source": [
    "# a list of the sentence-level \n",
    "# graph identifiers in the corpus\n",
    "#uds.graphids"
   ]
  },
  {
   "cell_type": "markdown",
   "id": "a642449f",
   "metadata": {},
   "source": [
    "- `graphs` attribute of UDSCorpus: mapping from identifiers and the corresponding graph"
   ]
  },
  {
   "cell_type": "code",
   "execution_count": 45,
   "id": "b34d1142",
   "metadata": {},
   "outputs": [],
   "source": [
    "# a dictionary mapping the sentence-level\n",
    "# graph identifiers to the corresponding graph\n",
    "#uds.graphs"
   ]
  },
  {
   "cell_type": "markdown",
   "id": "604b7107",
   "metadata": {},
   "source": [
    "- `document_ids` attribute of UDSCorpus: list of document identifiers"
   ]
  },
  {
   "cell_type": "markdown",
   "id": "6d87c9bf",
   "metadata": {},
   "source": [
    "#### sentence-level graphs:"
   ]
  },
  {
   "cell_type": "code",
   "execution_count": 34,
   "id": "d52b5c62",
   "metadata": {},
   "outputs": [
    {
     "data": {
      "text/plain": [
       "{'ewt-train-12-syntax-1': {'domain': 'syntax',\n",
       "  'type': 'token',\n",
       "  'position': 1,\n",
       "  'form': 'The',\n",
       "  'lemma': 'the',\n",
       "  'upos': 'DET',\n",
       "  'xpos': 'DT',\n",
       "  'Definite': 'Def',\n",
       "  'PronType': 'Art'},\n",
       " 'ewt-train-12-syntax-2': {'domain': 'syntax',\n",
       "  'type': 'token',\n",
       "  'position': 2,\n",
       "  'form': 'police',\n",
       "  'lemma': 'police',\n",
       "  'upos': 'NOUN',\n",
       "  'xpos': 'NN',\n",
       "  'Number': 'Sing'},\n",
       " 'ewt-train-12-syntax-3': {'domain': 'syntax',\n",
       "  'type': 'token',\n",
       "  'position': 3,\n",
       "  'form': 'commander',\n",
       "  'lemma': 'commander',\n",
       "  'upos': 'NOUN',\n",
       "  'xpos': 'NN',\n",
       "  'Number': 'Sing'},\n",
       " 'ewt-train-12-syntax-4': {'domain': 'syntax',\n",
       "  'type': 'token',\n",
       "  'position': 4,\n",
       "  'form': 'of',\n",
       "  'lemma': 'of',\n",
       "  'upos': 'ADP',\n",
       "  'xpos': 'IN'},\n",
       " 'ewt-train-12-syntax-5': {'domain': 'syntax',\n",
       "  'type': 'token',\n",
       "  'position': 5,\n",
       "  'form': 'Ninevah',\n",
       "  'lemma': 'Ninevah',\n",
       "  'upos': 'PROPN',\n",
       "  'xpos': 'NNP',\n",
       "  'Number': 'Sing'},\n",
       " 'ewt-train-12-syntax-6': {'domain': 'syntax',\n",
       "  'type': 'token',\n",
       "  'position': 6,\n",
       "  'form': 'Province',\n",
       "  'lemma': 'Province',\n",
       "  'upos': 'PROPN',\n",
       "  'xpos': 'NNP',\n",
       "  'Number': 'Sing'},\n",
       " 'ewt-train-12-syntax-7': {'domain': 'syntax',\n",
       "  'type': 'token',\n",
       "  'position': 7,\n",
       "  'form': 'announced',\n",
       "  'lemma': 'announce',\n",
       "  'upos': 'VERB',\n",
       "  'xpos': 'VBD',\n",
       "  'Mood': 'Ind',\n",
       "  'Tense': 'Past',\n",
       "  'VerbForm': 'Fin'},\n",
       " 'ewt-train-12-syntax-8': {'domain': 'syntax',\n",
       "  'type': 'token',\n",
       "  'position': 8,\n",
       "  'form': 'that',\n",
       "  'lemma': 'that',\n",
       "  'upos': 'SCONJ',\n",
       "  'xpos': 'IN'},\n",
       " 'ewt-train-12-syntax-9': {'domain': 'syntax',\n",
       "  'type': 'token',\n",
       "  'position': 9,\n",
       "  'form': 'bombings',\n",
       "  'lemma': 'bombing',\n",
       "  'upos': 'NOUN',\n",
       "  'xpos': 'NNS',\n",
       "  'Number': 'Plur'},\n",
       " 'ewt-train-12-syntax-10': {'domain': 'syntax',\n",
       "  'type': 'token',\n",
       "  'position': 10,\n",
       "  'form': 'had',\n",
       "  'lemma': 'have',\n",
       "  'upos': 'AUX',\n",
       "  'xpos': 'VBD',\n",
       "  'Mood': 'Ind',\n",
       "  'Tense': 'Past',\n",
       "  'VerbForm': 'Fin'},\n",
       " 'ewt-train-12-syntax-11': {'domain': 'syntax',\n",
       "  'type': 'token',\n",
       "  'position': 11,\n",
       "  'form': 'declined',\n",
       "  'lemma': 'decline',\n",
       "  'upos': 'VERB',\n",
       "  'xpos': 'VBN',\n",
       "  'Tense': 'Past',\n",
       "  'VerbForm': 'Part'},\n",
       " 'ewt-train-12-syntax-12': {'domain': 'syntax',\n",
       "  'type': 'token',\n",
       "  'position': 12,\n",
       "  'form': '80',\n",
       "  'lemma': '80',\n",
       "  'upos': 'NUM',\n",
       "  'xpos': 'CD',\n",
       "  'NumType': 'Card'},\n",
       " 'ewt-train-12-syntax-13': {'domain': 'syntax',\n",
       "  'type': 'token',\n",
       "  'position': 13,\n",
       "  'form': 'percent',\n",
       "  'lemma': 'percent',\n",
       "  'upos': 'NOUN',\n",
       "  'xpos': 'NN',\n",
       "  'Number': 'Sing'},\n",
       " 'ewt-train-12-syntax-14': {'domain': 'syntax',\n",
       "  'type': 'token',\n",
       "  'position': 14,\n",
       "  'form': 'in',\n",
       "  'lemma': 'in',\n",
       "  'upos': 'ADP',\n",
       "  'xpos': 'IN'},\n",
       " 'ewt-train-12-syntax-15': {'domain': 'syntax',\n",
       "  'type': 'token',\n",
       "  'position': 15,\n",
       "  'form': 'Mosul',\n",
       "  'lemma': 'Mosul',\n",
       "  'upos': 'PROPN',\n",
       "  'xpos': 'NNP',\n",
       "  'Number': 'Sing'},\n",
       " 'ewt-train-12-syntax-16': {'domain': 'syntax',\n",
       "  'type': 'token',\n",
       "  'position': 16,\n",
       "  'form': ',',\n",
       "  'lemma': ',',\n",
       "  'upos': 'PUNCT',\n",
       "  'xpos': ','},\n",
       " 'ewt-train-12-syntax-17': {'domain': 'syntax',\n",
       "  'type': 'token',\n",
       "  'position': 17,\n",
       "  'form': 'whereas',\n",
       "  'lemma': 'whereas',\n",
       "  'upos': 'SCONJ',\n",
       "  'xpos': 'IN'},\n",
       " 'ewt-train-12-syntax-18': {'domain': 'syntax',\n",
       "  'type': 'token',\n",
       "  'position': 18,\n",
       "  'form': 'there',\n",
       "  'lemma': 'there',\n",
       "  'upos': 'PRON',\n",
       "  'xpos': 'EX'},\n",
       " 'ewt-train-12-syntax-19': {'domain': 'syntax',\n",
       "  'type': 'token',\n",
       "  'position': 19,\n",
       "  'form': 'had',\n",
       "  'lemma': 'have',\n",
       "  'upos': 'AUX',\n",
       "  'xpos': 'VBD',\n",
       "  'Mood': 'Ind',\n",
       "  'Tense': 'Past',\n",
       "  'VerbForm': 'Fin'},\n",
       " 'ewt-train-12-syntax-20': {'domain': 'syntax',\n",
       "  'type': 'token',\n",
       "  'position': 20,\n",
       "  'form': 'been',\n",
       "  'lemma': 'be',\n",
       "  'upos': 'VERB',\n",
       "  'xpos': 'VBN',\n",
       "  'Tense': 'Past',\n",
       "  'VerbForm': 'Part'},\n",
       " 'ewt-train-12-syntax-21': {'domain': 'syntax',\n",
       "  'type': 'token',\n",
       "  'position': 21,\n",
       "  'form': 'a',\n",
       "  'lemma': 'a',\n",
       "  'upos': 'DET',\n",
       "  'xpos': 'DT',\n",
       "  'Definite': 'Ind',\n",
       "  'PronType': 'Art'},\n",
       " 'ewt-train-12-syntax-22': {'domain': 'syntax',\n",
       "  'type': 'token',\n",
       "  'position': 22,\n",
       "  'form': 'big',\n",
       "  'lemma': 'big',\n",
       "  'upos': 'ADJ',\n",
       "  'xpos': 'JJ',\n",
       "  'Degree': 'Pos'},\n",
       " 'ewt-train-12-syntax-23': {'domain': 'syntax',\n",
       "  'type': 'token',\n",
       "  'position': 23,\n",
       "  'form': 'jump',\n",
       "  'lemma': 'jump',\n",
       "  'upos': 'NOUN',\n",
       "  'xpos': 'NN',\n",
       "  'Number': 'Sing'},\n",
       " 'ewt-train-12-syntax-24': {'domain': 'syntax',\n",
       "  'type': 'token',\n",
       "  'position': 24,\n",
       "  'form': 'in',\n",
       "  'lemma': 'in',\n",
       "  'upos': 'ADP',\n",
       "  'xpos': 'IN'},\n",
       " 'ewt-train-12-syntax-25': {'domain': 'syntax',\n",
       "  'type': 'token',\n",
       "  'position': 25,\n",
       "  'form': 'the',\n",
       "  'lemma': 'the',\n",
       "  'upos': 'DET',\n",
       "  'xpos': 'DT',\n",
       "  'Definite': 'Def',\n",
       "  'PronType': 'Art'},\n",
       " 'ewt-train-12-syntax-26': {'domain': 'syntax',\n",
       "  'type': 'token',\n",
       "  'position': 26,\n",
       "  'form': 'number',\n",
       "  'lemma': 'number',\n",
       "  'upos': 'NOUN',\n",
       "  'xpos': 'NN',\n",
       "  'Number': 'Sing'},\n",
       " 'ewt-train-12-syntax-27': {'domain': 'syntax',\n",
       "  'type': 'token',\n",
       "  'position': 27,\n",
       "  'form': 'of',\n",
       "  'lemma': 'of',\n",
       "  'upos': 'ADP',\n",
       "  'xpos': 'IN'},\n",
       " 'ewt-train-12-syntax-28': {'domain': 'syntax',\n",
       "  'type': 'token',\n",
       "  'position': 28,\n",
       "  'form': 'kidnappings',\n",
       "  'lemma': 'kidnapping',\n",
       "  'upos': 'NOUN',\n",
       "  'xpos': 'NNS',\n",
       "  'Number': 'Plur'},\n",
       " 'ewt-train-12-syntax-29': {'domain': 'syntax',\n",
       "  'type': 'token',\n",
       "  'position': 29,\n",
       "  'form': '.',\n",
       "  'lemma': '.',\n",
       "  'upos': 'PUNCT',\n",
       "  'xpos': '.'}}"
      ]
     },
     "execution_count": 34,
     "metadata": {},
     "output_type": "execute_result"
    }
   ],
   "source": [
    "# dictionary mapping identifiers for \n",
    "# syntax nodes to their attributes\n",
    "\n",
    "uds[\"ewt-train-12\"].syntax_nodes"
   ]
  },
  {
   "cell_type": "code",
   "execution_count": 35,
   "id": "6f376cea",
   "metadata": {},
   "outputs": [
    {
     "data": {
      "text/plain": [
       "{'ewt-train-12-semantics-pred-7': {'domain': 'semantics',\n",
       "  'frompredpatt': True,\n",
       "  'type': 'predicate',\n",
       "  'factuality': {'factual': {'confidence': 1.0, 'value': 1.0583}},\n",
       "  'event_structure': {'dynamic': {'value': -1.0745528936386108,\n",
       "    'confidence': 0.9999988079071045},\n",
       "   'natural_parts': {'value': -1.0745666027069092,\n",
       "    'confidence': 0.9999988079071045},\n",
       "   'telic': {'value': -1.074510931968689, 'confidence': 0.9999988079071045},\n",
       "   'situation_duration_lbound-centuries': {'value': -0.4917, 'confidence': 1},\n",
       "   'situation_duration_ubound-centuries': {'value': -0.4917, 'confidence': 1},\n",
       "   'situation_duration_lbound-days': {'value': -1.1589, 'confidence': 1},\n",
       "   'situation_duration_ubound-days': {'value': -1.1589, 'confidence': 1},\n",
       "   'situation_duration_lbound-decades': {'value': -0.9165, 'confidence': 1},\n",
       "   'situation_duration_ubound-decades': {'value': -0.9165, 'confidence': 1},\n",
       "   'situation_duration_lbound-forever': {'value': -0.458, 'confidence': 1},\n",
       "   'situation_duration_ubound-forever': {'value': -0.458, 'confidence': 1},\n",
       "   'situation_duration_lbound-fractions_of_a_second': {'value': -0.5215,\n",
       "    'confidence': 1},\n",
       "   'situation_duration_ubound-fractions_of_a_second': {'value': -0.5215,\n",
       "    'confidence': 1},\n",
       "   'situation_duration_lbound-hours': {'value': -1.9761, 'confidence': 1},\n",
       "   'situation_duration_ubound-hours': {'value': -1.9762, 'confidence': 1},\n",
       "   'situation_duration_lbound-instant': {'value': 1.7272, 'confidence': 1},\n",
       "   'situation_duration_ubound-instant': {'value': 1.7272, 'confidence': 1},\n",
       "   'situation_duration_lbound-minutes': {'value': -2.0921, 'confidence': 1},\n",
       "   'situation_duration_ubound-minutes': {'value': -2.0921, 'confidence': 1},\n",
       "   'situation_duration_lbound-months': {'value': -0.6181, 'confidence': 1},\n",
       "   'situation_duration_ubound-months': {'value': -0.6181, 'confidence': 1},\n",
       "   'situation_duration_lbound-seconds': {'value': -2.5003, 'confidence': 1},\n",
       "   'situation_duration_ubound-seconds': {'value': -2.5003, 'confidence': 1},\n",
       "   'situation_duration_lbound-weeks': {'value': -0.9735, 'confidence': 1},\n",
       "   'situation_duration_ubound-weeks': {'value': -0.9735, 'confidence': 1},\n",
       "   'situation_duration_lbound-years': {'value': -1.4301, 'confidence': 1},\n",
       "   'situation_duration_ubound-years': {'value': -1.4302, 'confidence': 1}},\n",
       "  'time': {'dur-weeks': {'confidence': 1.0, 'value': -1.5373},\n",
       "   'dur-decades': {'confidence': 1.0, 'value': -1.2476},\n",
       "   'dur-days': {'confidence': 1.0, 'value': -1.318},\n",
       "   'dur-hours': {'confidence': 1.0, 'value': -1.2156},\n",
       "   'dur-seconds': {'confidence': 1.0, 'value': -0.9071},\n",
       "   'dur-forever': {'confidence': 1.0, 'value': -1.0363},\n",
       "   'dur-centuries': {'confidence': 1.0, 'value': -1.1744},\n",
       "   'dur-instant': {'confidence': 1.0, 'value': -0.8546},\n",
       "   'dur-years': {'confidence': 1.0, 'value': -1.2149},\n",
       "   'dur-minutes': {'confidence': 1.0, 'value': 1.2708},\n",
       "   'dur-months': {'confidence': 1.0, 'value': -1.4494}},\n",
       "  'genericity': {'pred-dynamic': {'confidence': 1.0, 'value': 0.7748},\n",
       "   'pred-hypothetical': {'confidence': 1.0, 'value': -1.54},\n",
       "   'pred-particular': {'confidence': 1.0, 'value': 0.7748}}},\n",
       " 'ewt-train-12-semantics-pred-11': {'domain': 'semantics',\n",
       "  'frompredpatt': True,\n",
       "  'type': 'predicate',\n",
       "  'factuality': {'factual': {'confidence': 1.0, 'value': 1.0583}},\n",
       "  'event_structure': {'dynamic': {'value': 1.2957098484039307,\n",
       "    'confidence': 0.9999978542327881},\n",
       "   'natural_parts': {'value': -1.074545979499817,\n",
       "    'confidence': 0.9999988079071045},\n",
       "   'telic': {'value': -1.0745320320129395, 'confidence': 0.9999988079071045},\n",
       "   'situation_duration_lbound-centuries': {'value': -0.3258, 'confidence': 1},\n",
       "   'situation_duration_ubound-centuries': {'value': -0.3595, 'confidence': 1},\n",
       "   'situation_duration_lbound-days': {'value': -0.6269, 'confidence': 1},\n",
       "   'situation_duration_ubound-days': {'value': -0.7862, 'confidence': 1},\n",
       "   'situation_duration_lbound-decades': {'value': -0.4475, 'confidence': 1},\n",
       "   'situation_duration_ubound-decades': {'value': -0.5671, 'confidence': 1},\n",
       "   'situation_duration_lbound-forever': {'value': -0.3241, 'confidence': 1},\n",
       "   'situation_duration_ubound-forever': {'value': -0.3567, 'confidence': 1},\n",
       "   'situation_duration_lbound-fractions_of_a_second': {'value': -0.3256,\n",
       "    'confidence': 1},\n",
       "   'situation_duration_ubound-fractions_of_a_second': {'value': -0.3626,\n",
       "    'confidence': 1},\n",
       "   'situation_duration_lbound-hours': {'value': -1.4336, 'confidence': 1},\n",
       "   'situation_duration_ubound-hours': {'value': -1.5988, 'confidence': 1},\n",
       "   'situation_duration_lbound-instant': {'value': -0.7091, 'confidence': 1},\n",
       "   'situation_duration_ubound-instant': {'value': -0.8479, 'confidence': 1},\n",
       "   'situation_duration_lbound-minutes': {'value': -1.5557, 'confidence': 1},\n",
       "   'situation_duration_ubound-minutes': {'value': 1.1922, 'confidence': 1},\n",
       "   'situation_duration_lbound-months': {'value': -0.3506, 'confidence': 1},\n",
       "   'situation_duration_ubound-months': {'value': -0.4077, 'confidence': 1},\n",
       "   'situation_duration_lbound-seconds': {'value': 0.8715, 'confidence': 1},\n",
       "   'situation_duration_ubound-seconds': {'value': -2.1428, 'confidence': 1},\n",
       "   'situation_duration_lbound-weeks': {'value': -0.4845, 'confidence': 1},\n",
       "   'situation_duration_ubound-weeks': {'value': -0.6162, 'confidence': 1},\n",
       "   'situation_duration_lbound-years': {'value': -0.8807, 'confidence': 1},\n",
       "   'situation_duration_ubound-years': {'value': -1.0534, 'confidence': 1}},\n",
       "  'time': {'dur-weeks': {'confidence': 0.6652, 'value': -1.3023},\n",
       "   'dur-decades': {'confidence': 0.6652, 'value': -1.1476},\n",
       "   'dur-days': {'confidence': 0.6652, 'value': 0.8685},\n",
       "   'dur-hours': {'confidence': 0.6652, 'value': -1.0718},\n",
       "   'dur-seconds': {'confidence': 0.6652, 'value': -0.898},\n",
       "   'dur-forever': {'confidence': 0.6652, 'value': -0.7896},\n",
       "   'dur-centuries': {'confidence': 0.6652, 'value': -1.1401},\n",
       "   'dur-instant': {'confidence': 0.6652, 'value': -1.707},\n",
       "   'dur-years': {'confidence': 0.6652, 'value': -1.0606},\n",
       "   'dur-minutes': {'confidence': 0.6652, 'value': -0.833},\n",
       "   'dur-months': {'confidence': 0.6652, 'value': 0.9171}},\n",
       "  'genericity': {'pred-dynamic': {'confidence': 1.0, 'value': 0.7748},\n",
       "   'pred-hypothetical': {'confidence': 1.0, 'value': -1.5399},\n",
       "   'pred-particular': {'confidence': 1.0, 'value': 0.7748}}},\n",
       " 'ewt-train-12-semantics-pred-20': {'domain': 'semantics',\n",
       "  'frompredpatt': True,\n",
       "  'type': 'predicate',\n",
       "  'event_structure': {'dynamic': {'value': 1.2714592218399048,\n",
       "    'confidence': 0.9999974966049194},\n",
       "   'natural_parts': {'value': -1.0961610078811646,\n",
       "    'confidence': 0.999998927116394},\n",
       "   'telic': {'value': -1.0961692333221436, 'confidence': 0.999998927116394},\n",
       "   'situation_duration_lbound-centuries': {'value': -2.1451, 'confidence': 1},\n",
       "   'situation_duration_ubound-centuries': {'value': -2.2904, 'confidence': 1},\n",
       "   'situation_duration_lbound-days': {'value': -1.3315, 'confidence': 1},\n",
       "   'situation_duration_ubound-days': {'value': -1.4555, 'confidence': 1},\n",
       "   'situation_duration_lbound-decades': {'value': -1.4392, 'confidence': 1},\n",
       "   'situation_duration_ubound-decades': {'value': -1.5657, 'confidence': 1},\n",
       "   'situation_duration_lbound-forever': {'value': -0.4828, 'confidence': 1},\n",
       "   'situation_duration_ubound-forever': {'value': -0.5968, 'confidence': 1},\n",
       "   'situation_duration_lbound-fractions_of_a_second': {'value': -0.4825,\n",
       "    'confidence': 1},\n",
       "   'situation_duration_ubound-fractions_of_a_second': {'value': -0.5885,\n",
       "    'confidence': 1},\n",
       "   'situation_duration_lbound-hours': {'value': -1.3694, 'confidence': 1},\n",
       "   'situation_duration_ubound-hours': {'value': 1.5487, 'confidence': 1},\n",
       "   'situation_duration_lbound-instant': {'value': -0.406, 'confidence': 1},\n",
       "   'situation_duration_ubound-instant': {'value': -0.4771, 'confidence': 1},\n",
       "   'situation_duration_lbound-minutes': {'value': -1.5364, 'confidence': 1},\n",
       "   'situation_duration_ubound-minutes': {'value': -1.6354, 'confidence': 1},\n",
       "   'situation_duration_lbound-months': {'value': -1.7331, 'confidence': 1},\n",
       "   'situation_duration_ubound-months': {'value': -1.8296, 'confidence': 1},\n",
       "   'situation_duration_lbound-seconds': {'value': 1.3352, 'confidence': 1},\n",
       "   'situation_duration_ubound-seconds': {'value': -1.5945, 'confidence': 1},\n",
       "   'situation_duration_lbound-weeks': {'value': -1.5385, 'confidence': 1},\n",
       "   'situation_duration_ubound-weeks': {'value': -1.6551, 'confidence': 1},\n",
       "   'situation_duration_lbound-years': {'value': -1.6397, 'confidence': 1},\n",
       "   'situation_duration_ubound-years': {'value': -1.7316, 'confidence': 1}},\n",
       "  'time': {'dur-weeks': {'confidence': 0.625, 'value': 0.846},\n",
       "   'dur-decades': {'confidence': 0.625, 'value': -1.3154},\n",
       "   'dur-days': {'confidence': 0.625, 'value': -1.0959},\n",
       "   'dur-hours': {'confidence': 0.625, 'value': -0.9418},\n",
       "   'dur-seconds': {'confidence': 0.625, 'value': -1.2451},\n",
       "   'dur-forever': {'confidence': 0.625, 'value': -1.0041},\n",
       "   'dur-centuries': {'confidence': 0.625, 'value': -1.2852},\n",
       "   'dur-instant': {'confidence': 0.625, 'value': -0.7637},\n",
       "   'dur-years': {'confidence': 0.625, 'value': -1.0986},\n",
       "   'dur-minutes': {'confidence': 0.625, 'value': -0.8468},\n",
       "   'dur-months': {'confidence': 0.625, 'value': 0.8075}},\n",
       "  'genericity': {'pred-dynamic': {'confidence': 1.0, 'value': -1.5399},\n",
       "   'pred-hypothetical': {'confidence': 1.0, 'value': 0.7748},\n",
       "   'pred-particular': {'confidence': 1.0, 'value': -1.54}}},\n",
       " 'ewt-train-12-semantics-arg-3': {'domain': 'semantics',\n",
       "  'frompredpatt': True,\n",
       "  'type': 'argument',\n",
       "  'wordsense': {'supersense-noun.object': {'confidence': 1.0, 'value': -3.0},\n",
       "   'supersense-noun.Tops': {'confidence': 1.0, 'value': -3.0},\n",
       "   'supersense-noun.quantity': {'confidence': 1.0, 'value': -3.0},\n",
       "   'supersense-noun.feeling': {'confidence': 1.0, 'value': -3.0},\n",
       "   'supersense-noun.food': {'confidence': 1.0, 'value': -3.0},\n",
       "   'supersense-noun.shape': {'confidence': 1.0, 'value': -3.0},\n",
       "   'supersense-noun.event': {'confidence': 1.0, 'value': -3.0},\n",
       "   'supersense-noun.motive': {'confidence': 1.0, 'value': -3.0},\n",
       "   'supersense-noun.substance': {'confidence': 1.0, 'value': -3.0},\n",
       "   'supersense-noun.time': {'confidence': 1.0, 'value': -3.0},\n",
       "   'supersense-noun.person': {'confidence': 1.0, 'value': 0.2456},\n",
       "   'supersense-noun.process': {'confidence': 1.0, 'value': -3.0},\n",
       "   'supersense-noun.attribute': {'confidence': 1.0, 'value': -3.0},\n",
       "   'supersense-noun.artifact': {'confidence': 1.0, 'value': -3.0},\n",
       "   'supersense-noun.group': {'confidence': 1.0, 'value': -3.0},\n",
       "   'supersense-noun.animal': {'confidence': 1.0, 'value': -3.0},\n",
       "   'supersense-noun.location': {'confidence': 1.0, 'value': -3.0},\n",
       "   'supersense-noun.plant': {'confidence': 1.0, 'value': -3.0},\n",
       "   'supersense-noun.possession': {'confidence': 1.0, 'value': -3.0},\n",
       "   'supersense-noun.relation': {'confidence': 1.0, 'value': -3.0},\n",
       "   'supersense-noun.phenomenon': {'confidence': 1.0, 'value': -3.0},\n",
       "   'supersense-noun.cognition': {'confidence': 1.0, 'value': -3.0},\n",
       "   'supersense-noun.act': {'confidence': 1.0, 'value': -3.0},\n",
       "   'supersense-noun.state': {'confidence': 1.0, 'value': -3.0},\n",
       "   'supersense-noun.communication': {'confidence': 1.0, 'value': -3.0},\n",
       "   'supersense-noun.body': {'confidence': 1.0, 'value': -3.0}},\n",
       "  'genericity': {'arg-kind': {'confidence': 1.0, 'value': -1.147},\n",
       "   'arg-abstract': {'confidence': 1.0, 'value': -1.147},\n",
       "   'arg-particular': {'confidence': 1.0, 'value': 1.1619}}},\n",
       " 'ewt-train-12-semantics-arg-11': {'domain': 'semantics',\n",
       "  'frompredpatt': True,\n",
       "  'type': 'argument'},\n",
       " 'ewt-train-12-semantics-arg-9': {'domain': 'semantics',\n",
       "  'frompredpatt': True,\n",
       "  'type': 'argument',\n",
       "  'wordsense': {'supersense-noun.object': {'confidence': 1.0, 'value': -3.0},\n",
       "   'supersense-noun.Tops': {'confidence': 1.0, 'value': -3.0},\n",
       "   'supersense-noun.quantity': {'confidence': 1.0, 'value': -3.0},\n",
       "   'supersense-noun.feeling': {'confidence': 1.0, 'value': -3.0},\n",
       "   'supersense-noun.food': {'confidence': 1.0, 'value': -3.0},\n",
       "   'supersense-noun.shape': {'confidence': 1.0, 'value': -3.0},\n",
       "   'supersense-noun.event': {'confidence': 1.0, 'value': -3.0},\n",
       "   'supersense-noun.motive': {'confidence': 1.0, 'value': -3.0},\n",
       "   'supersense-noun.substance': {'confidence': 1.0, 'value': -3.0},\n",
       "   'supersense-noun.time': {'confidence': 1.0, 'value': -3.0},\n",
       "   'supersense-noun.person': {'confidence': 1.0, 'value': -3.0},\n",
       "   'supersense-noun.process': {'confidence': 1.0, 'value': -3.0},\n",
       "   'supersense-noun.attribute': {'confidence': 1.0, 'value': -3.0},\n",
       "   'supersense-noun.artifact': {'confidence': 1.0, 'value': -3.0},\n",
       "   'supersense-noun.group': {'confidence': 1.0, 'value': -3.0},\n",
       "   'supersense-noun.animal': {'confidence': 1.0, 'value': -3.0},\n",
       "   'supersense-noun.location': {'confidence': 1.0, 'value': -3.0},\n",
       "   'supersense-noun.plant': {'confidence': 1.0, 'value': -3.0},\n",
       "   'supersense-noun.possession': {'confidence': 1.0, 'value': -3.0},\n",
       "   'supersense-noun.relation': {'confidence': 1.0, 'value': -3.0},\n",
       "   'supersense-noun.phenomenon': {'confidence': 1.0, 'value': -3.0},\n",
       "   'supersense-noun.cognition': {'confidence': 1.0, 'value': -3.0},\n",
       "   'supersense-noun.act': {'confidence': 1.0, 'value': 1.5461},\n",
       "   'supersense-noun.state': {'confidence': 1.0, 'value': -3.0},\n",
       "   'supersense-noun.communication': {'confidence': 1.0, 'value': -3.0},\n",
       "   'supersense-noun.body': {'confidence': 1.0, 'value': -3.0}},\n",
       "  'genericity': {'arg-kind': {'confidence': 1.0, 'value': -1.147},\n",
       "   'arg-abstract': {'confidence': 1.0, 'value': -1.147},\n",
       "   'arg-particular': {'confidence': 1.0, 'value': 1.1619}}},\n",
       " 'ewt-train-12-semantics-arg-13': {'domain': 'semantics',\n",
       "  'frompredpatt': True,\n",
       "  'type': 'argument',\n",
       "  'wordsense': {'supersense-noun.object': {'confidence': 1.0, 'value': -3.0},\n",
       "   'supersense-noun.Tops': {'confidence': 1.0, 'value': -3.0},\n",
       "   'supersense-noun.quantity': {'confidence': 1.0, 'value': -3.0},\n",
       "   'supersense-noun.feeling': {'confidence': 1.0, 'value': -3.0},\n",
       "   'supersense-noun.food': {'confidence': 1.0, 'value': -3.0},\n",
       "   'supersense-noun.shape': {'confidence': 1.0, 'value': -3.0},\n",
       "   'supersense-noun.event': {'confidence': 1.0, 'value': -3.0},\n",
       "   'supersense-noun.motive': {'confidence': 1.0, 'value': -3.0},\n",
       "   'supersense-noun.substance': {'confidence': 1.0, 'value': -3.0},\n",
       "   'supersense-noun.time': {'confidence': 1.0, 'value': -3.0},\n",
       "   'supersense-noun.person': {'confidence': 1.0, 'value': -3.0},\n",
       "   'supersense-noun.process': {'confidence': 1.0, 'value': -3.0},\n",
       "   'supersense-noun.attribute': {'confidence': 1.0, 'value': -3.0},\n",
       "   'supersense-noun.artifact': {'confidence': 1.0, 'value': -3.0},\n",
       "   'supersense-noun.group': {'confidence': 1.0, 'value': -3.0},\n",
       "   'supersense-noun.animal': {'confidence': 1.0, 'value': -3.0},\n",
       "   'supersense-noun.location': {'confidence': 1.0, 'value': -3.0},\n",
       "   'supersense-noun.plant': {'confidence': 1.0, 'value': -3.0},\n",
       "   'supersense-noun.possession': {'confidence': 1.0, 'value': -3.0},\n",
       "   'supersense-noun.relation': {'confidence': 1.0, 'value': 1.5334},\n",
       "   'supersense-noun.phenomenon': {'confidence': 1.0, 'value': -3.0},\n",
       "   'supersense-noun.cognition': {'confidence': 1.0, 'value': -3.0},\n",
       "   'supersense-noun.act': {'confidence': 1.0, 'value': -3.0},\n",
       "   'supersense-noun.state': {'confidence': 1.0, 'value': -3.0},\n",
       "   'supersense-noun.communication': {'confidence': 1.0, 'value': -3.0},\n",
       "   'supersense-noun.body': {'confidence': 1.0, 'value': -3.0}},\n",
       "  'genericity': {'arg-kind': {'confidence': 1.0, 'value': -1.147},\n",
       "   'arg-abstract': {'confidence': 1.0, 'value': -1.147},\n",
       "   'arg-particular': {'confidence': 1.0, 'value': 1.1619}}},\n",
       " 'ewt-train-12-semantics-arg-15': {'domain': 'semantics',\n",
       "  'frompredpatt': True,\n",
       "  'type': 'argument',\n",
       "  'genericity': {'arg-kind': {'confidence': 1.0, 'value': 1.1619},\n",
       "   'arg-abstract': {'confidence': 1.0, 'value': -1.147},\n",
       "   'arg-particular': {'confidence': 1.0, 'value': 1.1619}}},\n",
       " 'ewt-train-12-semantics-arg-23': {'domain': 'semantics',\n",
       "  'frompredpatt': True,\n",
       "  'type': 'argument',\n",
       "  'wordsense': {'supersense-noun.object': {'confidence': 1.0, 'value': -3.0},\n",
       "   'supersense-noun.Tops': {'confidence': 1.0, 'value': -3.0},\n",
       "   'supersense-noun.quantity': {'confidence': 1.0, 'value': -3.0},\n",
       "   'supersense-noun.feeling': {'confidence': 1.0, 'value': -3.0},\n",
       "   'supersense-noun.food': {'confidence': 1.0, 'value': -3.0},\n",
       "   'supersense-noun.shape': {'confidence': 1.0, 'value': -3.0},\n",
       "   'supersense-noun.event': {'confidence': 1.0, 'value': 1.5179},\n",
       "   'supersense-noun.motive': {'confidence': 1.0, 'value': -3.0},\n",
       "   'supersense-noun.substance': {'confidence': 1.0, 'value': -3.0},\n",
       "   'supersense-noun.time': {'confidence': 1.0, 'value': -3.0},\n",
       "   'supersense-noun.person': {'confidence': 1.0, 'value': -3.0},\n",
       "   'supersense-noun.process': {'confidence': 1.0, 'value': -3.0},\n",
       "   'supersense-noun.attribute': {'confidence': 1.0, 'value': -3.0},\n",
       "   'supersense-noun.artifact': {'confidence': 1.0, 'value': -3.0},\n",
       "   'supersense-noun.group': {'confidence': 1.0, 'value': -3.0},\n",
       "   'supersense-noun.animal': {'confidence': 1.0, 'value': -3.0},\n",
       "   'supersense-noun.location': {'confidence': 1.0, 'value': -3.0},\n",
       "   'supersense-noun.plant': {'confidence': 1.0, 'value': -3.0},\n",
       "   'supersense-noun.possession': {'confidence': 1.0, 'value': -3.0},\n",
       "   'supersense-noun.relation': {'confidence': 1.0, 'value': -3.0},\n",
       "   'supersense-noun.phenomenon': {'confidence': 1.0, 'value': -3.0},\n",
       "   'supersense-noun.cognition': {'confidence': 1.0, 'value': -3.0},\n",
       "   'supersense-noun.act': {'confidence': 1.0, 'value': -1.4278},\n",
       "   'supersense-noun.state': {'confidence': 1.0, 'value': -3.0},\n",
       "   'supersense-noun.communication': {'confidence': 1.0, 'value': -1.4278},\n",
       "   'supersense-noun.body': {'confidence': 1.0, 'value': -3.0}},\n",
       "  'genericity': {'arg-kind': {'confidence': 1.0, 'value': -1.147},\n",
       "   'arg-abstract': {'confidence': 1.0, 'value': -1.147},\n",
       "   'arg-particular': {'confidence': 1.0, 'value': 1.1619}}},\n",
       " 'ewt-train-12-semantics-pred-root': {'domain': 'semantics',\n",
       "  'type': 'predicate',\n",
       "  'frompredpatt': False},\n",
       " 'ewt-train-12-semantics-arg-0': {'domain': 'semantics',\n",
       "  'type': 'argument',\n",
       "  'frompredpatt': False},\n",
       " 'ewt-train-12-semantics-arg-author': {'domain': 'semantics',\n",
       "  'type': 'argument',\n",
       "  'frompredpatt': False},\n",
       " 'ewt-train-12-semantics-arg-addressee': {'domain': 'semantics',\n",
       "  'type': 'argument',\n",
       "  'frompredpatt': False}}"
      ]
     },
     "execution_count": 35,
     "metadata": {},
     "output_type": "execute_result"
    }
   ],
   "source": [
    "# dictionary mapping identifiers for \n",
    "# semantics nodes to their attributes\n",
    "\n",
    "uds[\"ewt-train-12\"].semantics_nodes"
   ]
  },
  {
   "cell_type": "code",
   "execution_count": 36,
   "id": "040b51fe",
   "metadata": {},
   "outputs": [
    {
     "data": {
      "text/plain": [
       "{('ewt-train-12-semantics-pred-7',\n",
       "  'ewt-train-12-semantics-arg-3'): {'domain': 'semantics', 'type': 'dependency', 'frompredpatt': True, 'protoroles': {'instigation': {'confidence': 1.0,\n",
       "    'value': 1.3557},\n",
       "   'change_of_possession': {'confidence': 0.7724, 'value': -0.0},\n",
       "   'existed_before': {'confidence': 1.0, 'value': 1.3527},\n",
       "   'was_for_benefit': {'confidence': 0.1976, 'value': -0.0504},\n",
       "   'change_of_state_continuous': {'confidence': 1.0, 'value': -0.0},\n",
       "   'change_of_state': {'confidence': 0.2067, 'value': -0.0548},\n",
       "   'volition': {'confidence': 1.0, 'value': 1.3545},\n",
       "   'change_of_location': {'confidence': 0.272, 'value': -0.0922},\n",
       "   'partitive': {'confidence': 0.1148, 'value': -0.0018},\n",
       "   'existed_during': {'confidence': 1.0, 'value': 1.3557},\n",
       "   'existed_after': {'confidence': 1.0, 'value': 1.3527},\n",
       "   'awareness': {'confidence': 1.0, 'value': 1.3526},\n",
       "   'sentient': {'confidence': 1.0, 'value': 1.354},\n",
       "   'was_used': {'confidence': 0.4373, 'value': -0.0207}}},\n",
       " ('ewt-train-12-semantics-pred-7',\n",
       "  'ewt-train-12-semantics-arg-11'): {'domain': 'semantics', 'type': 'dependency', 'frompredpatt': True},\n",
       " ('ewt-train-12-semantics-pred-11',\n",
       "  'ewt-train-12-semantics-arg-9'): {'domain': 'semantics', 'type': 'dependency', 'frompredpatt': True, 'event_structure': {'distributive': {'value': -0.9329,\n",
       "    'confidence': 1.0}}, 'protoroles': {'instigation': {'confidence': 1.0,\n",
       "    'value': -1.5074},\n",
       "   'change_of_possession': {'confidence': 1.0, 'value': -0.3909},\n",
       "   'existed_before': {'confidence': 1.0, 'value': 1.3954},\n",
       "   'was_for_benefit': {'confidence': 0.3418, 'value': 0.0008},\n",
       "   'change_of_state_continuous': {'confidence': 0.0791, 'value': -0.0351},\n",
       "   'change_of_state': {'confidence': 0.3333, 'value': -0.0085},\n",
       "   'volition': {'confidence': 1.0, 'value': -0.3909},\n",
       "   'change_of_location': {'confidence': 0.1395, 'value': -0.0549},\n",
       "   'partitive': {'confidence': 0.0791, 'value': -0.1354},\n",
       "   'existed_during': {'confidence': 1.0, 'value': 1.3959},\n",
       "   'existed_after': {'confidence': 0.6567, 'value': 0.124},\n",
       "   'awareness': {'confidence': 0.1395, 'value': -0.0549},\n",
       "   'sentient': {'confidence': 1.0, 'value': -1.508},\n",
       "   'was_used': {'confidence': 0.3333, 'value': -0.0085}}},\n",
       " ('ewt-train-12-semantics-pred-11',\n",
       "  'ewt-train-12-semantics-arg-13'): {'domain': 'semantics', 'type': 'dependency', 'frompredpatt': True, 'protoroles': {'instigation': {'confidence': 1.0,\n",
       "    'value': -0.0},\n",
       "   'change_of_possession': {'confidence': 1.0, 'value': -0.0},\n",
       "   'existed_before': {'confidence': 0.6796, 'value': 0.0111},\n",
       "   'was_for_benefit': {'confidence': 1.0, 'value': -0.0},\n",
       "   'change_of_state_continuous': {'confidence': 0.1675, 'value': 0.0032},\n",
       "   'change_of_state': {'confidence': 0.1675, 'value': 0.0032},\n",
       "   'volition': {'confidence': 1.0, 'value': -0.0},\n",
       "   'change_of_location': {'confidence': 1.0, 'value': -0.0},\n",
       "   'partitive': {'confidence': 0.564, 'value': -0.0941},\n",
       "   'existed_during': {'confidence': 1.0, 'value': 1.3421},\n",
       "   'existed_after': {'confidence': 0.6796, 'value': 0.0111},\n",
       "   'awareness': {'confidence': 1.0, 'value': -0.0},\n",
       "   'sentient': {'confidence': 1.0, 'value': -0.9348},\n",
       "   'was_used': {'confidence': 0.564, 'value': -0.0}}},\n",
       " ('ewt-train-12-semantics-pred-11',\n",
       "  'ewt-train-12-semantics-arg-15'): {'domain': 'semantics', 'type': 'dependency', 'frompredpatt': True},\n",
       " ('ewt-train-12-semantics-pred-20',\n",
       "  'ewt-train-12-semantics-arg-23'): {'domain': 'semantics', 'type': 'dependency', 'frompredpatt': True},\n",
       " ('ewt-train-12-semantics-arg-11',\n",
       "  'ewt-train-12-semantics-pred-11'): {'domain': 'semantics', 'type': 'head', 'frompredpatt': True},\n",
       " ('ewt-train-12-semantics-pred-root',\n",
       "  'ewt-train-12-semantics-arg-0'): {'domain': 'semantics', 'type': 'dependency', 'frompredpatt': False},\n",
       " ('ewt-train-12-semantics-pred-root',\n",
       "  'ewt-train-12-semantics-arg-author'): {'domain': 'semantics', 'type': 'dependency', 'frompredpatt': False},\n",
       " ('ewt-train-12-semantics-pred-root',\n",
       "  'ewt-train-12-semantics-arg-addressee'): {'domain': 'semantics',\n",
       "  'type': 'dependency',\n",
       "  'frompredpatt': False},\n",
       " ('ewt-train-12-semantics-arg-0',\n",
       "  'ewt-train-12-semantics-pred-7'): {'domain': 'semantics', 'type': 'head', 'frompredpatt': False},\n",
       " ('ewt-train-12-semantics-arg-0',\n",
       "  'ewt-train-12-semantics-pred-20'): {'domain': 'semantics', 'type': 'head', 'frompredpatt': False}}"
      ]
     },
     "execution_count": 36,
     "metadata": {},
     "output_type": "execute_result"
    }
   ],
   "source": [
    "# dictionary mapping identifiers for \n",
    "# semantics edges (tuples of node \n",
    "# identifiers) to their attributes\n",
    "\n",
    "uds[\"ewt-train-12\"].semantics_edges()"
   ]
  },
  {
   "cell_type": "code",
   "execution_count": 37,
   "id": "acb59bd1",
   "metadata": {},
   "outputs": [
    {
     "data": {
      "text/plain": [
       "{('ewt-train-12-syntax-3', 'ewt-train-12-syntax-1'): {'deprel': 'det',\n",
       "  'domain': 'syntax',\n",
       "  'type': 'dependency'},\n",
       " ('ewt-train-12-syntax-3', 'ewt-train-12-syntax-2'): {'deprel': 'compound',\n",
       "  'domain': 'syntax',\n",
       "  'type': 'dependency'},\n",
       " ('ewt-train-12-syntax-3', 'ewt-train-12-syntax-6'): {'deprel': 'nmod',\n",
       "  'domain': 'syntax',\n",
       "  'type': 'dependency'},\n",
       " ('ewt-train-12-syntax-6', 'ewt-train-12-syntax-4'): {'deprel': 'case',\n",
       "  'domain': 'syntax',\n",
       "  'type': 'dependency'},\n",
       " ('ewt-train-12-syntax-6', 'ewt-train-12-syntax-5'): {'deprel': 'compound',\n",
       "  'domain': 'syntax',\n",
       "  'type': 'dependency'},\n",
       " ('ewt-train-12-syntax-7', 'ewt-train-12-syntax-3'): {'deprel': 'nsubj',\n",
       "  'domain': 'syntax',\n",
       "  'type': 'dependency'},\n",
       " ('ewt-train-12-syntax-7', 'ewt-train-12-syntax-11'): {'deprel': 'ccomp',\n",
       "  'domain': 'syntax',\n",
       "  'type': 'dependency'},\n",
       " ('ewt-train-12-syntax-7', 'ewt-train-12-syntax-29'): {'deprel': 'punct',\n",
       "  'domain': 'syntax',\n",
       "  'type': 'dependency'},\n",
       " ('ewt-train-12-syntax-11', 'ewt-train-12-syntax-8'): {'deprel': 'mark',\n",
       "  'domain': 'syntax',\n",
       "  'type': 'dependency'},\n",
       " ('ewt-train-12-syntax-11', 'ewt-train-12-syntax-9'): {'deprel': 'nsubj',\n",
       "  'domain': 'syntax',\n",
       "  'type': 'dependency'},\n",
       " ('ewt-train-12-syntax-11', 'ewt-train-12-syntax-10'): {'deprel': 'aux',\n",
       "  'domain': 'syntax',\n",
       "  'type': 'dependency'},\n",
       " ('ewt-train-12-syntax-11', 'ewt-train-12-syntax-13'): {'deprel': 'dobj',\n",
       "  'domain': 'syntax',\n",
       "  'type': 'dependency'},\n",
       " ('ewt-train-12-syntax-11', 'ewt-train-12-syntax-15'): {'deprel': 'nmod',\n",
       "  'domain': 'syntax',\n",
       "  'type': 'dependency'},\n",
       " ('ewt-train-12-syntax-11', 'ewt-train-12-syntax-16'): {'deprel': 'punct',\n",
       "  'domain': 'syntax',\n",
       "  'type': 'dependency'},\n",
       " ('ewt-train-12-syntax-11', 'ewt-train-12-syntax-20'): {'deprel': 'advcl',\n",
       "  'domain': 'syntax',\n",
       "  'type': 'dependency'},\n",
       " ('ewt-train-12-syntax-13', 'ewt-train-12-syntax-12'): {'deprel': 'nummod',\n",
       "  'domain': 'syntax',\n",
       "  'type': 'dependency'},\n",
       " ('ewt-train-12-syntax-15', 'ewt-train-12-syntax-14'): {'deprel': 'case',\n",
       "  'domain': 'syntax',\n",
       "  'type': 'dependency'},\n",
       " ('ewt-train-12-syntax-20', 'ewt-train-12-syntax-17'): {'deprel': 'mark',\n",
       "  'domain': 'syntax',\n",
       "  'type': 'dependency'},\n",
       " ('ewt-train-12-syntax-20', 'ewt-train-12-syntax-18'): {'deprel': 'expl',\n",
       "  'domain': 'syntax',\n",
       "  'type': 'dependency'},\n",
       " ('ewt-train-12-syntax-20', 'ewt-train-12-syntax-19'): {'deprel': 'aux',\n",
       "  'domain': 'syntax',\n",
       "  'type': 'dependency'},\n",
       " ('ewt-train-12-syntax-20', 'ewt-train-12-syntax-23'): {'deprel': 'nsubj',\n",
       "  'domain': 'syntax',\n",
       "  'type': 'dependency'},\n",
       " ('ewt-train-12-syntax-23', 'ewt-train-12-syntax-21'): {'deprel': 'det',\n",
       "  'domain': 'syntax',\n",
       "  'type': 'dependency'},\n",
       " ('ewt-train-12-syntax-23', 'ewt-train-12-syntax-22'): {'deprel': 'amod',\n",
       "  'domain': 'syntax',\n",
       "  'type': 'dependency'},\n",
       " ('ewt-train-12-syntax-23', 'ewt-train-12-syntax-26'): {'deprel': 'nmod',\n",
       "  'domain': 'syntax',\n",
       "  'type': 'dependency'},\n",
       " ('ewt-train-12-syntax-26', 'ewt-train-12-syntax-24'): {'deprel': 'case',\n",
       "  'domain': 'syntax',\n",
       "  'type': 'dependency'},\n",
       " ('ewt-train-12-syntax-26', 'ewt-train-12-syntax-25'): {'deprel': 'det',\n",
       "  'domain': 'syntax',\n",
       "  'type': 'dependency'},\n",
       " ('ewt-train-12-syntax-26', 'ewt-train-12-syntax-28'): {'deprel': 'nmod',\n",
       "  'domain': 'syntax',\n",
       "  'type': 'dependency'},\n",
       " ('ewt-train-12-syntax-28', 'ewt-train-12-syntax-27'): {'deprel': 'case',\n",
       "  'domain': 'syntax',\n",
       "  'type': 'dependency'},\n",
       " ('ewt-train-12-root-0', 'ewt-train-12-syntax-7'): {'deprel': 'root',\n",
       "  'domain': 'syntax',\n",
       "  'type': 'dependency'}}"
      ]
     },
     "execution_count": 37,
     "metadata": {},
     "output_type": "execute_result"
    }
   ],
   "source": [
    "# dictionary mapping identifiers for \n",
    "# syntax edges (tuples of node \n",
    "# identifiers) to their attributes\n",
    "\n",
    "uds[\"ewt-train-12\"].syntax_edges()"
   ]
  },
  {
   "cell_type": "markdown",
   "id": "4829ecf5",
   "metadata": {},
   "source": [
    "#### Accessing relationships between semantics and syntax nodes:"
   ]
  },
  {
   "cell_type": "code",
   "execution_count": 38,
   "id": "ce06845b",
   "metadata": {},
   "outputs": [
    {
     "data": {
      "text/plain": [
       "(7, ['announced', 'announce'])"
      ]
     },
     "execution_count": 38,
     "metadata": {},
     "output_type": "execute_result"
    }
   ],
   "source": [
    "uds[\"ewt-train-12\"].head('ewt-train-12-semantics-pred-7', ['form', 'lemma'])"
   ]
  },
  {
   "cell_type": "code",
   "execution_count": 39,
   "id": "05ee98eb",
   "metadata": {},
   "outputs": [
    {
     "data": {
      "text/plain": [
       "{7: ['announced', 'announce']}"
      ]
     },
     "execution_count": 39,
     "metadata": {},
     "output_type": "execute_result"
    }
   ],
   "source": [
    "uds[\"ewt-train-12\"].span('ewt-train-12-semantics-pred-7', ['form', 'lemma'])"
   ]
  },
  {
   "cell_type": "markdown",
   "id": "229d4825",
   "metadata": {},
   "source": [
    "- `.genre`\n",
    "- `.text`\n",
    "- `.timestamp`\n",
    "- `.sentence_ids`\n",
    "- `.sentence_graphs`"
   ]
  },
  {
   "cell_type": "code",
   "execution_count": 40,
   "id": "b04b79a4",
   "metadata": {},
   "outputs": [
    {
     "data": {
      "text/plain": [
       "NodeView(('ewt-train-11719-document-pred-root', 'ewt-train-11719-document-arg-0', 'ewt-train-11719-document-arg-author', 'ewt-train-11719-document-arg-addressee', 'ewt-train-11720-document-pred-4', 'ewt-train-11720-document-arg-1', 'ewt-train-11720-document-arg-5', 'ewt-train-11720-document-arg-9', 'ewt-train-11720-document-pred-root', 'ewt-train-11720-document-arg-0', 'ewt-train-11720-document-arg-author', 'ewt-train-11720-document-arg-addressee', 'ewt-train-11721-document-pred-2', 'ewt-train-11721-document-pred-11', 'ewt-train-11721-document-pred-17', 'ewt-train-11721-document-pred-18', 'ewt-train-11721-document-pred-22', 'ewt-train-11721-document-pred-35', 'ewt-train-11721-document-arg-1', 'ewt-train-11721-document-arg-4', 'ewt-train-11721-document-arg-10', 'ewt-train-11721-document-arg-13', 'ewt-train-11721-document-arg-18', 'ewt-train-11721-document-arg-21', 'ewt-train-11721-document-arg-25', 'ewt-train-11721-document-arg-28', 'ewt-train-11721-document-arg-39', 'ewt-train-11721-document-arg-30', 'ewt-train-11721-document-arg-31', 'ewt-train-11721-document-pred-root', 'ewt-train-11721-document-arg-0', 'ewt-train-11721-document-arg-author', 'ewt-train-11721-document-arg-addressee', 'ewt-train-11722-document-pred-4', 'ewt-train-11722-document-pred-6', 'ewt-train-11722-document-arg-2', 'ewt-train-11722-document-pred-root', 'ewt-train-11722-document-arg-0', 'ewt-train-11722-document-arg-author', 'ewt-train-11722-document-arg-addressee', 'ewt-train-11723-document-pred-4', 'ewt-train-11723-document-pred-11', 'ewt-train-11723-document-arg-1', 'ewt-train-11723-document-arg-7', 'ewt-train-11723-document-pred-root', 'ewt-train-11723-document-arg-0', 'ewt-train-11723-document-arg-author', 'ewt-train-11723-document-arg-addressee', 'ewt-train-11724-document-pred-2', 'ewt-train-11724-document-pred-10', 'ewt-train-11724-document-pred-16', 'ewt-train-11724-document-pred-18', 'ewt-train-11724-document-pred-26', 'ewt-train-11724-document-arg-1', 'ewt-train-11724-document-arg-3', 'ewt-train-11724-document-arg-10', 'ewt-train-11724-document-arg-7', 'ewt-train-11724-document-arg-12', 'ewt-train-11724-document-arg-13', 'ewt-train-11724-document-arg-16', 'ewt-train-11724-document-arg-17', 'ewt-train-11724-document-arg-19', 'ewt-train-11724-document-arg-23', 'ewt-train-11724-document-pred-root', 'ewt-train-11724-document-arg-0', 'ewt-train-11724-document-arg-author', 'ewt-train-11724-document-arg-addressee', 'ewt-train-11725-document-pred-2', 'ewt-train-11725-document-arg-1', 'ewt-train-11725-document-arg-6', 'ewt-train-11725-document-pred-root', 'ewt-train-11725-document-arg-0', 'ewt-train-11725-document-arg-author', 'ewt-train-11725-document-arg-addressee', 'ewt-train-11726-document-pred-5', 'ewt-train-11726-document-arg-3', 'ewt-train-11726-document-pred-root', 'ewt-train-11726-document-arg-0', 'ewt-train-11726-document-arg-author', 'ewt-train-11726-document-arg-addressee', 'ewt-train-11727-document-pred-4', 'ewt-train-11727-document-pred-6', 'ewt-train-11727-document-pred-17', 'ewt-train-11727-document-arg-1', 'ewt-train-11727-document-arg-6', 'ewt-train-11727-document-arg-11', 'ewt-train-11727-document-arg-14', 'ewt-train-11727-document-arg-17', 'ewt-train-11727-document-arg-18', 'ewt-train-11727-document-pred-root', 'ewt-train-11727-document-arg-0', 'ewt-train-11727-document-arg-author', 'ewt-train-11727-document-arg-addressee', 'ewt-train-11728-document-pred-4', 'ewt-train-11728-document-pred-10', 'ewt-train-11728-document-arg-6', 'ewt-train-11728-document-arg-7', 'ewt-train-11728-document-arg-11', 'ewt-train-11728-document-pred-root', 'ewt-train-11728-document-arg-0', 'ewt-train-11728-document-arg-author', 'ewt-train-11728-document-arg-addressee', 'ewt-train-11729-document-pred-root', 'ewt-train-11729-document-arg-0', 'ewt-train-11729-document-arg-author', 'ewt-train-11729-document-arg-addressee'))"
      ]
     },
     "execution_count": 40,
     "metadata": {},
     "output_type": "execute_result"
    }
   ],
   "source": [
    "uds.documents[\"reviews-112579\"].document_graph.nodes"
   ]
  },
  {
   "cell_type": "code",
   "execution_count": null,
   "id": "89f324c2",
   "metadata": {},
   "outputs": [],
   "source": []
  }
 ],
 "metadata": {
  "kernelspec": {
   "display_name": "Python 3 (ipykernel)",
   "language": "python",
   "name": "python3"
  },
  "language_info": {
   "codemirror_mode": {
    "name": "ipython",
    "version": 3
   },
   "file_extension": ".py",
   "mimetype": "text/x-python",
   "name": "python",
   "nbconvert_exporter": "python",
   "pygments_lexer": "ipython3",
   "version": "3.9.7"
  }
 },
 "nbformat": 4,
 "nbformat_minor": 5
}
